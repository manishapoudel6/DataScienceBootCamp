{
  "nbformat": 4,
  "nbformat_minor": 0,
  "metadata": {
    "colab": {
      "provenance": [],
      "authorship_tag": "ABX9TyMNZonM7sIQfzxdgJppKXMi",
      "include_colab_link": true
    },
    "kernelspec": {
      "name": "python3",
      "display_name": "Python 3"
    },
    "language_info": {
      "name": "python"
    }
  },
  "cells": [
    {
      "cell_type": "markdown",
      "metadata": {
        "id": "view-in-github",
        "colab_type": "text"
      },
      "source": [
        "<a href=\"https://colab.research.google.com/github/manishapoudel6/DataScienceBootCamp/blob/main/Untitled0.ipynb\" target=\"_parent\"><img src=\"https://colab.research.google.com/assets/colab-badge.svg\" alt=\"Open In Colab\"/></a>"
      ]
    },
    {
      "cell_type": "markdown",
      "source": [],
      "metadata": {
        "id": "0ZkaUtb5XZ6p"
      }
    },
    {
      "cell_type": "code",
      "source": [
        "flt1 = 3.145\n",
        "print(flt1)\n",
        "print(type(flt1))"
      ],
      "metadata": {
        "colab": {
          "base_uri": "https://localhost:8080/"
        },
        "id": "awaVkRrYv-Uk",
        "outputId": "3a638b88-b4cd-4351-c56b-a12e3f121208"
      },
      "execution_count": 2,
      "outputs": [
        {
          "output_type": "stream",
          "name": "stdout",
          "text": [
            "3.145\n",
            "<class 'float'>\n"
          ]
        }
      ]
    },
    {
      "cell_type": "code",
      "source": [
        "flt"
      ],
      "metadata": {
        "id": "pEUWTnfkyBuD"
      },
      "execution_count": null,
      "outputs": []
    },
    {
      "cell_type": "markdown",
      "source": [],
      "metadata": {
        "id": "LwIx_O5DyHyI"
      }
    },
    {
      "cell_type": "code",
      "source": [
        "#Complex: Combination of integer and imaginary numer integer or float is complex. It can be +ve and -ve. It is used for scientific calculation.\n",
        "\n",
        "cmplx1 = 2+3j\n",
        "print(cmplx1)\n",
        "print(type(cmplx1))"
      ],
      "metadata": {
        "colab": {
          "base_uri": "https://localhost:8080/"
        },
        "id": "KfeQD8VuyI6C",
        "outputId": "1f7d4f78-1767-460b-a705-9081f1a9dae3"
      },
      "execution_count": 3,
      "outputs": [
        {
          "output_type": "stream",
          "name": "stdout",
          "text": [
            "(2+3j)\n",
            "<class 'complex'>\n"
          ]
        }
      ]
    },
    {
      "cell_type": "code",
      "source": [
        "# Boolean: True and False. Numeric value of true is 1 and numeric value of false is 0.\n",
        "\n",
        "bool1 = True\n",
        "print(bool1)\n",
        "print(type(bool1))"
      ],
      "metadata": {
        "colab": {
          "base_uri": "https://localhost:8080/"
        },
        "id": "osHs741ryf1_",
        "outputId": "0943de00-4890-4dc0-aaaa-de9f35562ce0"
      },
      "execution_count": 4,
      "outputs": [
        {
          "output_type": "stream",
          "name": "stdout",
          "text": [
            "True\n",
            "<class 'bool'>\n"
          ]
        }
      ]
    },
    {
      "cell_type": "code",
      "source": [
        "#String: Any combination inside single quote, any combination inside double quotes, any combination inside triple single quotes and anu combination of inside triple double quotes.\n",
        "\n",
        "str1 = 'Python Programming'\n",
        "print(str1)\n",
        "print(type(str1))"
      ],
      "metadata": {
        "colab": {
          "base_uri": "https://localhost:8080/"
        },
        "id": "5LdY4EMSzA1A",
        "outputId": "dae19cdd-541c-440b-d175-4a94f64bf4b6"
      },
      "execution_count": 5,
      "outputs": [
        {
          "output_type": "stream",
          "name": "stdout",
          "text": [
            "Python Programming\n",
            "<class 'str'>\n"
          ]
        }
      ]
    },
    {
      "cell_type": "code",
      "source": [
        "#double quote\n",
        "tr1 = \"Python Programming\"\n",
        "print(str1)\n",
        "print(type(str1))\n",
        "\n"
      ],
      "metadata": {
        "colab": {
          "base_uri": "https://localhost:8080/"
        },
        "id": "7AnoJW9zz7Cd",
        "outputId": "e2af3a2e-be2a-4830-a11f-12f861a4e291"
      },
      "execution_count": 6,
      "outputs": [
        {
          "output_type": "stream",
          "name": "stdout",
          "text": [
            "Python Programming\n",
            "<class 'str'>\n"
          ]
        }
      ]
    },
    {
      "cell_type": "code",
      "source": [
        "string1 = 'I am in love with this weather'\n",
        "print(string1)\n",
        "print(type(string1))"
      ],
      "metadata": {
        "colab": {
          "base_uri": "https://localhost:8080/"
        },
        "id": "XtuNKma21JRv",
        "outputId": "13ba6076-a5de-4de3-f558-2d7e289c8169"
      },
      "execution_count": 9,
      "outputs": [
        {
          "output_type": "stream",
          "name": "stdout",
          "text": [
            "I am in love with this weather\n",
            "<class 'str'>\n"
          ]
        }
      ]
    },
    {
      "cell_type": "code",
      "source": [
        "string2 = \"A data type is a classification of data which tells interpreter how the programmer intends to use the data\"\n",
        "print(string2)\n",
        "print(type(string2))"
      ],
      "metadata": {
        "colab": {
          "base_uri": "https://localhost:8080/"
        },
        "id": "eJptGKy71sdE",
        "outputId": "08c00ee8-9cf1-4e53-e44f-2767ef1118ba"
      },
      "execution_count": 10,
      "outputs": [
        {
          "output_type": "stream",
          "name": "stdout",
          "text": [
            "A data type is a classification of data which tells interpreter how the programmer intends to use the data\n",
            "<class 'str'>\n"
          ]
        }
      ]
    },
    {
      "cell_type": "code",
      "source": [
        "string3 = \"\"\" Hey! Why don't we meet today at Noah's party?\"\"\"\n",
        "print(string3)\n",
        "print(type(string3))"
      ],
      "metadata": {
        "colab": {
          "base_uri": "https://localhost:8080/"
        },
        "id": "PslDbZnL1_ql",
        "outputId": "92c40fc6-d24f-4a1c-9728-a183535ba527"
      },
      "execution_count": 11,
      "outputs": [
        {
          "output_type": "stream",
          "name": "stdout",
          "text": [
            " Hey! Why don't we meet today at Noah's party?\n",
            "<class 'str'>\n"
          ]
        }
      ]
    },
    {
      "cell_type": "code",
      "source": [],
      "metadata": {
        "id": "eOKHKzMZ2ofK"
      },
      "execution_count": null,
      "outputs": []
    },
    {
      "cell_type": "markdown",
      "source": [
        "Data Structure data Types\n"
      ],
      "metadata": {
        "id": "2frEgUPY4coC"
      }
    },
    {
      "cell_type": "code",
      "source": [
        "#List\n",
        "#List is mutable.\n",
        "#List is represented by square bracket []\n",
        "\n",
        "lst1 = [1,2,3,4,5,6]\n",
        "print(lst1)\n",
        "print(type(lst1))"
      ],
      "metadata": {
        "colab": {
          "base_uri": "https://localhost:8080/"
        },
        "id": "Dj7NeFl-4hVk",
        "outputId": "8bb931a3-06e6-4152-c030-b81e7c5a2985"
      },
      "execution_count": 12,
      "outputs": [
        {
          "output_type": "stream",
          "name": "stdout",
          "text": [
            "[1, 2, 3, 4, 5, 6]\n",
            "<class 'list'>\n"
          ]
        }
      ]
    },
    {
      "cell_type": "code",
      "source": [
        "#Tuple\n",
        "# Tuple is represented by circular bracket ()\n",
        "# Tuple is immutable. Non changeable.\n",
        "\n",
        "tup1 = (1,2,3,4,5,6)\n",
        "print (tup1)\n",
        "print(type(tup1))"
      ],
      "metadata": {
        "colab": {
          "base_uri": "https://localhost:8080/"
        },
        "id": "ud0bVoOg4s-m",
        "outputId": "2c017019-e341-418c-8a6b-a58053cd7fa7"
      },
      "execution_count": 13,
      "outputs": [
        {
          "output_type": "stream",
          "name": "stdout",
          "text": [
            "(1, 2, 3, 4, 5, 6)\n",
            "<class 'tuple'>\n"
          ]
        }
      ]
    },
    {
      "cell_type": "code",
      "source": [
        "# Set\n",
        "# 1. Set is combination of unique values\n",
        "# 2. Set is collection of unordered elements\n",
        "# 3. Set is represented by curly bracket{}\n",
        "# 4. Set is mutable.\n",
        "\n",
        "set1 = {'a','b','c','D',1,2,3,'!','#','@'}\n",
        "print(set1)\n",
        "print(type(set1))"
      ],
      "metadata": {
        "colab": {
          "base_uri": "https://localhost:8080/"
        },
        "id": "q0hx197U5tB0",
        "outputId": "46d9badc-9cd7-4d41-c9df-3b3b05447e41"
      },
      "execution_count": 14,
      "outputs": [
        {
          "output_type": "stream",
          "name": "stdout",
          "text": [
            "{'b', 1, 2, 3, '!', '#', '@', 'a', 'c', 'D'}\n",
            "<class 'set'>\n"
          ]
        }
      ]
    },
    {
      "cell_type": "code",
      "source": [
        "list1 = [0.6,1,2,6.9,'a','k','Four','Apple',True,'3a']\n",
        "print(list1)\n",
        "print(type(list1))"
      ],
      "metadata": {
        "colab": {
          "base_uri": "https://localhost:8080/"
        },
        "id": "0jmHYkWD6679",
        "outputId": "19b6227a-b5ce-46d7-afe4-e49e4fed151b"
      },
      "execution_count": 16,
      "outputs": [
        {
          "output_type": "stream",
          "name": "stdout",
          "text": [
            "[0.6, 1, 2, 6.9, 'a', 'k', 'Four', 'Apple', 'True', '3a']\n",
            "<class 'list'>\n"
          ]
        }
      ]
    },
    {
      "cell_type": "markdown",
      "source": [],
      "metadata": {
        "id": "-NsH1M4a_bOH"
      }
    },
    {
      "cell_type": "code",
      "source": [
        "tuple1 = (9.9, 100, 300, 'Six','x','f','4j')\n",
        "print(tuple1)\n",
        "print(type(tuple1))"
      ],
      "metadata": {
        "colab": {
          "base_uri": "https://localhost:8080/"
        },
        "id": "2YQaHY8H7xo6",
        "outputId": "3b6d1670-65b3-4a1d-c2a0-2ac659fbfb86"
      },
      "execution_count": 17,
      "outputs": [
        {
          "output_type": "stream",
          "name": "stdout",
          "text": [
            "(9.9, 100, 300, 'Six', 'x', 'f', '4j')\n",
            "<class 'tuple'>\n"
          ]
        }
      ]
    },
    {
      "cell_type": "code",
      "source": [
        "set1 = {'j', 1,3.6,7,'House','data','3x+1'}\n",
        "print(set1)\n",
        "print(type(set1))"
      ],
      "metadata": {
        "colab": {
          "base_uri": "https://localhost:8080/"
        },
        "id": "uXvfixgS8N7z",
        "outputId": "601eb4ad-8bdb-4f04-e68b-5bf08f056d02"
      },
      "execution_count": 18,
      "outputs": [
        {
          "output_type": "stream",
          "name": "stdout",
          "text": [
            "{1, 3.6, '3x+1', 7, 'j', 'data', 'House'}\n",
            "<class 'set'>\n"
          ]
        }
      ]
    },
    {
      "cell_type": "code",
      "source": [],
      "metadata": {
        "id": "nRyAAQpP8if7"
      },
      "execution_count": null,
      "outputs": []
    },
    {
      "cell_type": "markdown",
      "source": [
        "#Dictionary\n",
        "\n"
      ],
      "metadata": {
        "id": "bZZqoWBp_cLW"
      }
    },
    {
      "cell_type": "code",
      "source": [
        "dict1= {'a':'apple','b':'banana'}\n",
        "print(dict1)\n",
        "print(type(dict1))"
      ],
      "metadata": {
        "colab": {
          "base_uri": "https://localhost:8080/"
        },
        "id": "jnyvttCt_0sE",
        "outputId": "5f532e92-2103-42c9-c200-02cefd044418"
      },
      "execution_count": 19,
      "outputs": [
        {
          "output_type": "stream",
          "name": "stdout",
          "text": [
            "{'a': 'apple', 'b': 'banana'}\n",
            "<class 'dict'>\n"
          ]
        }
      ]
    },
    {
      "cell_type": "code",
      "source": [
        "dict2 = {'x':'Four','y':'Five','z':'Ten'}\n",
        "print(dict2)\n",
        "print(type(dict2))"
      ],
      "metadata": {
        "colab": {
          "base_uri": "https://localhost:8080/"
        },
        "id": "Yv93OP9fADJq",
        "outputId": "ad51a894-4bf4-4d6d-dcf8-f2eeb109cce5"
      },
      "execution_count": 21,
      "outputs": [
        {
          "output_type": "stream",
          "name": "stdout",
          "text": [
            "{'x': 'Four', 'y': 'Five', 'z': 'Ten'}\n",
            "<class 'dict'>\n"
          ]
        }
      ]
    },
    {
      "cell_type": "code",
      "source": [
        "st3 = \"watermelon\"\n",
        "print(st3)\n",
        "print(len(st3))"
      ],
      "metadata": {
        "colab": {
          "base_uri": "https://localhost:8080/"
        },
        "id": "qLrLnud5Bcr_",
        "outputId": "8a6d7f44-c91c-4cc0-896d-38423cf6e183"
      },
      "execution_count": 24,
      "outputs": [
        {
          "output_type": "stream",
          "name": "stdout",
          "text": [
            "watermelon\n",
            "10\n"
          ]
        }
      ]
    },
    {
      "cell_type": "code",
      "source": [
        "print(st3[0])"
      ],
      "metadata": {
        "colab": {
          "base_uri": "https://localhost:8080/"
        },
        "id": "US3gQssVCXzH",
        "outputId": "c5961458-13c3-4b15-a6ec-66022fdf721b"
      },
      "execution_count": 25,
      "outputs": [
        {
          "output_type": "stream",
          "name": "stdout",
          "text": [
            "w\n"
          ]
        }
      ]
    },
    {
      "cell_type": "code",
      "source": [
        "print(st3[1])\n",
        "print(st3[2])\n",
        "print(st3[3])\n",
        "print(st3[4])\n",
        "print(st3[5])\n",
        "print(st3[6])\n",
        "print(st3[7])\n",
        "print(st3[8])\n",
        "print(st3[9])\n"
      ],
      "metadata": {
        "colab": {
          "base_uri": "https://localhost:8080/"
        },
        "id": "4foYDdpECzYR",
        "outputId": "fcb1c193-8ef4-4f83-af70-0577dd40de9f"
      },
      "execution_count": 27,
      "outputs": [
        {
          "output_type": "stream",
          "name": "stdout",
          "text": [
            "a\n",
            "t\n",
            "e\n",
            "r\n",
            "m\n",
            "e\n",
            "l\n",
            "o\n",
            "n\n"
          ]
        }
      ]
    },
    {
      "cell_type": "code",
      "source": [
        "st4 = 'My Name is Manisha'\n",
        "print(st4[0])\n"
      ],
      "metadata": {
        "colab": {
          "base_uri": "https://localhost:8080/"
        },
        "id": "0wrrTKQgDkpT",
        "outputId": "be645a5e-11d1-4e61-96b7-c40cb783f67d"
      },
      "execution_count": 28,
      "outputs": [
        {
          "output_type": "stream",
          "name": "stdout",
          "text": [
            "M\n"
          ]
        }
      ]
    },
    {
      "cell_type": "code",
      "source": [
        "st5 = 'Watermelonissweet'\n",
        "print(st5[0:8])"
      ],
      "metadata": {
        "colab": {
          "base_uri": "https://localhost:8080/"
        },
        "id": "bBcKNM4PEICr",
        "outputId": "bb101627-46bf-46a1-ba3c-af02a1369246"
      },
      "execution_count": 30,
      "outputs": [
        {
          "output_type": "stream",
          "name": "stdout",
          "text": [
            "Watermel\n"
          ]
        }
      ]
    },
    {
      "cell_type": "code",
      "source": [
        "print(st5[0:8:1])"
      ],
      "metadata": {
        "colab": {
          "base_uri": "https://localhost:8080/"
        },
        "id": "0I4CcZ2YEQpp",
        "outputId": "15dfe60a-b05e-4f50-aefb-7a6f631d041d"
      },
      "execution_count": 31,
      "outputs": [
        {
          "output_type": "stream",
          "name": "stdout",
          "text": [
            "Watermel\n"
          ]
        }
      ]
    },
    {
      "cell_type": "code",
      "source": [
        "strg = 'Missisippi'\n",
        "print(strg[2:6]), print(strg[2:8:2], print(strg[10:1])), print(strg[1:9]), print(strg[3:8:2])"
      ],
      "metadata": {
        "colab": {
          "base_uri": "https://localhost:8080/"
        },
        "id": "EeVXsxg9EjSQ",
        "outputId": "7e86cf97-65a7-4245-c7d4-c43b86832b08"
      },
      "execution_count": 38,
      "outputs": [
        {
          "output_type": "stream",
          "name": "stdout",
          "text": [
            "ssis\n",
            "\n",
            "sii None\n",
            "issisipp\n",
            "ssp\n"
          ]
        },
        {
          "output_type": "execute_result",
          "data": {
            "text/plain": [
              "(None, None, None, None)"
            ]
          },
          "metadata": {},
          "execution_count": 38
        }
      ]
    },
    {
      "cell_type": "code",
      "source": [
        "strg1 = 'Missisippi'\n",
        "\n",
        "\n",
        "print(strg1[::])\n",
        "print(strg1[0::])\n",
        "print(strg1[:len(strg1):])\n",
        "print(strg1[::1])\n",
        "print(strg1[:4:])\n",
        "print(strg1[7::]) #[index:length:steps]"
      ],
      "metadata": {
        "colab": {
          "base_uri": "https://localhost:8080/"
        },
        "id": "Eu-yZN-TGc13",
        "outputId": "edf50f29-7948-4561-de60-96b3be4f20ea"
      },
      "execution_count": 44,
      "outputs": [
        {
          "output_type": "stream",
          "name": "stdout",
          "text": [
            "Missisippi\n",
            "Missisippi\n",
            "Missisippi\n",
            "Missisippi\n",
            "Miss\n",
            "ppi\n"
          ]
        }
      ]
    },
    {
      "cell_type": "code",
      "source": [],
      "metadata": {
        "id": "7KYNaevmID_O"
      },
      "execution_count": null,
      "outputs": []
    }
  ]
}