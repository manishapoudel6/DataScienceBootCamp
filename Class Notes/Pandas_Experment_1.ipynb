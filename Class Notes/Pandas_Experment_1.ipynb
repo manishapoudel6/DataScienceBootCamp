{
  "nbformat": 4,
  "nbformat_minor": 0,
  "metadata": {
    "colab": {
      "provenance": []
    },
    "kernelspec": {
      "name": "python3",
      "display_name": "Python 3"
    },
    "language_info": {
      "name": "python"
    }
  },
  "cells": [
    {
      "cell_type": "code",
      "execution_count": null,
      "metadata": {
        "id": "fLo9Lgm6zC_A"
      },
      "outputs": [],
      "source": [
        "# need to ask user for a number\n",
        "# ask user for how many rows needed\n",
        "\n",
        "\n",
        "# number of rows is basically where iteration stops\n",
        "# csv should be 3 columns\n",
        "# 1st column is like 5,5,10,15,25,40,....................\n",
        "# 2nd column is like 5,25,625,.................. square\n",
        "# 3rd 5,125,................. cube"
      ]
    },
    {
      "cell_type": "code",
      "source": [
        "import pandas as pd\n",
        "num=int(input(\"Please enter the number you want to play with \"))\n",
        "rows=int(input(\"Please enter rows required\"))\n",
        "\n",
        "\n",
        "all_data=[]\n",
        "for k in range(rows):\n",
        "  if k==0:\n",
        "    all_data.append([num,num,num])\n",
        "  elif k==1:\n",
        "    all_data.append([all_data[-1][0],all_data[-1][1]**2,all_data[-1][2]**3])\n", #[-1] is last row [0] is first element
        "  elif k>1:\n",                                                                  #[-1][0] is getting the first element from last row
        "    last_element=all_data[-1][0]\n",
        "    second_last=all_data[-2][0]\n",
        "    all_data.append([last_element+second_last,all_data[-1][1]**2,all_data[-1][2]**3])\n",
        "\n",
        "df=pd.DataFrame(all_data,columns=['Sum',\"Square\",\"Cube\"])\n",
        "df.to_csv(\"Data.csv\",index=False)"
      ],
      "metadata": {
        "colab": {
          "base_uri": "https://localhost:8080/"
        },
        "id": "WpOT__1m9IHq",
        "outputId": "83892eb1-b327-41c3-fd4e-c20962b478c5"
      },
      "execution_count": null,
      "outputs": [
        {
          "name": "stdout",
          "output_type": "stream",
          "text": [
            "Please enter the number you want to play with 4\n",
            "Please enter rows required6\n"
          ]
        }
      ]
    }
  ]
}
