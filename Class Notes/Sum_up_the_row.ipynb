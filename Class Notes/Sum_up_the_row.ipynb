{
  "nbformat": 4,
  "nbformat_minor": 0,
  "metadata": {
    "colab": {
      "provenance": []
    },
    "kernelspec": {
      "name": "python3",
      "display_name": "Python 3"
    },
    "language_info": {
      "name": "python"
    }
  },
  "cells": [
    {
      "cell_type": "code",
      "execution_count": null,
      "metadata": {
        "id": "_gepkMpGir8L"
      },
      "outputs": [],
      "source": [
        "import pandas as pd\n",
        "import os"
      ]
    },
    {
      "cell_type": "code",
      "source": [
        "# do a case study\n",
        "# if csv does not exists then create a csv\n",
        "# make a column called sum and write 1 in it\n",
        "#\n",
        "# if exists read the sum column do the sum of all elements in that column and add that value to the csv"
      ],
      "metadata": {
        "id": "WbkbZTV1i76M"
      },
      "execution_count": null,
      "outputs": []
    },
    {
      "cell_type": "code",
      "source": [
        "if os.path.exists(\"sum.csv\"):\n",
        "  df=pd.read_csv(\"sum.csv\")\n",
        "  total=0\n",
        "  #sum=df['sum'] #gets it as a series\n",
        "  #sum=df['sum'].values # gets values as a numpy array\n",
        "  sum=list(df['sum']) # returns a list of values\n",
        "  print(sum)\n",
        "  for k in sum:\n",
        "    total=total+k\n",
        "  sum.append(total)\n",
        "  df=pd.DataFrame({\"sum\":sum})\n",
        "  df.to_csv(\"sum.csv\",index=False)\n",
        "else:\n",
        "  df=pd.DataFrame({\"sum\":[1]})\n",
        "  df.to_csv(\"sum.csv\",index=False)"
      ],
      "metadata": {
        "id": "0sbMtJrKkl9c",
        "colab": {
          "base_uri": "https://localhost:8080/"
        },
        "outputId": "52792028-2e1f-4a14-8291-7e15bf7e6681"
      },
      "execution_count": null,
      "outputs": [
        {
          "output_type": "stream",
          "name": "stdout",
          "text": [
            "[1]\n"
          ]
        }
      ]
    }
  ]
}