{
  "nbformat": 4,
  "nbformat_minor": 0,
  "metadata": {
    "colab": {
      "provenance": []
    },
    "kernelspec": {
      "name": "python3",
      "display_name": "Python 3"
    },
    "language_info": {
      "name": "python"
    }
  },
  "cells": [
    {
      "cell_type": "markdown",
      "source": [
        "*** Friday Aug 11, 2023 ***"
      ],
      "metadata": {
        "id": "hKqv1pW0EubQ"
      }
    },
    {
      "cell_type": "markdown",
      "source": [
        "#BASIC PYTHON OPERATORS"
      ],
      "metadata": {
        "id": "woMm3-UbEzp5"
      }
    },
    {
      "cell_type": "code",
      "source": [
        "#Basic Python Arthemetic Operators\n",
        "a = 100\n",
        "b =20\n",
        "\n",
        "print(a+b)\n",
        "print(a-b)\n",
        "print(a*b)\n",
        "print(a/b)\n",
        "print(a%b)  #reminder\n",
        "print(a//b) #quotient\n",
        "print(a**b) #Exponential multyply number multi times e.g multply 100 by 20 times"
      ],
      "metadata": {
        "colab": {
          "base_uri": "https://localhost:8080/"
        },
        "id": "zwtZNHv3Ep8H",
        "outputId": "915f1846-bc2e-4280-8527-dd79418881b3"
      },
      "execution_count": null,
      "outputs": [
        {
          "output_type": "stream",
          "name": "stdout",
          "text": [
            "120\n",
            "80\n",
            "2000\n",
            "5.0\n",
            "0\n",
            "5\n",
            "10000000000000000000000000000000000000000\n"
          ]
        }
      ]
    },
    {
      "cell_type": "code",
      "source": [
        "# Comparison Operators\n",
        "\n",
        "a = 100\n",
        "b = 20\n",
        "\n",
        "print(a==b)\n",
        "print(a!=b)\n",
        "print(a>b)\n",
        "print(a<b)\n",
        "print(a>=b)\n",
        "print(a<=b)"
      ],
      "metadata": {
        "colab": {
          "base_uri": "https://localhost:8080/"
        },
        "id": "ZCMAeOylFER6",
        "outputId": "1e177288-4e0c-4690-dd3c-59f3ebf72f76"
      },
      "execution_count": null,
      "outputs": [
        {
          "output_type": "stream",
          "name": "stdout",
          "text": [
            "False\n",
            "True\n",
            "True\n",
            "False\n",
            "True\n",
            "False\n"
          ]
        }
      ]
    },
    {
      "cell_type": "code",
      "source": [
        "# Assignment Operatrors\n",
        "\n",
        "# a = a+b => a += b\n",
        "\n",
        "a = 100\n",
        "b = 20\n",
        "\n",
        "a += b\n",
        "print(a,b)\n",
        "\n",
        "a-+b\n",
        "print(a,b)\n",
        "\n",
        "a *= b\n",
        "print(a, b)\n",
        "\n",
        "\n",
        "a = 100\n",
        "b = 20\n",
        "\n",
        "a /= b\n",
        "print(a, b)\n",
        "\n",
        "\n",
        "a = 100\n",
        "b = 20\n",
        "\n",
        "a %= b\n",
        "print(a, b)\n",
        "\n",
        "\n",
        "a = 100\n",
        "b = 20\n",
        "\n",
        "a //= b\n",
        "print(a, b)\n",
        "\n",
        "\n",
        "a = 100\n",
        "b = 2\n",
        "\n",
        "a **= b\n",
        "print(a, b)\n",
        "\n"
      ],
      "metadata": {
        "colab": {
          "base_uri": "https://localhost:8080/"
        },
        "id": "nU3Oo0f4G9l2",
        "outputId": "e0e8a568-f7b8-4df1-e2cb-85f8489594f9"
      },
      "execution_count": null,
      "outputs": [
        {
          "output_type": "stream",
          "name": "stdout",
          "text": [
            "120 20\n",
            "120 20\n",
            "2400 20\n",
            "5.0 20\n",
            "0 20\n",
            "5 20\n",
            "10000 2\n"
          ]
        }
      ]
    },
    {
      "cell_type": "code",
      "source": [
        "a = 100\n",
        "b = 20\n",
        "# Both the condition should be true in AND Operator\n",
        "print(a> 80 and b< 80)\n",
        "print(a == 80 and b< 80)\n",
        "print(a < 80 and b< 80)\n",
        "print(a> 80 and b >80)\n"
      ],
      "metadata": {
        "id": "6eWg_AzzIf45",
        "colab": {
          "base_uri": "https://localhost:8080/"
        },
        "outputId": "6cab69ff-cdad-4239-905d-31eb9f3dcaac"
      },
      "execution_count": null,
      "outputs": [
        {
          "output_type": "stream",
          "name": "stdout",
          "text": [
            "True\n",
            "False\n",
            "False\n",
            "False\n"
          ]
        }
      ]
    },
    {
      "cell_type": "code",
      "source": [
        "a = 100\n",
        "b = 20\n",
        "# At least one condition True then the output is true the condition in OR Operator\n",
        "print(a> 80 or b< 80)\n",
        "print(a == 80 or b< 80)\n",
        "print(a < 80 or b< 80)\n",
        "print(a < 80 or b >80)\n"
      ],
      "metadata": {
        "colab": {
          "base_uri": "https://localhost:8080/"
        },
        "id": "epZB0Yc7L31i",
        "outputId": "c6d2821e-a596-4a3b-c025-e59ad4a0bd82"
      },
      "execution_count": null,
      "outputs": [
        {
          "output_type": "stream",
          "name": "stdout",
          "text": [
            "True\n",
            "True\n",
            "True\n",
            "False\n"
          ]
        }
      ]
    },
    {
      "cell_type": "code",
      "source": [
        "# Not Operator"
      ],
      "metadata": {
        "id": "AGTyWKmSMLMV"
      },
      "execution_count": null,
      "outputs": []
    },
    {
      "cell_type": "code",
      "source": [
        "# Python Membership Operators\n",
        "\n",
        "a = 100\n",
        "b =[100,200,300,400]\n",
        "\n",
        "a in b\n",
        "\n"
      ],
      "metadata": {
        "colab": {
          "base_uri": "https://localhost:8080/"
        },
        "id": "0Qv4wC11MxMW",
        "outputId": "ab5cddc5-b1e1-48bc-b962-a2a04aa87771"
      },
      "execution_count": null,
      "outputs": [
        {
          "output_type": "execute_result",
          "data": {
            "text/plain": [
              "True"
            ]
          },
          "metadata": {},
          "execution_count": 17
        }
      ]
    },
    {
      "cell_type": "code",
      "source": [
        "a= 100\n",
        "b =[100,200,300,400,500]\n",
        "\n",
        "a in b"
      ],
      "metadata": {
        "colab": {
          "base_uri": "https://localhost:8080/"
        },
        "id": "gcnFiRXrOh8s",
        "outputId": "e5fdae19-9f27-4a5b-d1f9-1e005af8eae1"
      },
      "execution_count": null,
      "outputs": [
        {
          "output_type": "execute_result",
          "data": {
            "text/plain": [
              "True"
            ]
          },
          "metadata": {},
          "execution_count": 22
        }
      ]
    },
    {
      "cell_type": "code",
      "source": [
        "a = 100\n",
        "b = [100,200,300,400,500]\n",
        "\n",
        "a not in b"
      ],
      "metadata": {
        "colab": {
          "base_uri": "https://localhost:8080/"
        },
        "id": "BojdEDLUOhww",
        "outputId": "f1175541-2929-48eb-c177-9963a39485e4"
      },
      "execution_count": null,
      "outputs": [
        {
          "output_type": "execute_result",
          "data": {
            "text/plain": [
              "False"
            ]
          },
          "metadata": {},
          "execution_count": 23
        }
      ]
    },
    {
      "cell_type": "code",
      "source": [
        "a= 600\n",
        "b= [100,200,300,400,500]\n",
        "\n",
        "a not in b"
      ],
      "metadata": {
        "colab": {
          "base_uri": "https://localhost:8080/"
        },
        "id": "b0FLJaeuOqZ0",
        "outputId": "24b3613b-ac61-4248-e0bb-074e51510f09"
      },
      "execution_count": null,
      "outputs": [
        {
          "output_type": "execute_result",
          "data": {
            "text/plain": [
              "True"
            ]
          },
          "metadata": {},
          "execution_count": 24
        }
      ]
    },
    {
      "cell_type": "code",
      "source": [
        "# nPython identity Operator\n",
        "\n",
        "a = 100\n",
        "b = 20\n",
        "\n",
        "a is b\n",
        "a is not b\n"
      ],
      "metadata": {
        "colab": {
          "base_uri": "https://localhost:8080/"
        },
        "id": "7zrodqZRNl_t",
        "outputId": "a0c8588d-0601-4d0d-b60c-2e2f3bca1a1e"
      },
      "execution_count": null,
      "outputs": [
        {
          "output_type": "execute_result",
          "data": {
            "text/plain": [
              "True"
            ]
          },
          "metadata": {},
          "execution_count": 20
        }
      ]
    },
    {
      "cell_type": "code",
      "source": [
        "a = 100\n",
        "b = 100\n",
        "\n",
        "a is b\n",
        "a is not b"
      ],
      "metadata": {
        "colab": {
          "base_uri": "https://localhost:8080/"
        },
        "id": "vMWCHvmuN8Cn",
        "outputId": "e9ecf453-9d13-43db-996f-905e9e8f76dd"
      },
      "execution_count": null,
      "outputs": [
        {
          "output_type": "execute_result",
          "data": {
            "text/plain": [
              "False"
            ]
          },
          "metadata": {},
          "execution_count": 21
        }
      ]
    },
    {
      "cell_type": "code",
      "source": [
        "x = 4\n",
        "y =9\n",
        "\n",
        "x is y\n",
        "x is not y"
      ],
      "metadata": {
        "colab": {
          "base_uri": "https://localhost:8080/"
        },
        "id": "Oravf9rcOCQb",
        "outputId": "cf3b0908-c215-445b-ef8c-9f84ec3913e1"
      },
      "execution_count": null,
      "outputs": [
        {
          "output_type": "execute_result",
          "data": {
            "text/plain": [
              "True"
            ]
          },
          "metadata": {},
          "execution_count": 26
        }
      ]
    },
    {
      "cell_type": "code",
      "source": [
        "x =2\n",
        "u =2\n",
        "\n",
        "x is u\n",
        "x is not u"
      ],
      "metadata": {
        "colab": {
          "base_uri": "https://localhost:8080/"
        },
        "id": "hbn4oW5DO4tj",
        "outputId": "1d1c3954-fb93-4c71-f84a-6177175be415"
      },
      "execution_count": null,
      "outputs": [
        {
          "output_type": "execute_result",
          "data": {
            "text/plain": [
              "False"
            ]
          },
          "metadata": {},
          "execution_count": 28
        }
      ]
    },
    {
      "cell_type": "markdown",
      "source": [
        "*** IF/ELSE statements in Python***\n",
        "\n",
        "\n",
        "\n"
      ],
      "metadata": {
        "id": "5fcwJR4TapKa"
      }
    },
    {
      "cell_type": "code",
      "source": [
        "a = 100\n",
        "b = 20\n",
        "\n",
        "if a > b: # True\n",
        "  print('a is greater than b')"
      ],
      "metadata": {
        "colab": {
          "base_uri": "https://localhost:8080/"
        },
        "id": "pc63WNfqPBOF",
        "outputId": "e3ba9007-a6d3-4b57-a092-03c0f0c6f7ef"
      },
      "execution_count": null,
      "outputs": [
        {
          "output_type": "stream",
          "name": "stdout",
          "text": [
            "a is greater than b\n"
          ]
        }
      ]
    },
    {
      "cell_type": "code",
      "source": [
        "a = 100\n",
        "b =20\n",
        "\n",
        "if (a>b) and (a !=b): #Both condition hass to be true\n",
        "  print('a is greater than b') #True\n"
      ],
      "metadata": {
        "colab": {
          "base_uri": "https://localhost:8080/"
        },
        "id": "jY4CLPSDaeNE",
        "outputId": "1467b7c5-3acd-4cc6-c1eb-bdcbb6a79a2f"
      },
      "execution_count": null,
      "outputs": [
        {
          "output_type": "stream",
          "name": "stdout",
          "text": [
            "a is greater than b\n"
          ]
        }
      ]
    },
    {
      "cell_type": "code",
      "source": [
        "if (a<b) and (a == b):\n",
        "  print('a is greater than b') #False and the output wont be executated"
      ],
      "metadata": {
        "id": "UZ9O9u4cav9_"
      },
      "execution_count": null,
      "outputs": []
    },
    {
      "cell_type": "code",
      "source": [
        "a = 100\n",
        "b = 20\n",
        "\n",
        "if (a > b) or (a == b): # True\n",
        "  print('a is greater than b')"
      ],
      "metadata": {
        "colab": {
          "base_uri": "https://localhost:8080/"
        },
        "id": "qd4qLi1na8IB",
        "outputId": "bf787a54-ac4f-437c-ef0b-8e563601fbf7"
      },
      "execution_count": null,
      "outputs": [
        {
          "output_type": "stream",
          "name": "stdout",
          "text": [
            "a is greater than b\n"
          ]
        }
      ]
    },
    {
      "cell_type": "code",
      "source": [
        "a = 100\n",
        "b = 20\n",
        "\n",
        "if (a < b) or (a != b): # True\n",
        "  print('a is greater than b')"
      ],
      "metadata": {
        "colab": {
          "base_uri": "https://localhost:8080/"
        },
        "id": "Y128ES4_biwh",
        "outputId": "fe31aa8f-97fd-4aed-8400-64f94bbc33d6"
      },
      "execution_count": null,
      "outputs": [
        {
          "output_type": "stream",
          "name": "stdout",
          "text": [
            "a is greater than b\n"
          ]
        }
      ]
    },
    {
      "cell_type": "code",
      "source": [
        "a = 100\n",
        "b = 20\n",
        "\n",
        "if (a > b) or (a == b): # True\n",
        "  print('a is greater than b')"
      ],
      "metadata": {
        "colab": {
          "base_uri": "https://localhost:8080/"
        },
        "id": "rvo7ZBW7blUb",
        "outputId": "a0825b9e-4621-465f-97ec-585dd9de4ee7"
      },
      "execution_count": null,
      "outputs": [
        {
          "output_type": "stream",
          "name": "stdout",
          "text": [
            "a is greater than b\n"
          ]
        }
      ]
    },
    {
      "cell_type": "code",
      "source": [
        "a = 100\n",
        "b = 20\n",
        "\n",
        "if (a < b) or (a == b): # False\n",
        "  print('a is greater than b')"
      ],
      "metadata": {
        "id": "ar2x6qXNb0ji"
      },
      "execution_count": null,
      "outputs": []
    },
    {
      "cell_type": "code",
      "source": [
        "a = 100\n",
        "b = 20\n",
        "\n",
        "if (a < b) or (a == b): # False\n",
        "  print('a is greater than b')\n",
        "else:\n",
        "  print('we are in else section')"
      ],
      "metadata": {
        "colab": {
          "base_uri": "https://localhost:8080/"
        },
        "id": "xqbeG2mGb5nZ",
        "outputId": "738f485f-b124-43c1-eeeb-d3876aace3cc"
      },
      "execution_count": null,
      "outputs": [
        {
          "output_type": "stream",
          "name": "stdout",
          "text": [
            "we are in else section\n"
          ]
        }
      ]
    },
    {
      "cell_type": "code",
      "source": [
        "percentage = 78\n",
        "\n",
        "if percentage >=75:\n",
        "  print('First class with distinction')\n",
        "elif percentage >=60:\n",
        "  print('First class')\n",
        "elif percentage >= 40:\n",
        "  print('second class')\n",
        "elif percentage >= 35:\n",
        "  print('third class')\n",
        "else:\n",
        "  print('better luck next time')"
      ],
      "metadata": {
        "colab": {
          "base_uri": "https://localhost:8080/"
        },
        "id": "4-x35siWb9of",
        "outputId": "37551fb6-259c-45d9-8e5b-92f6ef1ada34"
      },
      "execution_count": null,
      "outputs": [
        {
          "output_type": "stream",
          "name": "stdout",
          "text": [
            "First class with distinction\n"
          ]
        }
      ]
    },
    {
      "cell_type": "code",
      "source": [
        "number = 30\n",
        "\n",
        "\n",
        "if number > 20:\n",
        "  print('GREATER')\n",
        "\n",
        "elif number < 40:\n",
        "  print('SMALLER')\n",
        "\n",
        "else:\n",
        "  print('Nothing')"
      ],
      "metadata": {
        "colab": {
          "base_uri": "https://localhost:8080/"
        },
        "id": "nDcI7riSc4ET",
        "outputId": "9af5076c-9126-4c69-ffdc-690d074fb1b4"
      },
      "execution_count": null,
      "outputs": [
        {
          "output_type": "stream",
          "name": "stdout",
          "text": [
            "GREATER\n"
          ]
        }
      ]
    },
    {
      "cell_type": "code",
      "source": [
        "#Nested if\n",
        "\n",
        "a = 123\n",
        "\n",
        "if(a < 200):\n",
        "  print('if(a < 200):')\n",
        "  if (a < 175):\n",
        "    print('if(a < 175):')\n",
        "    if(a < 150):\n",
        "      print('if(a < 150):')\n",
        "      if (a <100):\n",
        "        print('if(a < 100):')\n",
        "        if (a < 75):\n",
        "          print('if(a < 75):')\n",
        "        else:\n",
        "            print('else if (a < 75):')\n",
        "      else:\n",
        "          print('else if (a < 100):')\n",
        "    else:\n",
        "        print('else if (a < 150):')\n",
        "  else:\n",
        "      print('else if (a < 175):')\n",
        "else:\n",
        "    print('else if (a < 200):')\n",
        "\n"
      ],
      "metadata": {
        "id": "ZuXljPhpeDwI",
        "colab": {
          "base_uri": "https://localhost:8080/"
        },
        "outputId": "9a8dffdf-9a57-44f1-e9e1-4d0fa2d9da30"
      },
      "execution_count": null,
      "outputs": [
        {
          "output_type": "stream",
          "name": "stdout",
          "text": [
            "if(a < 200):\n",
            "if(a < 175):\n",
            "if(a < 150):\n",
            "else if (a < 100):\n"
          ]
        }
      ]
    },
    {
      "cell_type": "code",
      "source": [
        "mark = 65\n",
        "\n",
        "if(mark > 40):\n",
        "  print('if(mark > 40):')\n",
        "  if(mark > 50):\n",
        "    print('if(mark > 50):')\n",
        "    if(mark > 60):\n",
        "      print('if(mark > 60):')\n",
        "      if(mark > 70):\n",
        "        print('if(mark > 70):')\n",
        "        if(mark > 80):\n",
        "          print('if(mark > 80):')\n",
        "        else:\n",
        "          print('else if (mark > 80):')\n",
        "      else:\n",
        "        print('else if(mark > 70):')\n",
        "    else:\n",
        "      print('else if(mark > 60):')\n",
        "  else:\n",
        "    print('else if(mark > 50):')\n",
        "else:\n",
        "  print('else if(mark > 40):')\n",
        "\n",
        "\n",
        "\n"
      ],
      "metadata": {
        "id": "xuU5iXJGhob_",
        "colab": {
          "base_uri": "https://localhost:8080/"
        },
        "outputId": "9b06aefe-ebac-4ee8-b06f-e45bbf66efdd"
      },
      "execution_count": null,
      "outputs": [
        {
          "output_type": "stream",
          "name": "stdout",
          "text": [
            "if(mark > 40):\n",
            "if(mark > 50):\n",
            "if(mark > 60):\n",
            "else if(mark > 70):\n"
          ]
        }
      ]
    },
    {
      "cell_type": "markdown",
      "source": [
        "*** While loop***"
      ],
      "metadata": {
        "id": "jCzWuVrOa2dD"
      }
    },
    {
      "cell_type": "code",
      "source": [
        "# while loop\n",
        "# while loops works for when your condition is True.\n",
        "\n",
        "a = 100\n",
        "\n",
        "while a > 10: # This condition is true tghat mean it keeps going till its True. It will terminated once it gets false.\n",
        "  print(a, 'is greater than 10')\n",
        "  a -= 1"
      ],
      "metadata": {
        "colab": {
          "base_uri": "https://localhost:8080/"
        },
        "id": "4eoDiOzljdsn",
        "outputId": "cafe1c09-1797-4ca5-d8e1-95afee163144"
      },
      "execution_count": null,
      "outputs": [
        {
          "output_type": "stream",
          "name": "stdout",
          "text": [
            "100 is greater than 10\n",
            "99 is greater than 10\n",
            "98 is greater than 10\n",
            "97 is greater than 10\n",
            "96 is greater than 10\n",
            "95 is greater than 10\n",
            "94 is greater than 10\n",
            "93 is greater than 10\n",
            "92 is greater than 10\n",
            "91 is greater than 10\n",
            "90 is greater than 10\n",
            "89 is greater than 10\n",
            "88 is greater than 10\n",
            "87 is greater than 10\n",
            "86 is greater than 10\n",
            "85 is greater than 10\n",
            "84 is greater than 10\n",
            "83 is greater than 10\n",
            "82 is greater than 10\n",
            "81 is greater than 10\n",
            "80 is greater than 10\n",
            "79 is greater than 10\n",
            "78 is greater than 10\n",
            "77 is greater than 10\n",
            "76 is greater than 10\n",
            "75 is greater than 10\n",
            "74 is greater than 10\n",
            "73 is greater than 10\n",
            "72 is greater than 10\n",
            "71 is greater than 10\n",
            "70 is greater than 10\n",
            "69 is greater than 10\n",
            "68 is greater than 10\n",
            "67 is greater than 10\n",
            "66 is greater than 10\n",
            "65 is greater than 10\n",
            "64 is greater than 10\n",
            "63 is greater than 10\n",
            "62 is greater than 10\n",
            "61 is greater than 10\n",
            "60 is greater than 10\n",
            "59 is greater than 10\n",
            "58 is greater than 10\n",
            "57 is greater than 10\n",
            "56 is greater than 10\n",
            "55 is greater than 10\n",
            "54 is greater than 10\n",
            "53 is greater than 10\n",
            "52 is greater than 10\n",
            "51 is greater than 10\n",
            "50 is greater than 10\n",
            "49 is greater than 10\n",
            "48 is greater than 10\n",
            "47 is greater than 10\n",
            "46 is greater than 10\n",
            "45 is greater than 10\n",
            "44 is greater than 10\n",
            "43 is greater than 10\n",
            "42 is greater than 10\n",
            "41 is greater than 10\n",
            "40 is greater than 10\n",
            "39 is greater than 10\n",
            "38 is greater than 10\n",
            "37 is greater than 10\n",
            "36 is greater than 10\n",
            "35 is greater than 10\n",
            "34 is greater than 10\n",
            "33 is greater than 10\n",
            "32 is greater than 10\n",
            "31 is greater than 10\n",
            "30 is greater than 10\n",
            "29 is greater than 10\n",
            "28 is greater than 10\n",
            "27 is greater than 10\n",
            "26 is greater than 10\n",
            "25 is greater than 10\n",
            "24 is greater than 10\n",
            "23 is greater than 10\n",
            "22 is greater than 10\n",
            "21 is greater than 10\n",
            "20 is greater than 10\n",
            "19 is greater than 10\n",
            "18 is greater than 10\n",
            "17 is greater than 10\n",
            "16 is greater than 10\n",
            "15 is greater than 10\n",
            "14 is greater than 10\n",
            "13 is greater than 10\n",
            "12 is greater than 10\n",
            "11 is greater than 10\n"
          ]
        }
      ]
    },
    {
      "cell_type": "code",
      "source": [
        "a = 10\n",
        "\n",
        "while a < 100:\n",
        "  print(a, 'is less than 100')\n",
        "  a += 10"
      ],
      "metadata": {
        "colab": {
          "base_uri": "https://localhost:8080/"
        },
        "id": "pvytud70kHH9",
        "outputId": "bd34f1f2-8e18-48d0-8134-9f22c7875c5e"
      },
      "execution_count": null,
      "outputs": [
        {
          "output_type": "stream",
          "name": "stdout",
          "text": [
            "10 is less than 100\n",
            "20 is less than 100\n",
            "30 is less than 100\n",
            "40 is less than 100\n",
            "50 is less than 100\n",
            "60 is less than 100\n",
            "70 is less than 100\n",
            "80 is less than 100\n",
            "90 is less than 100\n"
          ]
        }
      ]
    },
    {
      "cell_type": "code",
      "source": [
        "i < 200 by 10 i > 200 -20"
      ],
      "metadata": {
        "id": "GyHi-bodk5Vo"
      },
      "execution_count": null,
      "outputs": []
    },
    {
      "cell_type": "code",
      "source": [
        "i = 25\n",
        "\n",
        "while i < 200:\n",
        "  print(i, 'is less than 200')\n",
        "  i += 10"
      ],
      "metadata": {
        "colab": {
          "base_uri": "https://localhost:8080/"
        },
        "id": "_r8ZE0NElYnA",
        "outputId": "d3f85df0-e5d5-4d5b-b1d8-deead0f9cfac"
      },
      "execution_count": null,
      "outputs": [
        {
          "output_type": "stream",
          "name": "stdout",
          "text": [
            "25 is less than 200\n",
            "35 is less than 200\n",
            "45 is less than 200\n",
            "55 is less than 200\n",
            "65 is less than 200\n",
            "75 is less than 200\n",
            "85 is less than 200\n",
            "95 is less than 200\n",
            "105 is less than 200\n",
            "115 is less than 200\n",
            "125 is less than 200\n",
            "135 is less than 200\n",
            "145 is less than 200\n",
            "155 is less than 200\n",
            "165 is less than 200\n",
            "175 is less than 200\n",
            "185 is less than 200\n",
            "195 is less than 200\n"
          ]
        }
      ]
    },
    {
      "cell_type": "code",
      "source": [
        "i = 500\n",
        "\n",
        "while i > 200:\n",
        "  print(i, 'is greater than 200')\n",
        "  i -= 20"
      ],
      "metadata": {
        "colab": {
          "base_uri": "https://localhost:8080/"
        },
        "id": "3Rvdzhm3lqr5",
        "outputId": "3ecf7e8d-d0bd-48da-8e48-ecdcb4082760"
      },
      "execution_count": null,
      "outputs": [
        {
          "output_type": "stream",
          "name": "stdout",
          "text": [
            "500 is greater than 200\n",
            "480 is greater than 200\n",
            "460 is greater than 200\n",
            "440 is greater than 200\n",
            "420 is greater than 200\n",
            "400 is greater than 200\n",
            "380 is greater than 200\n",
            "360 is greater than 200\n",
            "340 is greater than 200\n",
            "320 is greater than 200\n",
            "300 is greater than 200\n",
            "280 is greater than 200\n",
            "260 is greater than 200\n",
            "240 is greater than 200\n",
            "220 is greater than 200\n"
          ]
        }
      ]
    },
    {
      "cell_type": "code",
      "source": [
        "# break continue and pass"
      ],
      "metadata": {
        "id": "ZUvljWbAmCbA"
      },
      "execution_count": null,
      "outputs": []
    },
    {
      "cell_type": "code",
      "source": [
        "a = 10\n",
        "\n",
        "while a < 100:\n",
        "  if a == 50:\n",
        "    break\n",
        "  print(a, 'is less than 100')\n",
        "  a += 10"
      ],
      "metadata": {
        "colab": {
          "base_uri": "https://localhost:8080/"
        },
        "id": "L3h4tA_0oyVx",
        "outputId": "6e65392d-6931-4cad-e569-6e67cf09a80a"
      },
      "execution_count": null,
      "outputs": [
        {
          "output_type": "stream",
          "name": "stdout",
          "text": [
            "10 is less than 100\n",
            "20 is less than 100\n",
            "30 is less than 100\n",
            "40 is less than 100\n"
          ]
        }
      ]
    },
    {
      "cell_type": "code",
      "source": [
        "a = 10\n",
        "\n",
        "while a < 100:\n",
        "\n",
        "  a += 10\n",
        "\n",
        "  if a == 50:\n",
        "    continue\n",
        "  print(a, 'is less than 100')"
      ],
      "metadata": {
        "colab": {
          "base_uri": "https://localhost:8080/"
        },
        "id": "O55FRZodpEd8",
        "outputId": "7562c300-aa7e-4cc1-e840-e58d5ce75097"
      },
      "execution_count": null,
      "outputs": [
        {
          "output_type": "stream",
          "name": "stdout",
          "text": [
            "20 is less than 100\n",
            "30 is less than 100\n",
            "40 is less than 100\n",
            "60 is less than 100\n",
            "70 is less than 100\n",
            "80 is less than 100\n",
            "90 is less than 100\n",
            "100 is less than 100\n"
          ]
        }
      ]
    },
    {
      "cell_type": "code",
      "source": [
        "a = 200\n",
        "\n",
        "while(a < 500): #execute any program\n",
        "  pass"
      ],
      "metadata": {
        "colab": {
          "base_uri": "https://localhost:8080/",
          "height": 225
        },
        "id": "RYKmJMPQrhHR",
        "outputId": "5d613606-c63d-44cf-b977-e987fb102e65"
      },
      "execution_count": null,
      "outputs": [
        {
          "output_type": "error",
          "ename": "KeyboardInterrupt",
          "evalue": "ignored",
          "traceback": [
            "\u001b[0;31m---------------------------------------------------------------------------\u001b[0m",
            "\u001b[0;31mKeyboardInterrupt\u001b[0m                         Traceback (most recent call last)",
            "\u001b[0;32m<ipython-input-22-39bf287035b9>\u001b[0m in \u001b[0;36m<cell line: 3>\u001b[0;34m()\u001b[0m\n\u001b[1;32m      1\u001b[0m \u001b[0ma\u001b[0m \u001b[0;34m=\u001b[0m \u001b[0;36m200\u001b[0m\u001b[0;34m\u001b[0m\u001b[0;34m\u001b[0m\u001b[0m\n\u001b[1;32m      2\u001b[0m \u001b[0;34m\u001b[0m\u001b[0m\n\u001b[0;32m----> 3\u001b[0;31m \u001b[0;32mwhile\u001b[0m\u001b[0;34m(\u001b[0m\u001b[0ma\u001b[0m \u001b[0;34m<\u001b[0m \u001b[0;36m500\u001b[0m\u001b[0;34m)\u001b[0m\u001b[0;34m:\u001b[0m\u001b[0;34m\u001b[0m\u001b[0;34m\u001b[0m\u001b[0m\n\u001b[0m\u001b[1;32m      4\u001b[0m   \u001b[0;32mpass\u001b[0m\u001b[0;34m\u001b[0m\u001b[0;34m\u001b[0m\u001b[0m\n",
            "\u001b[0;31mKeyboardInterrupt\u001b[0m: "
          ]
        }
      ]
    },
    {
      "cell_type": "code",
      "source": [
        "write a program 0 to 100 and find odd and even number; use while loop"
      ],
      "metadata": {
        "id": "C_9x3WVjrsHa"
      },
      "execution_count": null,
      "outputs": []
    },
    {
      "cell_type": "code",
      "source": [
        "num = 1\n",
        "\n",
        "while num <= 100:\n",
        "\n",
        "\n",
        "  if num % 2 == 0:\n",
        "    print(\"Odd number\",num)\n",
        "  else:\n",
        "    print(\"Even number\",num)\n",
        "\n",
        "  num += 1"
      ],
      "metadata": {
        "colab": {
          "base_uri": "https://localhost:8080/"
        },
        "id": "FEgJD_zhtV0R",
        "outputId": "00fd675b-f720-481d-bcb1-8b232854cccd"
      },
      "execution_count": null,
      "outputs": [
        {
          "output_type": "stream",
          "name": "stdout",
          "text": [
            "Even number 1\n",
            "Odd number 2\n",
            "Even number 3\n",
            "Odd number 4\n",
            "Even number 5\n",
            "Odd number 6\n",
            "Even number 7\n",
            "Odd number 8\n",
            "Even number 9\n",
            "Odd number 10\n",
            "Even number 11\n",
            "Odd number 12\n",
            "Even number 13\n",
            "Odd number 14\n",
            "Even number 15\n",
            "Odd number 16\n",
            "Even number 17\n",
            "Odd number 18\n",
            "Even number 19\n",
            "Odd number 20\n",
            "Even number 21\n",
            "Odd number 22\n",
            "Even number 23\n",
            "Odd number 24\n",
            "Even number 25\n",
            "Odd number 26\n",
            "Even number 27\n",
            "Odd number 28\n",
            "Even number 29\n",
            "Odd number 30\n",
            "Even number 31\n",
            "Odd number 32\n",
            "Even number 33\n",
            "Odd number 34\n",
            "Even number 35\n",
            "Odd number 36\n",
            "Even number 37\n",
            "Odd number 38\n",
            "Even number 39\n",
            "Odd number 40\n",
            "Even number 41\n",
            "Odd number 42\n",
            "Even number 43\n",
            "Odd number 44\n",
            "Even number 45\n",
            "Odd number 46\n",
            "Even number 47\n",
            "Odd number 48\n",
            "Even number 49\n",
            "Odd number 50\n",
            "Even number 51\n",
            "Odd number 52\n",
            "Even number 53\n",
            "Odd number 54\n",
            "Even number 55\n",
            "Odd number 56\n",
            "Even number 57\n",
            "Odd number 58\n",
            "Even number 59\n",
            "Odd number 60\n",
            "Even number 61\n",
            "Odd number 62\n",
            "Even number 63\n",
            "Odd number 64\n",
            "Even number 65\n",
            "Odd number 66\n",
            "Even number 67\n",
            "Odd number 68\n",
            "Even number 69\n",
            "Odd number 70\n",
            "Even number 71\n",
            "Odd number 72\n",
            "Even number 73\n",
            "Odd number 74\n",
            "Even number 75\n",
            "Odd number 76\n",
            "Even number 77\n",
            "Odd number 78\n",
            "Even number 79\n",
            "Odd number 80\n",
            "Even number 81\n",
            "Odd number 82\n",
            "Even number 83\n",
            "Odd number 84\n",
            "Even number 85\n",
            "Odd number 86\n",
            "Even number 87\n",
            "Odd number 88\n",
            "Even number 89\n",
            "Odd number 90\n",
            "Even number 91\n",
            "Odd number 92\n",
            "Even number 93\n",
            "Odd number 94\n",
            "Even number 95\n",
            "Odd number 96\n",
            "Even number 97\n",
            "Odd number 98\n",
            "Even number 99\n",
            "Odd number 100\n"
          ]
        }
      ]
    },
    {
      "cell_type": "code",
      "source": [
        "num = 0\n",
        "\n",
        "while num <= 100:\n",
        "  num += 2\n",
        "  print(num,'is even')\n",
        "  print(num+1, 'is odd')"
      ],
      "metadata": {
        "colab": {
          "base_uri": "https://localhost:8080/"
        },
        "id": "I72ULc62tman",
        "outputId": "7724c124-4fbd-45e3-963d-b0bed300446b"
      },
      "execution_count": null,
      "outputs": [
        {
          "output_type": "stream",
          "name": "stdout",
          "text": [
            "2 is even\n",
            "3 is odd\n",
            "4 is even\n",
            "5 is odd\n",
            "6 is even\n",
            "7 is odd\n",
            "8 is even\n",
            "9 is odd\n",
            "10 is even\n",
            "11 is odd\n",
            "12 is even\n",
            "13 is odd\n",
            "14 is even\n",
            "15 is odd\n",
            "16 is even\n",
            "17 is odd\n",
            "18 is even\n",
            "19 is odd\n",
            "20 is even\n",
            "21 is odd\n",
            "22 is even\n",
            "23 is odd\n",
            "24 is even\n",
            "25 is odd\n",
            "26 is even\n",
            "27 is odd\n",
            "28 is even\n",
            "29 is odd\n",
            "30 is even\n",
            "31 is odd\n",
            "32 is even\n",
            "33 is odd\n",
            "34 is even\n",
            "35 is odd\n",
            "36 is even\n",
            "37 is odd\n",
            "38 is even\n",
            "39 is odd\n",
            "40 is even\n",
            "41 is odd\n",
            "42 is even\n",
            "43 is odd\n",
            "44 is even\n",
            "45 is odd\n",
            "46 is even\n",
            "47 is odd\n",
            "48 is even\n",
            "49 is odd\n",
            "50 is even\n",
            "51 is odd\n",
            "52 is even\n",
            "53 is odd\n",
            "54 is even\n",
            "55 is odd\n",
            "56 is even\n",
            "57 is odd\n",
            "58 is even\n",
            "59 is odd\n",
            "60 is even\n",
            "61 is odd\n",
            "62 is even\n",
            "63 is odd\n",
            "64 is even\n",
            "65 is odd\n",
            "66 is even\n",
            "67 is odd\n",
            "68 is even\n",
            "69 is odd\n",
            "70 is even\n",
            "71 is odd\n",
            "72 is even\n",
            "73 is odd\n",
            "74 is even\n",
            "75 is odd\n",
            "76 is even\n",
            "77 is odd\n",
            "78 is even\n",
            "79 is odd\n",
            "80 is even\n",
            "81 is odd\n",
            "82 is even\n",
            "83 is odd\n",
            "84 is even\n",
            "85 is odd\n",
            "86 is even\n",
            "87 is odd\n",
            "88 is even\n",
            "89 is odd\n",
            "90 is even\n",
            "91 is odd\n",
            "92 is even\n",
            "93 is odd\n",
            "94 is even\n",
            "95 is odd\n",
            "96 is even\n",
            "97 is odd\n",
            "98 is even\n",
            "99 is odd\n",
            "100 is even\n",
            "101 is odd\n",
            "102 is even\n",
            "103 is odd\n"
          ]
        }
      ]
    },
    {
      "cell_type": "code",
      "source": [
        "total = 0\n",
        "num = int(input('enter a number'))\n",
        "\n",
        "while num != 0:\n",
        "  total += num\n",
        "  num = int(input('enter a number'))\n"
      ],
      "metadata": {
        "colab": {
          "base_uri": "https://localhost:8080/"
        },
        "id": "EbSvdLSPwXZW",
        "outputId": "594acb81-5d92-42c6-b6c4-356834263e1e"
      },
      "execution_count": null,
      "outputs": [
        {
          "name": "stdout",
          "output_type": "stream",
          "text": [
            "enter a number1\n",
            "enter a number2\n",
            "enter a number3\n",
            "enter a number4\n",
            "enter a number5\n",
            "enter a number6\n",
            "enter a number7\n",
            "enter a number8\n",
            "enter a number9\n",
            "enter a number0\n"
          ]
        }
      ]
    },
    {
      "cell_type": "code",
      "source": [
        "total = 0\n",
        "num = int(input('enter a number'))\n",
        "\n",
        "while num != 0:\n",
        "  total += num\n",
        "  num = int(input('enter a number'))\n",
        "print(total)"
      ],
      "metadata": {
        "colab": {
          "base_uri": "https://localhost:8080/"
        },
        "id": "9t-ZwoWmxXQE",
        "outputId": "ca5c4033-e195-41e7-c7ce-2f6f8f1656d7"
      },
      "execution_count": null,
      "outputs": [
        {
          "output_type": "stream",
          "name": "stdout",
          "text": [
            "enter a number1\n",
            "enter a number2\n",
            "enter a number55\n",
            "enter a number77\n",
            "enter a number88\n",
            "enter a number99\n",
            "enter a number0\n",
            "322\n"
          ]
        }
      ]
    },
    {
      "cell_type": "code",
      "source": [
        "count = 0\n",
        "age =int(input('Enter your age:-'))\n",
        "\n",
        "while age >= 18:\n",
        "  count += 1\n",
        "  age =int(input('Enter your age:-'))\n",
        "\n",
        "print('Total number of 18+ :',count)"
      ],
      "metadata": {
        "colab": {
          "base_uri": "https://localhost:8080/"
        },
        "id": "Y7VdfvI8xlKA",
        "outputId": "15d6b12f-6f79-455b-d3fa-08ddbadd269e"
      },
      "execution_count": null,
      "outputs": [
        {
          "output_type": "stream",
          "name": "stdout",
          "text": [
            "Enter your age:-19\n",
            "Enter your age:-67\n",
            "Enter your age:-34\n",
            "Enter your age:-12\n",
            "Total number of 18+ : 3\n"
          ]
        }
      ]
    },
    {
      "cell_type": "code",
      "source": [
        "list = [1,2,3,4,5,6,7,8,9,10,11,22,33,44,55,66,110,12,23,34,45,56,67,78,89,90]\n",
        "\n",
        "while list:\n",
        "  print(list.pop())\n",
        "\n",
        "\n"
      ],
      "metadata": {
        "colab": {
          "base_uri": "https://localhost:8080/"
        },
        "id": "19K9C8fwylgJ",
        "outputId": "a811cadc-2b7c-4ec6-b38e-6551c002b6ed"
      },
      "execution_count": null,
      "outputs": [
        {
          "output_type": "stream",
          "name": "stdout",
          "text": [
            "90\n",
            "89\n",
            "78\n",
            "67\n",
            "56\n",
            "45\n",
            "34\n",
            "23\n",
            "12\n",
            "110\n",
            "66\n",
            "55\n",
            "44\n",
            "33\n",
            "22\n",
            "11\n",
            "10\n",
            "9\n",
            "8\n",
            "7\n",
            "6\n",
            "5\n",
            "4\n",
            "3\n",
            "2\n",
            "1\n"
          ]
        }
      ]
    },
    {
      "cell_type": "code",
      "source": [
        "# write a program where number is divisible by 5 and 7.\n",
        "\n",
        "num1 = int(input('Enter a number:-'))\n",
        "\n",
        "while(num1%5 == 0) and (num1%7 == 0):\n",
        "  print(num1,'is divisible by 5 and 7')\n",
        "  break\n",
        "else:\n",
        "  print(num1, 'is not divisible by 5 and 7')"
      ],
      "metadata": {
        "colab": {
          "base_uri": "https://localhost:8080/"
        },
        "id": "zUoXqJob6L-J",
        "outputId": "17e84d50-e25e-4668-9591-01e1dd433a80"
      },
      "execution_count": null,
      "outputs": [
        {
          "output_type": "stream",
          "name": "stdout",
          "text": [
            "Enter a number:-35\n",
            "35 is divisible by 5 and 7\n"
          ]
        }
      ]
    },
    {
      "cell_type": "markdown",
      "source": [
        "Tuesday August 15, 2023"
      ],
      "metadata": {
        "id": "2beJ_LxPpmXx"
      }
    },
    {
      "cell_type": "markdown",
      "source": [
        "*** For Loop***"
      ],
      "metadata": {
        "id": "245UY3UfbVkt"
      }
    },
    {
      "cell_type": "code",
      "source": [
        "#For Loop\n",
        "#it execute one value at atime\n",
        "#value will be displayed in unordered way\n",
        "\n",
        "lst1 = [12,23,34,45,56,67,78,89,90,21,32,43,54,76,87,98,9]\n",
        "\n",
        "for i in lst1:\n",
        "\n",
        "  print('value of i',i)"
      ],
      "metadata": {
        "id": "_9qAcYSO6h09",
        "colab": {
          "base_uri": "https://localhost:8080/"
        },
        "outputId": "6734724c-50d1-4149-f491-03b8835bdd87"
      },
      "execution_count": null,
      "outputs": [
        {
          "output_type": "stream",
          "name": "stdout",
          "text": [
            "value of i 12\n",
            "value of i 23\n",
            "value of i 34\n",
            "value of i 45\n",
            "value of i 56\n",
            "value of i 67\n",
            "value of i 78\n",
            "value of i 89\n",
            "value of i 90\n",
            "value of i 21\n",
            "value of i 32\n",
            "value of i 43\n",
            "value of i 54\n",
            "value of i 76\n",
            "value of i 87\n",
            "value of i 98\n",
            "value of i 9\n"
          ]
        }
      ]
    },
    {
      "cell_type": "code",
      "source": [
        "tup1 = ('apple','banana','cherries','dates','eggfruit','figs','grapes','honeyfruit')\n",
        "\n",
        "for i in tup1:\n",
        "  print('value of i',i)"
      ],
      "metadata": {
        "colab": {
          "base_uri": "https://localhost:8080/"
        },
        "id": "2B7i6Azhp8qA",
        "outputId": "22d79e12-6608-46e5-87e2-eebd04e0f71d"
      },
      "execution_count": null,
      "outputs": [
        {
          "output_type": "stream",
          "name": "stdout",
          "text": [
            "value of i apple\n",
            "value of i banana\n",
            "value of i cherries\n",
            "value of i dates\n",
            "value of i eggfruit\n",
            "value of i figs\n",
            "value of i grapes\n",
            "value of i honeyfruit\n"
          ]
        }
      ]
    },
    {
      "cell_type": "code",
      "source": [
        "set1 ={'apple','banana','cherries','dates','eggfruit','figs','grapes','honeyfruit',12,23,34,45,56,67,78,89,90,21,32,43,54,76,87,98,9}\n",
        "\n",
        "for i in set1:\n",
        "\n",
        "  print('value of i', i)"
      ],
      "metadata": {
        "colab": {
          "base_uri": "https://localhost:8080/"
        },
        "id": "UxRkJR6Nqbc7",
        "outputId": "538a2435-c84d-4391-f402-c695f5bc1589"
      },
      "execution_count": null,
      "outputs": [
        {
          "output_type": "stream",
          "name": "stdout",
          "text": [
            "value of i honeyfruit\n",
            "value of i 67\n",
            "value of i 9\n",
            "value of i 12\n",
            "value of i 76\n",
            "value of i grapes\n",
            "value of i 78\n",
            "value of i eggfruit\n",
            "value of i banana\n",
            "value of i 21\n",
            "value of i 23\n",
            "value of i cherries\n",
            "value of i 87\n",
            "value of i 89\n",
            "value of i 90\n",
            "value of i 32\n",
            "value of i 34\n",
            "value of i 98\n",
            "value of i apple\n",
            "value of i dates\n",
            "value of i 43\n",
            "value of i 45\n",
            "value of i 54\n",
            "value of i 56\n",
            "value of i figs\n"
          ]
        }
      ]
    },
    {
      "cell_type": "code",
      "source": [
        "str1 = 'Peppa Prefer Python Programming'\n",
        "print(len(str1))\n",
        "for i in str1:\n",
        "  print('value of i', i)"
      ],
      "metadata": {
        "colab": {
          "base_uri": "https://localhost:8080/"
        },
        "id": "LTopxyExqsMF",
        "outputId": "4c484210-26d0-4912-ee57-f12c676fb930"
      },
      "execution_count": null,
      "outputs": [
        {
          "output_type": "stream",
          "name": "stdout",
          "text": [
            "31\n",
            "value of i P\n",
            "value of i e\n",
            "value of i p\n",
            "value of i p\n",
            "value of i a\n",
            "value of i  \n",
            "value of i P\n",
            "value of i r\n",
            "value of i e\n",
            "value of i f\n",
            "value of i e\n",
            "value of i r\n",
            "value of i  \n",
            "value of i P\n",
            "value of i y\n",
            "value of i t\n",
            "value of i h\n",
            "value of i o\n",
            "value of i n\n",
            "value of i  \n",
            "value of i P\n",
            "value of i r\n",
            "value of i o\n",
            "value of i g\n",
            "value of i r\n",
            "value of i a\n",
            "value of i m\n",
            "value of i m\n",
            "value of i i\n",
            "value of i n\n",
            "value of i g\n"
          ]
        }
      ]
    },
    {
      "cell_type": "code",
      "source": [
        "dict = {'a':'apple','b':'ball','c':'cat'}\n",
        "\n",
        "for i in dict:\n",
        "  print('value of i', i)"
      ],
      "metadata": {
        "colab": {
          "base_uri": "https://localhost:8080/"
        },
        "id": "NfYkGdVdrGwp",
        "outputId": "7626becb-fa54-4b53-ce40-e000f90d3af9"
      },
      "execution_count": null,
      "outputs": [
        {
          "output_type": "stream",
          "name": "stdout",
          "text": [
            "value of i a\n",
            "value of i b\n",
            "value of i c\n"
          ]
        }
      ]
    },
    {
      "cell_type": "code",
      "source": [
        "for i in range(10): # In 10 index will start with 0-9 being 10 elements.\n",
        "  print('value of i', i)\n"
      ],
      "metadata": {
        "colab": {
          "base_uri": "https://localhost:8080/"
        },
        "id": "0jP_zv3yrjl1",
        "outputId": "8aec79f9-743d-4c4e-d786-ff32805c8a8f"
      },
      "execution_count": null,
      "outputs": [
        {
          "output_type": "stream",
          "name": "stdout",
          "text": [
            "value of i 0\n",
            "value of i 1\n",
            "value of i 2\n",
            "value of i 3\n",
            "value of i 4\n",
            "value of i 5\n",
            "value of i 6\n",
            "value of i 7\n",
            "value of i 8\n",
            "value of i 9\n"
          ]
        }
      ]
    },
    {
      "cell_type": "code",
      "source": [],
      "metadata": {
        "colab": {
          "base_uri": "https://localhost:8080/"
        },
        "id": "kJoD0-gbry0k",
        "outputId": "add6502b-9ce0-4255-8882-8341394326b5"
      },
      "execution_count": null,
      "outputs": [
        {
          "output_type": "stream",
          "name": "stdout",
          "text": [
            "value of i 0\n",
            "value of i 1\n",
            "value of i 2\n",
            "value of i 3\n",
            "value of i 4\n",
            "value of i 5\n",
            "value of i 6\n",
            "value of i 7\n",
            "value of i 8\n",
            "value of i 9\n"
          ]
        }
      ]
    },
    {
      "cell_type": "code",
      "source": [
        "for i in range(0,10,1):\n",
        "  print('value of i', i)"
      ],
      "metadata": {
        "colab": {
          "base_uri": "https://localhost:8080/"
        },
        "id": "2Ut3ljkGsCfp",
        "outputId": "a0936eb5-ef5b-4030-e7b7-e00a766b6c5e"
      },
      "execution_count": null,
      "outputs": [
        {
          "output_type": "stream",
          "name": "stdout",
          "text": [
            "value of i 0\n",
            "value of i 1\n",
            "value of i 2\n",
            "value of i 3\n",
            "value of i 4\n",
            "value of i 5\n",
            "value of i 6\n",
            "value of i 7\n",
            "value of i 8\n",
            "value of i 9\n"
          ]
        }
      ]
    },
    {
      "cell_type": "code",
      "source": [
        "list = [1,4,5,6,7,8,88,77,55,66,23,45,67,89,90,5,6,]\n",
        "\n",
        "for i in list:\n",
        "  print('value of i', i)"
      ],
      "metadata": {
        "colab": {
          "base_uri": "https://localhost:8080/"
        },
        "id": "S-u3Cx5-sGJO",
        "outputId": "bb6d3be9-0df7-40dc-9e11-8cbf11474cdc"
      },
      "execution_count": null,
      "outputs": [
        {
          "output_type": "stream",
          "name": "stdout",
          "text": [
            "value of i 1\n",
            "value of i 4\n",
            "value of i 5\n",
            "value of i 6\n",
            "value of i 7\n",
            "value of i 8\n",
            "value of i 88\n",
            "value of i 77\n",
            "value of i 55\n",
            "value of i 66\n",
            "value of i 23\n",
            "value of i 45\n",
            "value of i 67\n",
            "value of i 89\n",
            "value of i 90\n",
            "value of i 5\n",
            "value of i 6\n"
          ]
        }
      ]
    },
    {
      "cell_type": "code",
      "source": [
        "tup = ('nine','one','two','three','house','cat')\n",
        "\n",
        "for i in tup:\n",
        "  print('value of i', i)"
      ],
      "metadata": {
        "colab": {
          "base_uri": "https://localhost:8080/"
        },
        "id": "wcKH1WiQsiar",
        "outputId": "d39845a1-2214-44b1-9104-f8e4daa928f3"
      },
      "execution_count": null,
      "outputs": [
        {
          "output_type": "stream",
          "name": "stdout",
          "text": [
            "value of i nine\n",
            "value of i one\n",
            "value of i two\n",
            "value of i three\n",
            "value of i house\n",
            "value of i cat\n"
          ]
        }
      ]
    },
    {
      "cell_type": "code",
      "source": [
        "set = {'a','b','c','d','e','p'}\n",
        "\n",
        "for i in set:\n",
        "  print('value of i', i)"
      ],
      "metadata": {
        "colab": {
          "base_uri": "https://localhost:8080/"
        },
        "id": "xikz0wycs2ia",
        "outputId": "0c7d4291-e621-4199-dc69-8c42f3a9a238"
      },
      "execution_count": null,
      "outputs": [
        {
          "output_type": "stream",
          "name": "stdout",
          "text": [
            "value of i b\n",
            "value of i a\n",
            "value of i d\n",
            "value of i e\n",
            "value of i p\n",
            "value of i c\n"
          ]
        }
      ]
    },
    {
      "cell_type": "code",
      "source": [
        "str = '  Hello World'\n",
        "\n",
        "for i in str:\n",
        "  print('value of i', i)"
      ],
      "metadata": {
        "colab": {
          "base_uri": "https://localhost:8080/"
        },
        "id": "TKmZSFOItJVZ",
        "outputId": "8745867a-0895-4798-fd00-b704b16c9a1d"
      },
      "execution_count": null,
      "outputs": [
        {
          "output_type": "stream",
          "name": "stdout",
          "text": [
            "value of i  \n",
            "value of i  \n",
            "value of i H\n",
            "value of i e\n",
            "value of i l\n",
            "value of i l\n",
            "value of i o\n",
            "value of i  \n",
            "value of i W\n",
            "value of i o\n",
            "value of i r\n",
            "value of i l\n",
            "value of i d\n"
          ]
        }
      ]
    },
    {
      "cell_type": "code",
      "source": [
        "dict = {'I':'Ice-cream','P':'Peppa','B':'Bluey'}\n",
        "\n",
        "for i in dict:\n",
        "  print('value of i', i)"
      ],
      "metadata": {
        "colab": {
          "base_uri": "https://localhost:8080/"
        },
        "id": "q1xec0qBtWXS",
        "outputId": "6b9187b7-7952-4a1a-b0f1-467961713274"
      },
      "execution_count": null,
      "outputs": [
        {
          "output_type": "stream",
          "name": "stdout",
          "text": [
            "value of i I\n",
            "value of i P\n",
            "value of i B\n"
          ]
        }
      ]
    },
    {
      "cell_type": "code",
      "source": [
        "for i in range(0,10,1):\n",
        "  print('value of i', i)"
      ],
      "metadata": {
        "colab": {
          "base_uri": "https://localhost:8080/"
        },
        "id": "k2x7P47LtmfS",
        "outputId": "f1c56a22-4093-4e35-f721-2517a1e3bade"
      },
      "execution_count": null,
      "outputs": [
        {
          "output_type": "stream",
          "name": "stdout",
          "text": [
            "value of i 0\n",
            "value of i 1\n",
            "value of i 2\n",
            "value of i 3\n",
            "value of i 4\n",
            "value of i 5\n",
            "value of i 6\n",
            "value of i 7\n",
            "value of i 8\n",
            "value of i 9\n"
          ]
        }
      ]
    },
    {
      "cell_type": "code",
      "source": [
        "for i in range(2,10):\n",
        "  print('value of i', i)"
      ],
      "metadata": {
        "colab": {
          "base_uri": "https://localhost:8080/"
        },
        "id": "sqIM4GwEtzmu",
        "outputId": "b387a024-b62f-455a-99a2-55a78448c532"
      },
      "execution_count": null,
      "outputs": [
        {
          "output_type": "stream",
          "name": "stdout",
          "text": [
            "value of i 2\n",
            "value of i 3\n",
            "value of i 4\n",
            "value of i 5\n",
            "value of i 6\n",
            "value of i 7\n",
            "value of i 8\n",
            "value of i 9\n"
          ]
        }
      ]
    },
    {
      "cell_type": "code",
      "source": [
        "for i in range(-10,-1):\n",
        "  print('value of i', i)"
      ],
      "metadata": {
        "colab": {
          "base_uri": "https://localhost:8080/"
        },
        "id": "Ohs9byfft3rh",
        "outputId": "5e5f0fba-0be5-46ed-a5b0-6a1266383941"
      },
      "execution_count": null,
      "outputs": [
        {
          "output_type": "stream",
          "name": "stdout",
          "text": [
            "value of i -10\n",
            "value of i -9\n",
            "value of i -8\n",
            "value of i -7\n",
            "value of i -6\n",
            "value of i -5\n",
            "value of i -4\n",
            "value of i -3\n",
            "value of i -2\n"
          ]
        }
      ]
    },
    {
      "cell_type": "code",
      "source": [
        "for i in range(-10,-1,2):\n",
        "  print('value of i', i)"
      ],
      "metadata": {
        "colab": {
          "base_uri": "https://localhost:8080/"
        },
        "id": "DiDh---wt9lY",
        "outputId": "bfdd7657-2ab4-4904-90d1-a57b93483be1"
      },
      "execution_count": null,
      "outputs": [
        {
          "output_type": "stream",
          "name": "stdout",
          "text": [
            "value of i -10\n",
            "value of i -8\n",
            "value of i -6\n",
            "value of i -4\n",
            "value of i -2\n"
          ]
        }
      ]
    },
    {
      "cell_type": "code",
      "source": [
        "for i in range(-1,-10,-2):\n",
        "  print('value of i', i)"
      ],
      "metadata": {
        "colab": {
          "base_uri": "https://localhost:8080/"
        },
        "id": "1rBNHiqKuFR-",
        "outputId": "cc12d481-97cf-4f7d-f3f1-cf0106cb1296"
      },
      "execution_count": null,
      "outputs": [
        {
          "output_type": "stream",
          "name": "stdout",
          "text": [
            "value of i -1\n",
            "value of i -3\n",
            "value of i -5\n",
            "value of i -7\n",
            "value of i -9\n"
          ]
        }
      ]
    },
    {
      "cell_type": "code",
      "source": [
        "for i in range(10): #10 times in row #0,1,2,3,4,5,6,7,8,9\n",
        "  for j in range(10): #10 times in column #0,1,2,3,4,5,6,7,8,9\n",
        "    print('*', end=' ')\n",
        "  print('\\r') #it keeps changing the row # /n gives large space and /r gives small space"
      ],
      "metadata": {
        "colab": {
          "base_uri": "https://localhost:8080/"
        },
        "id": "x0ZtFcHMueiO",
        "outputId": "76aa97de-e8ac-4390-a088-a90816ac4929"
      },
      "execution_count": null,
      "outputs": [
        {
          "output_type": "stream",
          "name": "stdout",
          "text": [
            "* * * * * * * * * * \r\n",
            "* * * * * * * * * * \r\n",
            "* * * * * * * * * * \r\n",
            "* * * * * * * * * * \r\n",
            "* * * * * * * * * * \r\n",
            "* * * * * * * * * * \r\n",
            "* * * * * * * * * * \r\n",
            "* * * * * * * * * * \r\n",
            "* * * * * * * * * * \r\n",
            "* * * * * * * * * * \r\n"
          ]
        }
      ]
    },
    {
      "cell_type": "code",
      "source": [
        "for i in range(10): #10 times in row #0,1,2,3,4,5,6,7,8,9\n",
        "  for j in range(10): #10 times in column #0,1,2,3,4,5,6,7,8,9\n",
        "    print('*', end=' ')\n",
        "  print('\\n')"
      ],
      "metadata": {
        "colab": {
          "base_uri": "https://localhost:8080/"
        },
        "id": "Xd8ajF8AwPCU",
        "outputId": "7d23964f-ef40-463a-a530-d60b0b515632"
      },
      "execution_count": null,
      "outputs": [
        {
          "output_type": "stream",
          "name": "stdout",
          "text": [
            "* * * * * * * * * * \n",
            "\n",
            "* * * * * * * * * * \n",
            "\n",
            "* * * * * * * * * * \n",
            "\n",
            "* * * * * * * * * * \n",
            "\n",
            "* * * * * * * * * * \n",
            "\n",
            "* * * * * * * * * * \n",
            "\n",
            "* * * * * * * * * * \n",
            "\n",
            "* * * * * * * * * * \n",
            "\n",
            "* * * * * * * * * * \n",
            "\n",
            "* * * * * * * * * * \n",
            "\n"
          ]
        }
      ]
    },
    {
      "cell_type": "code",
      "source": [
        "a = 0\n",
        "for i in range(10):\n",
        "  for j in range(10):\n",
        "    print( a,end=' ')\n",
        "    a+=1\n",
        "\n",
        "  print('\\r')"
      ],
      "metadata": {
        "colab": {
          "base_uri": "https://localhost:8080/"
        },
        "id": "Eq8vDMA2wkiz",
        "outputId": "00d58ad6-ef3b-4180-e757-f940a1ca974c"
      },
      "execution_count": null,
      "outputs": [
        {
          "output_type": "stream",
          "name": "stdout",
          "text": [
            "0 1 2 3 4 5 6 7 8 9 \r\n",
            "10 11 12 13 14 15 16 17 18 19 \r\n",
            "20 21 22 23 24 25 26 27 28 29 \r\n",
            "30 31 32 33 34 35 36 37 38 39 \r\n",
            "40 41 42 43 44 45 46 47 48 49 \r\n",
            "50 51 52 53 54 55 56 57 58 59 \r\n",
            "60 61 62 63 64 65 66 67 68 69 \r\n",
            "70 71 72 73 74 75 76 77 78 79 \r\n",
            "80 81 82 83 84 85 86 87 88 89 \r\n",
            "90 91 92 93 94 95 96 97 98 99 \r\n"
          ]
        }
      ]
    },
    {
      "cell_type": "code",
      "source": [
        "a = 0\n",
        "for i in range(10):\n",
        "  for j in range(10):\n",
        "    print( a,end=' ')\n",
        "    a+=1\n",
        "\n",
        "  print('\\n')"
      ],
      "metadata": {
        "colab": {
          "base_uri": "https://localhost:8080/"
        },
        "id": "2Nj5dYALxKCx",
        "outputId": "f9eb2c5a-f85b-4bd1-8ad5-de23d79d6ad3"
      },
      "execution_count": null,
      "outputs": [
        {
          "output_type": "stream",
          "name": "stdout",
          "text": [
            "0 1 2 3 4 5 6 7 8 9 \n",
            "\n",
            "10 11 12 13 14 15 16 17 18 19 \n",
            "\n",
            "20 21 22 23 24 25 26 27 28 29 \n",
            "\n",
            "30 31 32 33 34 35 36 37 38 39 \n",
            "\n",
            "40 41 42 43 44 45 46 47 48 49 \n",
            "\n",
            "50 51 52 53 54 55 56 57 58 59 \n",
            "\n",
            "60 61 62 63 64 65 66 67 68 69 \n",
            "\n",
            "70 71 72 73 74 75 76 77 78 79 \n",
            "\n",
            "80 81 82 83 84 85 86 87 88 89 \n",
            "\n",
            "90 91 92 93 94 95 96 97 98 99 \n",
            "\n"
          ]
        }
      ]
    },
    {
      "cell_type": "code",
      "source": [
        "for i in range(10):\n",
        "  for j in range(10):\n",
        "    print('Hello World', end=' ')\n",
        "  print('\\r')"
      ],
      "metadata": {
        "colab": {
          "base_uri": "https://localhost:8080/"
        },
        "id": "C94JLXczyj6P",
        "outputId": "7b24bf13-f64e-47b2-b5a5-8b0a83631260"
      },
      "execution_count": null,
      "outputs": [
        {
          "output_type": "stream",
          "name": "stdout",
          "text": [
            "Hello World Hello World Hello World Hello World Hello World Hello World Hello World Hello World Hello World Hello World \r\n",
            "Hello World Hello World Hello World Hello World Hello World Hello World Hello World Hello World Hello World Hello World \r\n",
            "Hello World Hello World Hello World Hello World Hello World Hello World Hello World Hello World Hello World Hello World \r\n",
            "Hello World Hello World Hello World Hello World Hello World Hello World Hello World Hello World Hello World Hello World \r\n",
            "Hello World Hello World Hello World Hello World Hello World Hello World Hello World Hello World Hello World Hello World \r\n",
            "Hello World Hello World Hello World Hello World Hello World Hello World Hello World Hello World Hello World Hello World \r\n",
            "Hello World Hello World Hello World Hello World Hello World Hello World Hello World Hello World Hello World Hello World \r\n",
            "Hello World Hello World Hello World Hello World Hello World Hello World Hello World Hello World Hello World Hello World \r\n",
            "Hello World Hello World Hello World Hello World Hello World Hello World Hello World Hello World Hello World Hello World \r\n",
            "Hello World Hello World Hello World Hello World Hello World Hello World Hello World Hello World Hello World Hello World \r\n"
          ]
        }
      ]
    },
    {
      "cell_type": "code",
      "source": [
        "a = 0\n",
        "for i in range(10):\n",
        "  for j in range(10):\n",
        "    a+=1\n",
        "    print( a,end='  ')\n",
        "\n",
        "\n",
        "  print('\\r')"
      ],
      "metadata": {
        "colab": {
          "base_uri": "https://localhost:8080/"
        },
        "id": "yuJh8amrzA7V",
        "outputId": "94ed1656-edfe-4198-e602-c07a134426b9"
      },
      "execution_count": null,
      "outputs": [
        {
          "output_type": "stream",
          "name": "stdout",
          "text": [
            "1  2  3  4  5  6  7  8  9  10  \r\n",
            "11  12  13  14  15  16  17  18  19  20  \r\n",
            "21  22  23  24  25  26  27  28  29  30  \r\n",
            "31  32  33  34  35  36  37  38  39  40  \r\n",
            "41  42  43  44  45  46  47  48  49  50  \r\n",
            "51  52  53  54  55  56  57  58  59  60  \r\n",
            "61  62  63  64  65  66  67  68  69  70  \r\n",
            "71  72  73  74  75  76  77  78  79  80  \r\n",
            "81  82  83  84  85  86  87  88  89  90  \r\n",
            "91  92  93  94  95  96  97  98  99  100  \r\n"
          ]
        }
      ]
    },
    {
      "cell_type": "code",
      "source": [
        " for i in range(10): #draw ten row\n",
        "  for j in range(0,10-i): #it is for spaces\n",
        "    print(' ', end='')\n",
        "  for k in range(0,i+1): #it is for astrisk and value of i is '0'\n",
        "    print('*', end =' ')\n",
        "  print('\\r') #this statement to nchange the line"
      ],
      "metadata": {
        "colab": {
          "base_uri": "https://localhost:8080/"
        },
        "id": "C4UYOiIczTLv",
        "outputId": "ae3cd3d9-9a93-4d3a-e039-cefa37b56046"
      },
      "execution_count": null,
      "outputs": [
        {
          "output_type": "stream",
          "name": "stdout",
          "text": [
            "          * \r\n",
            "         * * \r\n",
            "        * * * \r\n",
            "       * * * * \r\n",
            "      * * * * * \r\n",
            "     * * * * * * \r\n",
            "    * * * * * * * \r\n",
            "   * * * * * * * * \r\n",
            "  * * * * * * * * * \r\n",
            " * * * * * * * * * * \r\n"
          ]
        }
      ]
    },
    {
      "cell_type": "code",
      "source": [
        "for i in range(10):\n",
        "  for j in range(0,10+i):\n",
        "    print(' ', end='')\n",
        "  for k in range(0,i+1):\n",
        "    print('*', end =' ')\n",
        "  print('\\r')"
      ],
      "metadata": {
        "colab": {
          "base_uri": "https://localhost:8080/"
        },
        "id": "7i6lYl4V0Be6",
        "outputId": "b580dd41-df76-4b61-960e-de171977b337"
      },
      "execution_count": null,
      "outputs": [
        {
          "output_type": "stream",
          "name": "stdout",
          "text": [
            "          * \r\n",
            "           * * \r\n",
            "            * * * \r\n",
            "             * * * * \r\n",
            "              * * * * * \r\n",
            "               * * * * * * \r\n",
            "                * * * * * * * \r\n",
            "                 * * * * * * * * \r\n",
            "                  * * * * * * * * * \r\n",
            "                   * * * * * * * * * * \r\n"
          ]
        }
      ]
    },
    {
      "cell_type": "code",
      "source": [
        "for i in range(10):\n",
        "  for j in range(0,i):\n",
        "    print(' ', end='')\n",
        "  for k in range(0,10-i):\n",
        "    print('*', end =' ')\n",
        "  print('\\r')"
      ],
      "metadata": {
        "colab": {
          "base_uri": "https://localhost:8080/"
        },
        "id": "KKpTPIJ90cqf",
        "outputId": "d583a182-61b4-42cf-bd33-2fd7b47686c3"
      },
      "execution_count": null,
      "outputs": [
        {
          "output_type": "stream",
          "name": "stdout",
          "text": [
            "* * * * * * * * * * \r\n",
            " * * * * * * * * * \r\n",
            "  * * * * * * * * \r\n",
            "   * * * * * * * \r\n",
            "    * * * * * * \r\n",
            "     * * * * * \r\n",
            "      * * * * \r\n",
            "       * * * \r\n",
            "        * * \r\n",
            "         * \r\n"
          ]
        }
      ]
    },
    {
      "cell_type": "code",
      "source": [
        "for i in range(10):\n",
        "  for j in range(0,i):\n",
        "    print(' ', end='')\n",
        "  for k in range(0,10-i):\n",
        "    print('*', end =' ')\n",
        "  print('\\r')\n",
        "for i in range(9):\n",
        "  for j in range(0,10-i-2):\n",
        "    print(' ', end='')\n",
        "  for k in range(0,i+2):\n",
        "    print('*', end =' ')\n",
        "  print('\\r')"
      ],
      "metadata": {
        "colab": {
          "base_uri": "https://localhost:8080/"
        },
        "id": "5177xIF_26Di",
        "outputId": "102905e0-e1bc-4fad-ddc1-6a179a5f1b3d"
      },
      "execution_count": null,
      "outputs": [
        {
          "output_type": "stream",
          "name": "stdout",
          "text": [
            "* * * * * * * * * * \r\n",
            " * * * * * * * * * \r\n",
            "  * * * * * * * * \r\n",
            "   * * * * * * * \r\n",
            "    * * * * * * \r\n",
            "     * * * * * \r\n",
            "      * * * * \r\n",
            "       * * * \r\n",
            "        * * \r\n",
            "         * \r\n",
            "        * * \r\n",
            "       * * * \r\n",
            "      * * * * \r\n",
            "     * * * * * \r\n",
            "    * * * * * * \r\n",
            "   * * * * * * * \r\n",
            "  * * * * * * * * \r\n",
            " * * * * * * * * * \r\n",
            "* * * * * * * * * * \r\n"
          ]
        }
      ]
    },
    {
      "cell_type": "code",
      "source": [
        "for i in range(12):\n",
        "  for j in range(0,12-i):\n",
        "    print(' ', end = '')\n",
        "  for k in range(0,i+1):\n",
        "    print('*',end =\" \")\n",
        "  print('\\r')"
      ],
      "metadata": {
        "colab": {
          "base_uri": "https://localhost:8080/"
        },
        "id": "BC_lrvwU2_V4",
        "outputId": "21e795ef-c74c-489a-a412-6a5651e02dc1"
      },
      "execution_count": null,
      "outputs": [
        {
          "output_type": "stream",
          "name": "stdout",
          "text": [
            "            * \r\n",
            "           * * \r\n",
            "          * * * \r\n",
            "         * * * * \r\n",
            "        * * * * * \r\n",
            "       * * * * * * \r\n",
            "      * * * * * * * \r\n",
            "     * * * * * * * * \r\n",
            "    * * * * * * * * * \r\n",
            "   * * * * * * * * * * \r\n",
            "  * * * * * * * * * * * \r\n",
            " * * * * * * * * * * * * \r\n"
          ]
        }
      ]
    },
    {
      "cell_type": "code",
      "source": [
        "for i in range(12):\n",
        "  for j in range(0,12-i):\n",
        "    print(' ', end = '')\n",
        "  for k in range(1,i+1):\n",
        "    print('*',end =\" \")\n",
        "  print('\\r')"
      ],
      "metadata": {
        "colab": {
          "base_uri": "https://localhost:8080/"
        },
        "id": "zdvlEhzO72bg",
        "outputId": "ff4c1cc2-1f9b-4592-ac40-9e033839f9f2"
      },
      "execution_count": null,
      "outputs": [
        {
          "output_type": "stream",
          "name": "stdout",
          "text": [
            "            \r\n",
            "           * \r\n",
            "          * * \r\n",
            "         * * * \r\n",
            "        * * * * \r\n",
            "       * * * * * \r\n",
            "      * * * * * * \r\n",
            "     * * * * * * * \r\n",
            "    * * * * * * * * \r\n",
            "   * * * * * * * * * \r\n",
            "  * * * * * * * * * * \r\n",
            " * * * * * * * * * * * \r\n"
          ]
        }
      ]
    },
    {
      "cell_type": "code",
      "source": [
        "\n",
        "for i in range(10):\n",
        "  for j in range(0,10-i):\n",
        "    print(' ', end='')\n",
        "\n",
        "  for k in range(2*i+1):\n",
        "    if k==0 or k==2*i or i==9:\n",
        "      print('*',end='')\n",
        "    else:\n",
        "      print(' ', end='')\n",
        "  print()\n",
        "\n",
        "\n"
      ],
      "metadata": {
        "colab": {
          "base_uri": "https://localhost:8080/"
        },
        "id": "0PSpXDFZ_tT2",
        "outputId": "13524e27-c2db-4ad6-de0d-33c4f7ac019c"
      },
      "execution_count": 88,
      "outputs": [
        {
          "output_type": "stream",
          "name": "stdout",
          "text": [
            "          *\n",
            "         * *\n",
            "        *   *\n",
            "       *     *\n",
            "      *       *\n",
            "     *         *\n",
            "    *           *\n",
            "   *             *\n",
            "  *               *\n",
            " *******************\n"
          ]
        }
      ]
    },
    {
      "cell_type": "code",
      "source": [
        "\n",
        "\n",
        "\n",
        "for i in range(10):\n",
        "    for j in range(0,10 - i ):\n",
        "        print('',end = ' ')\n",
        "    for k in range(0, (i+1)):\n",
        "        print(chr(65+k), end=' ')\n",
        "    print('\\n')\n",
        "\n"
      ],
      "metadata": {
        "colab": {
          "base_uri": "https://localhost:8080/"
        },
        "id": "Yz-nYdEqnejU",
        "outputId": "4a0e6bfa-30d6-4bf7-811e-239c0d03a388"
      },
      "execution_count": 84,
      "outputs": [
        {
          "output_type": "stream",
          "name": "stdout",
          "text": [
            "          A \n",
            "\n",
            "         A B \n",
            "\n",
            "        A B C \n",
            "\n",
            "       A B C D \n",
            "\n",
            "      A B C D E \n",
            "\n",
            "     A B C D E F \n",
            "\n",
            "    A B C D E F G \n",
            "\n",
            "   A B C D E F G H \n",
            "\n",
            "  A B C D E F G H I \n",
            "\n",
            " A B C D E F G H I J \n",
            "\n"
          ]
        }
      ]
    },
    {
      "cell_type": "code",
      "source": [
        "for i in range(10):\n",
        "\n",
        "  for j in range(0,10-i):\n",
        "    print(' ', end='')\n",
        "\n",
        "  for j in range(2*i+1):\n",
        "\n",
        "\n",
        "    if j==0 or j==2*i or i==9:\n",
        "\n",
        "      print('*',end='')\n",
        "    else:\n",
        "      print(' ', end='')\n",
        "\n",
        "\n",
        "  print()"
      ],
      "metadata": {
        "colab": {
          "base_uri": "https://localhost:8080/"
        },
        "id": "W-_Em5GhodNn",
        "outputId": "431fdf05-78d1-4dc2-e8ed-470f06b07944"
      },
      "execution_count": 106,
      "outputs": [
        {
          "output_type": "stream",
          "name": "stdout",
          "text": [
            "          *\n",
            "         * *\n",
            "        *   *\n",
            "       *     *\n",
            "      *       *\n",
            "     *         *\n",
            "    *           *\n",
            "   *             *\n",
            "  *               *\n",
            " *******************\n"
          ]
        }
      ]
    },
    {
      "cell_type": "code",
      "source": [
        "k=ord('A')\n",
        "\n",
        "for i in range(0, 10):\n",
        "\n",
        "  for j in range(0, 10-i):\n",
        "\n",
        "    print(' ', end='')\n",
        "\n",
        "\n",
        "\n",
        "  for l in range(0, i+1):\n",
        "\n",
        "    if k <=90:\n",
        "\n",
        "      print(chr(k), end='  ')\n",
        "\n",
        "    k+=1\n",
        "\n",
        "  print('\\r')"
      ],
      "metadata": {
        "colab": {
          "base_uri": "https://localhost:8080/"
        },
        "id": "7fGOa1Xlp0kk",
        "outputId": "39eefec5-aecb-467c-8e24-d20008bec38f"
      },
      "execution_count": 103,
      "outputs": [
        {
          "output_type": "stream",
          "name": "stdout",
          "text": [
            "          A  \r\n",
            "         B  C  \r\n",
            "        D  E  F  \r\n",
            "       G  H  I  J  \r\n",
            "      K  L  M  N  O  \r\n",
            "     P  Q  R  S  T  U  \r\n",
            "    V  W  X  Y  Z  \r\n",
            "   \r\n",
            "  \r\n",
            " \r\n"
          ]
        }
      ]
    },
    {
      "cell_type": "code",
      "source": [
        "k=ord('A')\n",
        "print(k)"
      ],
      "metadata": {
        "colab": {
          "base_uri": "https://localhost:8080/"
        },
        "id": "_5Lj2LpB0C5m",
        "outputId": "2ca6ed3e-3742-46fb-bdb4-12347465099a"
      },
      "execution_count": 35,
      "outputs": [
        {
          "output_type": "stream",
          "name": "stdout",
          "text": [
            "65\n"
          ]
        }
      ]
    },
    {
      "cell_type": "code",
      "source": [
        "for i in range(0, 10):\n",
        "\n",
        "  for j in range(0, 10-i):\n",
        "\n",
        "    print(' ', end='')\n",
        "  for l in range(0,i+1):\n",
        "\n",
        "    print(chr(65+l), end=' ')\n",
        "  print('\\n')"
      ],
      "metadata": {
        "colab": {
          "base_uri": "https://localhost:8080/"
        },
        "id": "AEWhSa7q2r7L",
        "outputId": "90203b07-c2b3-4d78-e470-4662cc81c959"
      },
      "execution_count": 39,
      "outputs": [
        {
          "output_type": "stream",
          "name": "stdout",
          "text": [
            "          A \n",
            "\n",
            "         A B \n",
            "\n",
            "        A B C \n",
            "\n",
            "       A B C D \n",
            "\n",
            "      A B C D E \n",
            "\n",
            "     A B C D E F \n",
            "\n",
            "    A B C D E F G \n",
            "\n",
            "   A B C D E F G H \n",
            "\n",
            "  A B C D E F G H I \n",
            "\n",
            " A B C D E F G H I J \n",
            "\n"
          ]
        }
      ]
    },
    {
      "cell_type": "code",
      "source": [
        "\n",
        "\n",
        "for i in range(1, 11):\n",
        "  for j in range(1, 11-i):\n",
        "   print(' ', end='')\n",
        "\n",
        "  for k in range(1, i+1):\n",
        "    print(k, end=' ')\n",
        "\n",
        "  print('\\r')\n",
        "\n",
        "\n",
        "\n"
      ],
      "metadata": {
        "colab": {
          "base_uri": "https://localhost:8080/"
        },
        "id": "-HqvqpGa1XrU",
        "outputId": "bc4df3de-8e87-46f5-8f81-6c2c7df6267d"
      },
      "execution_count": 54,
      "outputs": [
        {
          "output_type": "stream",
          "name": "stdout",
          "text": [
            "         1 \r\n",
            "        1 2 \r\n",
            "       1 2 3 \r\n",
            "      1 2 3 4 \r\n",
            "     1 2 3 4 5 \r\n",
            "    1 2 3 4 5 6 \r\n",
            "   1 2 3 4 5 6 7 \r\n",
            "  1 2 3 4 5 6 7 8 \r\n",
            " 1 2 3 4 5 6 7 8 9 \r\n",
            "1 2 3 4 5 6 7 8 9 10 \r\n"
          ]
        }
      ]
    },
    {
      "cell_type": "code",
      "source": [
        "for i in range(1, 11):\n",
        "  for j in range(1, i+1):\n",
        "    print(' ', end='')\n",
        "\n",
        "  for k in range(1, 12-i):\n",
        "    print(k, end=' ')\n",
        "\n",
        "  print('\\r')"
      ],
      "metadata": {
        "colab": {
          "base_uri": "https://localhost:8080/"
        },
        "id": "W0n3c32E4qUo",
        "outputId": "eed0b529-85e4-4934-8091-844609c8b5b7"
      },
      "execution_count": 60,
      "outputs": [
        {
          "output_type": "stream",
          "name": "stdout",
          "text": [
            " 1 2 3 4 5 6 7 8 9 10 \r\n",
            "  1 2 3 4 5 6 7 8 9 \r\n",
            "   1 2 3 4 5 6 7 8 \r\n",
            "    1 2 3 4 5 6 7 \r\n",
            "     1 2 3 4 5 6 \r\n",
            "      1 2 3 4 5 \r\n",
            "       1 2 3 4 \r\n",
            "        1 2 3 \r\n",
            "         1 2 \r\n",
            "          1 \r\n"
          ]
        }
      ]
    },
    {
      "cell_type": "code",
      "source": [
        "for i in range(14):\n",
        "  for j in range(0,14-i):\n",
        "    print('-', end = '')\n",
        "  for k in range(0,i+1):\n",
        "    print('#',end =\" \")\n",
        "  print('\\r')"
      ],
      "metadata": {
        "colab": {
          "base_uri": "https://localhost:8080/"
        },
        "id": "IyBqeRYY4yO4",
        "outputId": "0d5f887b-438f-4032-9f43-ab8bcceac721"
      },
      "execution_count": 100,
      "outputs": [
        {
          "output_type": "stream",
          "name": "stdout",
          "text": [
            "--------------# \r\n",
            "-------------# # \r\n",
            "------------# # # \r\n",
            "-----------# # # # \r\n",
            "----------# # # # # \r\n",
            "---------# # # # # # \r\n",
            "--------# # # # # # # \r\n",
            "-------# # # # # # # # \r\n",
            "------# # # # # # # # # \r\n",
            "-----# # # # # # # # # # \r\n",
            "----# # # # # # # # # # # \r\n",
            "---# # # # # # # # # # # # \r\n",
            "--# # # # # # # # # # # # # \r\n",
            "-# # # # # # # # # # # # # # \r\n"
          ]
        }
      ]
    },
    {
      "cell_type": "code",
      "source": [
        "for i in range(14):\n",
        "  for j in range(0,i+1):\n",
        "    print('-', end = '')\n",
        "  for k in range(0,14-i):\n",
        "    print('#',end =\" \")\n",
        "  print('\\r')"
      ],
      "metadata": {
        "colab": {
          "base_uri": "https://localhost:8080/"
        },
        "id": "52pWvyQI2U92",
        "outputId": "426a7127-abcc-4d97-c473-b8986a53d8fb"
      },
      "execution_count": 99,
      "outputs": [
        {
          "output_type": "stream",
          "name": "stdout",
          "text": [
            "-# # # # # # # # # # # # # # \r\n",
            "--# # # # # # # # # # # # # \r\n",
            "---# # # # # # # # # # # # \r\n",
            "----# # # # # # # # # # # \r\n",
            "-----# # # # # # # # # # \r\n",
            "------# # # # # # # # # \r\n",
            "-------# # # # # # # # \r\n",
            "--------# # # # # # # \r\n",
            "---------# # # # # # \r\n",
            "----------# # # # # \r\n",
            "-----------# # # # \r\n",
            "------------# # # \r\n",
            "-------------# # \r\n",
            "--------------# \r\n"
          ]
        }
      ]
    },
    {
      "cell_type": "code",
      "source": [
        "for i in range(10):\n",
        "  for j in range(0,i):\n",
        "    print(' ', end='')\n",
        "  for k in range(0,10-i):\n",
        "    if j==0 or j==2*i or i==9:\n",
        "      print('*', end =' ')\n",
        "    else:\n",
        "      print(' ', end='')\n",
        "\n",
        "for i in range(9):\n",
        "  for j in range(0,10-i-2):\n",
        "    print(' ', end='')\n",
        "  for k in range(0,i+2):\n",
        "    print('*', end =' ')\n",
        "  print('\\r')"
      ],
      "metadata": {
        "colab": {
          "base_uri": "https://localhost:8080/"
        },
        "id": "uxRb7VNM2x0c",
        "outputId": "8454ea9b-6856-48a3-b42a-83fb2ac19f4c"
      },
      "execution_count": 108,
      "outputs": [
        {
          "output_type": "stream",
          "name": "stdout",
          "text": [
            "* * * * * * * * * *  * * * * * * * * *                                                                                *         * * \r\n",
            "       * * * \r\n",
            "      * * * * \r\n",
            "     * * * * * \r\n",
            "    * * * * * * \r\n",
            "   * * * * * * * \r\n",
            "  * * * * * * * * \r\n",
            " * * * * * * * * * \r\n",
            "* * * * * * * * * * \r\n"
          ]
        }
      ]
    },
    {
      "cell_type": "markdown",
      "source": [
        "#fibonacci series"
      ],
      "metadata": {
        "id": "njxSojVe48-0"
      }
    },
    {
      "cell_type": "code",
      "source": [
        "#It performs addition of last two numbers\n",
        "#It always take two values and assign it to the third variable.\n",
        "\n",
        "#0,1,1,2,3,5,8,13,21,34...\n",
        "\n",
        "a = 0\n",
        "b = 1\n",
        "\n",
        "c = a + b\n",
        "print(c)"
      ],
      "metadata": {
        "colab": {
          "base_uri": "https://localhost:8080/"
        },
        "id": "JFFzQrZV4pup",
        "outputId": "814a2908-1029-4615-b744-fd9a88e6cd58"
      },
      "execution_count": 110,
      "outputs": [
        {
          "output_type": "stream",
          "name": "stdout",
          "text": [
            "1\n"
          ]
        }
      ]
    },
    {
      "cell_type": "code",
      "source": [
        "a = 1\n",
        "b = 1\n",
        "\n",
        "c = a+b\n",
        "print(c)"
      ],
      "metadata": {
        "colab": {
          "base_uri": "https://localhost:8080/"
        },
        "id": "2pYhdBqr5fce",
        "outputId": "6efef4e2-063d-41ca-84ba-2980a7ddc7eb"
      },
      "execution_count": 111,
      "outputs": [
        {
          "output_type": "stream",
          "name": "stdout",
          "text": [
            "2\n"
          ]
        }
      ]
    },
    {
      "cell_type": "code",
      "source": [
        "a=1\n",
        "b=2\n",
        "\n",
        "c = 1+2\n",
        "print(c)"
      ],
      "metadata": {
        "colab": {
          "base_uri": "https://localhost:8080/"
        },
        "id": "dw2HgHDe517-",
        "outputId": "69a62ad3-336d-435e-90ee-1ce38a67e08e"
      },
      "execution_count": 112,
      "outputs": [
        {
          "output_type": "stream",
          "name": "stdout",
          "text": [
            "3\n"
          ]
        }
      ]
    },
    {
      "cell_type": "code",
      "source": [
        "\n",
        "\n",
        "\n",
        "a = 0\n",
        "b = 1\n",
        "print(a, b, end=' ')\n",
        "for i in range(30):\n",
        "  c = a + b\n",
        "  print(c, end=' ')\n",
        "  a = b\n",
        "  b = c"
      ],
      "metadata": {
        "colab": {
          "base_uri": "https://localhost:8080/"
        },
        "id": "y5DMxQNc59gO",
        "outputId": "b7c0bec1-12d2-4f54-ed9f-3dcf196dce5a"
      },
      "execution_count": 23,
      "outputs": [
        {
          "output_type": "stream",
          "name": "stdout",
          "text": [
            "0 1 1 2 3 5 8 13 21 34 55 89 144 233 377 610 987 1597 2584 4181 6765 10946 17711 28657 46368 75025 121393 196418 317811 514229 832040 1346269 "
          ]
        }
      ]
    },
    {
      "cell_type": "code",
      "source": [
        "stu_record ={'Sameer':89, 'Sabina': 87, 'Indeer': 37, 'Keshav':57, 'kistpo':31}\n",
        "\n",
        "for keys,values in stu_record.items():\n",
        "\n",
        "  print(keys, values)"
      ],
      "metadata": {
        "colab": {
          "base_uri": "https://localhost:8080/"
        },
        "id": "70iClUPX6VGu",
        "outputId": "ea7e65c1-42c3-4a4e-b428-dee16810c5b6"
      },
      "execution_count": 4,
      "outputs": [
        {
          "output_type": "stream",
          "name": "stdout",
          "text": [
            "Sameer 89\n",
            "Sabina 87\n",
            "Indeer 37\n",
            "Keshav 57\n",
            "kistpo 31\n"
          ]
        }
      ]
    },
    {
      "cell_type": "code",
      "source": [
        "stu_record ={'Sameer':92, 'Sabina': 87, 'Indeer': 37, 'Keshav':57, 'kistpo':31}\n",
        "\n",
        "for keys,values in stu_record.items():\n",
        "\n",
        "\n",
        "  if values > 90:\n",
        "    print(keys, values, 'Distinction!')\n",
        "  elif values> 80:\n",
        "    print(keys, values, 'Very good!')\n",
        "  elif values > 75:\n",
        "    print(keys, values, 'Good!')\n",
        "  elif values > 50:\n",
        "    print(keys, values, \"You've passed!\")\n",
        "  else:\n",
        "    print(keys, values, \"You've failed!\")\n",
        "\n",
        "\n",
        ""
      ],
      "metadata": {
        "colab": {
          "base_uri": "https://localhost:8080/"
        },
        "id": "fZxrYtijC2gm",
        "outputId": "c19b26e3-23cc-4942-e0b9-343e632f8b53"
      },
      "execution_count": 21,
      "outputs": [
        {
          "output_type": "stream",
          "name": "stdout",
          "text": [
            "Sameer 92 Distinction!\n",
            "Sabina 87 Very good!\n",
            "Indeer 37 You've failed!\n",
            "Keshav 57 You've passed!\n",
            "kistpo 31 You've failed!\n"
          ]
        }
      ]
    },
    {
      "cell_type": "code",
      "source": [],
      "metadata": {
        "id": "Pm1dewsxHC5_"
      },
      "execution_count": null,
      "outputs": []
    }
  ]
}