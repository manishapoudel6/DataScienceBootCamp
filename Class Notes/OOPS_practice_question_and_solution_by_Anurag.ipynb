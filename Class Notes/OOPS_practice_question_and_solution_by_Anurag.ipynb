{
  "nbformat": 4,
  "nbformat_minor": 0,
  "metadata": {
    "colab": {
      "provenance": []
    },
    "kernelspec": {
      "name": "python3",
      "display_name": "Python 3"
    },
    "language_info": {
      "name": "python"
    }
  },
  "cells": [
    {
      "cell_type": "markdown",
      "source": [
        "OOP Exercise 1: Create a Class with instance attributes.\n",
        "Write a Python program to create a Vehicle class with max_speed and mileage instance attributes."
      ],
      "metadata": {
        "id": "R8oqLpT9io0c"
      }
    },
    {
      "cell_type": "code",
      "execution_count": null,
      "metadata": {
        "colab": {
          "base_uri": "https://localhost:8080/"
        },
        "id": "J4rAPzT6icj4",
        "outputId": "b83292cf-2ee3-4124-f8dc-8f06f73119af"
      },
      "outputs": [
        {
          "output_type": "stream",
          "name": "stdout",
          "text": [
            "240 18\n"
          ]
        }
      ],
      "source": [
        "class Vehicle:\n",
        "  def __init__(self, max_speed, mileage):\n",
        "    self.max_speed = max_speed\n",
        "    self.mileage = mileage\n",
        "\n",
        "model = Vehicle(240, 18)\n",
        "print(model.max_speed, model.mileage)"
      ]
    },
    {
      "cell_type": "markdown",
      "source": [
        "OOP Exercise 2: Create a Vehicle class without any variables and methods"
      ],
      "metadata": {
        "id": "tVjXXjqEjXeK"
      }
    },
    {
      "cell_type": "code",
      "source": [
        "class Vehicle:\n",
        "    pass"
      ],
      "metadata": {
        "id": "EKMmn1s7jCPz"
      },
      "execution_count": null,
      "outputs": []
    },
    {
      "cell_type": "markdown",
      "source": [
        "OOP Exercise 3: Create a child class Bus that will inherit all of the variables and methods of the Vehicle class"
      ],
      "metadata": {
        "id": "YlqNww-njfk4"
      }
    },
    {
      "cell_type": "code",
      "source": [
        "class Vehicle:\n",
        "  def __init__(self, name, max_speed, mileage):\n",
        "    self.name = name\n",
        "    self.max_speed = max_speed\n",
        "    self.mileage = mileage\n",
        "\n",
        "\n",
        "class Bus(Vehicle):\n",
        "  def __init__(self,name,max_speed,mileage,color):\n",
        "    super().__init__(name, max_speed, mileage)\n",
        "    self.color = color\n",
        "\n",
        "  def vehicle_details(self):\n",
        "    print('These are the vehicle details:-',self.name,self.max_speed, self.mileage, self.color )\n",
        "\n",
        "\n",
        "\n",
        "school_bus = Bus(\"School Volvo\", 180, 12, 'Yellow')\n",
        "school_bus.vehicle_details()"
      ],
      "metadata": {
        "colab": {
          "base_uri": "https://localhost:8080/"
        },
        "id": "XeZOF9kAjcfx",
        "outputId": "8b82fe4a-a975-4998-e0fc-4984d1cfd2f5"
      },
      "execution_count": null,
      "outputs": [
        {
          "output_type": "stream",
          "name": "stdout",
          "text": [
            "These are the vehicle details:- School Volvo 180 12 Yellow\n"
          ]
        }
      ]
    },
    {
      "cell_type": "markdown",
      "source": [
        "OOP Exercise 4: Class Inheritance..\n",
        "      Create a Bus class that inherits from the Vehicle class. Give the capacity argument of Bus.seating_capacity() a default value of 50."
      ],
      "metadata": {
        "id": "3OB4sPDqm9GN"
      }
    },
    {
      "cell_type": "code",
      "source": [
        "class Vehicle:\n",
        "  def __init__(self, name, max_speed, mileage):\n",
        "    self.name = name\n",
        "    self.max_speed = max_speed\n",
        "    self.mileage = mileage\n",
        "\n",
        "  def seating_capacity(self, capacity):\n",
        "    return f\"The seating capacity of a {self.name} is {capacity} passengers\""
      ],
      "metadata": {
        "id": "k5XNYx6Xjnde"
      },
      "execution_count": null,
      "outputs": []
    },
    {
      "cell_type": "code",
      "source": [
        "obj = Vehicle('Toyota', 180, 32)"
      ],
      "metadata": {
        "id": "Y0zHEbrKnKPJ"
      },
      "execution_count": null,
      "outputs": []
    },
    {
      "cell_type": "code",
      "source": [
        "obj.seating_capacity(50)"
      ],
      "metadata": {
        "colab": {
          "base_uri": "https://localhost:8080/",
          "height": 58
        },
        "id": "Cz5aCSarnbrh",
        "outputId": "3964f022-b111-4780-b1c6-b5dead7b73fe"
      },
      "execution_count": null,
      "outputs": [
        {
          "output_type": "execute_result",
          "data": {
            "text/plain": [
              "'The seating capacity of a Toyota is 50 passengers'"
            ],
            "application/vnd.google.colaboratory.intrinsic+json": {
              "type": "string"
            }
          },
          "metadata": {},
          "execution_count": 20
        }
      ]
    },
    {
      "cell_type": "code",
      "source": [
        "class Vehicle:\n",
        "  def __init__(self, name, max_speed, mileage):\n",
        "    self.name = name\n",
        "    self.max_speed = max_speed\n",
        "    self.mileage = mileage\n",
        "\n",
        "  def seating_capacity(self, capacity):\n",
        "    return f\"The seating capacity of a {self.name} is {capacity} passengers\"\n",
        "\n",
        "class Bus(Vehicle):\n",
        "    # assign default value to capacity\n",
        "  def seating_capacity(self, capacity=50):\n",
        "    return super().seating_capacity(capacity=50)\n",
        "\n",
        "School_bus = Bus(\"School Volvo\", 180, 12)\n",
        "print(School_bus.seating_capacity())\n"
      ],
      "metadata": {
        "colab": {
          "base_uri": "https://localhost:8080/"
        },
        "id": "JKYKI7yGn1Jw",
        "outputId": "785bec9c-848b-452d-e101-9e6e6fa57ec5"
      },
      "execution_count": null,
      "outputs": [
        {
          "output_type": "stream",
          "name": "stdout",
          "text": [
            "The seating capacity of a School Volvo is 50 passengers\n"
          ]
        }
      ]
    },
    {
      "cell_type": "markdown",
      "source": [
        "OOP Exercise 5: Define a property that must have the same value for every class instance (object)..Define a class attribute”color” with a default value white. I.e., Every Vehicle should be white.\n",
        "\n",
        "\n",
        "\n"
      ],
      "metadata": {
        "id": "movzGnrpoV4T"
      }
    },
    {
      "cell_type": "code",
      "source": [
        "class Vehicle:\n",
        "  color = \"White\"\n",
        "\n",
        "  def __init__(self, name, max_speed, mileage):\n",
        "    self.name = name\n",
        "    self.max_speed = max_speed\n",
        "    self.mileage = mileage\n",
        "\n",
        "\n",
        "class Bus(Vehicle):\n",
        "    pass\n",
        "\n",
        "class Car(Vehicle):\n",
        "    pass\n",
        "\n",
        "School_bus = Bus(\"School Volvo\", 180, 12)\n",
        "print(School_bus.color, School_bus.name, \"Speed:\", School_bus.max_speed, \"Mileage:\", School_bus.mileage)\n",
        "\n",
        "car = Car(\"Audi Q5\", 240, 18)\n",
        "print(car.color, car.name, \"Speed:\", car.max_speed, \"Mileage:\", car.mileage)"
      ],
      "metadata": {
        "colab": {
          "base_uri": "https://localhost:8080/"
        },
        "id": "0BvHFfQznfTJ",
        "outputId": "a91337f6-5c65-4789-8344-1e6c6d7d9400"
      },
      "execution_count": null,
      "outputs": [
        {
          "output_type": "stream",
          "name": "stdout",
          "text": [
            "White School Volvo Speed: 180 Mileage: 12\n",
            "White Audi Q5 Speed: 240 Mileage: 18\n"
          ]
        }
      ]
    },
    {
      "cell_type": "markdown",
      "source": [
        "OOP Exercise 6: Class Inheritance///Create a Bus child class that inherits from the Vehicle class. The default fare charge of any vehicle is seating capacity * 100. If Vehicle is Bus instance, we need to add an extra 10% on full fare as a maintenance charge. So total fare for bus instance will become the final amount = total fare + 10% of the total fare.\n",
        "\n",
        "\n",
        "\n"
      ],
      "metadata": {
        "id": "YzA-mSdBoqJW"
      }
    },
    {
      "cell_type": "code",
      "source": [
        "class Vehicle:\n",
        "  def __init__(self, name, mileage, capacity):\n",
        "    self.name = name\n",
        "    self.mileage = mileage\n",
        "    self.capacity = capacity\n",
        "\n",
        "  def fare(self):\n",
        "    return self.capacity * 100\n",
        "\n",
        "class Bus(Vehicle):\n",
        "  def fare(self):\n",
        "    amount = super().fare()\n",
        "    amount += amount * 10 / 100\n",
        "    return amount\n",
        "\n",
        "School_bus = Bus(\"School Volvo\", 12, 50)\n",
        "print(\"Total Bus fare is:\", School_bus.fare())\n"
      ],
      "metadata": {
        "colab": {
          "base_uri": "https://localhost:8080/"
        },
        "id": "UmwcVHw-olw1",
        "outputId": "b1a35dbb-dc42-4cbb-8716-dd9d6879d078"
      },
      "execution_count": null,
      "outputs": [
        {
          "output_type": "stream",
          "name": "stdout",
          "text": [
            "Total Bus fare is: 5500.0\n"
          ]
        }
      ]
    },
    {
      "cell_type": "markdown",
      "source": [
        "OOP Exercise 7: Check type of an object\n",
        "\n",
        "Write a program to determine which class a given Bus object belongs to.\n",
        "\n"
      ],
      "metadata": {
        "id": "a9dnBDHYpQZi"
      }
    },
    {
      "cell_type": "code",
      "source": [
        "class Vehicle:\n",
        "  def __init__(self, name, mileage, capacity):\n",
        "    self.name = name\n",
        "    self.mileage = mileage\n",
        "    self.capacity = capacity\n",
        "\n",
        "class Bus(Vehicle):\n",
        "  pass\n",
        "\n",
        "School_bus = Bus(\"School Volvo\", 12, 50)\n",
        "\n",
        "# Python's built-in type()\n",
        "print(type(School_bus))"
      ],
      "metadata": {
        "colab": {
          "base_uri": "https://localhost:8080/"
        },
        "id": "gvWgEt6LpM7i",
        "outputId": "7a47ec2e-2411-4171-9ae4-76302721b3cd"
      },
      "execution_count": null,
      "outputs": [
        {
          "output_type": "stream",
          "name": "stdout",
          "text": [
            "<class '__main__.Bus'>\n"
          ]
        }
      ]
    },
    {
      "cell_type": "markdown",
      "source": [
        "OOP Exercise 8: Determine if School_bus is also an instance of the Vehicle class"
      ],
      "metadata": {
        "id": "nLhZg7R9pdV2"
      }
    },
    {
      "cell_type": "code",
      "source": [
        "class Vehicle:\n",
        "  def __init__(self, name, mileage, capacity):\n",
        "    self.name = name\n",
        "    self.mileage = mileage\n",
        "    self.capacity = capacity\n",
        "\n",
        "class Bus(Vehicle):\n",
        "  pass\n",
        "\n",
        "School_bus = Bus(\"School Volvo\", 12, 50)\n",
        "\n",
        "# Python's built-in isinstance() function\n",
        "print(isinstance(School_bus, Vehicle))"
      ],
      "metadata": {
        "colab": {
          "base_uri": "https://localhost:8080/"
        },
        "id": "0cQ-MwfmpXjr",
        "outputId": "d5f867ec-0fde-4ed3-ef0a-049857361a9f"
      },
      "execution_count": null,
      "outputs": [
        {
          "output_type": "stream",
          "name": "stdout",
          "text": [
            "True\n"
          ]
        }
      ]
    },
    {
      "cell_type": "markdown",
      "source": [
        "Write a Python program to create a class representing a Circle. Include methods to calculate its area and perimeter."
      ],
      "metadata": {
        "id": "aGvLimtup8wh"
      }
    },
    {
      "cell_type": "code",
      "source": [
        "import math\n",
        "class Circle:\n",
        "  def __init__(self, radius):\n",
        "    self.radius = radius\n",
        "\n",
        "  def calculate_circle_area(self):\n",
        "    return math.pi * self.radius**2\n",
        "\n",
        "  def calculate_circle_perimeter(self):\n",
        "    return 2 * math.pi * self.radius\n",
        "\n",
        "\n",
        "radius = float(input(\"Input the radius of the circle: \"))\n",
        "circle = Circle(radius)\n",
        "area = circle.calculate_circle_area()\n",
        "perimeter = circle.calculate_circle_perimeter()\n",
        "print(\"Area of the circle:\", area)\n",
        "print(\"Perimeter of the circle:\", perimeter)"
      ],
      "metadata": {
        "colab": {
          "base_uri": "https://localhost:8080/"
        },
        "id": "0NcwFjkNpoJK",
        "outputId": "9821071f-96be-45e0-ce2f-7b7ef4ca7d6d"
      },
      "execution_count": null,
      "outputs": [
        {
          "output_type": "stream",
          "name": "stdout",
          "text": [
            "Input the radius of the circle: 5\n",
            "Area of the circle: 78.53981633974483\n",
            "Perimeter of the circle: 31.41592653589793\n"
          ]
        }
      ]
    },
    {
      "cell_type": "markdown",
      "source": [
        "Write a Python program to create a calculator class. Include methods for basic arithmetic operations."
      ],
      "metadata": {
        "id": "HFl6i4p0sIIt"
      }
    },
    {
      "cell_type": "code",
      "source": [
        "class Calculator:\n",
        "    def add(self, x, y):\n",
        "        return x + y\n",
        "\n",
        "    def subtract(self, x, y):\n",
        "        return x - y\n",
        "\n",
        "    def multiply(self, x, y):\n",
        "        return x * y\n",
        "\n",
        "    def divide(self, x, y):\n",
        "        if y != 0:\n",
        "            return x / y\n",
        "        else:\n",
        "            return (\"Cannot divide by zero.\")\n",
        "\n",
        "# Example usage\n",
        "calculator = Calculator()\n",
        "\n",
        "# Addition\n",
        "result = calculator.add(7, 5)\n",
        "print(\"7 + 5 =\", result)\n",
        "\n",
        "# Subtraction\n",
        "result = calculator.subtract(34, 21)\n",
        "print(\"34 - 21 =\", result)\n",
        "\n",
        "# Multiplication\n",
        "result = calculator.multiply(54, 2)\n",
        "print(\"54 * 2 =\", result)\n",
        "\n",
        "# Division\n",
        "result = calculator.divide(144, 2)\n",
        "print(\"144 / 2 =\", result)\n",
        "\n",
        "# Division by zero (raises an error)\n",
        "result = calculator.divide(45, 0)\n",
        "print(\"45 / 0 =\", result)\n",
        "\n"
      ],
      "metadata": {
        "colab": {
          "base_uri": "https://localhost:8080/"
        },
        "id": "-iUS2HVYqGzs",
        "outputId": "a947b0f8-516c-4832-b12f-a81925fb5b64"
      },
      "execution_count": null,
      "outputs": [
        {
          "output_type": "stream",
          "name": "stdout",
          "text": [
            "7 + 5 = 12\n",
            "34 - 21 = 13\n",
            "54 * 2 = 108\n",
            "144 / 2 = 72.0\n",
            "45 / 0 = Cannot divide by zero.\n"
          ]
        }
      ]
    },
    {
      "cell_type": "markdown",
      "source": [
        "5. Write a Python program to create a class that represents a shape. Include methods to calculate its area and perimeter. Implement subclasses for different shapes like circle, triangle, and square."
      ],
      "metadata": {
        "id": "Sxahk38osb8I"
      }
    },
    {
      "cell_type": "code",
      "source": [
        "import math\n",
        "\n",
        "class Shape:\n",
        "    def calculate_area(self):\n",
        "        pass\n",
        "\n",
        "    def calculate_perimeter(self):\n",
        "        pass\n",
        "\n",
        "\n",
        "class Circle(Shape):\n",
        "    def __init__(self, radius):\n",
        "        self.radius = radius\n",
        "\n",
        "    def calculate_area(self):\n",
        "        return math.pi * self.radius**2\n",
        "\n",
        "    def calculate_perimeter(self):\n",
        "        return 2 * math.pi * self.radius\n",
        "\n",
        "\n",
        "class Rectangle(Shape):\n",
        "    def __init__(self, length, width):\n",
        "        self.length = length\n",
        "        self.width = width\n",
        "\n",
        "    def calculate_area(self):\n",
        "        return self.length * self.width\n",
        "\n",
        "    def calculate_perimeter(self):\n",
        "        return 2 * (self.length + self.width)\n",
        "\n",
        "\n",
        "class Triangle(Shape):\n",
        "    def __init__(self, base, height, side1, side2, side3):\n",
        "        self.base = base\n",
        "        self.height = height\n",
        "        self.side1 = side1\n",
        "        self.side2 = side2\n",
        "        self.side3 = side3\n",
        "\n",
        "    def calculate_area(self):\n",
        "        return 0.5 * self.base * self.height\n",
        "\n",
        "    def calculate_perimeter(self):\n",
        "        return self.side1 + self.side2 + self.side3\n",
        "\n",
        "\n",
        "# Example usage\n",
        "r = 7\n",
        "circle = Circle(r)\n",
        "circle_area = circle.calculate_area()\n",
        "circle_perimeter = circle.calculate_perimeter()\n",
        "\n",
        "print(\"Radius of the circle:\",r)\n",
        "print(\"Circle Area:\", circle_area)\n",
        "print(\"Circle Perimeter:\", circle_perimeter)\n",
        "\n",
        "\n",
        "l = 5\n",
        "w = 7\n",
        "rectangle = Rectangle(l, w)\n",
        "rectangle_area = rectangle.calculate_area()\n",
        "rectangle_perimeter = rectangle.calculate_perimeter()\n",
        "print(\"\\nRectangle: Length =\",l,\" Width =\",w)\n",
        "print(\"Rectangle Area:\", rectangle_area)\n",
        "print(\"Rectangle Perimeter:\", rectangle_perimeter)\n",
        "\n",
        "base = 5\n",
        "height = 4\n",
        "s1 = 4\n",
        "s2 = 3\n",
        "s3 = 5\n",
        "\n",
        "print(\"\\nTriangle: Base =\",base,\" Height =\",height,\" side1 =\",s1,\" side2 =\",s2,\" side3 =\",s3)\n",
        "triangle = Triangle(base,height,s1,s2,s3)\n",
        "triangle_area = triangle.calculate_area()\n",
        "triangle_perimeter = triangle.calculate_perimeter()\n",
        "print(\"Triangle Area:\", triangle_area)\n",
        "print(\"Triangle Perimeter:\", triangle_perimeter)"
      ],
      "metadata": {
        "colab": {
          "base_uri": "https://localhost:8080/"
        },
        "id": "HQuy5-smsPd_",
        "outputId": "71725a21-4b12-4dab-d6c5-0d18111bd39a"
      },
      "execution_count": null,
      "outputs": [
        {
          "output_type": "stream",
          "name": "stdout",
          "text": [
            "Radius of the circle: 7\n",
            "Circle Area: 153.93804002589985\n",
            "Circle Perimeter: 43.982297150257104\n",
            "\n",
            "Rectangle: Length = 5  Width = 7\n",
            "Rectangle Area: 35\n",
            "Rectangle Perimeter: 24\n",
            "\n",
            "Triangle: Base = 5  Height = 4  side1 = 4  side2 = 3  side3 = 5\n",
            "Triangle Area: 10.0\n",
            "Triangle Perimeter: 12\n"
          ]
        }
      ]
    },
    {
      "cell_type": "markdown",
      "source": [
        "6.\n",
        "Write a Python program to create a class representing a stack data structure. Include methods for pushing and popping elements"
      ],
      "metadata": {
        "id": "3DRVuUBzswcs"
      }
    },
    {
      "cell_type": "code",
      "source": [
        "class Stack:\n",
        "    def __init__(self):\n",
        "        self.items = []\n",
        "\n",
        "    def push(self, item):\n",
        "        self.items.append(item)\n",
        "\n",
        "    def pop(self):\n",
        "        if not self.is_empty():\n",
        "            return self.items.pop()\n",
        "        else:\n",
        "            return \"Cannot pop from an empty stack.\"\n",
        "\n",
        "    def is_empty(self):\n",
        "        return len(self.items) == 0\n",
        "\n",
        "    def size(self):\n",
        "        return len(self.items)\n",
        "\n",
        "    def peek(self):\n",
        "        if not self.is_empty():\n",
        "            return self.items[-1]\n",
        "        else:\n",
        "            return \"Empty stack.\"\n",
        "\n",
        "# Example usage\n",
        "stack = Stack()\n",
        "stack.push(0)\n",
        "stack.push(1)\n",
        "stack.push(2)\n",
        "stack.push(3)\n",
        "stack.push(4)\n",
        "\n",
        "print(\"Stack size:\", stack.size())\n",
        "print(\"Top element:\", stack.peek())\n",
        "popped_item = stack.pop()\n",
        "print(\"\\nPopped item:\", popped_item)\n",
        "print(\"\\nStack size:\", stack.size())\n",
        "print(\"Top element:\", stack.peek())\n",
        "\n",
        "#----------------------------------------\n",
        "stack1 = Stack()\n",
        "print(\"\\nStack size:\", stack1.size())\n",
        "popped_item = stack1.pop()\n",
        "print(\"\\nPopped item:\", popped_item)"
      ],
      "metadata": {
        "colab": {
          "base_uri": "https://localhost:8080/"
        },
        "id": "o8bL4-nVspDS",
        "outputId": "30a9dee0-0fd9-42d3-f6d6-32c4c095318b"
      },
      "execution_count": null,
      "outputs": [
        {
          "output_type": "stream",
          "name": "stdout",
          "text": [
            "Stack size: 5\n",
            "Top element: 4\n",
            "\n",
            "Popped item: 4\n",
            "\n",
            "Stack size: 4\n",
            "Top element: 3\n",
            "\n",
            "Stack size: 0\n",
            "\n",
            "Popped item: Cannot pop from an empty stack.\n"
          ]
        }
      ]
    },
    {
      "cell_type": "markdown",
      "source": [
        "7. Write a Python program to create a class representing a linked list data structure. Include methods for displaying linked list data, inserting and deleting nodes"
      ],
      "metadata": {
        "id": "dj5CHAuHs-T9"
      }
    },
    {
      "cell_type": "code",
      "source": [
        "class Node:\n",
        "    def __init__(self, data):\n",
        "        self.data = data\n",
        "        self.next = None\n",
        "\n",
        "\n",
        "class LinkedList:\n",
        "    def __init__(self):\n",
        "        self.head = None\n",
        "\n",
        "    def display(self):\n",
        "        current = self.head\n",
        "        while current:\n",
        "            print(current.data, end=\" \")\n",
        "            current = current.next\n",
        "        print()\n",
        "\n",
        "    def insert(self, data):\n",
        "        new_node = Node(data)\n",
        "        if not self.head:\n",
        "            self.head = new_node\n",
        "        else:\n",
        "            current = self.head\n",
        "            while current.next:\n",
        "                current = current.next\n",
        "            current.next = new_node\n",
        "\n",
        "    def delete(self, data):\n",
        "        if not self.head:\n",
        "            return\n",
        "\n",
        "        if self.head.data == data:\n",
        "            self.head = self.head.next\n",
        "            return\n",
        "\n",
        "        current = self.head\n",
        "        prev = None\n",
        "        while current and current.data != data:\n",
        "            prev = current\n",
        "            current = current.next\n",
        "\n",
        "        if current:\n",
        "            prev.next = current.next\n",
        "\n",
        "# Example usage\n",
        "linked_list = LinkedList()\n",
        "\n",
        "linked_list.insert(1)\n",
        "linked_list.insert(2)\n",
        "linked_list.insert(3)\n",
        "linked_list.insert(4)\n",
        "\n",
        "print(\"Initial Linked List:\")\n",
        "linked_list.display()\n",
        "\n",
        "linked_list.insert(5)\n",
        "print(\"After insert a new node (4):\")\n",
        "linked_list.display()\n",
        "\n",
        "linked_list.delete(2)\n",
        "print(\"After delete a existing node (2):\")\n",
        "linked_list.display()"
      ],
      "metadata": {
        "colab": {
          "base_uri": "https://localhost:8080/"
        },
        "id": "Xlai7PE4s2E8",
        "outputId": "02363455-967e-46bc-97b8-e2db3e748d81"
      },
      "execution_count": null,
      "outputs": [
        {
          "output_type": "stream",
          "name": "stdout",
          "text": [
            "Initial Linked List:\n",
            "1 2 3 4 \n",
            "After insert a new node (4):\n",
            "1 2 3 4 5 \n",
            "After delete a existing node (2):\n",
            "1 3 4 5 \n"
          ]
        }
      ]
    },
    {
      "cell_type": "markdown",
      "source": [
        "8. Write a Python program to create a class representing a shopping cart. Include methods for adding and removing items, and calculating the total price."
      ],
      "metadata": {
        "id": "czb6NkzttNjA"
      }
    },
    {
      "cell_type": "code",
      "source": [
        "class ShoppingCart:\n",
        "    def __init__(self):\n",
        "        self.items = []\n",
        "\n",
        "    def add_item(self, item_name, qty):\n",
        "        item = (item_name, qty)\n",
        "        self.items.append(item)\n",
        "\n",
        "    def remove_item(self, item_name):\n",
        "        for item in self.items:\n",
        "            if item[0] == item_name:\n",
        "                self.items.remove(item)\n",
        "                break\n",
        "\n",
        "    def calculate_total(self):\n",
        "        total = 0\n",
        "        for item in self.items:\n",
        "            total += item[1]\n",
        "        return total\n",
        "\n",
        "\n",
        "# Example usage\n",
        "cart = ShoppingCart()\n",
        "\n",
        "cart.add_item(\"Papaya\", 100)\n",
        "cart.add_item(\"Guava\", 200)\n",
        "cart.add_item(\"Orange\", 150)\n",
        "\n",
        "print(\"Current Items in Cart:\")\n",
        "for item in cart.items:\n",
        "    print(item[0], \"-\", item[1])\n",
        "\n",
        "total_qty = cart.calculate_total()\n",
        "print(\"Total Quantity:\", total_qty)\n",
        "\n",
        "cart.remove_item(\"Orange\")\n",
        "\n",
        "print(\"\\nUpdated Items in Cart after removing Orange:\")\n",
        "for item in cart.items:\n",
        "    print(item[0], \"-\", item[1])\n",
        "\n",
        "total_qty = cart.calculate_total()\n",
        "print(\"Total Quantity:\", total_qty)"
      ],
      "metadata": {
        "colab": {
          "base_uri": "https://localhost:8080/"
        },
        "id": "X3zWJBK2tL78",
        "outputId": "ec55e6f4-dfff-437a-8338-dcea088dedd6"
      },
      "execution_count": null,
      "outputs": [
        {
          "output_type": "stream",
          "name": "stdout",
          "text": [
            "Current Items in Cart:\n",
            "Papaya - 100\n",
            "Guava - 200\n",
            "Orange - 150\n",
            "Total Quantity: 450\n",
            "\n",
            "Updated Items in Cart after removing Orange:\n",
            "Papaya - 100\n",
            "Guava - 200\n",
            "Total Quantity: 300\n"
          ]
        }
      ]
    },
    {
      "cell_type": "markdown",
      "source": [
        "9. Write a Python program to create a class representing a stack data structure. Include methods for pushing, popping and displaying elements.\n",
        "\n"
      ],
      "metadata": {
        "id": "Tig6LnETtZtA"
      }
    },
    {
      "cell_type": "code",
      "source": [
        "class Stack:\n",
        "    def __init__(self):\n",
        "        self.items = []\n",
        "\n",
        "    def push(self, item):\n",
        "        self.items.append(item)\n",
        "\n",
        "    def pop(self):\n",
        "        if not self.is_empty():\n",
        "            return self.items.pop()\n",
        "        else:\n",
        "            raise IndexError(\"Cannot pop from an empty stack.\")\n",
        "\n",
        "    def is_empty(self):\n",
        "        return len(self.items) == 0\n",
        "\n",
        "    def display(self):\n",
        "        print(\"Stack items:\", self.items)\n",
        "\n",
        "\n",
        "# Example usage\n",
        "stack = Stack()\n",
        "\n",
        "stack.push(10)\n",
        "stack.push(20)\n",
        "svg-=tack.push(30)\n",
        "stack.push(40)\n",
        "stack.push(50)\n",
        "stack.display()\n",
        "popped_item = stack.pop()\n",
        "print(\"Popped item:\", popped_item)\n",
        "popped_item = stack.pop()\n",
        "print(\"Popped item:\", popped_item)\n",
        "stack.display()"
      ],
      "metadata": {
        "colab": {
          "base_uri": "https://localhost:8080/"
        },
        "id": "9RvkK_kTtSK0",
        "outputId": "fb3a1b20-e030-4f17-ffc6-b1991344b438"
      },
      "execution_count": null,
      "outputs": [
        {
          "output_type": "stream",
          "name": "stdout",
          "text": [
            "Stack items: [10, 20, 30, 40, 50]\n",
            "Popped item: 50\n",
            "Popped item: 40\n",
            "Stack items: [10, 20, 30]\n"
          ]
        }
      ]
    },
    {
      "cell_type": "code",
      "source": [],
      "metadata": {
        "id": "JV6lyFBOtetP"
      },
      "execution_count": null,
      "outputs": []
    }
  ]
}