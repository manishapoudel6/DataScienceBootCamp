{
  "nbformat": 4,
  "nbformat_minor": 0,
  "metadata": {
    "colab": {
      "provenance": []
    },
    "kernelspec": {
      "name": "python3",
      "display_name": "Python 3"
    },
    "language_info": {
      "name": "python"
    }
  },
  "cells": [
    {
      "cell_type": "code",
      "execution_count": null,
      "metadata": {
        "colab": {
          "base_uri": "https://localhost:8080/"
        },
        "id": "igPX_xajSCrV",
        "outputId": "4848a4c1-c03d-4d53-a88f-9724784654af"
      },
      "outputs": [
        {
          "output_type": "stream",
          "name": "stdout",
          "text": [
            "HloWrd\n"
          ]
        }
      ],
      "source": [
        "temp_str = \"Hello World\"\n",
        "print(temp_str[::2])\n",
        "#string slicing [start:stop:step]\n"
      ]
    },
    {
      "cell_type": "code",
      "source": [
        "#In built function that has given by python and design by python to do common operation. like Add,class,format etc\n",
        "# Takes 1st\n",
        "temp_str = 'hello world'\n",
        "print(temp_str.capitalize())"
      ],
      "metadata": {
        "colab": {
          "base_uri": "https://localhost:8080/"
        },
        "id": "QfQccnTISdHL",
        "outputId": "65d31c28-bb98-45f4-9689-493391288b95"
      },
      "execution_count": null,
      "outputs": [
        {
          "output_type": "stream",
          "name": "stdout",
          "text": [
            "Hello world\n"
          ]
        }
      ]
    },
    {
      "cell_type": "code",
      "source": [
        "dir(temp_str)"
      ],
      "metadata": {
        "colab": {
          "base_uri": "https://localhost:8080/"
        },
        "id": "X6czPTfLTn_e",
        "outputId": "4dcc1f8e-8d4e-4561-b9b2-f2eacb7401f9"
      },
      "execution_count": null,
      "outputs": [
        {
          "output_type": "execute_result",
          "data": {
            "text/plain": [
              "['__add__',\n",
              " '__class__',\n",
              " '__contains__',\n",
              " '__delattr__',\n",
              " '__dir__',\n",
              " '__doc__',\n",
              " '__eq__',\n",
              " '__format__',\n",
              " '__ge__',\n",
              " '__getattribute__',\n",
              " '__getitem__',\n",
              " '__getnewargs__',\n",
              " '__gt__',\n",
              " '__hash__',\n",
              " '__init__',\n",
              " '__init_subclass__',\n",
              " '__iter__',\n",
              " '__le__',\n",
              " '__len__',\n",
              " '__lt__',\n",
              " '__mod__',\n",
              " '__mul__',\n",
              " '__ne__',\n",
              " '__new__',\n",
              " '__reduce__',\n",
              " '__reduce_ex__',\n",
              " '__repr__',\n",
              " '__rmod__',\n",
              " '__rmul__',\n",
              " '__setattr__',\n",
              " '__sizeof__',\n",
              " '__str__',\n",
              " '__subclasshook__',\n",
              " 'capitalize',\n",
              " 'casefold',\n",
              " 'center',\n",
              " 'count',\n",
              " 'encode',\n",
              " 'endswith',\n",
              " 'expandtabs',\n",
              " 'find',\n",
              " 'format',\n",
              " 'format_map',\n",
              " 'index',\n",
              " 'isalnum',\n",
              " 'isalpha',\n",
              " 'isascii',\n",
              " 'isdecimal',\n",
              " 'isdigit',\n",
              " 'isidentifier',\n",
              " 'islower',\n",
              " 'isnumeric',\n",
              " 'isprintable',\n",
              " 'isspace',\n",
              " 'istitle',\n",
              " 'isupper',\n",
              " 'join',\n",
              " 'ljust',\n",
              " 'lower',\n",
              " 'lstrip',\n",
              " 'maketrans',\n",
              " 'partition',\n",
              " 'removeprefix',\n",
              " 'removesuffix',\n",
              " 'replace',\n",
              " 'rfind',\n",
              " 'rindex',\n",
              " 'rjust',\n",
              " 'rpartition',\n",
              " 'rsplit',\n",
              " 'rstrip',\n",
              " 'split',\n",
              " 'splitlines',\n",
              " 'startswith',\n",
              " 'strip',\n",
              " 'swapcase',\n",
              " 'title',\n",
              " 'translate',\n",
              " 'upper',\n",
              " 'zfill']"
            ]
          },
          "metadata": {},
          "execution_count": 3
        }
      ]
    },
    {
      "cell_type": "code",
      "source": [
        "#Returns a String where all character are lowercase\n",
        "temp_str = \"Hello WorlD\"\n",
        "print(temp_str.casefold())\n"
      ],
      "metadata": {
        "colab": {
          "base_uri": "https://localhost:8080/"
        },
        "id": "Q6D22dLZUB8C",
        "outputId": "d09a659f-84a7-44b8-8669-06a430a7ba24"
      },
      "execution_count": null,
      "outputs": [
        {
          "output_type": "stream",
          "name": "stdout",
          "text": [
            "hello world\n"
          ]
        }
      ]
    },
    {
      "cell_type": "code",
      "source": [
        "temp_str = \"Hello WorlD\"\n",
        "print(temp_str.center(18,\"*\"))"
      ],
      "metadata": {
        "colab": {
          "base_uri": "https://localhost:8080/"
        },
        "id": "9ayNYmTwUeud",
        "outputId": "21fdf4f3-310b-44a6-d67a-4c3a990d1ea3"
      },
      "execution_count": null,
      "outputs": [
        {
          "output_type": "stream",
          "name": "stdout",
          "text": [
            "***Hello WorlD****\n"
          ]
        }
      ]
    },
    {
      "cell_type": "code",
      "source": [
        "#Increases length of string by adding whatever character if not defult fills by space.\n",
        "temp_str = \"Hello WorlD\"\n",
        "print(temp_str.center(14,\"*\")) #the output counting goes from the right"
      ],
      "metadata": {
        "colab": {
          "base_uri": "https://localhost:8080/"
        },
        "id": "17Axrj9RVAIP",
        "outputId": "e9276e8c-75fe-4dab-ead8-343c8c7e57e8"
      },
      "execution_count": null,
      "outputs": [
        {
          "output_type": "stream",
          "name": "stdout",
          "text": [
            "*Hello WorlD**\n"
          ]
        }
      ]
    },
    {
      "cell_type": "code",
      "source": [
        "# Returns how many times the substring appears in the given by defaiult picks full string\n",
        "# Count function is case sensitive.\n",
        "temp_str = \"Hello World how is it going\"\n",
        "print(temp_str.count(\"how\"))"
      ],
      "metadata": {
        "colab": {
          "base_uri": "https://localhost:8080/"
        },
        "id": "23Tg_9haVoyD",
        "outputId": "5570d554-dec0-4eb2-f404-c2e59116754f"
      },
      "execution_count": null,
      "outputs": [
        {
          "output_type": "stream",
          "name": "stdout",
          "text": [
            "1\n"
          ]
        }
      ]
    },
    {
      "cell_type": "code",
      "source": [
        "temp_str = \"Hello World how is it going\" 'Hello all good'.casefold()\n",
        "print(temp_str.count(\"Hello\"))\n",
        "print(temp_str.count(\"hello\"))\n",
        "#How to give range\n",
        "# count(value,start,end)\n",
        "#start and end are optional if not given takes full string\n",
        "temp_str_2 = \"hello world how is it going? hello all good\"\n",
        "print(temp_str_2[2:5])\n",
        "print(temp_str_2.count(\"hello\",2))\n"
      ],
      "metadata": {
        "colab": {
          "base_uri": "https://localhost:8080/"
        },
        "id": "ELvR3oCcW3N_",
        "outputId": "176f3f81-2c11-4b4f-b133-5cdb8c40b2dc"
      },
      "execution_count": null,
      "outputs": [
        {
          "output_type": "stream",
          "name": "stdout",
          "text": [
            "0\n",
            "2\n",
            "llo\n",
            "1\n"
          ]
        }
      ]
    },
    {
      "cell_type": "code",
      "source": [
        "temp_str = \"Hello World how is it going\" 'Hello all good'.casefold()\n",
        "print(temp_str.count(\"Hello\"))\n",
        "print(temp_str.count(\"hello\"))\n",
        "temp_str_2 = \"hello world how is it going? ghellog all good\"\n",
        "print(temp_str_2[2:5])\n",
        "print(temp_str_2.count(\"hello\",2))"
      ],
      "metadata": {
        "colab": {
          "base_uri": "https://localhost:8080/"
        },
        "id": "ioAVtpxbXlyv",
        "outputId": "6612e745-35af-4b29-d7b0-8147bcb562d8"
      },
      "execution_count": null,
      "outputs": [
        {
          "output_type": "stream",
          "name": "stdout",
          "text": [
            "0\n",
            "2\n",
            "llo\n",
            "1\n"
          ]
        }
      ]
    },
    {
      "cell_type": "code",
      "source": [
        "# returns True and False on the basis of suffix passed\n",
        "temp_str = \"Hello WorlD how is it going? Hello all good! \"\n",
        "# endswith(value,start,end)\n",
        "temp_str.endswith(\"god!\")"
      ],
      "metadata": {
        "colab": {
          "base_uri": "https://localhost:8080/"
        },
        "id": "_lD45477a2yt",
        "outputId": "13069b6a-5169-40d6-da8a-70c963443bb7"
      },
      "execution_count": null,
      "outputs": [
        {
          "output_type": "execute_result",
          "data": {
            "text/plain": [
              "False"
            ]
          },
          "metadata": {},
          "execution_count": 17
        }
      ]
    },
    {
      "cell_type": "code",
      "source": [
        "temp_str = \"Hello WorlD how is it going? Hello all good!\"\n",
        "print(temp_str.endswith(\"d!\"))\n",
        "print(temp_str.endswith(\"Lo\"))\n",
        "print(len(temp_str))"
      ],
      "metadata": {
        "colab": {
          "base_uri": "https://localhost:8080/"
        },
        "id": "1GJcHXLWb7RK",
        "outputId": "fe1bba50-70c4-43ee-8304-a6e652cb4a02"
      },
      "execution_count": null,
      "outputs": [
        {
          "output_type": "stream",
          "name": "stdout",
          "text": [
            "True\n",
            "False\n",
            "44\n"
          ]
        }
      ]
    },
    {
      "cell_type": "code",
      "source": [
        "#Find function\n",
        "# returns lowest index of the substring if found else return -1\n",
        "temp_str = \"Hello world how is it going? Hello all good! how are you!\"\n",
        "print(temp_str.find(\"how\"))\n",
        "print(temp_str.find)"
      ],
      "metadata": {
        "colab": {
          "base_uri": "https://localhost:8080/"
        },
        "id": "JvMQGIitdAim",
        "outputId": "47a98561-8d3e-4200-e503-8a09c2e9bbb6"
      },
      "execution_count": null,
      "outputs": [
        {
          "output_type": "stream",
          "name": "stdout",
          "text": [
            "12\n"
          ]
        }
      ]
    },
    {
      "cell_type": "code",
      "source": [
        "temp_str = \"Hello my name is {fname}, I am a {position}!\"\n",
        "print(temp_str.format(fname= \"Manisha\",position= \"Data Scientist\"))\n",
        "\n",
        "temp_str1 = \"Hello my name is {0}, I am a {1}!\"\n",
        "print(temp_str1.format(\"Manisha\",\"Data Scientist\"))"
      ],
      "metadata": {
        "colab": {
          "base_uri": "https://localhost:8080/"
        },
        "id": "69XZYJoQebEG",
        "outputId": "c45b7af4-8e07-47df-bd47-e9eaceb89f63"
      },
      "execution_count": null,
      "outputs": [
        {
          "output_type": "stream",
          "name": "stdout",
          "text": [
            "Hello my name is Manisha, I am a Data Scientist!\n",
            "Hello my name is Manisha, I am a Data Scientist!\n"
          ]
        }
      ]
    },
    {
      "cell_type": "code",
      "source": [
        "#Function jumped\n",
        "# 1 format Map\n",
        "# 2 expandtabs"
      ],
      "metadata": {
        "id": "JMUhcNr9fWt2"
      },
      "execution_count": null,
      "outputs": []
    },
    {
      "cell_type": "code",
      "source": [
        "#replica of find function but this function return error if nothing found\n",
        "temp_str = \"Hello WorlD how is it going? Hello all good! How are you?\"\n",
        "temp_str.index(\"how111\")"
      ],
      "metadata": {
        "colab": {
          "base_uri": "https://localhost:8080/",
          "height": 208
        },
        "id": "nEWG8lfBhoZt",
        "outputId": "f85e05be-58d4-4c00-8aff-5167d8b2144e"
      },
      "execution_count": null,
      "outputs": [
        {
          "output_type": "error",
          "ename": "ValueError",
          "evalue": "ignored",
          "traceback": [
            "\u001b[0;31m---------------------------------------------------------------------------\u001b[0m",
            "\u001b[0;31mValueError\u001b[0m                                Traceback (most recent call last)",
            "\u001b[0;32m<ipython-input-32-205e244be805>\u001b[0m in \u001b[0;36m<cell line: 3>\u001b[0;34m()\u001b[0m\n\u001b[1;32m      1\u001b[0m \u001b[0;31m#replica of find function but this function return error if nothing found\u001b[0m\u001b[0;34m\u001b[0m\u001b[0;34m\u001b[0m\u001b[0m\n\u001b[1;32m      2\u001b[0m \u001b[0mtemp_str\u001b[0m \u001b[0;34m=\u001b[0m \u001b[0;34m\"Hello WorlD how is it going? Hello all good! How are you?\"\u001b[0m\u001b[0;34m\u001b[0m\u001b[0;34m\u001b[0m\u001b[0m\n\u001b[0;32m----> 3\u001b[0;31m \u001b[0mtemp_str\u001b[0m\u001b[0;34m.\u001b[0m\u001b[0mindex\u001b[0m\u001b[0;34m(\u001b[0m\u001b[0;34m\"how111\"\u001b[0m\u001b[0;34m)\u001b[0m\u001b[0;34m\u001b[0m\u001b[0;34m\u001b[0m\u001b[0m\n\u001b[0m",
            "\u001b[0;31mValueError\u001b[0m: substring not found"
          ]
        }
      ]
    },
    {
      "cell_type": "code",
      "source": [
        "# Returns True if only numbers and alpaphets are present else returns false\n",
        "temp_str = \"Hello worlD how is it going? Hello all good! how are you?\"\n",
        "temp_str1 = \"HelloWorld\"\n",
        "print(temp_str.isalnum())\n",
        "print(temp_str1.isalnum())\n",
        "print(temp_str1[0:5].isalnum())"
      ],
      "metadata": {
        "colab": {
          "base_uri": "https://localhost:8080/"
        },
        "id": "DEr_UsEbiT-K",
        "outputId": "eb52863a-e199-46d0-f8da-e248834bfdaf"
      },
      "execution_count": null,
      "outputs": [
        {
          "output_type": "stream",
          "name": "stdout",
          "text": [
            "False\n",
            "True\n",
            "True\n"
          ]
        }
      ]
    },
    {
      "cell_type": "code",
      "source": [
        "# Returns True if only  alpaphets are present else returns false\n",
        "temp_str = \"HelloworlD\"\n",
        "temp_str1 = \"Hello World\"\n",
        "temp_str_2 = \"helo2623762\"\n",
        "print(temp_str.isalpha())\n",
        "print(temp_str1.isalpha())\n",
        "print(temp_str_2.isalpha())"
      ],
      "metadata": {
        "colab": {
          "base_uri": "https://localhost:8080/"
        },
        "id": "MQmvePlli8d4",
        "outputId": "bba6b62d-8715-4316-bf09-1b4396bea621"
      },
      "execution_count": null,
      "outputs": [
        {
          "output_type": "stream",
          "name": "stdout",
          "text": [
            "True\n",
            "False\n",
            "False\n"
          ]
        }
      ]
    },
    {
      "cell_type": "code",
      "source": [
        " # Returns true if only numbers between 0-9 else returns false\n",
        "temp_str = \"Hello World\"\n",
        "print(temp_str.isdecimal())\n",
        "temp_str1 = \"123456789\"\n",
        "print(temp_str1.isdecimal())\n",
        "temp_str2 = \" 1234556 \"\n",
        "print(temp_str2.isdecimal())\n",
        "unicode_0 = \"\\u0030\" #works with decimal and it connect with 0 type of incoding\n",
        "print(unicode_0.isdecimal())\n",
        "unicode_0 = \"\\u0047\" #unicode for G\n",
        "print(unicode_0.isdecimal())\n"
      ],
      "metadata": {
        "colab": {
          "base_uri": "https://localhost:8080/"
        },
        "id": "7dPi3QKtkivF",
        "outputId": "e2c620c8-f9d4-4f3b-9801-64013227f716"
      },
      "execution_count": null,
      "outputs": [
        {
          "output_type": "stream",
          "name": "stdout",
          "text": [
            "False\n",
            "True\n",
            "False\n",
            "True\n",
            "False\n"
          ]
        }
      ]
    },
    {
      "cell_type": "code",
      "source": [
        "temp_str = '0123455767934'\n",
        "print(temp_str.isdigit())\n",
        "temp_str1 = \"Hello World\"\n",
        "print(temp_str1.isdigit())\n",
        "unicode_0 = \"\\u0030\"\n",
        "print(unicode_0.isdigit())\n"
      ],
      "metadata": {
        "colab": {
          "base_uri": "https://localhost:8080/"
        },
        "id": "fshe6W_KlDcG",
        "outputId": "2b9491b0-e56c-4c39-a39a-4d65961afb73"
      },
      "execution_count": null,
      "outputs": [
        {
          "output_type": "stream",
          "name": "stdout",
          "text": [
            "True\n",
            "False\n",
            "True\n"
          ]
        }
      ]
    },
    {
      "cell_type": "code",
      "source": [
        "#returns DO not work with subscript and digits work with it\n",
        "temp_str = \"\\u00B2\"\n",
        "print(\"km\\u00B2\")\n",
        "print(temp_str.isdecimal())\n",
        "print(temp_str.isdigit())"
      ],
      "metadata": {
        "id": "5Xy9hTB9lctv",
        "colab": {
          "base_uri": "https://localhost:8080/"
        },
        "outputId": "e3c0dbd0-c5ad-460a-9b30-5f94d70ba01d"
      },
      "execution_count": 2,
      "outputs": [
        {
          "output_type": "stream",
          "name": "stdout",
          "text": [
            "km²\n",
            "False\n",
            "True\n"
          ]
        }
      ]
    },
    {
      "cell_type": "code",
      "source": [
        "# returns True if the word is a reserved keyword(if,while,else,etc) in python else return False\n",
        "# This also works with variable convention (alphabet) so if it starts with number its false\n",
        "temp_str = \"Hello World\"\n",
        "print(temp_str.isidentifier())\n",
        "temp_str2= 'if'\n",
        "print(temp_str2.isidentifier())"
      ],
      "metadata": {
        "colab": {
          "base_uri": "https://localhost:8080/"
        },
        "id": "06rsjT8lavBW",
        "outputId": "0143f689-0035-4047-8d1f-6d44da967ec7"
      },
      "execution_count": 3,
      "outputs": [
        {
          "output_type": "stream",
          "name": "stdout",
          "text": [
            "False\n",
            "True\n"
          ]
        }
      ]
    },
    {
      "cell_type": "code",
      "source": [
        "# returns True if the words are in lower case it returns false if there is space or numbers\n",
        "temp_str = \"Hello World\"\n",
        "temp_str2 = \"hello wprld1233\"\n",
        "print(temp_str.islower())\n",
        "print(temp_str2.islower())"
      ],
      "metadata": {
        "colab": {
          "base_uri": "https://localhost:8080/"
        },
        "id": "I8ABvpotbLse",
        "outputId": "a741e998-42d3-41c7-8745-2232cc49d919"
      },
      "execution_count": 4,
      "outputs": [
        {
          "output_type": "stream",
          "name": "stdout",
          "text": [
            "False\n",
            "True\n"
          ]
        }
      ]
    },
    {
      "cell_type": "code",
      "source": [
        "# returns True if spaces else returns false\n",
        "temp_str = \"Hello World\"\n",
        "print(temp_str.isspace())\n",
        "temp_str2 = \" \"\n",
        "print(temp_str2.isspace())"
      ],
      "metadata": {
        "colab": {
          "base_uri": "https://localhost:8080/"
        },
        "id": "pYzeKUwecVpt",
        "outputId": "510e57f3-62ac-4e5e-f745-c2c3ea221d31"
      },
      "execution_count": 6,
      "outputs": [
        {
          "output_type": "stream",
          "name": "stdout",
          "text": [
            "False\n",
            "True\n"
          ]
        }
      ]
    },
    {
      "cell_type": "code",
      "source": [
        "# returns True if the first letter of the word is in uppercase rest of them should be in lowercase\n",
        "temp_str = \"Hello WORLD\"\n",
        "print(temp_str.istitle())\n",
        "temp_str2 = \"Hello World\"\n",
        "print(temp_str2.istitle())"
      ],
      "metadata": {
        "colab": {
          "base_uri": "https://localhost:8080/"
        },
        "id": "QRAk-uS7d0x5",
        "outputId": "b13cd155-af9f-42fd-af9e-a8d0c914c09f"
      },
      "execution_count": 7,
      "outputs": [
        {
          "output_type": "stream",
          "name": "stdout",
          "text": [
            "False\n",
            "True\n"
          ]
        }
      ]
    },
    {
      "cell_type": "code",
      "source": [
        "# returns True if the all alphabet is in uppercase\n",
        "temp_s = \"Hello World\"\n",
        "print(temp_s.isupper())\n",
        "temp_s2 = \"HELLO WORLD!@##\"\n",
        "print(temp_s2.isupper())"
      ],
      "metadata": {
        "colab": {
          "base_uri": "https://localhost:8080/"
        },
        "id": "nwTThpVPehyu",
        "outputId": "10a6a1ae-bbce-4fd9-a4dd-77b8750abd90"
      },
      "execution_count": 8,
      "outputs": [
        {
          "output_type": "stream",
          "name": "stdout",
          "text": [
            "False\n",
            "True\n"
          ]
        }
      ]
    },
    {
      "cell_type": "code",
      "source": [
        "#Iterables are list and tuples\n",
        "list_temp =[\"Hello\", \"World\", \"How\", \"are\", \"you\"]\n",
        "print(\"#\".join(list_temp))"
      ],
      "metadata": {
        "colab": {
          "base_uri": "https://localhost:8080/"
        },
        "id": "cJTb7OKwfptq",
        "outputId": "9c549cec-33ea-4e0d-819b-44ea58959a41"
      },
      "execution_count": 13,
      "outputs": [
        {
          "output_type": "stream",
          "name": "stdout",
          "text": [
            "Hello#World#How#are#you\n"
          ]
        }
      ]
    },
    {
      "cell_type": "code",
      "source": [
        "tup1 = ('one','lime',1,'a')\n",
        "print('#'.join(tup1))\n"
      ],
      "metadata": {
        "colab": {
          "base_uri": "https://localhost:8080/",
          "height": 191
        },
        "id": "qrBlNcRRgipy",
        "outputId": "a71cba7c-bfc9-4352-8a5c-0b149e013054"
      },
      "execution_count": 24,
      "outputs": [
        {
          "output_type": "error",
          "ename": "TypeError",
          "evalue": "ignored",
          "traceback": [
            "\u001b[0;31m---------------------------------------------------------------------------\u001b[0m",
            "\u001b[0;31mTypeError\u001b[0m                                 Traceback (most recent call last)",
            "\u001b[0;32m<ipython-input-24-16b5e90626f7>\u001b[0m in \u001b[0;36m<cell line: 2>\u001b[0;34m()\u001b[0m\n\u001b[1;32m      1\u001b[0m \u001b[0mtup1\u001b[0m \u001b[0;34m=\u001b[0m \u001b[0;34m(\u001b[0m\u001b[0;34m'one'\u001b[0m\u001b[0;34m,\u001b[0m\u001b[0;34m'lime'\u001b[0m\u001b[0;34m,\u001b[0m\u001b[0;36m1\u001b[0m\u001b[0;34m,\u001b[0m\u001b[0;34m'a'\u001b[0m\u001b[0;34m)\u001b[0m\u001b[0;34m\u001b[0m\u001b[0;34m\u001b[0m\u001b[0m\n\u001b[0;32m----> 2\u001b[0;31m \u001b[0mprint\u001b[0m\u001b[0;34m(\u001b[0m\u001b[0;34m'#'\u001b[0m\u001b[0;34m.\u001b[0m\u001b[0mjoin\u001b[0m\u001b[0;34m(\u001b[0m\u001b[0mtup1\u001b[0m\u001b[0;34m)\u001b[0m\u001b[0;34m)\u001b[0m\u001b[0;34m\u001b[0m\u001b[0;34m\u001b[0m\u001b[0m\n\u001b[0m",
            "\u001b[0;31mTypeError\u001b[0m: sequence item 2: expected str instance, int found"
          ]
        }
      ]
    },
    {
      "cell_type": "code",
      "source": [
        "temp = \"Hello World\"\n",
        "print(temp.lower())\n",
        "string_german = 'ß'\n",
        "print(string_german.lower())\n",
        "print(string_german.casefold())"
      ],
      "metadata": {
        "colab": {
          "base_uri": "https://localhost:8080/"
        },
        "id": "ekQVDKj7hiqm",
        "outputId": "e40ab51b-e099-4396-b74e-6b19ece45e78"
      },
      "execution_count": 16,
      "outputs": [
        {
          "output_type": "stream",
          "name": "stdout",
          "text": [
            "hello world\n",
            "ß\n",
            "ss\n"
          ]
        }
      ]
    },
    {
      "cell_type": "code",
      "source": [
        "temp_str= \"            Hello World\"\n",
        "print(temp_str.lstrip())"
      ],
      "metadata": {
        "colab": {
          "base_uri": "https://localhost:8080/"
        },
        "id": "ZTknR_XNiIS7",
        "outputId": "28eac79e-6688-434c-8f79-87c5a041235a"
      },
      "execution_count": 18,
      "outputs": [
        {
          "output_type": "stream",
          "name": "stdout",
          "text": [
            "Hello World\n"
          ]
        }
      ]
    },
    {
      "cell_type": "code",
      "source": [
        "temp = \"i could play soccer all day\"\n",
        "print(temp.partition(\"soccer\"))\n",
        "print(temp.partition('apple'))"
      ],
      "metadata": {
        "colab": {
          "base_uri": "https://localhost:8080/"
        },
        "id": "i0zTgX-4itiz",
        "outputId": "4b94908f-a42f-4cb5-9587-7a1b84d10466"
      },
      "execution_count": 22,
      "outputs": [
        {
          "output_type": "stream",
          "name": "stdout",
          "text": [
            "('i could play ', 'soccer', ' all day')\n",
            "('i could play soccer all day', '', '')\n"
          ]
        }
      ]
    },
    {
      "cell_type": "code",
      "source": [
        "temp = \"i could play soccer all day, that is beneficial\"\n",
        "temp.replace('all','not').replace('soccer','basketball')"
      ],
      "metadata": {
        "colab": {
          "base_uri": "https://localhost:8080/",
          "height": 37
        },
        "id": "2cZswzOTjmvA",
        "outputId": "67d1638f-223a-4a7b-fbeb-ab7b9b8f7525"
      },
      "execution_count": 27,
      "outputs": [
        {
          "output_type": "execute_result",
          "data": {
            "text/plain": [
              "'i could play basketball not day, that is beneficial'"
            ],
            "application/vnd.google.colaboratory.intrinsic+json": {
              "type": "string"
            }
          },
          "metadata": {},
          "execution_count": 27
        }
      ]
    },
    {
      "cell_type": "code",
      "source": [
        "#remove white spaces on the right hand side\n",
        "temp_str = \"      Hello World    \"\n",
        "temp_str.rstrip()"
      ],
      "metadata": {
        "colab": {
          "base_uri": "https://localhost:8080/",
          "height": 37
        },
        "id": "4Cgsv6MikoUq",
        "outputId": "1daead43-c286-477d-8385-32b07deda91c"
      },
      "execution_count": 28,
      "outputs": [
        {
          "output_type": "execute_result",
          "data": {
            "text/plain": [
              "'      Hello World'"
            ],
            "application/vnd.google.colaboratory.intrinsic+json": {
              "type": "string"
            }
          },
          "metadata": {},
          "execution_count": 28
        }
      ]
    },
    {
      "cell_type": "code",
      "source": [
        "temp = \"i could play soccer all day, that is beneficial\"\n",
        "temp.split(\",\")"
      ],
      "metadata": {
        "colab": {
          "base_uri": "https://localhost:8080/"
        },
        "id": "_PKRdEEjlztn",
        "outputId": "cd713f27-4e82-48e8-c9d1-3177207ede2b"
      },
      "execution_count": 29,
      "outputs": [
        {
          "output_type": "execute_result",
          "data": {
            "text/plain": [
              "['i could play soccer all day', ' that is beneficial']"
            ]
          },
          "metadata": {},
          "execution_count": 29
        }
      ]
    },
    {
      "cell_type": "code",
      "source": [
        "temp = \"i could play soccer all day, that is beneficial\"\n",
        "temp.split(\"all\")"
      ],
      "metadata": {
        "colab": {
          "base_uri": "https://localhost:8080/"
        },
        "id": "hPedBOHLmVtO",
        "outputId": "d74fda0e-d58a-4d1e-cab4-b3c65bb5c78e"
      },
      "execution_count": 30,
      "outputs": [
        {
          "output_type": "execute_result",
          "data": {
            "text/plain": [
              "['i could play soccer ', ' day, that is beneficial']"
            ]
          },
          "metadata": {},
          "execution_count": 30
        }
      ]
    },
    {
      "cell_type": "code",
      "source": [
        "temp = \"i could play soccer all day, that is beneficial\"\n",
        "temp.split(\"is\")"
      ],
      "metadata": {
        "colab": {
          "base_uri": "https://localhost:8080/"
        },
        "id": "96GDiHuHmuyz",
        "outputId": "56e93c8a-1157-4492-c315-a2ba98feaa8e"
      },
      "execution_count": 31,
      "outputs": [
        {
          "output_type": "execute_result",
          "data": {
            "text/plain": [
              "['i could play soccer all day, that ', ' beneficial']"
            ]
          },
          "metadata": {},
          "execution_count": 31
        }
      ]
    },
    {
      "cell_type": "code",
      "source": [
        "temp = \"i could play soccer all day, that is beneficial\"\n",
        "print(temp.startswith('i'))\n",
        "print(temp.startswith('could',2))\n",
        "print(temp.startswith('could',1))"
      ],
      "metadata": {
        "colab": {
          "base_uri": "https://localhost:8080/"
        },
        "id": "QlViwoWumz-w",
        "outputId": "48374a82-d418-43cc-b2d9-a81c66854423"
      },
      "execution_count": 37,
      "outputs": [
        {
          "output_type": "stream",
          "name": "stdout",
          "text": [
            "True\n",
            "True\n",
            "False\n"
          ]
        }
      ]
    },
    {
      "cell_type": "code",
      "source": [
        "temp_str = \"    Hello   \"\n",
        "temp_str.strip()"
      ],
      "metadata": {
        "colab": {
          "base_uri": "https://localhost:8080/",
          "height": 37
        },
        "id": "lbq3JfmjnBWx",
        "outputId": "e9012cc3-165d-430a-b74c-8b5369aa1f66"
      },
      "execution_count": 39,
      "outputs": [
        {
          "output_type": "execute_result",
          "data": {
            "text/plain": [
              "'Hello'"
            ],
            "application/vnd.google.colaboratory.intrinsic+json": {
              "type": "string"
            }
          },
          "metadata": {},
          "execution_count": 39
        }
      ]
    },
    {
      "cell_type": "code",
      "source": [
        "#swap the uppercases and lowercases\n",
        "temp = \"i could play soccer ALLLl day, that is beneficial\"\n",
        "temp.swapcase()"
      ],
      "metadata": {
        "colab": {
          "base_uri": "https://localhost:8080/",
          "height": 37
        },
        "id": "U_XCZWTJnoUi",
        "outputId": "da8c7496-78a3-41ab-f871-969cce2315ef"
      },
      "execution_count": 41,
      "outputs": [
        {
          "output_type": "execute_result",
          "data": {
            "text/plain": [
              "'I COULD PLAY SOCCER alllL DAY, THAT IS BENEFICIAL'"
            ],
            "application/vnd.google.colaboratory.intrinsic+json": {
              "type": "string"
            }
          },
          "metadata": {},
          "execution_count": 41
        }
      ]
    },
    {
      "cell_type": "code",
      "source": [
        "#It change the evry first letter of each word into uppercase\n",
        "temp = \"i could play soccer all day, that is beneficial\"\n",
        "temp.title()"
      ],
      "metadata": {
        "colab": {
          "base_uri": "https://localhost:8080/",
          "height": 37
        },
        "id": "Ukoufo05n1D7",
        "outputId": "56e579aa-027a-43fb-9e94-d398a61d8367"
      },
      "execution_count": 42,
      "outputs": [
        {
          "output_type": "execute_result",
          "data": {
            "text/plain": [
              "'I Could Play Soccer All Day, That Is Beneficial'"
            ],
            "application/vnd.google.colaboratory.intrinsic+json": {
              "type": "string"
            }
          },
          "metadata": {},
          "execution_count": 42
        }
      ]
    },
    {
      "cell_type": "code",
      "source": [
        "#REmoves the duplicate from the old version\n",
        "temp_str = {83:80, 83:78}\n",
        "print(temp_str)"
      ],
      "metadata": {
        "colab": {
          "base_uri": "https://localhost:8080/"
        },
        "id": "P9ueikDzo0VS",
        "outputId": "b9ece6f1-e860-458c-b703-e2c4169e3bcc"
      },
      "execution_count": 44,
      "outputs": [
        {
          "output_type": "stream",
          "name": "stdout",
          "text": [
            "{83: 78}\n"
          ]
        }
      ]
    },
    {
      "cell_type": "code",
      "source": [
        "#Dictionary only works with the key\n",
        "temp_str ={\"brand\":\"ford\",'model':'mustang','year':1987,'year':1988}\n",
        "print(temp_str)\n",
        "print(temp_str['year'])"
      ],
      "metadata": {
        "colab": {
          "base_uri": "https://localhost:8080/"
        },
        "id": "4_blidMXpxMo",
        "outputId": "b0619a2b-aead-4d11-9971-82c9c1c38f3c"
      },
      "execution_count": 46,
      "outputs": [
        {
          "output_type": "stream",
          "name": "stdout",
          "text": [
            "{'brand': 'ford', 'model': 'mustang', 'year': 1988}\n",
            "1988\n"
          ]
        }
      ]
    },
    {
      "cell_type": "code",
      "source": [
        "thisdict = dict(name='Mayol', age=28, country='Nepal') #Key = 'Value'\n",
        "print(thisdict)"
      ],
      "metadata": {
        "colab": {
          "base_uri": "https://localhost:8080/"
        },
        "id": "SQJZtX_cqRdk",
        "outputId": "cb149412-d506-45c3-ec1d-99e582e954df"
      },
      "execution_count": 47,
      "outputs": [
        {
          "output_type": "stream",
          "name": "stdout",
          "text": [
            "{'name': 'Mayol', 'age': 28, 'country': 'Nepal'}\n"
          ]
        }
      ]
    },
    {
      "cell_type": "code",
      "source": [
        "#Assci Code value of S is 83 defaulty we replace it with 80 here which is P\n",
        "temp_dict= {83:80}\n",
        "temp= 'Hello Sam!' 'Shhh'\n",
        "temp.translate(temp_dict)\n",
        "temp_dict= {83:80,83:81,72:77}\n",
        "temp.translate(temp_dict)\n",
        "\n"
      ],
      "metadata": {
        "colab": {
          "base_uri": "https://localhost:8080/",
          "height": 37
        },
        "id": "1SWq9R_3qs4Y",
        "outputId": "a6eb1c78-3d49-43e5-e2dd-804c7130ffbb"
      },
      "execution_count": 53,
      "outputs": [
        {
          "output_type": "execute_result",
          "data": {
            "text/plain": [
              "'Mello Qam!Qhhh'"
            ],
            "application/vnd.google.colaboratory.intrinsic+json": {
              "type": "string"
            }
          },
          "metadata": {},
          "execution_count": 53
        }
      ]
    },
    {
      "cell_type": "code",
      "source": [
        "#It change every words into uppercase\n",
        "temp = \"i could play soccer all day, that is beneficial\"\n",
        "temp.upper()"
      ],
      "metadata": {
        "colab": {
          "base_uri": "https://localhost:8080/",
          "height": 37
        },
        "id": "XfhFC0qMrm3l",
        "outputId": "727a4ce9-6d20-4d16-a022-19d3795e84ce"
      },
      "execution_count": 54,
      "outputs": [
        {
          "output_type": "execute_result",
          "data": {
            "text/plain": [
              "'I COULD PLAY SOCCER ALL DAY, THAT IS BENEFICIAL'"
            ],
            "application/vnd.google.colaboratory.intrinsic+json": {
              "type": "string"
            }
          },
          "metadata": {},
          "execution_count": 54
        }
      ]
    },
    {
      "cell_type": "code",
      "source": [
        "#\n",
        "temp = \"i could play soccer all day, that is beneficial\"\n",
        "print(len(temp))\n",
        "print(temp.zfill(10))\n",
        "print(temp.zfill(50))"
      ],
      "metadata": {
        "colab": {
          "base_uri": "https://localhost:8080/"
        },
        "id": "KeNPi6jLuA0O",
        "outputId": "52a54900-aee4-46b4-da24-390d9339cfd0"
      },
      "execution_count": 56,
      "outputs": [
        {
          "output_type": "stream",
          "name": "stdout",
          "text": [
            "47\n",
            "i could play soccer all day, that is beneficial\n",
            "000i could play soccer all day, that is beneficial\n"
          ]
        }
      ]
    },
    {
      "cell_type": "code",
      "source": [],
      "metadata": {
        "id": "Pvf9bktbuX_R"
      },
      "execution_count": null,
      "outputs": []
    }
  ]
}