{
  "nbformat": 4,
  "nbformat_minor": 0,
  "metadata": {
    "colab": {
      "provenance": []
    },
    "kernelspec": {
      "name": "python3",
      "display_name": "Python 3"
    },
    "language_info": {
      "name": "python"
    }
  },
  "cells": [
    {
      "cell_type": "markdown",
      "source": [
        "#Function\n",
        "\n",
        "1.Built-in function 2.User Define function"
      ],
      "metadata": {
        "id": "sl8Wn37SHJYp"
      }
    },
    {
      "cell_type": "code",
      "source": [
        "# Type casting Functions\n",
        "\n",
        "int(), float(), complex(), bool(), str()\n",
        "list(), tuple(), set(), dict()"
      ],
      "metadata": {
        "id": "hQA58naBHLJn"
      },
      "execution_count": null,
      "outputs": []
    },
    {
      "cell_type": "code",
      "source": [
        "int1 = 1947\n",
        "\n",
        "print(float(int1))\n",
        "print(complex(int1))\n",
        "print(bool(int1))\n",
        "print(str(int1))\n",
        " #print(list(int1)) # TypeError : 'int' objectv is not iterable.\n",
        " #print(tuple(int1))# TypeError : 'int' objectv is not iterable.\n",
        " #print(set(int1))  # TypeError : 'int' objectv is not iterable.\n",
        " #print(dict(int1)) # TypeError : 'int' objectv is not iterable.\n"
      ],
      "metadata": {
        "colab": {
          "base_uri": "https://localhost:8080/"
        },
        "id": "R_4baGnhHiFx",
        "outputId": "8402d945-1f80-4f3b-e394-71706e33d308"
      },
      "execution_count": null,
      "outputs": [
        {
          "output_type": "stream",
          "name": "stdout",
          "text": [
            "1947.0\n",
            "(1947+0j)\n",
            "True\n",
            "1947\n"
          ]
        }
      ]
    },
    {
      "cell_type": "code",
      "source": [
        "#decimal => bin(), oct(), hexa()\n",
        "\n",
        "for i in range (0,100):\n",
        "  print('Decimal:',i)\n",
        "  print('Binary:' ,bin(i))\n",
        "  print('Octa Decimal:',oct(i))\n",
        "  print('Hexa Decimal:', hex(i))"
      ],
      "metadata": {
        "colab": {
          "base_uri": "https://localhost:8080/"
        },
        "id": "kojvVCJtH0ed",
        "outputId": "9c0ad5d7-afcb-4f8a-8d28-71e93af30661"
      },
      "execution_count": null,
      "outputs": [
        {
          "output_type": "stream",
          "name": "stdout",
          "text": [
            "Decimal: 0\n",
            "Binary: 0b0\n",
            "Octa Decimal: 0o0\n",
            "Hexa Decimal: 0x0\n",
            "Decimal: 1\n",
            "Binary: 0b1\n",
            "Octa Decimal: 0o1\n",
            "Hexa Decimal: 0x1\n",
            "Decimal: 2\n",
            "Binary: 0b10\n",
            "Octa Decimal: 0o2\n",
            "Hexa Decimal: 0x2\n",
            "Decimal: 3\n",
            "Binary: 0b11\n",
            "Octa Decimal: 0o3\n",
            "Hexa Decimal: 0x3\n",
            "Decimal: 4\n",
            "Binary: 0b100\n",
            "Octa Decimal: 0o4\n",
            "Hexa Decimal: 0x4\n",
            "Decimal: 5\n",
            "Binary: 0b101\n",
            "Octa Decimal: 0o5\n",
            "Hexa Decimal: 0x5\n",
            "Decimal: 6\n",
            "Binary: 0b110\n",
            "Octa Decimal: 0o6\n",
            "Hexa Decimal: 0x6\n",
            "Decimal: 7\n",
            "Binary: 0b111\n",
            "Octa Decimal: 0o7\n",
            "Hexa Decimal: 0x7\n",
            "Decimal: 8\n",
            "Binary: 0b1000\n",
            "Octa Decimal: 0o10\n",
            "Hexa Decimal: 0x8\n",
            "Decimal: 9\n",
            "Binary: 0b1001\n",
            "Octa Decimal: 0o11\n",
            "Hexa Decimal: 0x9\n",
            "Decimal: 10\n",
            "Binary: 0b1010\n",
            "Octa Decimal: 0o12\n",
            "Hexa Decimal: 0xa\n",
            "Decimal: 11\n",
            "Binary: 0b1011\n",
            "Octa Decimal: 0o13\n",
            "Hexa Decimal: 0xb\n",
            "Decimal: 12\n",
            "Binary: 0b1100\n",
            "Octa Decimal: 0o14\n",
            "Hexa Decimal: 0xc\n",
            "Decimal: 13\n",
            "Binary: 0b1101\n",
            "Octa Decimal: 0o15\n",
            "Hexa Decimal: 0xd\n",
            "Decimal: 14\n",
            "Binary: 0b1110\n",
            "Octa Decimal: 0o16\n",
            "Hexa Decimal: 0xe\n",
            "Decimal: 15\n",
            "Binary: 0b1111\n",
            "Octa Decimal: 0o17\n",
            "Hexa Decimal: 0xf\n",
            "Decimal: 16\n",
            "Binary: 0b10000\n",
            "Octa Decimal: 0o20\n",
            "Hexa Decimal: 0x10\n",
            "Decimal: 17\n",
            "Binary: 0b10001\n",
            "Octa Decimal: 0o21\n",
            "Hexa Decimal: 0x11\n",
            "Decimal: 18\n",
            "Binary: 0b10010\n",
            "Octa Decimal: 0o22\n",
            "Hexa Decimal: 0x12\n",
            "Decimal: 19\n",
            "Binary: 0b10011\n",
            "Octa Decimal: 0o23\n",
            "Hexa Decimal: 0x13\n",
            "Decimal: 20\n",
            "Binary: 0b10100\n",
            "Octa Decimal: 0o24\n",
            "Hexa Decimal: 0x14\n",
            "Decimal: 21\n",
            "Binary: 0b10101\n",
            "Octa Decimal: 0o25\n",
            "Hexa Decimal: 0x15\n",
            "Decimal: 22\n",
            "Binary: 0b10110\n",
            "Octa Decimal: 0o26\n",
            "Hexa Decimal: 0x16\n",
            "Decimal: 23\n",
            "Binary: 0b10111\n",
            "Octa Decimal: 0o27\n",
            "Hexa Decimal: 0x17\n",
            "Decimal: 24\n",
            "Binary: 0b11000\n",
            "Octa Decimal: 0o30\n",
            "Hexa Decimal: 0x18\n",
            "Decimal: 25\n",
            "Binary: 0b11001\n",
            "Octa Decimal: 0o31\n",
            "Hexa Decimal: 0x19\n",
            "Decimal: 26\n",
            "Binary: 0b11010\n",
            "Octa Decimal: 0o32\n",
            "Hexa Decimal: 0x1a\n",
            "Decimal: 27\n",
            "Binary: 0b11011\n",
            "Octa Decimal: 0o33\n",
            "Hexa Decimal: 0x1b\n",
            "Decimal: 28\n",
            "Binary: 0b11100\n",
            "Octa Decimal: 0o34\n",
            "Hexa Decimal: 0x1c\n",
            "Decimal: 29\n",
            "Binary: 0b11101\n",
            "Octa Decimal: 0o35\n",
            "Hexa Decimal: 0x1d\n",
            "Decimal: 30\n",
            "Binary: 0b11110\n",
            "Octa Decimal: 0o36\n",
            "Hexa Decimal: 0x1e\n",
            "Decimal: 31\n",
            "Binary: 0b11111\n",
            "Octa Decimal: 0o37\n",
            "Hexa Decimal: 0x1f\n",
            "Decimal: 32\n",
            "Binary: 0b100000\n",
            "Octa Decimal: 0o40\n",
            "Hexa Decimal: 0x20\n",
            "Decimal: 33\n",
            "Binary: 0b100001\n",
            "Octa Decimal: 0o41\n",
            "Hexa Decimal: 0x21\n",
            "Decimal: 34\n",
            "Binary: 0b100010\n",
            "Octa Decimal: 0o42\n",
            "Hexa Decimal: 0x22\n",
            "Decimal: 35\n",
            "Binary: 0b100011\n",
            "Octa Decimal: 0o43\n",
            "Hexa Decimal: 0x23\n",
            "Decimal: 36\n",
            "Binary: 0b100100\n",
            "Octa Decimal: 0o44\n",
            "Hexa Decimal: 0x24\n",
            "Decimal: 37\n",
            "Binary: 0b100101\n",
            "Octa Decimal: 0o45\n",
            "Hexa Decimal: 0x25\n",
            "Decimal: 38\n",
            "Binary: 0b100110\n",
            "Octa Decimal: 0o46\n",
            "Hexa Decimal: 0x26\n",
            "Decimal: 39\n",
            "Binary: 0b100111\n",
            "Octa Decimal: 0o47\n",
            "Hexa Decimal: 0x27\n",
            "Decimal: 40\n",
            "Binary: 0b101000\n",
            "Octa Decimal: 0o50\n",
            "Hexa Decimal: 0x28\n",
            "Decimal: 41\n",
            "Binary: 0b101001\n",
            "Octa Decimal: 0o51\n",
            "Hexa Decimal: 0x29\n",
            "Decimal: 42\n",
            "Binary: 0b101010\n",
            "Octa Decimal: 0o52\n",
            "Hexa Decimal: 0x2a\n",
            "Decimal: 43\n",
            "Binary: 0b101011\n",
            "Octa Decimal: 0o53\n",
            "Hexa Decimal: 0x2b\n",
            "Decimal: 44\n",
            "Binary: 0b101100\n",
            "Octa Decimal: 0o54\n",
            "Hexa Decimal: 0x2c\n",
            "Decimal: 45\n",
            "Binary: 0b101101\n",
            "Octa Decimal: 0o55\n",
            "Hexa Decimal: 0x2d\n",
            "Decimal: 46\n",
            "Binary: 0b101110\n",
            "Octa Decimal: 0o56\n",
            "Hexa Decimal: 0x2e\n",
            "Decimal: 47\n",
            "Binary: 0b101111\n",
            "Octa Decimal: 0o57\n",
            "Hexa Decimal: 0x2f\n",
            "Decimal: 48\n",
            "Binary: 0b110000\n",
            "Octa Decimal: 0o60\n",
            "Hexa Decimal: 0x30\n",
            "Decimal: 49\n",
            "Binary: 0b110001\n",
            "Octa Decimal: 0o61\n",
            "Hexa Decimal: 0x31\n",
            "Decimal: 50\n",
            "Binary: 0b110010\n",
            "Octa Decimal: 0o62\n",
            "Hexa Decimal: 0x32\n",
            "Decimal: 51\n",
            "Binary: 0b110011\n",
            "Octa Decimal: 0o63\n",
            "Hexa Decimal: 0x33\n",
            "Decimal: 52\n",
            "Binary: 0b110100\n",
            "Octa Decimal: 0o64\n",
            "Hexa Decimal: 0x34\n",
            "Decimal: 53\n",
            "Binary: 0b110101\n",
            "Octa Decimal: 0o65\n",
            "Hexa Decimal: 0x35\n",
            "Decimal: 54\n",
            "Binary: 0b110110\n",
            "Octa Decimal: 0o66\n",
            "Hexa Decimal: 0x36\n",
            "Decimal: 55\n",
            "Binary: 0b110111\n",
            "Octa Decimal: 0o67\n",
            "Hexa Decimal: 0x37\n",
            "Decimal: 56\n",
            "Binary: 0b111000\n",
            "Octa Decimal: 0o70\n",
            "Hexa Decimal: 0x38\n",
            "Decimal: 57\n",
            "Binary: 0b111001\n",
            "Octa Decimal: 0o71\n",
            "Hexa Decimal: 0x39\n",
            "Decimal: 58\n",
            "Binary: 0b111010\n",
            "Octa Decimal: 0o72\n",
            "Hexa Decimal: 0x3a\n",
            "Decimal: 59\n",
            "Binary: 0b111011\n",
            "Octa Decimal: 0o73\n",
            "Hexa Decimal: 0x3b\n",
            "Decimal: 60\n",
            "Binary: 0b111100\n",
            "Octa Decimal: 0o74\n",
            "Hexa Decimal: 0x3c\n",
            "Decimal: 61\n",
            "Binary: 0b111101\n",
            "Octa Decimal: 0o75\n",
            "Hexa Decimal: 0x3d\n",
            "Decimal: 62\n",
            "Binary: 0b111110\n",
            "Octa Decimal: 0o76\n",
            "Hexa Decimal: 0x3e\n",
            "Decimal: 63\n",
            "Binary: 0b111111\n",
            "Octa Decimal: 0o77\n",
            "Hexa Decimal: 0x3f\n",
            "Decimal: 64\n",
            "Binary: 0b1000000\n",
            "Octa Decimal: 0o100\n",
            "Hexa Decimal: 0x40\n",
            "Decimal: 65\n",
            "Binary: 0b1000001\n",
            "Octa Decimal: 0o101\n",
            "Hexa Decimal: 0x41\n",
            "Decimal: 66\n",
            "Binary: 0b1000010\n",
            "Octa Decimal: 0o102\n",
            "Hexa Decimal: 0x42\n",
            "Decimal: 67\n",
            "Binary: 0b1000011\n",
            "Octa Decimal: 0o103\n",
            "Hexa Decimal: 0x43\n",
            "Decimal: 68\n",
            "Binary: 0b1000100\n",
            "Octa Decimal: 0o104\n",
            "Hexa Decimal: 0x44\n",
            "Decimal: 69\n",
            "Binary: 0b1000101\n",
            "Octa Decimal: 0o105\n",
            "Hexa Decimal: 0x45\n",
            "Decimal: 70\n",
            "Binary: 0b1000110\n",
            "Octa Decimal: 0o106\n",
            "Hexa Decimal: 0x46\n",
            "Decimal: 71\n",
            "Binary: 0b1000111\n",
            "Octa Decimal: 0o107\n",
            "Hexa Decimal: 0x47\n",
            "Decimal: 72\n",
            "Binary: 0b1001000\n",
            "Octa Decimal: 0o110\n",
            "Hexa Decimal: 0x48\n",
            "Decimal: 73\n",
            "Binary: 0b1001001\n",
            "Octa Decimal: 0o111\n",
            "Hexa Decimal: 0x49\n",
            "Decimal: 74\n",
            "Binary: 0b1001010\n",
            "Octa Decimal: 0o112\n",
            "Hexa Decimal: 0x4a\n",
            "Decimal: 75\n",
            "Binary: 0b1001011\n",
            "Octa Decimal: 0o113\n",
            "Hexa Decimal: 0x4b\n",
            "Decimal: 76\n",
            "Binary: 0b1001100\n",
            "Octa Decimal: 0o114\n",
            "Hexa Decimal: 0x4c\n",
            "Decimal: 77\n",
            "Binary: 0b1001101\n",
            "Octa Decimal: 0o115\n",
            "Hexa Decimal: 0x4d\n",
            "Decimal: 78\n",
            "Binary: 0b1001110\n",
            "Octa Decimal: 0o116\n",
            "Hexa Decimal: 0x4e\n",
            "Decimal: 79\n",
            "Binary: 0b1001111\n",
            "Octa Decimal: 0o117\n",
            "Hexa Decimal: 0x4f\n",
            "Decimal: 80\n",
            "Binary: 0b1010000\n",
            "Octa Decimal: 0o120\n",
            "Hexa Decimal: 0x50\n",
            "Decimal: 81\n",
            "Binary: 0b1010001\n",
            "Octa Decimal: 0o121\n",
            "Hexa Decimal: 0x51\n",
            "Decimal: 82\n",
            "Binary: 0b1010010\n",
            "Octa Decimal: 0o122\n",
            "Hexa Decimal: 0x52\n",
            "Decimal: 83\n",
            "Binary: 0b1010011\n",
            "Octa Decimal: 0o123\n",
            "Hexa Decimal: 0x53\n",
            "Decimal: 84\n",
            "Binary: 0b1010100\n",
            "Octa Decimal: 0o124\n",
            "Hexa Decimal: 0x54\n",
            "Decimal: 85\n",
            "Binary: 0b1010101\n",
            "Octa Decimal: 0o125\n",
            "Hexa Decimal: 0x55\n",
            "Decimal: 86\n",
            "Binary: 0b1010110\n",
            "Octa Decimal: 0o126\n",
            "Hexa Decimal: 0x56\n",
            "Decimal: 87\n",
            "Binary: 0b1010111\n",
            "Octa Decimal: 0o127\n",
            "Hexa Decimal: 0x57\n",
            "Decimal: 88\n",
            "Binary: 0b1011000\n",
            "Octa Decimal: 0o130\n",
            "Hexa Decimal: 0x58\n",
            "Decimal: 89\n",
            "Binary: 0b1011001\n",
            "Octa Decimal: 0o131\n",
            "Hexa Decimal: 0x59\n",
            "Decimal: 90\n",
            "Binary: 0b1011010\n",
            "Octa Decimal: 0o132\n",
            "Hexa Decimal: 0x5a\n",
            "Decimal: 91\n",
            "Binary: 0b1011011\n",
            "Octa Decimal: 0o133\n",
            "Hexa Decimal: 0x5b\n",
            "Decimal: 92\n",
            "Binary: 0b1011100\n",
            "Octa Decimal: 0o134\n",
            "Hexa Decimal: 0x5c\n",
            "Decimal: 93\n",
            "Binary: 0b1011101\n",
            "Octa Decimal: 0o135\n",
            "Hexa Decimal: 0x5d\n",
            "Decimal: 94\n",
            "Binary: 0b1011110\n",
            "Octa Decimal: 0o136\n",
            "Hexa Decimal: 0x5e\n",
            "Decimal: 95\n",
            "Binary: 0b1011111\n",
            "Octa Decimal: 0o137\n",
            "Hexa Decimal: 0x5f\n",
            "Decimal: 96\n",
            "Binary: 0b1100000\n",
            "Octa Decimal: 0o140\n",
            "Hexa Decimal: 0x60\n",
            "Decimal: 97\n",
            "Binary: 0b1100001\n",
            "Octa Decimal: 0o141\n",
            "Hexa Decimal: 0x61\n",
            "Decimal: 98\n",
            "Binary: 0b1100010\n",
            "Octa Decimal: 0o142\n",
            "Hexa Decimal: 0x62\n",
            "Decimal: 99\n",
            "Binary: 0b1100011\n",
            "Octa Decimal: 0o143\n",
            "Hexa Decimal: 0x63\n"
          ]
        }
      ]
    },
    {
      "cell_type": "code",
      "source": [
        "#HELP FUNCTION:\n",
        "#PRINT FUNCTION\n",
        "help(print)"
      ],
      "metadata": {
        "colab": {
          "base_uri": "https://localhost:8080/"
        },
        "id": "7_7cmpWKJczA",
        "outputId": "185add5a-2de2-4588-85f3-b68a3a7396bb"
      },
      "execution_count": null,
      "outputs": [
        {
          "output_type": "stream",
          "name": "stdout",
          "text": [
            "Help on built-in function print in module builtins:\n",
            "\n",
            "print(...)\n",
            "    print(value, ..., sep=' ', end='\\n', file=sys.stdout, flush=False)\n",
            "    \n",
            "    Prints the values to a stream, or to sys.stdout by default.\n",
            "    Optional keyword arguments:\n",
            "    file:  a file-like object (stream); defaults to the current sys.stdout.\n",
            "    sep:   string inserted between values, default a space.\n",
            "    end:   string appended after the last value, default a newline.\n",
            "    flush: whether to forcibly flush the stream.\n",
            "\n"
          ]
        }
      ]
    },
    {
      "cell_type": "code",
      "source": [
        "\n",
        "#TYPE FUNCTION\n",
        "help(type)"
      ],
      "metadata": {
        "colab": {
          "base_uri": "https://localhost:8080/"
        },
        "id": "LXn3lunBLcg7",
        "outputId": "facbe28a-0d41-494f-ebe5-91c8599b8322"
      },
      "execution_count": null,
      "outputs": [
        {
          "output_type": "stream",
          "name": "stdout",
          "text": [
            "Help on class type in module builtins:\n",
            "\n",
            "class type(object)\n",
            " |  type(object) -> the object's type\n",
            " |  type(name, bases, dict, **kwds) -> a new type\n",
            " |  \n",
            " |  Methods defined here:\n",
            " |  \n",
            " |  __call__(self, /, *args, **kwargs)\n",
            " |      Call self as a function.\n",
            " |  \n",
            " |  __delattr__(self, name, /)\n",
            " |      Implement delattr(self, name).\n",
            " |  \n",
            " |  __dir__(self, /)\n",
            " |      Specialized __dir__ implementation for types.\n",
            " |  \n",
            " |  __getattribute__(self, name, /)\n",
            " |      Return getattr(self, name).\n",
            " |  \n",
            " |  __init__(self, /, *args, **kwargs)\n",
            " |      Initialize self.  See help(type(self)) for accurate signature.\n",
            " |  \n",
            " |  __instancecheck__(self, instance, /)\n",
            " |      Check if an object is an instance.\n",
            " |  \n",
            " |  __or__(self, value, /)\n",
            " |      Return self|value.\n",
            " |  \n",
            " |  __repr__(self, /)\n",
            " |      Return repr(self).\n",
            " |  \n",
            " |  __ror__(self, value, /)\n",
            " |      Return value|self.\n",
            " |  \n",
            " |  __setattr__(self, name, value, /)\n",
            " |      Implement setattr(self, name, value).\n",
            " |  \n",
            " |  __sizeof__(self, /)\n",
            " |      Return memory consumption of the type object.\n",
            " |  \n",
            " |  __subclasscheck__(self, subclass, /)\n",
            " |      Check if a class is a subclass.\n",
            " |  \n",
            " |  __subclasses__(self, /)\n",
            " |      Return a list of immediate subclasses.\n",
            " |  \n",
            " |  mro(self, /)\n",
            " |      Return a type's method resolution order.\n",
            " |  \n",
            " |  ----------------------------------------------------------------------\n",
            " |  Class methods defined here:\n",
            " |  \n",
            " |  __prepare__(...)\n",
            " |      __prepare__() -> dict\n",
            " |      used to create the namespace for the class statement\n",
            " |  \n",
            " |  ----------------------------------------------------------------------\n",
            " |  Static methods defined here:\n",
            " |  \n",
            " |  __new__(*args, **kwargs)\n",
            " |      Create and return a new object.  See help(type) for accurate signature.\n",
            " |  \n",
            " |  ----------------------------------------------------------------------\n",
            " |  Data descriptors defined here:\n",
            " |  \n",
            " |  __abstractmethods__\n",
            " |  \n",
            " |  __annotations__\n",
            " |  \n",
            " |  __dict__\n",
            " |  \n",
            " |  __text_signature__\n",
            " |  \n",
            " |  ----------------------------------------------------------------------\n",
            " |  Data and other attributes defined here:\n",
            " |  \n",
            " |  __base__ = <class 'object'>\n",
            " |      The base class of the class hierarchy.\n",
            " |      \n",
            " |      When called, it accepts no arguments and returns a new featureless\n",
            " |      instance that has no instance attributes and cannot be given any.\n",
            " |  \n",
            " |  \n",
            " |  __bases__ = (<class 'object'>,)\n",
            " |  \n",
            " |  __basicsize__ = 888\n",
            " |  \n",
            " |  __dictoffset__ = 264\n",
            " |  \n",
            " |  __flags__ = 2148031744\n",
            " |  \n",
            " |  __itemsize__ = 40\n",
            " |  \n",
            " |  __mro__ = (<class 'type'>, <class 'object'>)\n",
            " |  \n",
            " |  __weakrefoffset__ = 368\n",
            "\n"
          ]
        }
      ]
    },
    {
      "cell_type": "code",
      "source": [
        "#ITER FUNCTION:\n",
        "help(iter)"
      ],
      "metadata": {
        "colab": {
          "base_uri": "https://localhost:8080/"
        },
        "id": "JT5TzBTTLmMD",
        "outputId": "8e744d1e-550d-4113-9b35-6bef4797732c"
      },
      "execution_count": null,
      "outputs": [
        {
          "output_type": "stream",
          "name": "stdout",
          "text": [
            "Help on built-in function iter in module builtins:\n",
            "\n",
            "iter(...)\n",
            "    iter(iterable) -> iterator\n",
            "    iter(callable, sentinel) -> iterator\n",
            "    \n",
            "    Get an iterator from an object.  In the first form, the argument must\n",
            "    supply its own iterator, or be a sequence.\n",
            "    In the second form, the callable is called until it returns the sentinel.\n",
            "\n"
          ]
        }
      ]
    },
    {
      "cell_type": "code",
      "source": [
        "#INPUT FUNCTION:\n",
        "\n",
        "help(input)"
      ],
      "metadata": {
        "colab": {
          "base_uri": "https://localhost:8080/"
        },
        "id": "MHiqPdzmLsVh",
        "outputId": "24c5355f-2ddb-40a8-f16f-681bfef826f4"
      },
      "execution_count": null,
      "outputs": [
        {
          "output_type": "stream",
          "name": "stdout",
          "text": [
            "Help on method raw_input in module ipykernel.kernelbase:\n",
            "\n",
            "raw_input(prompt='') method of google.colab._kernel.Kernel instance\n",
            "    Forward raw_input to frontends\n",
            "    \n",
            "    Raises\n",
            "    ------\n",
            "    StdinNotImplementedError if active frontend doesn't support stdin.\n",
            "\n"
          ]
        }
      ]
    },
    {
      "cell_type": "code",
      "source": [
        "#USER DEFINE FUNCTION:\n",
        "\n",
        "def sum_of_two(a,b):\n",
        "  return( a + b)"
      ],
      "metadata": {
        "id": "SG-645XeL0Dw"
      },
      "execution_count": null,
      "outputs": []
    },
    {
      "cell_type": "code",
      "source": [
        "sum_of_two(1947,-1945)"
      ],
      "metadata": {
        "colab": {
          "base_uri": "https://localhost:8080/"
        },
        "id": "twDKPrWVMuSA",
        "outputId": "20bd93ad-636a-410c-dc20-9d254fc6cf18"
      },
      "execution_count": null,
      "outputs": [
        {
          "output_type": "execute_result",
          "data": {
            "text/plain": [
              "2"
            ]
          },
          "metadata": {},
          "execution_count": 12
        }
      ]
    },
    {
      "cell_type": "code",
      "source": [
        "sum_of_two(3.14,2.19)"
      ],
      "metadata": {
        "colab": {
          "base_uri": "https://localhost:8080/"
        },
        "id": "sKN0A3ECM0yl",
        "outputId": "97bd1b23-35e3-400b-a44b-0c8e8893b696"
      },
      "execution_count": null,
      "outputs": [
        {
          "output_type": "execute_result",
          "data": {
            "text/plain": [
              "5.33"
            ]
          },
          "metadata": {},
          "execution_count": 13
        }
      ]
    },
    {
      "cell_type": "code",
      "source": [
        "sum_of_two(12+3j,11+2j)"
      ],
      "metadata": {
        "colab": {
          "base_uri": "https://localhost:8080/"
        },
        "id": "ybIsJdxJM7IB",
        "outputId": "96498068-42e5-40b4-e1a3-28414397ec18"
      },
      "execution_count": null,
      "outputs": [
        {
          "output_type": "execute_result",
          "data": {
            "text/plain": [
              "(23+5j)"
            ]
          },
          "metadata": {},
          "execution_count": 14
        }
      ]
    },
    {
      "cell_type": "code",
      "source": [
        "sum_of_two(True, False)"
      ],
      "metadata": {
        "colab": {
          "base_uri": "https://localhost:8080/"
        },
        "id": "n4m7PB_2NBuO",
        "outputId": "d2043b5d-dca6-41b0-ec65-28cce29cec20"
      },
      "execution_count": null,
      "outputs": [
        {
          "output_type": "execute_result",
          "data": {
            "text/plain": [
              "1"
            ]
          },
          "metadata": {},
          "execution_count": 15
        }
      ]
    },
    {
      "cell_type": "code",
      "source": [
        "sum_of_two('Python','Programming')"
      ],
      "metadata": {
        "colab": {
          "base_uri": "https://localhost:8080/",
          "height": 37
        },
        "id": "z7VykeKcNHOo",
        "outputId": "824613a3-2009-47a1-f309-db7568e51490"
      },
      "execution_count": null,
      "outputs": [
        {
          "output_type": "execute_result",
          "data": {
            "text/plain": [
              "'PythonProgramming'"
            ],
            "application/vnd.google.colaboratory.intrinsic+json": {
              "type": "string"
            }
          },
          "metadata": {},
          "execution_count": 16
        }
      ]
    },
    {
      "cell_type": "code",
      "source": [
        "sum_of_two([1,2,3,4,5,6,7],[1,3,5,7,8])"
      ],
      "metadata": {
        "colab": {
          "base_uri": "https://localhost:8080/"
        },
        "id": "0-dxmBQUNR-_",
        "outputId": "5a72ccbd-0fc1-4182-a17c-ef14632281e6"
      },
      "execution_count": null,
      "outputs": [
        {
          "output_type": "execute_result",
          "data": {
            "text/plain": [
              "[1, 2, 3, 4, 5, 6, 7, 1, 3, 5, 7, 8]"
            ]
          },
          "metadata": {},
          "execution_count": 18
        }
      ]
    },
    {
      "cell_type": "code",
      "source": [
        "sum_of_two((12,34,5,6,77,5,),(12,45,67,88))"
      ],
      "metadata": {
        "colab": {
          "base_uri": "https://localhost:8080/"
        },
        "id": "ttTjPOWPNWk9",
        "outputId": "6bdb1bce-eb86-45f7-8bde-5245030c5e45"
      },
      "execution_count": null,
      "outputs": [
        {
          "output_type": "execute_result",
          "data": {
            "text/plain": [
              "(12, 34, 5, 6, 77, 5, 12, 45, 67, 88)"
            ]
          },
          "metadata": {},
          "execution_count": 19
        }
      ]
    },
    {
      "cell_type": "code",
      "source": [
        "sum_of_two({1,2,3,4,6,7,8},{2,43,56,7})"
      ],
      "metadata": {
        "colab": {
          "base_uri": "https://localhost:8080/",
          "height": 259
        },
        "id": "Z-hw0OmxNjiK",
        "outputId": "52c92fd1-ce31-4365-bbf6-70ace354e72a"
      },
      "execution_count": null,
      "outputs": [
        {
          "output_type": "error",
          "ename": "TypeError",
          "evalue": "ignored",
          "traceback": [
            "\u001b[0;31m---------------------------------------------------------------------------\u001b[0m",
            "\u001b[0;31mTypeError\u001b[0m                                 Traceback (most recent call last)",
            "\u001b[0;32m<ipython-input-20-11344461f6f2>\u001b[0m in \u001b[0;36m<cell line: 1>\u001b[0;34m()\u001b[0m\n\u001b[0;32m----> 1\u001b[0;31m \u001b[0msum_of_two\u001b[0m\u001b[0;34m(\u001b[0m\u001b[0;34m{\u001b[0m\u001b[0;36m1\u001b[0m\u001b[0;34m,\u001b[0m\u001b[0;36m2\u001b[0m\u001b[0;34m,\u001b[0m\u001b[0;36m3\u001b[0m\u001b[0;34m,\u001b[0m\u001b[0;36m4\u001b[0m\u001b[0;34m,\u001b[0m\u001b[0;36m6\u001b[0m\u001b[0;34m,\u001b[0m\u001b[0;36m7\u001b[0m\u001b[0;34m,\u001b[0m\u001b[0;36m8\u001b[0m\u001b[0;34m}\u001b[0m\u001b[0;34m,\u001b[0m\u001b[0;34m{\u001b[0m\u001b[0;36m2\u001b[0m\u001b[0;34m,\u001b[0m\u001b[0;36m43\u001b[0m\u001b[0;34m,\u001b[0m\u001b[0;36m56\u001b[0m\u001b[0;34m,\u001b[0m\u001b[0;36m7\u001b[0m\u001b[0;34m}\u001b[0m\u001b[0;34m)\u001b[0m\u001b[0;34m\u001b[0m\u001b[0;34m\u001b[0m\u001b[0m\n\u001b[0m",
            "\u001b[0;32m<ipython-input-11-d38c6648f14b>\u001b[0m in \u001b[0;36msum_of_two\u001b[0;34m(a, b)\u001b[0m\n\u001b[1;32m      2\u001b[0m \u001b[0;34m\u001b[0m\u001b[0m\n\u001b[1;32m      3\u001b[0m \u001b[0;32mdef\u001b[0m \u001b[0msum_of_two\u001b[0m\u001b[0;34m(\u001b[0m\u001b[0ma\u001b[0m\u001b[0;34m,\u001b[0m\u001b[0mb\u001b[0m\u001b[0;34m)\u001b[0m\u001b[0;34m:\u001b[0m\u001b[0;34m\u001b[0m\u001b[0;34m\u001b[0m\u001b[0m\n\u001b[0;32m----> 4\u001b[0;31m   \u001b[0;32mreturn\u001b[0m\u001b[0;34m(\u001b[0m \u001b[0ma\u001b[0m \u001b[0;34m+\u001b[0m \u001b[0mb\u001b[0m\u001b[0;34m)\u001b[0m\u001b[0;34m\u001b[0m\u001b[0;34m\u001b[0m\u001b[0m\n\u001b[0m",
            "\u001b[0;31mTypeError\u001b[0m: unsupported operand type(s) for +: 'set' and 'set'"
          ]
        }
      ]
    },
    {
      "cell_type": "code",
      "source": [
        "sum_of_two({'a':'apple','b':'ball'},{'d':'dog','e':'elephant'})"
      ],
      "metadata": {
        "colab": {
          "base_uri": "https://localhost:8080/",
          "height": 259
        },
        "id": "1CsE4Xl3Nqf9",
        "outputId": "f8f2c615-731a-4f38-c303-72f011ad325b"
      },
      "execution_count": null,
      "outputs": [
        {
          "output_type": "error",
          "ename": "TypeError",
          "evalue": "ignored",
          "traceback": [
            "\u001b[0;31m---------------------------------------------------------------------------\u001b[0m",
            "\u001b[0;31mTypeError\u001b[0m                                 Traceback (most recent call last)",
            "\u001b[0;32m<ipython-input-21-d81b69cd0e93>\u001b[0m in \u001b[0;36m<cell line: 1>\u001b[0;34m()\u001b[0m\n\u001b[0;32m----> 1\u001b[0;31m \u001b[0msum_of_two\u001b[0m\u001b[0;34m(\u001b[0m\u001b[0;34m{\u001b[0m\u001b[0;34m'a'\u001b[0m\u001b[0;34m:\u001b[0m\u001b[0;34m'apple'\u001b[0m\u001b[0;34m,\u001b[0m\u001b[0;34m'b'\u001b[0m\u001b[0;34m:\u001b[0m\u001b[0;34m'ball'\u001b[0m\u001b[0;34m}\u001b[0m\u001b[0;34m,\u001b[0m\u001b[0;34m{\u001b[0m\u001b[0;34m'd'\u001b[0m\u001b[0;34m:\u001b[0m\u001b[0;34m'dog'\u001b[0m\u001b[0;34m,\u001b[0m\u001b[0;34m'e'\u001b[0m\u001b[0;34m:\u001b[0m\u001b[0;34m'elephant'\u001b[0m\u001b[0;34m}\u001b[0m\u001b[0;34m)\u001b[0m\u001b[0;34m\u001b[0m\u001b[0;34m\u001b[0m\u001b[0m\n\u001b[0m",
            "\u001b[0;32m<ipython-input-11-d38c6648f14b>\u001b[0m in \u001b[0;36msum_of_two\u001b[0;34m(a, b)\u001b[0m\n\u001b[1;32m      2\u001b[0m \u001b[0;34m\u001b[0m\u001b[0m\n\u001b[1;32m      3\u001b[0m \u001b[0;32mdef\u001b[0m \u001b[0msum_of_two\u001b[0m\u001b[0;34m(\u001b[0m\u001b[0ma\u001b[0m\u001b[0;34m,\u001b[0m\u001b[0mb\u001b[0m\u001b[0;34m)\u001b[0m\u001b[0;34m:\u001b[0m\u001b[0;34m\u001b[0m\u001b[0;34m\u001b[0m\u001b[0m\n\u001b[0;32m----> 4\u001b[0;31m   \u001b[0;32mreturn\u001b[0m\u001b[0;34m(\u001b[0m \u001b[0ma\u001b[0m \u001b[0;34m+\u001b[0m \u001b[0mb\u001b[0m\u001b[0;34m)\u001b[0m\u001b[0;34m\u001b[0m\u001b[0;34m\u001b[0m\u001b[0m\n\u001b[0m",
            "\u001b[0;31mTypeError\u001b[0m: unsupported operand type(s) for +: 'dict' and 'dict'"
          ]
        }
      ]
    },
    {
      "cell_type": "markdown",
      "source": [
        "what is supervised learning and unsupervised learning\n",
        "and what is reinforcement learning. Definition of all three and  with three examples each. what are the types of algorithim which are part of supervised learning, unsupervised learning and reinforcement."
      ],
      "metadata": {
        "id": "YWOouZjIRxBR"
      }
    },
    {
      "cell_type": "code",
      "source": [
        "str1 = 'malayalam'\n",
        "\n",
        "if str1 == str1[::-1]:\n",
        "  print(\"The string is palindrome\")\n",
        "else:\n",
        "  print(\"This string is not palindrome\")"
      ],
      "metadata": {
        "colab": {
          "base_uri": "https://localhost:8080/"
        },
        "id": "rqzf1p_6N3QC",
        "outputId": "14696ee1-3dac-432c-8a0a-fa96929cfc2d"
      },
      "execution_count": null,
      "outputs": [
        {
          "output_type": "stream",
          "name": "stdout",
          "text": [
            "The string is palindrome\n"
          ]
        }
      ]
    },
    {
      "cell_type": "markdown",
      "source": [
        "* Python File Operation"
      ],
      "metadata": {
        "id": "1FPSb56dGgXt"
      }
    },
    {
      "cell_type": "code",
      "source": [
        "f = open('my_file_operation.txt','x') # # x is for creating a file."
      ],
      "metadata": {
        "id": "pqeQRs2xGjW2"
      },
      "execution_count": 1,
      "outputs": []
    },
    {
      "cell_type": "code",
      "source": [
        "f = open('my_file_operation.txt','w') #we cannot recreat particular file"
      ],
      "metadata": {
        "id": "yBiPujAKHDZE"
      },
      "execution_count": 2,
      "outputs": []
    },
    {
      "cell_type": "code",
      "source": [
        "f.write('This is my first file operation program.') #we can not read unknown file"
      ],
      "metadata": {
        "colab": {
          "base_uri": "https://localhost:8080/"
        },
        "id": "cM1U-NXFIJux",
        "outputId": "cdcbcc2d-b16d-4b91-cca7-b3b4d18c5271"
      },
      "execution_count": 3,
      "outputs": [
        {
          "output_type": "execute_result",
          "data": {
            "text/plain": [
              "40"
            ]
          },
          "metadata": {},
          "execution_count": 3
        }
      ]
    },
    {
      "cell_type": "code",
      "source": [
        "f = open('my_file_operation.txt', 'r')"
      ],
      "metadata": {
        "id": "_hQT2_arIiR2"
      },
      "execution_count": 4,
      "outputs": []
    },
    {
      "cell_type": "code",
      "source": [
        "f.read()"
      ],
      "metadata": {
        "colab": {
          "base_uri": "https://localhost:8080/",
          "height": 37
        },
        "id": "H9vdNwC1JlHI",
        "outputId": "e4503af8-bceb-4108-cb3f-b5dd843f0cd4"
      },
      "execution_count": 5,
      "outputs": [
        {
          "output_type": "execute_result",
          "data": {
            "text/plain": [
              "'This is my first file operation program.'"
            ],
            "application/vnd.google.colaboratory.intrinsic+json": {
              "type": "string"
            }
          },
          "metadata": {},
          "execution_count": 5
        }
      ]
    },
    {
      "cell_type": "code",
      "source": [
        "f = open('my_file_operation.txt', 'a')"
      ],
      "metadata": {
        "id": "ccI1IWgHJqyA"
      },
      "execution_count": 18,
      "outputs": []
    },
    {
      "cell_type": "code",
      "source": [
        "f.write('This is set of new text for my file my_file_operation.txt')"
      ],
      "metadata": {
        "colab": {
          "base_uri": "https://localhost:8080/"
        },
        "id": "Y3Zg66IuJzd1",
        "outputId": "5fd36813-eaa6-4a81-fb03-e5bc2b2b35f1"
      },
      "execution_count": 19,
      "outputs": [
        {
          "output_type": "execute_result",
          "data": {
            "text/plain": [
              "57"
            ]
          },
          "metadata": {},
          "execution_count": 19
        }
      ]
    },
    {
      "cell_type": "code",
      "source": [
        "f = open('my_file_operation.txt', 'r')"
      ],
      "metadata": {
        "id": "cK5io5NLJ3B9"
      },
      "execution_count": 20,
      "outputs": []
    },
    {
      "cell_type": "code",
      "source": [
        "f.read()"
      ],
      "metadata": {
        "colab": {
          "base_uri": "https://localhost:8080/",
          "height": 54
        },
        "id": "Edp7GfPTJ6C9",
        "outputId": "e478d684-2221-420c-f06c-2bd00433ceee"
      },
      "execution_count": 21,
      "outputs": [
        {
          "output_type": "execute_result",
          "data": {
            "text/plain": [
              "'This is my first file operation program.This is set of new text for my file my_file_operation.txtThis is set of new text for my file and my_file_operation.txtThis is set of new text for my file my_file_operation.txt'"
            ],
            "application/vnd.google.colaboratory.intrinsic+json": {
              "type": "string"
            }
          },
          "metadata": {},
          "execution_count": 21
        }
      ]
    },
    {
      "cell_type": "code",
      "source": [
        "f = open('This_is_my_another_file','x')"
      ],
      "metadata": {
        "id": "UpL7DQfbJ8i0"
      },
      "execution_count": 22,
      "outputs": []
    },
    {
      "cell_type": "code",
      "source": [
        "f.write('This is my second file operation program')"
      ],
      "metadata": {
        "colab": {
          "base_uri": "https://localhost:8080/"
        },
        "id": "6Hfl1Zq8L9V_",
        "outputId": "86b93322-17a5-4f28-d2ca-118bc6737697"
      },
      "execution_count": 23,
      "outputs": [
        {
          "output_type": "execute_result",
          "data": {
            "text/plain": [
              "40"
            ]
          },
          "metadata": {},
          "execution_count": 23
        }
      ]
    },
    {
      "cell_type": "code",
      "source": [
        "f = open('This_is_my_another_file','r')"
      ],
      "metadata": {
        "id": "lGKQkph3MLql"
      },
      "execution_count": 24,
      "outputs": []
    },
    {
      "cell_type": "code",
      "source": [
        "f.read()"
      ],
      "metadata": {
        "colab": {
          "base_uri": "https://localhost:8080/",
          "height": 37
        },
        "id": "isWMUPGGMUsD",
        "outputId": "260bb582-80ca-4adf-fdc1-3c6f53df1e08"
      },
      "execution_count": 25,
      "outputs": [
        {
          "output_type": "execute_result",
          "data": {
            "text/plain": [
              "'This is my second file operation program'"
            ],
            "application/vnd.google.colaboratory.intrinsic+json": {
              "type": "string"
            }
          },
          "metadata": {},
          "execution_count": 25
        }
      ]
    },
    {
      "cell_type": "code",
      "source": [
        "f = open('This_is_my_another_file','a')"
      ],
      "metadata": {
        "id": "67LhD6_vMW0G"
      },
      "execution_count": 26,
      "outputs": []
    },
    {
      "cell_type": "code",
      "source": [
        "f.write('This is set of another text for my another file.txt')"
      ],
      "metadata": {
        "colab": {
          "base_uri": "https://localhost:8080/"
        },
        "id": "Sy1tg12SMfvE",
        "outputId": "28bf4ded-ae4b-47aa-ddf8-eea3cab3ab5e"
      },
      "execution_count": 27,
      "outputs": [
        {
          "output_type": "execute_result",
          "data": {
            "text/plain": [
              "51"
            ]
          },
          "metadata": {},
          "execution_count": 27
        }
      ]
    },
    {
      "cell_type": "code",
      "source": [
        "f = open('This_is_my_another_file','r')"
      ],
      "metadata": {
        "id": "KU33jg6bMxSS"
      },
      "execution_count": 28,
      "outputs": []
    },
    {
      "cell_type": "code",
      "source": [
        "f.read()"
      ],
      "metadata": {
        "colab": {
          "base_uri": "https://localhost:8080/",
          "height": 37
        },
        "id": "1ObtXM6JM4_h",
        "outputId": "88ff210b-87cf-4efd-a0b4-c1eea587c30f"
      },
      "execution_count": 29,
      "outputs": [
        {
          "output_type": "execute_result",
          "data": {
            "text/plain": [
              "'This is my second file operation programThis is set of another text for my another file.txt'"
            ],
            "application/vnd.google.colaboratory.intrinsic+json": {
              "type": "string"
            }
          },
          "metadata": {},
          "execution_count": 29
        }
      ]
    },
    {
      "cell_type": "markdown",
      "source": [
        "*** Exception Handling***\n",
        "\n",
        "\n",
        "     1.syntax error\n",
        "     2.logical error\n",
        "     3.run time error"
      ],
      "metadata": {
        "id": "tCEodhbWPn3N"
      }
    },
    {
      "cell_type": "code",
      "source": [
        "print('My name is Mayol\")"
      ],
      "metadata": {
        "colab": {
          "base_uri": "https://localhost:8080/",
          "height": 140
        },
        "id": "NA8Z2v-iM6TJ",
        "outputId": "cd6a6e27-56da-476c-b22d-377ea2d2b2b2"
      },
      "execution_count": 30,
      "outputs": [
        {
          "output_type": "error",
          "ename": "SyntaxError",
          "evalue": "ignored",
          "traceback": [
            "\u001b[0;36m  File \u001b[0;32m\"<ipython-input-30-b8bfc5e38538>\"\u001b[0;36m, line \u001b[0;32m1\u001b[0m\n\u001b[0;31m    print('My name is Mayol\")\u001b[0m\n\u001b[0m          ^\u001b[0m\n\u001b[0;31mSyntaxError\u001b[0m\u001b[0;31m:\u001b[0m unterminated string literal (detected at line 1)\n"
          ]
        }
      ]
    },
    {
      "cell_type": "code",
      "source": [
        "for i in range(10)"
      ],
      "metadata": {
        "colab": {
          "base_uri": "https://localhost:8080/",
          "height": 140
        },
        "id": "3SxOSooUP3_s",
        "outputId": "797bf4b6-0201-4b12-c077-55781a882661"
      },
      "execution_count": 31,
      "outputs": [
        {
          "output_type": "error",
          "ename": "SyntaxError",
          "evalue": "ignored",
          "traceback": [
            "\u001b[0;36m  File \u001b[0;32m\"<ipython-input-31-9bf3d452bb2a>\"\u001b[0;36m, line \u001b[0;32m1\u001b[0m\n\u001b[0;31m    for i in range(10)\u001b[0m\n\u001b[0m                      ^\u001b[0m\n\u001b[0;31mSyntaxError\u001b[0m\u001b[0;31m:\u001b[0m expected ':'\n"
          ]
        }
      ]
    },
    {
      "cell_type": "code",
      "source": [
        "for i in range(10):\n",
        "print(i)"
      ],
      "metadata": {
        "colab": {
          "base_uri": "https://localhost:8080/",
          "height": 140
        },
        "id": "0GGXTQDuP7YJ",
        "outputId": "51cc9a36-c27f-4311-dfe6-8375d2f9b462"
      },
      "execution_count": 32,
      "outputs": [
        {
          "output_type": "error",
          "ename": "IndentationError",
          "evalue": "ignored",
          "traceback": [
            "\u001b[0;36m  File \u001b[0;32m\"<ipython-input-32-0c8aafc23d7e>\"\u001b[0;36m, line \u001b[0;32m2\u001b[0m\n\u001b[0;31m    print(i)\u001b[0m\n\u001b[0m    ^\u001b[0m\n\u001b[0;31mIndentationError\u001b[0m\u001b[0;31m:\u001b[0m expected an indented block after 'for' statement on line 1\n"
          ]
        }
      ]
    },
    {
      "cell_type": "code",
      "source": [
        "2+2 # There should be 5% tax should be applied in there.(logical error)"
      ],
      "metadata": {
        "colab": {
          "base_uri": "https://localhost:8080/"
        },
        "id": "0YunX-VUQHcy",
        "outputId": "f8b87a92-5e37-470b-a3cf-8a18776bb1e6"
      },
      "execution_count": 34,
      "outputs": [
        {
          "output_type": "execute_result",
          "data": {
            "text/plain": [
              "4"
            ]
          },
          "metadata": {},
          "execution_count": 34
        }
      ]
    },
    {
      "cell_type": "code",
      "source": [
        "f = open('my_file_operation1.txt','x')"
      ],
      "metadata": {
        "id": "7ulMsqCuQcmo"
      },
      "execution_count": 36,
      "outputs": []
    },
    {
      "cell_type": "code",
      "source": [
        "f = open('my_file_operation1.txt','x') #Run time error"
      ],
      "metadata": {
        "colab": {
          "base_uri": "https://localhost:8080/",
          "height": 174
        },
        "id": "a2OFJlS0RJJq",
        "outputId": "08db043c-b3f5-48a0-ff37-e5d59971146a"
      },
      "execution_count": 37,
      "outputs": [
        {
          "output_type": "error",
          "ename": "FileExistsError",
          "evalue": "ignored",
          "traceback": [
            "\u001b[0;31m---------------------------------------------------------------------------\u001b[0m",
            "\u001b[0;31mFileExistsError\u001b[0m                           Traceback (most recent call last)",
            "\u001b[0;32m<ipython-input-37-ad8a2c84a913>\u001b[0m in \u001b[0;36m<cell line: 1>\u001b[0;34m()\u001b[0m\n\u001b[0;32m----> 1\u001b[0;31m \u001b[0mf\u001b[0m \u001b[0;34m=\u001b[0m \u001b[0mopen\u001b[0m\u001b[0;34m(\u001b[0m\u001b[0;34m'my_file_operation1.txt'\u001b[0m\u001b[0;34m,\u001b[0m\u001b[0;34m'x'\u001b[0m\u001b[0;34m)\u001b[0m\u001b[0;34m\u001b[0m\u001b[0;34m\u001b[0m\u001b[0m\n\u001b[0m",
            "\u001b[0;31mFileExistsError\u001b[0m: [Errno 17] File exists: 'my_file_operation1.txt'"
          ]
        }
      ]
    },
    {
      "cell_type": "code",
      "source": [
        "try:\n",
        "  f = open('my_file_operation1.txt','x')\n",
        "except FileExistsError as fee:\n",
        "\n",
        "  print ('FileExistError Execption',fee)"
      ],
      "metadata": {
        "colab": {
          "base_uri": "https://localhost:8080/"
        },
        "id": "rhyruaNOROsl",
        "outputId": "ed6c4de4-e2df-4cb2-e714-dabd4a46c6ca"
      },
      "execution_count": 45,
      "outputs": [
        {
          "output_type": "stream",
          "name": "stdout",
          "text": [
            "FileExistError Execption [Errno 17] File exists: 'my_file_operation1.txt'\n"
          ]
        }
      ]
    },
    {
      "cell_type": "code",
      "source": [
        "#Index Error\n",
        "lst1 = [12,23,34,45,56,67,78,89,90,10,20,30,40,50,60,70,80,90,100]\n",
        "v_len = len(lst1)\n",
        "print(v_len,v_len+3)\n",
        "for i in range(v_len+3):\n",
        "  print('value inside my list ', lst1[i])"
      ],
      "metadata": {
        "colab": {
          "base_uri": "https://localhost:8080/",
          "height": 548
        },
        "id": "31qsewUJRiHt",
        "outputId": "d4c24dfd-fc99-4611-c58d-572742d426f2"
      },
      "execution_count": 48,
      "outputs": [
        {
          "output_type": "stream",
          "name": "stdout",
          "text": [
            "19 22\n",
            "value inside my list  12\n",
            "value inside my list  23\n",
            "value inside my list  34\n",
            "value inside my list  45\n",
            "value inside my list  56\n",
            "value inside my list  67\n",
            "value inside my list  78\n",
            "value inside my list  89\n",
            "value inside my list  90\n",
            "value inside my list  10\n",
            "value inside my list  20\n",
            "value inside my list  30\n",
            "value inside my list  40\n",
            "value inside my list  50\n",
            "value inside my list  60\n",
            "value inside my list  70\n",
            "value inside my list  80\n",
            "value inside my list  90\n",
            "value inside my list  100\n"
          ]
        },
        {
          "output_type": "error",
          "ename": "IndexError",
          "evalue": "ignored",
          "traceback": [
            "\u001b[0;31m---------------------------------------------------------------------------\u001b[0m",
            "\u001b[0;31mIndexError\u001b[0m                                Traceback (most recent call last)",
            "\u001b[0;32m<ipython-input-48-f466f1421896>\u001b[0m in \u001b[0;36m<cell line: 4>\u001b[0;34m()\u001b[0m\n\u001b[1;32m      3\u001b[0m \u001b[0mprint\u001b[0m\u001b[0;34m(\u001b[0m\u001b[0mv_len\u001b[0m\u001b[0;34m,\u001b[0m\u001b[0mv_len\u001b[0m\u001b[0;34m+\u001b[0m\u001b[0;36m3\u001b[0m\u001b[0;34m)\u001b[0m\u001b[0;34m\u001b[0m\u001b[0;34m\u001b[0m\u001b[0m\n\u001b[1;32m      4\u001b[0m \u001b[0;32mfor\u001b[0m \u001b[0mi\u001b[0m \u001b[0;32min\u001b[0m \u001b[0mrange\u001b[0m\u001b[0;34m(\u001b[0m\u001b[0mv_len\u001b[0m\u001b[0;34m+\u001b[0m\u001b[0;36m3\u001b[0m\u001b[0;34m)\u001b[0m\u001b[0;34m:\u001b[0m\u001b[0;34m\u001b[0m\u001b[0;34m\u001b[0m\u001b[0m\n\u001b[0;32m----> 5\u001b[0;31m   \u001b[0mprint\u001b[0m\u001b[0;34m(\u001b[0m\u001b[0;34m'value inside my list '\u001b[0m\u001b[0;34m,\u001b[0m \u001b[0mlst1\u001b[0m\u001b[0;34m[\u001b[0m\u001b[0mi\u001b[0m\u001b[0;34m]\u001b[0m\u001b[0;34m)\u001b[0m\u001b[0;34m\u001b[0m\u001b[0;34m\u001b[0m\u001b[0m\n\u001b[0m",
            "\u001b[0;31mIndexError\u001b[0m: list index out of range"
          ]
        }
      ]
    },
    {
      "cell_type": "code",
      "source": [
        "lst1 = [12,23,34,45,56,67,78,89,90,10,20,30,40,50,60,70,80,90,100]\n",
        "v_len = len(lst1)\n",
        "print(v_len, v_len+3)\n",
        "for i in range(v_len+3):\n",
        "  try:\n",
        "    print('value inside my list ', lst1[i])\n",
        "  except IndexError as ie:\n",
        "    print('IndexError Exception my list is of length ', v_len, 'and trying to fetch index ', v_len+3, ie)"
      ],
      "metadata": {
        "colab": {
          "base_uri": "https://localhost:8080/"
        },
        "id": "p1dcHOgOy65A",
        "outputId": "c1a07901-94f7-4113-83dc-3420e0fdaec4"
      },
      "execution_count": 49,
      "outputs": [
        {
          "output_type": "stream",
          "name": "stdout",
          "text": [
            "19 22\n",
            "value inside my list  12\n",
            "value inside my list  23\n",
            "value inside my list  34\n",
            "value inside my list  45\n",
            "value inside my list  56\n",
            "value inside my list  67\n",
            "value inside my list  78\n",
            "value inside my list  89\n",
            "value inside my list  90\n",
            "value inside my list  10\n",
            "value inside my list  20\n",
            "value inside my list  30\n",
            "value inside my list  40\n",
            "value inside my list  50\n",
            "value inside my list  60\n",
            "value inside my list  70\n",
            "value inside my list  80\n",
            "value inside my list  90\n",
            "value inside my list  100\n",
            "IndexError Exception my list is of length  19 and trying to fetch index  22 list index out of range\n",
            "IndexError Exception my list is of length  19 and trying to fetch index  22 list index out of range\n",
            "IndexError Exception my list is of length  19 and trying to fetch index  22 list index out of range\n"
          ]
        }
      ]
    },
    {
      "cell_type": "code",
      "source": [
        "#Attribute Error\n",
        "tup1 = (1,2,3,4,5,6,7,8,9,10)\n",
        "\n",
        "tup1.append(11)"
      ],
      "metadata": {
        "colab": {
          "base_uri": "https://localhost:8080/",
          "height": 208
        },
        "id": "-TM56G-Kz4ss",
        "outputId": "683eac8c-e73a-4684-8a95-8ff60ba42aed"
      },
      "execution_count": 50,
      "outputs": [
        {
          "output_type": "error",
          "ename": "AttributeError",
          "evalue": "ignored",
          "traceback": [
            "\u001b[0;31m---------------------------------------------------------------------------\u001b[0m",
            "\u001b[0;31mAttributeError\u001b[0m                            Traceback (most recent call last)",
            "\u001b[0;32m<ipython-input-50-1ae5af60fa56>\u001b[0m in \u001b[0;36m<cell line: 3>\u001b[0;34m()\u001b[0m\n\u001b[1;32m      1\u001b[0m \u001b[0mtup1\u001b[0m \u001b[0;34m=\u001b[0m \u001b[0;34m(\u001b[0m\u001b[0;36m1\u001b[0m\u001b[0;34m,\u001b[0m\u001b[0;36m2\u001b[0m\u001b[0;34m,\u001b[0m\u001b[0;36m3\u001b[0m\u001b[0;34m,\u001b[0m\u001b[0;36m4\u001b[0m\u001b[0;34m,\u001b[0m\u001b[0;36m5\u001b[0m\u001b[0;34m,\u001b[0m\u001b[0;36m6\u001b[0m\u001b[0;34m,\u001b[0m\u001b[0;36m7\u001b[0m\u001b[0;34m,\u001b[0m\u001b[0;36m8\u001b[0m\u001b[0;34m,\u001b[0m\u001b[0;36m9\u001b[0m\u001b[0;34m,\u001b[0m\u001b[0;36m10\u001b[0m\u001b[0;34m)\u001b[0m\u001b[0;34m\u001b[0m\u001b[0;34m\u001b[0m\u001b[0m\n\u001b[1;32m      2\u001b[0m \u001b[0;34m\u001b[0m\u001b[0m\n\u001b[0;32m----> 3\u001b[0;31m \u001b[0mtup1\u001b[0m\u001b[0;34m.\u001b[0m\u001b[0mappend\u001b[0m\u001b[0;34m(\u001b[0m\u001b[0;36m11\u001b[0m\u001b[0;34m)\u001b[0m\u001b[0;34m\u001b[0m\u001b[0;34m\u001b[0m\u001b[0m\n\u001b[0m",
            "\u001b[0;31mAttributeError\u001b[0m: 'tuple' object has no attribute 'append'"
          ]
        }
      ]
    },
    {
      "cell_type": "code",
      "source": [
        "tup1 = (1,2,3,4,5,6,7,8,9,10)\n",
        "try:\n",
        "  tup1.append(11)\n",
        "except AttributeError as ae:\n",
        "  print('AttributeError Exception ', ae)"
      ],
      "metadata": {
        "colab": {
          "base_uri": "https://localhost:8080/"
        },
        "id": "E6tWBrQh0vgA",
        "outputId": "22d16d7f-05f0-412b-89bd-6ee6ce538e78"
      },
      "execution_count": 51,
      "outputs": [
        {
          "output_type": "stream",
          "name": "stdout",
          "text": [
            "AttributeError Exception  'tuple' object has no attribute 'append'\n"
          ]
        }
      ]
    },
    {
      "cell_type": "code",
      "source": [
        "#TypeError\n",
        "a = 'Python'\n",
        "b = 10\n",
        "c = 'Programming'\n",
        "\n",
        "print(a+b+c)"
      ],
      "metadata": {
        "colab": {
          "base_uri": "https://localhost:8080/",
          "height": 208
        },
        "id": "SRdwwDub1DbI",
        "outputId": "9fe47455-2221-48ec-9d41-69ae00e2090e"
      },
      "execution_count": 52,
      "outputs": [
        {
          "output_type": "error",
          "ename": "TypeError",
          "evalue": "ignored",
          "traceback": [
            "\u001b[0;31m---------------------------------------------------------------------------\u001b[0m",
            "\u001b[0;31mTypeError\u001b[0m                                 Traceback (most recent call last)",
            "\u001b[0;32m<ipython-input-52-99ab24745270>\u001b[0m in \u001b[0;36m<cell line: 5>\u001b[0;34m()\u001b[0m\n\u001b[1;32m      3\u001b[0m \u001b[0mc\u001b[0m \u001b[0;34m=\u001b[0m \u001b[0;34m'Programming'\u001b[0m\u001b[0;34m\u001b[0m\u001b[0;34m\u001b[0m\u001b[0m\n\u001b[1;32m      4\u001b[0m \u001b[0;34m\u001b[0m\u001b[0m\n\u001b[0;32m----> 5\u001b[0;31m \u001b[0mprint\u001b[0m\u001b[0;34m(\u001b[0m\u001b[0ma\u001b[0m\u001b[0;34m+\u001b[0m\u001b[0mb\u001b[0m\u001b[0;34m+\u001b[0m\u001b[0mc\u001b[0m\u001b[0;34m)\u001b[0m\u001b[0;34m\u001b[0m\u001b[0;34m\u001b[0m\u001b[0m\n\u001b[0m",
            "\u001b[0;31mTypeError\u001b[0m: can only concatenate str (not \"int\") to str"
          ]
        }
      ]
    },
    {
      "cell_type": "code",
      "source": [
        "a = 'Python'\n",
        "b = 10\n",
        "c = 'Programming'\n",
        "try:\n",
        "  print(a+b+c)\n",
        "except TypeError as te:\n",
        "  print('TypeError Execption', te)"
      ],
      "metadata": {
        "colab": {
          "base_uri": "https://localhost:8080/"
        },
        "id": "N7BiYkNv1YYu",
        "outputId": "c61df869-6fc0-456a-f67f-ee5ec4898ab3"
      },
      "execution_count": 53,
      "outputs": [
        {
          "output_type": "stream",
          "name": "stdout",
          "text": [
            "TypeError Execption can only concatenate str (not \"int\") to str\n"
          ]
        }
      ]
    },
    {
      "cell_type": "code",
      "source": [
        "for i in range(10):\n",
        "print(i)"
      ],
      "metadata": {
        "colab": {
          "base_uri": "https://localhost:8080/",
          "height": 140
        },
        "id": "51tZ-sSN3Nv1",
        "outputId": "0adf345e-1ba1-41a4-afdf-1bea949e98ba"
      },
      "execution_count": 56,
      "outputs": [
        {
          "output_type": "error",
          "ename": "IndentationError",
          "evalue": "ignored",
          "traceback": [
            "\u001b[0;36m  File \u001b[0;32m\"<ipython-input-56-0c8aafc23d7e>\"\u001b[0;36m, line \u001b[0;32m2\u001b[0m\n\u001b[0;31m    print(i)\u001b[0m\n\u001b[0m    ^\u001b[0m\n\u001b[0;31mIndentationError\u001b[0m\u001b[0;31m:\u001b[0m expected an indented block after 'for' statement on line 1\n"
          ]
        }
      ]
    },
    {
      "cell_type": "code",
      "source": [
        "#Indentation Error\n",
        "try:\n",
        "  for i in range(10):\n",
        "  print(i)\n",
        "except IndentationError as ie:\n",
        "   print('IndentationError', ie)"
      ],
      "metadata": {
        "colab": {
          "base_uri": "https://localhost:8080/",
          "height": 140
        },
        "id": "L7IMA9fY105k",
        "outputId": "d3e0d766-bba5-4f7b-d814-aee544733d05"
      },
      "execution_count": 57,
      "outputs": [
        {
          "output_type": "error",
          "ename": "IndentationError",
          "evalue": "ignored",
          "traceback": [
            "\u001b[0;36m  File \u001b[0;32m\"<ipython-input-57-6ec2c1a268cb>\"\u001b[0;36m, line \u001b[0;32m4\u001b[0m\n\u001b[0;31m    print(i)\u001b[0m\n\u001b[0m    ^\u001b[0m\n\u001b[0;31mIndentationError\u001b[0m\u001b[0;31m:\u001b[0m expected an indented block after 'for' statement on line 3\n"
          ]
        }
      ]
    },
    {
      "cell_type": "code",
      "source": [
        "try:\n",
        "  for i in range(10):\n",
        "   print(i)\n",
        "except IndentationError as ie:\n",
        "   print('IndentationError', ie)"
      ],
      "metadata": {
        "colab": {
          "base_uri": "https://localhost:8080/"
        },
        "id": "EIBjmZNu3QMq",
        "outputId": "66f3a35d-2ee5-4266-c80c-35688baf4e58"
      },
      "execution_count": 61,
      "outputs": [
        {
          "output_type": "stream",
          "name": "stdout",
          "text": [
            "0\n",
            "1\n",
            "2\n",
            "3\n",
            "4\n",
            "5\n",
            "6\n",
            "7\n",
            "8\n",
            "9\n"
          ]
        }
      ]
    },
    {
      "cell_type": "code",
      "source": [
        "num = (1,2,3,4,5,6)\n",
        "odd_num = 1\n",
        "for num in range(1,7):\n",
        "  if num == odd_num:\n",
        "    odd_num.append(numbers)"
      ],
      "metadata": {
        "colab": {
          "base_uri": "https://localhost:8080/",
          "height": 208
        },
        "id": "MjesLMrY3Wjz",
        "outputId": "f7c43841-156a-4be9-da99-05e8c3450b26"
      },
      "execution_count": 67,
      "outputs": [
        {
          "output_type": "error",
          "ename": "AttributeError",
          "evalue": "ignored",
          "traceback": [
            "\u001b[0;31m---------------------------------------------------------------------------\u001b[0m",
            "\u001b[0;31mAttributeError\u001b[0m                            Traceback (most recent call last)",
            "\u001b[0;32m<ipython-input-67-2be7af61a3ee>\u001b[0m in \u001b[0;36m<cell line: 3>\u001b[0;34m()\u001b[0m\n\u001b[1;32m      3\u001b[0m \u001b[0;32mfor\u001b[0m \u001b[0mnum\u001b[0m \u001b[0;32min\u001b[0m \u001b[0mrange\u001b[0m\u001b[0;34m(\u001b[0m\u001b[0;36m1\u001b[0m\u001b[0;34m,\u001b[0m\u001b[0;36m7\u001b[0m\u001b[0;34m)\u001b[0m\u001b[0;34m:\u001b[0m\u001b[0;34m\u001b[0m\u001b[0;34m\u001b[0m\u001b[0m\n\u001b[1;32m      4\u001b[0m   \u001b[0;32mif\u001b[0m \u001b[0mnum\u001b[0m \u001b[0;34m==\u001b[0m \u001b[0modd_num\u001b[0m\u001b[0;34m:\u001b[0m\u001b[0;34m\u001b[0m\u001b[0;34m\u001b[0m\u001b[0m\n\u001b[0;32m----> 5\u001b[0;31m     \u001b[0modd_num\u001b[0m\u001b[0;34m.\u001b[0m\u001b[0mappend\u001b[0m\u001b[0;34m(\u001b[0m\u001b[0mnumbers\u001b[0m\u001b[0;34m)\u001b[0m\u001b[0;34m\u001b[0m\u001b[0;34m\u001b[0m\u001b[0m\n\u001b[0m",
            "\u001b[0;31mAttributeError\u001b[0m: 'int' object has no attribute 'append'"
          ]
        }
      ]
    },
    {
      "cell_type": "code",
      "source": [
        "num = (1,2,3,4,5,6)\n",
        "odd_num = 1\n",
        "for num in range(1,7):\n",
        "  if num == odd_num:\n",
        "\n",
        "    try:\n",
        "      odd_num.append(numbers)\n",
        "    except AttributeError as ae:\n",
        "      print('AttributeError',ae)"
      ],
      "metadata": {
        "colab": {
          "base_uri": "https://localhost:8080/"
        },
        "id": "ivgX7a1V4BpI",
        "outputId": "265ba942-1fb6-4f3d-bede-7e10d2cb9d73"
      },
      "execution_count": 72,
      "outputs": [
        {
          "output_type": "stream",
          "name": "stdout",
          "text": [
            "AttributeError 'int' object has no attribute 'append'\n"
          ]
        }
      ]
    },
    {
      "cell_type": "code",
      "source": [],
      "metadata": {
        "id": "R7JCh5DI46sz"
      },
      "execution_count": null,
      "outputs": []
    }
  ]
}