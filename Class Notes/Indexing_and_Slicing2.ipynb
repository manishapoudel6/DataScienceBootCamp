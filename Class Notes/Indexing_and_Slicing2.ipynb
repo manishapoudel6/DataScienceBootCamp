{
  "nbformat": 4,
  "nbformat_minor": 0,
  "metadata": {
    "colab": {
      "provenance": []
    },
    "kernelspec": {
      "name": "python3",
      "display_name": "Python 3"
    },
    "language_info": {
      "name": "python"
    }
  },
  "cells": [
    {
      "cell_type": "code",
      "execution_count": null,
      "metadata": {
        "colab": {
          "base_uri": "https://localhost:8080/"
        },
        "id": "2IwV21ff5XlF",
        "outputId": "45d3214e-2559-4555-c100-efd369285771"
      },
      "outputs": [
        {
          "output_type": "stream",
          "name": "stdout",
          "text": [
            "Peppa\n",
            "prefer\n",
            "Python\n",
            "Programming\n",
            "gnimmargorP\n",
            "nohtyP\n",
            "referp\n",
            "appeP\n"
          ]
        }
      ],
      "source": [
        "str1 = 'Peppa prefer Python Programming'\n",
        "\n",
        "print (str1[0:5:1])\n",
        "print (str1[6:12])\n",
        "print (str1[13:19:1])\n",
        "print (str1[20:31])\n",
        "print (str1[-1:-12:-1]) #-1 represent we are moving from right to left\n",
        "print (str1[-13:-19:-1])\n",
        "print (str1[-20:-26:-1])\n",
        "print (str1[-27:-32:-1])"
      ]
    },
    {
      "cell_type": "code",
      "source": [],
      "metadata": {
        "id": "TiQoMJDtFtIj"
      },
      "execution_count": null,
      "outputs": []
    },
    {
      "cell_type": "markdown",
      "source": [],
      "metadata": {
        "id": "x5Mr9NoZ-nSs"
      }
    },
    {
      "cell_type": "code",
      "source": [
        "#negative index and neg slicing\n",
        "\n",
        "str = 'Datasciencebootcamp'\n",
        "print(str[::1])\n",
        "print(str[::-1])\n",
        "print(str[-1:-9:-1])\n",
        "print(str[-9::-1])"
      ],
      "metadata": {
        "colab": {
          "base_uri": "https://localhost:8080/"
        },
        "id": "XAJ0YbbR65dU",
        "outputId": "99e24a84-ecdf-460b-a3da-a9746ea2d33b"
      },
      "execution_count": null,
      "outputs": [
        {
          "output_type": "stream",
          "name": "stdout",
          "text": [
            "Datasciencebootcamp\n",
            "pmactoobecneicsataD\n",
            "pmactoob\n",
            "ecneicsataD\n"
          ]
        }
      ]
    },
    {
      "cell_type": "code",
      "source": [
        "str1 = 'VenkataNarasimhaRajuvaripeta'\n",
        "print(str1[-1:-13:-1])\n",
        "print(str1[-13:-22:-1])\n",
        "print(str1[-22:-29:-1])\n",
        "\n"
      ],
      "metadata": {
        "colab": {
          "base_uri": "https://localhost:8080/"
        },
        "id": "WsPb90LS9Mnw",
        "outputId": "d2f32952-ab1e-4239-a042-5d82d33ddf8b"
      },
      "execution_count": null,
      "outputs": [
        {
          "output_type": "stream",
          "name": "stdout",
          "text": [
            "atepiravujaR\n",
            "ahmisaraN\n",
            "atakneV\n"
          ]
        }
      ]
    },
    {
      "cell_type": "code",
      "source": [
        "str1 = 'VenkataNarasimhaRajuvaripeta'\n",
        "print(str1)\n",
        "str1[-22::-1], str1[-13:-22:-1], str1[-22:-29:-1]"
      ],
      "metadata": {
        "colab": {
          "base_uri": "https://localhost:8080/"
        },
        "id": "FNyvrefpB9fz",
        "outputId": "cce3a2bc-0702-4966-d8f0-3d25306f3dcf"
      },
      "execution_count": null,
      "outputs": [
        {
          "output_type": "stream",
          "name": "stdout",
          "text": [
            "VenkataNarasimhaRajuvaripeta\n"
          ]
        },
        {
          "output_type": "execute_result",
          "data": {
            "text/plain": [
              "('atakneV', 'ahmisaraN', 'atakneV')"
            ]
          },
          "metadata": {},
          "execution_count": 39
        }
      ]
    },
    {
      "cell_type": "code",
      "source": [
        "#Positive Indexing and Negative Slicing\n",
        "str1 = 'Peppa prefer Python Programming'\n",
        "\n",
        "print(str1)\n",
        "str1[4::-1], str1[11:5:-1], str1[18:12:-1], str1[30:19:-1]\n"
      ],
      "metadata": {
        "colab": {
          "base_uri": "https://localhost:8080/"
        },
        "id": "3j8lBK4oFvjA",
        "outputId": "fdba8f1e-bba0-48f4-d8c8-e51c81ee0c1c"
      },
      "execution_count": null,
      "outputs": [
        {
          "output_type": "stream",
          "name": "stdout",
          "text": [
            "Peppa prefer Python Programming\n"
          ]
        },
        {
          "output_type": "execute_result",
          "data": {
            "text/plain": [
              "('appeP', 'referp', 'nohtyP', 'gnimmargorP')"
            ]
          },
          "metadata": {},
          "execution_count": 54
        }
      ]
    },
    {
      "cell_type": "code",
      "source": [
        "str2 = \"Peppa prefer Python Programming\"\n",
        "\n",
        "print(str2)\n",
        "str2[-27::-1], str2[-20:-26:-1], str2[-13:-19:-1], str2[-1:-12:-1]"
      ],
      "metadata": {
        "colab": {
          "base_uri": "https://localhost:8080/"
        },
        "id": "_Jq8vBDBGIO3",
        "outputId": "1e906c83-aaf1-45a3-fdb6-525321f3d1c4"
      },
      "execution_count": null,
      "outputs": [
        {
          "output_type": "stream",
          "name": "stdout",
          "text": [
            "Peppa prefer Python Programming\n"
          ]
        },
        {
          "output_type": "execute_result",
          "data": {
            "text/plain": [
              "('appeP', 'referp', 'nohtyP', 'gnimmargorP')"
            ]
          },
          "metadata": {},
          "execution_count": 69
        }
      ]
    },
    {
      "cell_type": "code",
      "source": [
        "#Negative indexing and Positive Slicing\n",
        "str1 = 'SrinivasaRamanujanAiyangar'\n",
        "\n",
        "str1[-26]"
      ],
      "metadata": {
        "id": "IvaSIRaqH3zb"
      },
      "execution_count": null,
      "outputs": []
    },
    {
      "cell_type": "code",
      "source": [
        "str1 = 'Venkatanarasimharajuvaripeta'\n",
        "print(str1)\n",
        "str1[-28:-21:1], str1[-21:-12:1], str1[-12::]"
      ],
      "metadata": {
        "colab": {
          "base_uri": "https://localhost:8080/"
        },
        "id": "cgSyIeiCKg2E",
        "outputId": "59085f0b-adeb-4fe9-93fc-534cf3542309"
      },
      "execution_count": null,
      "outputs": [
        {
          "output_type": "stream",
          "name": "stdout",
          "text": [
            "Venkatanarasimharajuvaripeta\n"
          ]
        },
        {
          "output_type": "execute_result",
          "data": {
            "text/plain": [
              "('Venkata', 'narasimha', 'rajuvaripeta')"
            ]
          },
          "metadata": {},
          "execution_count": 80
        }
      ]
    },
    {
      "cell_type": "code",
      "source": [
        "str1 = 'Venkatanarasimharajuvaripeta'\n",
        "print(str1)\n",
        "str1[-28:-21:], str1[-21:-12:], str1[-12::]"
      ],
      "metadata": {
        "colab": {
          "base_uri": "https://localhost:8080/"
        },
        "id": "SpoRQ3kzKwv1",
        "outputId": "43ef250a-0f51-40e1-d44e-ddfcdca6a382"
      },
      "execution_count": null,
      "outputs": [
        {
          "output_type": "stream",
          "name": "stdout",
          "text": [
            "Venkatanarasimharajuvaripeta\n"
          ]
        },
        {
          "output_type": "execute_result",
          "data": {
            "text/plain": [
              "('Venkata', 'narasimha', 'rajuvaripeta')"
            ]
          },
          "metadata": {},
          "execution_count": 81
        }
      ]
    },
    {
      "cell_type": "code",
      "source": [
        "#List,\n",
        "lst1 = ['apple', 'banana', 'cherries', 'dates', 'eggfruit', 'fig', 'grapes', 'honeyfruit', 'icefruit']\n",
        "print(lst1)\n",
        "print(type(lst1))"
      ],
      "metadata": {
        "colab": {
          "base_uri": "https://localhost:8080/"
        },
        "id": "4b79K5IkMJd4",
        "outputId": "fdfd4cdf-f78e-4118-e335-e50283c98cd4"
      },
      "execution_count": null,
      "outputs": [
        {
          "output_type": "stream",
          "name": "stdout",
          "text": [
            "['apple', 'banana', 'cherries', 'dates', 'eggfruit', 'fig', 'grapes', 'honeyfruit', 'icefruit']\n",
            "<class 'list'>\n"
          ]
        }
      ]
    },
    {
      "cell_type": "code",
      "source": [
        "lst1[0], lst1[1], lst1[2], lst1[3], lst1[4], lst1[5], lst1[6], lst1[7]"
      ],
      "metadata": {
        "colab": {
          "base_uri": "https://localhost:8080/"
        },
        "id": "ibFtyXmDN8VM",
        "outputId": "9871227a-a2ce-4a49-89e6-fdebc2282654"
      },
      "execution_count": null,
      "outputs": [
        {
          "output_type": "execute_result",
          "data": {
            "text/plain": [
              "('apple',\n",
              " 'banana',\n",
              " 'cherries',\n",
              " 'dates',\n",
              " 'eggfruit',\n",
              " 'fig',\n",
              " 'grapes',\n",
              " 'honeyfruit')"
            ]
          },
          "metadata": {},
          "execution_count": 83
        }
      ]
    },
    {
      "cell_type": "code",
      "source": [
        "#Positive indexing and pos slicing\n",
        "lst1[::]\n",
        "lst1[0::]\n",
        "lst1[:len(lst1):]\n",
        "lst1[::1]\n",
        "lst1[0:len(lst1):1]\n",
        "\n",
        "\n",
        "lst1[::-1]\n",
        "lst1[-1:-9:-1]\n",
        "lst1[-1::-1]"
      ],
      "metadata": {
        "colab": {
          "base_uri": "https://localhost:8080/"
        },
        "id": "4mTg_3GOOM57",
        "outputId": "b3b2c01e-ebe5-4068-fb51-3310886be023"
      },
      "execution_count": null,
      "outputs": [
        {
          "output_type": "execute_result",
          "data": {
            "text/plain": [
              "['icefruit',\n",
              " 'honeyfruit',\n",
              " 'grapes',\n",
              " 'fig',\n",
              " 'eggfruit',\n",
              " 'dates',\n",
              " 'cherries',\n",
              " 'banana',\n",
              " 'apple']"
            ]
          },
          "metadata": {},
          "execution_count": 91
        }
      ]
    },
    {
      "cell_type": "code",
      "source": [
        "lst1 = ['apple', 'banana', 'cherries', 'dates', 'eggfruit', 'fig', 'grapes', 'honeyfruit', 'icefruit']\n",
        "print(lst1)\n",
        "\n",
        "lst1[0], lst1[1], lst1[2], lst1[3], lst1[4], lst1[5], lst1[6], lst1[7]\n",
        "lst1[9:-1]\n"
      ],
      "metadata": {
        "colab": {
          "base_uri": "https://localhost:8080/"
        },
        "id": "gio2pDKlOQcc",
        "outputId": "537258b2-af45-40cd-9f5f-f5441d6c039c"
      },
      "execution_count": null,
      "outputs": [
        {
          "output_type": "stream",
          "name": "stdout",
          "text": [
            "['apple', 'banana', 'cherries', 'dates', 'eggfruit', 'fig', 'grapes', 'honeyfruit', 'icefruit']\n"
          ]
        },
        {
          "output_type": "execute_result",
          "data": {
            "text/plain": [
              "[]"
            ]
          },
          "metadata": {},
          "execution_count": 96
        }
      ]
    },
    {
      "cell_type": "code",
      "source": [
        "list = ['One','Two','Three','Four','Five']\n",
        "print(list)\n",
        "print(list[::]) # +ve indexing and positive slicing\n",
        "print(list[5::-1]) #+ve indexing and negative slicing\n",
        "print(list[-1:-5:-1]) #-ve indexing and negative slicing\n",
        "print(list[-5:-2:1]) #-ve indexing and positive slicing\n",
        "\n"
      ],
      "metadata": {
        "colab": {
          "base_uri": "https://localhost:8080/"
        },
        "id": "UzcfBR86POqv",
        "outputId": "4540862d-297c-49f9-ea77-bca2c889de12"
      },
      "execution_count": null,
      "outputs": [
        {
          "output_type": "stream",
          "name": "stdout",
          "text": [
            "['One', 'Two', 'Three', 'Four', 'Five']\n",
            "['One', 'Two', 'Three', 'Four', 'Five']\n",
            "['Five', 'Four', 'Three', 'Two', 'One']\n",
            "['Five', 'Four', 'Three', 'Two']\n",
            "['One', 'Two', 'Three']\n"
          ]
        }
      ]
    },
    {
      "cell_type": "code",
      "source": [
        "tup = ('apple','house','car','phone','lumber')\n",
        "print(tup)"
      ],
      "metadata": {
        "colab": {
          "base_uri": "https://localhost:8080/"
        },
        "id": "-VRHHJs3QTS8",
        "outputId": "5eee499e-9ec6-4a5f-9037-e4b7d0d68db8"
      },
      "execution_count": null,
      "outputs": [
        {
          "output_type": "stream",
          "name": "stdout",
          "text": [
            "('apple', 'house', 'car', 'phone', 'lumber')\n"
          ]
        }
      ]
    },
    {
      "cell_type": "code",
      "source": [
        "print(tup[0:5]) #+ve indexing and +ve slicing\n",
        "print(tup[4::-1]) #+ve indexing and -ve slicing\n",
        "print(tup[-2:-5:-1]) #-ve indexing and -ve slicing\n",
        "print(tup[-5::]) #-ve indexing and +ve slicing"
      ],
      "metadata": {
        "colab": {
          "base_uri": "https://localhost:8080/"
        },
        "id": "vODARmoVT5HV",
        "outputId": "5198b024-4cc2-4e60-a28c-b8403a027eeb"
      },
      "execution_count": null,
      "outputs": [
        {
          "output_type": "stream",
          "name": "stdout",
          "text": [
            "('apple', 'house', 'car', 'phone', 'lumber')\n",
            "('lumber', 'phone', 'car', 'house', 'apple')\n",
            "('phone', 'car', 'house')\n",
            "('apple', 'house', 'car', 'phone', 'lumber')\n"
          ]
        }
      ]
    },
    {
      "cell_type": "code",
      "source": [],
      "metadata": {
        "id": "SErXeTAeUGim"
      },
      "execution_count": null,
      "outputs": []
    }
  ]
}