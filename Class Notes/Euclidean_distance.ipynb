{
  "nbformat": 4,
  "nbformat_minor": 0,
  "metadata": {
    "colab": {
      "provenance": []
    },
    "kernelspec": {
      "name": "python3",
      "display_name": "Python 3"
    },
    "language_info": {
      "name": "python"
    }
  },
  "cells": [
    {
      "cell_type": "markdown",
      "source": [
        "Find the Euclidean distance between the points (2, 3) and (4, 1).\n",
        "Find the distance between the points (6, 2) and (9, 1).\n",
        "Determine the Euclidean distance between the points (3, 4) and (6, 7)"
      ],
      "metadata": {
        "id": "mTQ0wudHhCyy"
      }
    },
    {
      "cell_type": "code",
      "source": [
        "import numpy as np\n",
        "\n",
        "point1 = np.array([2, 3])\n",
        "point2 = np.array([4, 1])\n",
        "\n",
        "euclidean_distance = np.linalg.norm(point1 - point2)"
      ],
      "metadata": {
        "id": "j8t3EIKqhDu2"
      },
      "execution_count": null,
      "outputs": []
    },
    {
      "cell_type": "code",
      "source": [
        "euclidean_distance"
      ],
      "metadata": {
        "colab": {
          "base_uri": "https://localhost:8080/"
        },
        "id": "v8Q6Q2zehaiq",
        "outputId": "98f59f34-a63b-4c6e-ba0f-9a3dcce7ad42"
      },
      "execution_count": null,
      "outputs": [
        {
          "output_type": "execute_result",
          "data": {
            "text/plain": [
              "2.8284271247461903"
            ]
          },
          "metadata": {},
          "execution_count": 2
        }
      ]
    },
    {
      "cell_type": "code",
      "source": [
        "point3 = np.array([6, 2])\n",
        "point4 = np.array([9, 1])\n",
        "\n",
        "euclidean_distance1 = np.linalg.norm(point3 - point4)"
      ],
      "metadata": {
        "id": "NU5eSBz7hdqy"
      },
      "execution_count": null,
      "outputs": []
    },
    {
      "cell_type": "code",
      "source": [
        "euclidean_distance1"
      ],
      "metadata": {
        "colab": {
          "base_uri": "https://localhost:8080/"
        },
        "id": "e8-9qSDjhqWX",
        "outputId": "572b014b-ab65-4ad7-b7bc-fbf808c01e84"
      },
      "execution_count": null,
      "outputs": [
        {
          "output_type": "execute_result",
          "data": {
            "text/plain": [
              "3.1622776601683795"
            ]
          },
          "metadata": {},
          "execution_count": 4
        }
      ]
    },
    {
      "cell_type": "code",
      "source": [
        "point5 = np.array([3, 4])\n",
        "point6 = np.array([6, 7])\n",
        "\n",
        "euclidean_distance2 = np.linalg.norm(point5 - point6)"
      ],
      "metadata": {
        "id": "JIYGO-cPhsG2"
      },
      "execution_count": null,
      "outputs": []
    },
    {
      "cell_type": "code",
      "source": [
        "euclidean_distance2"
      ],
      "metadata": {
        "colab": {
          "base_uri": "https://localhost:8080/"
        },
        "id": "UcFYwvl5h189",
        "outputId": "0a4ac12f-93aa-49f0-d998-f75f080277db"
      },
      "execution_count": null,
      "outputs": [
        {
          "output_type": "execute_result",
          "data": {
            "text/plain": [
              "4.242640687119285"
            ]
          },
          "metadata": {},
          "execution_count": 6
        }
      ]
    }
  ]
}