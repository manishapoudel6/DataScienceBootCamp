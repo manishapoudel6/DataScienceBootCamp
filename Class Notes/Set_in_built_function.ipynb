{
  "nbformat": 4,
  "nbformat_minor": 0,
  "metadata": {
    "colab": {
      "provenance": []
    },
    "kernelspec": {
      "name": "python3",
      "display_name": "Python 3"
    },
    "language_info": {
      "name": "python"
    }
  },
  "cells": [
    {
      "cell_type": "code",
      "execution_count": null,
      "metadata": {
        "colab": {
          "base_uri": "https://localhost:8080/"
        },
        "id": "70czzfoGM2PI",
        "outputId": "1ed6a615-79ab-4c56-b90e-82ac8582b432"
      },
      "outputs": [
        {
          "output_type": "execute_result",
          "data": {
            "text/plain": [
              "['__and__',\n",
              " '__class__',\n",
              " '__class_getitem__',\n",
              " '__contains__',\n",
              " '__delattr__',\n",
              " '__dir__',\n",
              " '__doc__',\n",
              " '__eq__',\n",
              " '__format__',\n",
              " '__ge__',\n",
              " '__getattribute__',\n",
              " '__gt__',\n",
              " '__hash__',\n",
              " '__iand__',\n",
              " '__init__',\n",
              " '__init_subclass__',\n",
              " '__ior__',\n",
              " '__isub__',\n",
              " '__iter__',\n",
              " '__ixor__',\n",
              " '__le__',\n",
              " '__len__',\n",
              " '__lt__',\n",
              " '__ne__',\n",
              " '__new__',\n",
              " '__or__',\n",
              " '__rand__',\n",
              " '__reduce__',\n",
              " '__reduce_ex__',\n",
              " '__repr__',\n",
              " '__ror__',\n",
              " '__rsub__',\n",
              " '__rxor__',\n",
              " '__setattr__',\n",
              " '__sizeof__',\n",
              " '__str__',\n",
              " '__sub__',\n",
              " '__subclasshook__',\n",
              " '__xor__',\n",
              " 'add',\n",
              " 'clear',\n",
              " 'copy',\n",
              " 'difference',\n",
              " 'difference_update',\n",
              " 'discard',\n",
              " 'intersection',\n",
              " 'intersection_update',\n",
              " 'isdisjoint',\n",
              " 'issubset',\n",
              " 'issuperset',\n",
              " 'pop',\n",
              " 'remove',\n",
              " 'symmetric_difference',\n",
              " 'symmetric_difference_update',\n",
              " 'union',\n",
              " 'update']"
            ]
          },
          "metadata": {},
          "execution_count": 1
        }
      ],
      "source": [
        "set1 = {'apple','r','tesla',1,2,3,8,9,11,22}\n",
        "\n",
        "dir(set1)"
      ]
    },
    {
      "cell_type": "code",
      "source": [
        "#Add Function:\n",
        "#The add() method adds an element to the set.\n",
        "#If the element already exists, the add() method does not add the element.\n",
        "\n",
        "\n",
        "\n",
        "set1 = {'a','b','c','d',\"apple\", \"banana\", \"cherry\",1,2,3,5,2.5,9.4}\n",
        "\n",
        "set1.add(8.4)\n",
        "\n",
        "print(set1)\n"
      ],
      "metadata": {
        "colab": {
          "base_uri": "https://localhost:8080/"
        },
        "id": "JbZmOiRvvoYr",
        "outputId": "e87f106c-8c17-46fa-b771-669ab22c2113"
      },
      "execution_count": null,
      "outputs": [
        {
          "output_type": "stream",
          "name": "stdout",
          "text": [
            "{'d', 'cherry', 'apple', 'c', 1, 2, 3, 'b', 5, 2.5, 9.4, 8.4, 'banana', 'a'}\n"
          ]
        }
      ]
    },
    {
      "cell_type": "code",
      "source": [
        "#clear function:\n",
        "#The clear() method removes all elements in a set.\n",
        "\n",
        "set1 = {'a','b','c','d',\"apple\", \"banana\", \"cherry\",1,2,3,5,2.5,9.4}\n",
        "\n",
        "set1.clear()\n",
        "\n",
        "print(set1)"
      ],
      "metadata": {
        "colab": {
          "base_uri": "https://localhost:8080/"
        },
        "id": "jJVkbY5yBngK",
        "outputId": "5abdd4e6-1caf-483e-e7fc-048ecd13523f"
      },
      "execution_count": null,
      "outputs": [
        {
          "output_type": "stream",
          "name": "stdout",
          "text": [
            "set()\n"
          ]
        }
      ]
    },
    {
      "cell_type": "code",
      "source": [
        "# Copy Function:\n",
        "#The copy() method copies the set.\n",
        "\n",
        "set1 = {'a','b','c','d',\"apple\", \"banana\", \"cherry\",1,2,3,5,2.5,9.4}\n",
        "\n",
        "print(set1)\n",
        "\n",
        "set1.copy()\n",
        "\n",
        "print(set1)\n"
      ],
      "metadata": {
        "colab": {
          "base_uri": "https://localhost:8080/"
        },
        "id": "bmweHYvWCLDm",
        "outputId": "dc2b57a0-9c6f-4dde-f5bb-a34e007d6333"
      },
      "execution_count": null,
      "outputs": [
        {
          "output_type": "stream",
          "name": "stdout",
          "text": [
            "{'d', 'cherry', 'apple', 'c', 1, 2, 3, 'b', 5, 2.5, 9.4, 'banana', 'a'}\n",
            "{'d', 'cherry', 'apple', 'c', 1, 2, 3, 'b', 5, 2.5, 9.4, 'banana', 'a'}\n"
          ]
        }
      ]
    },
    {
      "cell_type": "code",
      "source": [
        "set2 = {'Peppa','Prefer','Python','Programming'}\n",
        "copiedset = set2.copy()\n",
        "print(\"Original Set: \", set2)\n",
        "print(\"Copied Set: \", copiedset)"
      ],
      "metadata": {
        "colab": {
          "base_uri": "https://localhost:8080/"
        },
        "id": "fx53KlqHChvH",
        "outputId": "80abf015-23d0-4c17-c812-f7cfc089e42b"
      },
      "execution_count": null,
      "outputs": [
        {
          "output_type": "stream",
          "name": "stdout",
          "text": [
            "Original Set:  {'Prefer', 'Programming', 'Peppa', 'Python'}\n",
            "Copied Set:  {'Prefer', 'Programming', 'Peppa', 'Python'}\n"
          ]
        }
      ]
    },
    {
      "cell_type": "code",
      "source": [
        "set2 = {'Peppa','Prefer','Python','Programming'}\n",
        "copied = set2.copy()\n",
        "add1 = copied.add('My')\n",
        "print('Copied set',copied)\n",
        "print('Added set',add1)"
      ],
      "metadata": {
        "colab": {
          "base_uri": "https://localhost:8080/"
        },
        "id": "-YI_Tr2mDHKu",
        "outputId": "b7587967-7a07-4ae6-b4ee-b1930bdda699"
      },
      "execution_count": null,
      "outputs": [
        {
          "output_type": "stream",
          "name": "stdout",
          "text": [
            "Copied set {'Prefer', 'Python', 'Programming', 'Peppa', 'My'}\n",
            "Added set None\n"
          ]
        }
      ]
    },
    {
      "cell_type": "code",
      "source": [
        "#Difference Function:\n",
        "#The difference() method returns a set that contains the difference between two sets.\n",
        "#The returned set contains items that exist only in the set, and not in both sets.\n",
        "#It doesn't execute the elements that are common in both sets.\n",
        "\n",
        "set1 = {'a','b','c','d',\"apple\", \"banana\",\"Peppa\",\"Programming\", \"cherry\",1,2,3,5,2.5,9.4}\n",
        "set2 = {'Peppa','Prefer','Python','Programming'}\n",
        "\n",
        "set3 = set1.difference(set2)\n",
        "set4 = set2.difference(set1)\n",
        "\n",
        "print(set3)\n",
        "print(set4)"
      ],
      "metadata": {
        "colab": {
          "base_uri": "https://localhost:8080/"
        },
        "id": "x8URqMw_DiHR",
        "outputId": "f31da043-7176-4ff9-c21f-356567f2ae1f"
      },
      "execution_count": null,
      "outputs": [
        {
          "output_type": "stream",
          "name": "stdout",
          "text": [
            "{'d', 'cherry', 'apple', 'c', 1, 2, 3, 'b', 5, 2.5, 9.4, 'banana', 'a'}\n",
            "{'Prefer', 'Python'}\n"
          ]
        }
      ]
    },
    {
      "cell_type": "code",
      "source": [
        "bathroom_items = {'Paper Towel','Tissue Paper','Shampoo','Conditioner','Moisturizer','Handwash'}\n",
        "kitchen_items = {'Paper Towel', 'Handwash','Dish Soap','Utensils'}\n",
        "\n",
        "bathroom_items_only = bathroom_items.difference(kitchen_items)\n",
        "kitchen_items_only = kitchen_items.difference(bathroom_items)\n",
        "\n",
        "print(bathroom_items_only)\n",
        "print(kitchen_items_only)"
      ],
      "metadata": {
        "colab": {
          "base_uri": "https://localhost:8080/"
        },
        "id": "spKPA9eZE9HN",
        "outputId": "0b9c0946-0963-40f0-c7f8-ef6c65f1df66"
      },
      "execution_count": null,
      "outputs": [
        {
          "output_type": "stream",
          "name": "stdout",
          "text": [
            "{'Conditioner', 'Moisturizer', 'Tissue Paper', 'Shampoo'}\n",
            "{'Dish Soap', 'Utensils'}\n"
          ]
        }
      ]
    },
    {
      "cell_type": "code",
      "source": [
        "bathroom_items = {'Paper Towel','Tissue Paper','Shampoo','Conditioner','Moisturizer','Handwash'}\n",
        "kitchen_items = {'Paper Towel', 'Handwash','Dish Soap','Utensils'}\n",
        "\n",
        "diff = bathroom_items - kitchen_items\n",
        "\n",
        "bathroom_items_only = print ('Bathroom Items Only:-', diff)"
      ],
      "metadata": {
        "colab": {
          "base_uri": "https://localhost:8080/"
        },
        "id": "IEgiB-8PGMTV",
        "outputId": "69b99581-1b13-4d01-e8cd-cc16d6108ef6"
      },
      "execution_count": null,
      "outputs": [
        {
          "output_type": "stream",
          "name": "stdout",
          "text": [
            "Bathroom Items Only:- {'Conditioner', 'Moisturizer', 'Tissue Paper', 'Shampoo'}\n"
          ]
        }
      ]
    },
    {
      "cell_type": "code",
      "source": [
        "# Difference Update:\n",
        "#The difference_update() method removes the items that exist in both sets.\n",
        "#The difference_update() method removes the unwanted items from the original set.\n",
        "#The difference_update() removes the second set elements from the first one during the updating process.\n",
        "\n",
        "num1 = {1,2,3,4,5}\n",
        "num2 = {1,2,3,9}\n",
        "num1.difference_update(num2)\n",
        "print(\"Number_1: \", num1)\n",
        "print(\"Number_2: \", num2)\n"
      ],
      "metadata": {
        "colab": {
          "base_uri": "https://localhost:8080/"
        },
        "id": "AiWR_EPBG_Y6",
        "outputId": "605c95f3-e5d6-4997-e484-8ba93b041559"
      },
      "execution_count": null,
      "outputs": [
        {
          "output_type": "stream",
          "name": "stdout",
          "text": [
            "Number_1:  {4, 5}\n",
            "Number_2:  {1, 2, 3, 9}\n"
          ]
        }
      ]
    },
    {
      "cell_type": "code",
      "source": [
        "num1 = {1,2,3,4,5}\n",
        "num2 = {1,2,3,9}\n",
        "\n",
        "num2.difference_update(num1)\n",
        "print(\"Number_1: \", num1)\n",
        "print(\"Number_2: \", num2)\n",
        "\n"
      ],
      "metadata": {
        "colab": {
          "base_uri": "https://localhost:8080/"
        },
        "id": "aBsHnHgrMmS5",
        "outputId": "6fcba25f-be6b-46e1-a36e-f8111cac26fa"
      },
      "execution_count": null,
      "outputs": [
        {
          "output_type": "stream",
          "name": "stdout",
          "text": [
            "Number_1:  {1, 2, 3, 4, 5}\n",
            "Number_2:  {9}\n"
          ]
        }
      ]
    },
    {
      "cell_type": "code",
      "source": [
        "bathroom_items = {'Paper Towel','Tissue Paper','Shampoo','Conditioner','Moisturizer','Handwash'}\n",
        "kitchen_items = {'Paper Towel', 'Handwash','Dish Soap','Utensils'}\n",
        "\n",
        "bathroom_items.difference_update(kitchen_items)\n",
        "print(bathroom_items)\n",
        "print(kitchen_items)"
      ],
      "metadata": {
        "colab": {
          "base_uri": "https://localhost:8080/"
        },
        "id": "kJOiGFUWMyqR",
        "outputId": "fe007960-ffad-446f-b9e9-ad161e051796"
      },
      "execution_count": null,
      "outputs": [
        {
          "output_type": "stream",
          "name": "stdout",
          "text": [
            "{'Conditioner', 'Shampoo', 'Moisturizer', 'Tissue Paper'}\n",
            "{'Dish Soap', 'Paper Towel', 'Handwash', 'Utensils'}\n"
          ]
        }
      ]
    },
    {
      "cell_type": "code",
      "source": [
        "#Discard Function:\n",
        "#The discard() method removes the specified item from the set.\n",
        "#This method is different from the remove() method, because the remove() method will raise an error,\n",
        "#if the specified item does not exist, and the discard() method will not.\n",
        "\n",
        "set1 = {\"apple\", \"banana\", \"cherry\"}\n",
        "\n",
        "set1.discard(\"banana\")\n",
        "print(set1)\n",
        "\n",
        "set1.discard(\"cherry\")\n",
        "print(set1)"
      ],
      "metadata": {
        "colab": {
          "base_uri": "https://localhost:8080/"
        },
        "id": "32Iy1FxLOl3u",
        "outputId": "5514e711-543d-4622-9ee2-852623a35d6c"
      },
      "execution_count": null,
      "outputs": [
        {
          "output_type": "stream",
          "name": "stdout",
          "text": [
            "{'cherry', 'apple'}\n",
            "{'apple'}\n"
          ]
        }
      ]
    },
    {
      "cell_type": "code",
      "source": [
        "set1 = {\"apple\", \"banana\", \"cherry\"}\n",
        "\n",
        "set1.remove(\"hello\")\n",
        "\n",
        "print(set1)"
      ],
      "metadata": {
        "colab": {
          "base_uri": "https://localhost:8080/",
          "height": 242
        },
        "id": "dYGuPeqLP5-Y",
        "outputId": "acedabbe-c962-442f-c782-c99056a9b84d"
      },
      "execution_count": null,
      "outputs": [
        {
          "output_type": "error",
          "ename": "KeyError",
          "evalue": "ignored",
          "traceback": [
            "\u001b[0;31m---------------------------------------------------------------------------\u001b[0m",
            "\u001b[0;31mKeyError\u001b[0m                                  Traceback (most recent call last)",
            "\u001b[0;32m<ipython-input-32-7cea3c0721ae>\u001b[0m in \u001b[0;36m<cell line: 3>\u001b[0;34m()\u001b[0m\n\u001b[1;32m      1\u001b[0m \u001b[0mset1\u001b[0m \u001b[0;34m=\u001b[0m \u001b[0;34m{\u001b[0m\u001b[0;34m\"apple\"\u001b[0m\u001b[0;34m,\u001b[0m \u001b[0;34m\"banana\"\u001b[0m\u001b[0;34m,\u001b[0m \u001b[0;34m\"cherry\"\u001b[0m\u001b[0;34m}\u001b[0m\u001b[0;34m\u001b[0m\u001b[0;34m\u001b[0m\u001b[0m\n\u001b[1;32m      2\u001b[0m \u001b[0;34m\u001b[0m\u001b[0m\n\u001b[0;32m----> 3\u001b[0;31m \u001b[0mset1\u001b[0m\u001b[0;34m.\u001b[0m\u001b[0mremove\u001b[0m\u001b[0;34m(\u001b[0m\u001b[0;34m\"hello\"\u001b[0m\u001b[0;34m)\u001b[0m\u001b[0;34m\u001b[0m\u001b[0;34m\u001b[0m\u001b[0m\n\u001b[0m\u001b[1;32m      4\u001b[0m \u001b[0;34m\u001b[0m\u001b[0m\n\u001b[1;32m      5\u001b[0m \u001b[0mprint\u001b[0m\u001b[0;34m(\u001b[0m\u001b[0mset1\u001b[0m\u001b[0;34m)\u001b[0m\u001b[0;34m\u001b[0m\u001b[0;34m\u001b[0m\u001b[0m\n",
            "\u001b[0;31mKeyError\u001b[0m: 'hello'"
          ]
        }
      ]
    },
    {
      "cell_type": "code",
      "source": [
        "# Intersection Function:\n",
        "# Returns a new set with the elements that are common in the given sets.\n",
        "\n",
        "x = {'Paper Towel','Tissue Paper','Shampoo','Conditioner','Moisturizer','Handwash'}\n",
        "y = {'Paper Towel', 'Handwash','Dish Soap','Utensils'}\n",
        "\n",
        "\n",
        "z = x.intersection(y)\n",
        "\n",
        "print(z)"
      ],
      "metadata": {
        "colab": {
          "base_uri": "https://localhost:8080/"
        },
        "id": "OcjEuLQzP9sj",
        "outputId": "f1fa837d-fad7-4945-fd01-f8b315088cf0"
      },
      "execution_count": null,
      "outputs": [
        {
          "output_type": "stream",
          "name": "stdout",
          "text": [
            "{'Paper Towel', 'Handwash'}\n"
          ]
        }
      ]
    },
    {
      "cell_type": "code",
      "source": [
        "num = {1, 2, 3, 4, 5}\n",
        "odd_num = {1, 3, 5, 6, 7, 9}\n",
        "prime_num = {2, 3, 5, 7}\n",
        "common_num = num.intersection(odd_num, prime_num)\n",
        "print(\"Common elements: \", common_num)"
      ],
      "metadata": {
        "colab": {
          "base_uri": "https://localhost:8080/"
        },
        "id": "T3FQeRysQ4XB",
        "outputId": "8a644ec3-2333-4428-b928-70adf29e23e1"
      },
      "execution_count": null,
      "outputs": [
        {
          "output_type": "stream",
          "name": "stdout",
          "text": [
            "Common elements:  {3, 5}\n"
          ]
        }
      ]
    },
    {
      "cell_type": "code",
      "source": [
        "#Intersection_Update Function:\n",
        "#Remove the items that is not present in both x and y:\n",
        "\n",
        "x = {\"apple\", \"banana\", \"cherry\"}\n",
        "y = {\"google\", \"microsoft\", \"apple\"}\n",
        "\n",
        "x.intersection_update(y)\n",
        "\n",
        "print(x)"
      ],
      "metadata": {
        "colab": {
          "base_uri": "https://localhost:8080/"
        },
        "id": "yGwfZSRQR0gD",
        "outputId": "2207a709-8b10-4ebe-97b4-6a28dd507017"
      },
      "execution_count": null,
      "outputs": [
        {
          "output_type": "stream",
          "name": "stdout",
          "text": [
            "{'apple'}\n"
          ]
        }
      ]
    },
    {
      "cell_type": "code",
      "source": [
        "nums = {1,2,3,4,5}\n",
        "odd_num = {1, 3, 5, 7,9}\n",
        "nums.intersection_update(odd_num)\n",
        "print(nums)"
      ],
      "metadata": {
        "colab": {
          "base_uri": "https://localhost:8080/"
        },
        "id": "JJzBU6cMYlAc",
        "outputId": "ae4eed20-9351-49ae-cdcb-c755807757d9"
      },
      "execution_count": null,
      "outputs": [
        {
          "output_type": "stream",
          "name": "stdout",
          "text": [
            "{1, 3, 5}\n"
          ]
        }
      ]
    },
    {
      "cell_type": "code",
      "source": [
        "nums = {1, 2, 3, 4, 5 }\n",
        "oddNums = {1, 3, 5, 7, 9}\n",
        "nums.intersection_update(oddNums)\n",
        "print(\"Updated set: \", nums)"
      ],
      "metadata": {
        "colab": {
          "base_uri": "https://localhost:8080/"
        },
        "id": "FaxAYy3UZC5U",
        "outputId": "96c873fa-b8c5-4ecd-9fb8-4bb7364e878e"
      },
      "execution_count": null,
      "outputs": [
        {
          "output_type": "stream",
          "name": "stdout",
          "text": [
            "Updated set:  {1, 3, 5}\n"
          ]
        }
      ]
    },
    {
      "cell_type": "code",
      "source": [
        "#Isdisjoint Function:\n",
        "#Returns true if the given sets have no common elements. Sets are disjoint if and only if their intersection is the empty set.\n",
        "\n",
        "num = {1, 2, 3, 4, 5 }\n",
        "odd_num = {1, 3, 5, 7, 9}\n",
        "prime_num = {7, 11, 13}\n",
        "\n",
        "num1 = num.isdisjoint(odd_num)\n",
        "num2 = num.isdisjoint(prime_num)\n",
        "\n",
        "print( num1 )\n",
        "print( num2 )\n"
      ],
      "metadata": {
        "colab": {
          "base_uri": "https://localhost:8080/"
        },
        "id": "NKIGa5lfZc6L",
        "outputId": "2c10e381-0159-4458-be51-418ae63b2a70"
      },
      "execution_count": null,
      "outputs": [
        {
          "output_type": "stream",
          "name": "stdout",
          "text": [
            "False\n",
            "True\n"
          ]
        }
      ]
    },
    {
      "cell_type": "code",
      "source": [
        "set1 = {'a','b','c','d','e'} # Returninf false if there is common elements.\n",
        "list1 = ['b','c','d']\n",
        "str1 = 'ghij'\n",
        "dict1 = {'a':1,'b':2}\n",
        "tuple1 = ('x', 'y', 'z')\n",
        "\n",
        "print(set1.isdisjoint(list1))\n",
        "print(set1.isdisjoint(str1))\n",
        "print(set1.isdisjoint(dict1))\n",
        "print(set1.isdisjoint(tuple1))"
      ],
      "metadata": {
        "colab": {
          "base_uri": "https://localhost:8080/"
        },
        "id": "-LkPZK0sbMuy",
        "outputId": "8f7b162f-1dc0-4a67-b331-eb1b1d0eead5"
      },
      "execution_count": null,
      "outputs": [
        {
          "output_type": "stream",
          "name": "stdout",
          "text": [
            "False\n",
            "True\n",
            "False\n",
            "True\n"
          ]
        }
      ]
    },
    {
      "cell_type": "code",
      "source": [
        "# Issubset Function:\n",
        "# Returns true if the set contains every element of the other set passed as an argument.\n",
        "# Returns whether another set contains this set or not\n",
        "\n",
        "x = {\"a\", \"b\", \"c\"}\n",
        "y = {\"f\", \"e\", \"d\", \"c\", \"b\", \"a\"}\n",
        "\n",
        "z = x.issubset(y)\n",
        "\n",
        "print(z)"
      ],
      "metadata": {
        "colab": {
          "base_uri": "https://localhost:8080/"
        },
        "id": "X4rFknJtb-Yn",
        "outputId": "2abe7b9e-94e6-4abb-e578-3e57dd4d38d2"
      },
      "execution_count": null,
      "outputs": [
        {
          "output_type": "stream",
          "name": "stdout",
          "text": [
            "True\n"
          ]
        }
      ]
    },
    {
      "cell_type": "code",
      "source": [
        "num = {1, 2, 3, 4, 5 }\n",
        "odd_num = { 1,3,5}\n",
        "prime_num = {11, 13, 7}\n",
        "\n",
        "nums = odd_num.issubset(num)\n",
        "\n",
        "print(nums)"
      ],
      "metadata": {
        "colab": {
          "base_uri": "https://localhost:8080/"
        },
        "id": "mu9WnfUBcsGH",
        "outputId": "dfcc9ce9-a1cc-42b7-d26b-72c4dbca7f8a"
      },
      "execution_count": null,
      "outputs": [
        {
          "output_type": "stream",
          "name": "stdout",
          "text": [
            "True\n"
          ]
        }
      ]
    },
    {
      "cell_type": "code",
      "source": [
        "# Pop function\n",
        "# removes and returns a random element from the set.\n",
        "\n",
        "set1 = {\"apple\", \"banana\", \"cherry\",'figs'}\n",
        "\n",
        "set1.pop()\n",
        "\n",
        "print(set1)"
      ],
      "metadata": {
        "colab": {
          "base_uri": "https://localhost:8080/"
        },
        "id": "g4I44tW7dCwm",
        "outputId": "04369ead-8191-4ae4-a88a-2a110531fa4e"
      },
      "execution_count": null,
      "outputs": [
        {
          "output_type": "stream",
          "name": "stdout",
          "text": [
            "{'cherry', 'banana', 'apple'}\n"
          ]
        }
      ]
    },
    {
      "cell_type": "code",
      "source": [
        "cities = {'Pokhara','Kathmandu','New York'}\n",
        "\n",
        "city = cities.pop()\n",
        "print('Poped element 1: ', city)\n",
        "print(\"Updated set: \", cities)\n",
        "\n",
        "city = cities.pop()\n",
        "print('Poped element 2: ', city)\n",
        "print(\"Updated set: \", cities)\n",
        "\n",
        "city = cities.pop()\n",
        "print('Poped element 3: ', city)\n",
        "print(\"Updated set: \", cities)"
      ],
      "metadata": {
        "colab": {
          "base_uri": "https://localhost:8080/"
        },
        "id": "0r-Y3Jrle6oY",
        "outputId": "be5e9a2a-572a-4fa1-c7e5-5ce5a7d3f4e3"
      },
      "execution_count": null,
      "outputs": [
        {
          "output_type": "stream",
          "name": "stdout",
          "text": [
            "Poped element 1:  Pokhara\n",
            "Updated set:  {'Kathmandu', 'New York'}\n",
            "Poped element 2:  Kathmandu\n",
            "Updated set:  {'New York'}\n",
            "Poped element 3:  New York\n",
            "Updated set:  set()\n"
          ]
        }
      ]
    },
    {
      "cell_type": "code",
      "source": [
        "# Remove Function:\n",
        "# It removes the specified element from the set. If the specified element is not found, raise an error.\n",
        "\n",
        "set1 = {\"apple\", \"banana\", \"cherry\",'figs'}\n",
        "\n",
        "set1.remove('apple')\n",
        "print(set1)\n",
        "\n",
        "set1.remove('banana')\n",
        "print(set1)\n",
        "\n",
        "set1.remove('cherry')\n",
        "print(set1)\n",
        "\n",
        "set1.remove('figs')\n",
        "print(set1)"
      ],
      "metadata": {
        "colab": {
          "base_uri": "https://localhost:8080/"
        },
        "id": "nz-NiIFKffA0",
        "outputId": "b48b9758-911b-44cb-e6e8-f68a30ddf4b0"
      },
      "execution_count": null,
      "outputs": [
        {
          "output_type": "stream",
          "name": "stdout",
          "text": [
            "{'figs', 'cherry', 'banana'}\n",
            "{'figs', 'cherry'}\n",
            "{'figs'}\n",
            "set()\n"
          ]
        }
      ]
    },
    {
      "cell_type": "code",
      "source": [
        "# Symmetric_difference() Method\n",
        "#Return a set that contains all items from both sets, except items that are present in both sets:\n",
        "\n",
        "nums1 = {1,2,3,4,5}\n",
        "nums2 = {4,5,6,7,8}\n",
        "nums3 = nums1.symmetric_difference(nums2)\n",
        "print(\"New set: \", nums3)"
      ],
      "metadata": {
        "colab": {
          "base_uri": "https://localhost:8080/"
        },
        "id": "hBQXLUyshOZ7",
        "outputId": "f05ba5f0-0518-4fd1-9965-cf7d458543d2"
      },
      "execution_count": null,
      "outputs": [
        {
          "output_type": "stream",
          "name": "stdout",
          "text": [
            "New set:  {1, 2, 3, 6, 7, 8}\n"
          ]
        }
      ]
    },
    {
      "cell_type": "code",
      "source": [
        "x = {\"a\", \"b\", \"c\"} #Execute not common elements\n",
        "y = {\"f\", \"e\", \"d\", \"c\", \"b\", \"a\"}\n",
        "\n",
        "z =x.symmetric_difference(y)\n",
        "print(z)"
      ],
      "metadata": {
        "colab": {
          "base_uri": "https://localhost:8080/"
        },
        "id": "Kpzhi6xvitUH",
        "outputId": "4166b46f-0c1c-4acc-9a48-c2c834bc38b4"
      },
      "execution_count": null,
      "outputs": [
        {
          "output_type": "stream",
          "name": "stdout",
          "text": [
            "{'d', 'f', 'e'}\n"
          ]
        }
      ]
    },
    {
      "cell_type": "code",
      "source": [
        "# symmetric_difference_update()\n",
        "#Remove the items that are present in both sets, AND insert the items that is not present in both sets:\n",
        "#It updates the original set by removing items that are present in both sets, and inserting the other items.\n",
        "\n",
        "\n",
        "\n",
        "x = {\"a\", \"b\", \"c\"}\n",
        "y = {\"f\", \"e\", \"d\", \"c\", \"b\", \"a\"}\n",
        "\n",
        "x.symmetric_difference_update(y)\n",
        "\n",
        "print(x)"
      ],
      "metadata": {
        "colab": {
          "base_uri": "https://localhost:8080/"
        },
        "id": "kkIZ1JFIi3oX",
        "outputId": "ffa929dd-4862-4a9b-91b8-c6e3c0dd9988"
      },
      "execution_count": null,
      "outputs": [
        {
          "output_type": "stream",
          "name": "stdout",
          "text": [
            "{'d', 'f', 'e'}\n"
          ]
        }
      ]
    },
    {
      "cell_type": "code",
      "source": [
        "nums1 = {1,2,3,4,5}\n",
        "nums2 = {4,5,6,7,8}\n",
        "\n",
        "nums1.symmetric_difference_update(nums2)\n",
        "\n",
        "print(nums1)"
      ],
      "metadata": {
        "colab": {
          "base_uri": "https://localhost:8080/"
        },
        "id": "7UyDtXpfjYZd",
        "outputId": "ef7efefb-3d5c-46df-fa8a-ddbda4ef8155"
      },
      "execution_count": null,
      "outputs": [
        {
          "output_type": "stream",
          "name": "stdout",
          "text": [
            "{1, 2, 3, 6, 7, 8}\n"
          ]
        }
      ]
    },
    {
      "cell_type": "code",
      "source": [
        "nums = {1, 2, 3, 4, 5 }\n",
        "oddNums = {1, 3, 5, 7, 9}\n",
        "nums.symmetric_difference_update(oddNums)\n",
        "print(\"Updated set: \", nums)"
      ],
      "metadata": {
        "colab": {
          "base_uri": "https://localhost:8080/"
        },
        "id": "huLaYAk4jgZv",
        "outputId": "6a43703b-8ddd-4866-858a-995b31ae0ebf"
      },
      "execution_count": null,
      "outputs": [
        {
          "output_type": "stream",
          "name": "stdout",
          "text": [
            "Updated set:  {2, 4, 7, 9}\n"
          ]
        }
      ]
    },
    {
      "cell_type": "code",
      "source": [
        "# Union Function:\n",
        "#Return a set containing the union of sets\n",
        "#returns a new set with distinct elements from all the given sets.\n",
        "\n",
        "num1 = {1, 2, 2, 3, 4, 5}\n",
        "num2 = {4, 5, 6, 7, 7, 8}\n",
        "\n",
        "nums = nums1.union(nums2)\n",
        "\n",
        "print(\"The union of two sets is: \", nums)"
      ],
      "metadata": {
        "colab": {
          "base_uri": "https://localhost:8080/"
        },
        "id": "7KaJdm9XkNMM",
        "outputId": "9c5c26c9-3d0d-44c3-84a4-badecbab5c22"
      },
      "execution_count": null,
      "outputs": [
        {
          "output_type": "stream",
          "name": "stdout",
          "text": [
            "The union of two sets is:  {1, 2, 3, 4, 5, 6, 7, 8}\n"
          ]
        }
      ]
    },
    {
      "cell_type": "code",
      "source": [
        "x = {\"a\", \"b\", \"c\"}\n",
        "y = {\"f\", \"e\", \"d\", \"c\", \"b\", \"a\"}\n",
        "\n",
        "z = x.union(y)\n",
        "\n",
        "print(z)"
      ],
      "metadata": {
        "colab": {
          "base_uri": "https://localhost:8080/"
        },
        "id": "aVqlXTEck-QP",
        "outputId": "8fae516f-24de-45a5-e26c-23850f580dd8"
      },
      "execution_count": null,
      "outputs": [
        {
          "output_type": "stream",
          "name": "stdout",
          "text": [
            "{'d', 'c', 'b', 'f', 'e', 'a'}\n"
          ]
        }
      ]
    },
    {
      "cell_type": "code",
      "source": [
        "# Update Function:\n",
        "# Update the set with another set, or any other iterable:\n",
        "\n",
        "nums = {1, 2, 3}\n",
        "primeNums = [2, 3, 5, 7]\n",
        "\n",
        "nums.update(primeNums)\n",
        "print(\"Updated set: \", nums)"
      ],
      "metadata": {
        "colab": {
          "base_uri": "https://localhost:8080/"
        },
        "id": "obbuN8SOlHtt",
        "outputId": "d37f5dd0-b22f-4d77-ef20-e611aef1c681"
      },
      "execution_count": null,
      "outputs": [
        {
          "output_type": "stream",
          "name": "stdout",
          "text": [
            "Updated set:  {1, 2, 3, 5, 7}\n"
          ]
        }
      ]
    },
    {
      "cell_type": "code",
      "source": [
        "x = {\"a\", \"b\", \"c\"}\n",
        "y = {\"f\", \"e\", \"d\", \"c\", \"b\", \"a\"}\n",
        "\n",
        "x.update(y)\n",
        "\n",
        "print(x)"
      ],
      "metadata": {
        "colab": {
          "base_uri": "https://localhost:8080/"
        },
        "id": "YQURHLq6ldeM",
        "outputId": "eeb5782e-e550-4d51-d9c7-afd632f3142b"
      },
      "execution_count": null,
      "outputs": [
        {
          "output_type": "stream",
          "name": "stdout",
          "text": [
            "{'d', 'c', 'b', 'f', 'e', 'a'}\n"
          ]
        }
      ]
    },
    {
      "cell_type": "code",
      "source": [
        "nums = {1, 2, 3}\n",
        "oddNums = [1, 3, 5, 7, 9]\n",
        "evenNums = (2, 4, 6, 8, 10)\n",
        "\n",
        "nums.update(oddNums) # adding list elements\n",
        "print(\"Updated set: \", nums)\n",
        "\n",
        "nums.update(evenNums) # adding tuple elements\n",
        "print(\"Updated set: \", nums)\n"
      ],
      "metadata": {
        "id": "R2oJ_9CollyZ"
      },
      "execution_count": null,
      "outputs": []
    }
  ]
}