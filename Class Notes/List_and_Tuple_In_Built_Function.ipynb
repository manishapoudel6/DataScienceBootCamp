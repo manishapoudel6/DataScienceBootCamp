{
  "nbformat": 4,
  "nbformat_minor": 0,
  "metadata": {
    "colab": {
      "provenance": []
    },
    "kernelspec": {
      "name": "python3",
      "display_name": "Python 3"
    },
    "language_info": {
      "name": "python"
    }
  },
  "cells": [
    {
      "cell_type": "code",
      "source": [
        "a = [1,2,3,4,5]\n",
        "\n",
        "dir(a)\n"
      ],
      "metadata": {
        "colab": {
          "base_uri": "https://localhost:8080/"
        },
        "id": "CcsNnUE1DEdS",
        "outputId": "0cb0acdd-e0bc-41fe-829f-46de4c5690e2"
      },
      "execution_count": null,
      "outputs": [
        {
          "output_type": "execute_result",
          "data": {
            "text/plain": [
              "['__add__',\n",
              " '__class__',\n",
              " '__class_getitem__',\n",
              " '__contains__',\n",
              " '__delattr__',\n",
              " '__delitem__',\n",
              " '__dir__',\n",
              " '__doc__',\n",
              " '__eq__',\n",
              " '__format__',\n",
              " '__ge__',\n",
              " '__getattribute__',\n",
              " '__getitem__',\n",
              " '__gt__',\n",
              " '__hash__',\n",
              " '__iadd__',\n",
              " '__imul__',\n",
              " '__init__',\n",
              " '__init_subclass__',\n",
              " '__iter__',\n",
              " '__le__',\n",
              " '__len__',\n",
              " '__lt__',\n",
              " '__mul__',\n",
              " '__ne__',\n",
              " '__new__',\n",
              " '__reduce__',\n",
              " '__reduce_ex__',\n",
              " '__repr__',\n",
              " '__reversed__',\n",
              " '__rmul__',\n",
              " '__setattr__',\n",
              " '__setitem__',\n",
              " '__sizeof__',\n",
              " '__str__',\n",
              " '__subclasshook__',\n",
              " 'append',\n",
              " 'clear',\n",
              " 'copy',\n",
              " 'count',\n",
              " 'extend',\n",
              " 'index',\n",
              " 'insert',\n",
              " 'pop',\n",
              " 'remove',\n",
              " 'reverse',\n",
              " 'sort']"
            ]
          },
          "metadata": {},
          "execution_count": 4
        }
      ]
    },
    {
      "cell_type": "code",
      "source": [
        "# Append or add the value last index of the list\n",
        "# append() that you can use to add items to the end of a given list.\n",
        "a = [1,2,3,4,5]\n",
        "print(\"Before append\", a)\n",
        "a.append(8)\n",
        "print(\"After append\",a)"
      ],
      "metadata": {
        "colab": {
          "base_uri": "https://localhost:8080/"
        },
        "id": "AVj_t3LxKOe9",
        "outputId": "130e432d-a351-4075-b643-674c92f453e2"
      },
      "execution_count": null,
      "outputs": [
        {
          "output_type": "stream",
          "name": "stdout",
          "text": [
            "Before append [1, 2, 3, 4, 5]\n",
            "After append [1, 2, 3, 4, 5, 8]\n"
          ]
        }
      ]
    },
    {
      "cell_type": "code",
      "source": [
        "# removing all items from the List.\n",
        "a = [1,2,3,4,5]\n",
        "print(\"Before clear\",a)\n",
        "a.clear()\n",
        "print(\"after clear\",a)\n",
        "print(len(a))"
      ],
      "metadata": {
        "colab": {
          "base_uri": "https://localhost:8080/"
        },
        "id": "iJYUgCe4Kkb_",
        "outputId": "988d61c1-e13e-4ac9-cf8d-c959e05a605c"
      },
      "execution_count": null,
      "outputs": [
        {
          "output_type": "stream",
          "name": "stdout",
          "text": [
            "Before clear [1, 2, 3, 4, 5]\n",
            "after clear []\n",
            "0\n"
          ]
        }
      ]
    },
    {
      "cell_type": "code",
      "source": [
        "#COPY FUNCTION:\n",
        "# Creates a copy of an existing list.\n",
        "a = [1,2,3,4,5,6,7]\n",
        "b = a\n",
        "c =a.copy()\n",
        "print(\"Before Operation Actual list\",a)\n",
        "print(\"Before Operation Equal to list\",b)\n",
        "print(\"Before Operation Copy list\",c)\n",
        "\n",
        "#make a operation on a list\n",
        "#c list stays the same because it got copied before the operation. So, only equal to(=) would change.\n",
        "a.append(8)\n",
        "print(\"After Operation Actual list\",a)\n",
        "print(\"After Operation Equal to list\",b)\n",
        "print(\"After Operation Copy list\",c)\n",
        "\n",
        "\n"
      ],
      "metadata": {
        "colab": {
          "base_uri": "https://localhost:8080/"
        },
        "id": "BoN7-YToLKdn",
        "outputId": "e4c31c74-616d-44e4-f5aa-1a38034bb1a2"
      },
      "execution_count": null,
      "outputs": [
        {
          "output_type": "stream",
          "name": "stdout",
          "text": [
            "Before Operation Actual list [1, 2, 3, 4, 5, 6, 7]\n",
            "Before Operation Equal to list [1, 2, 3, 4, 5, 6, 7]\n",
            "Before Operation Copy list [1, 2, 3, 4, 5, 6, 7]\n",
            "After Operation Actual list [1, 2, 3, 4, 5, 6, 7, 8]\n",
            "After Operation Equal to list [1, 2, 3, 4, 5, 6, 7, 8]\n",
            "After Operation Copy list [1, 2, 3, 4, 5, 6, 7]\n"
          ]
        }
      ]
    },
    {
      "cell_type": "code",
      "source": [
        "#COUNT FUNCTION:\n",
        "# returns the number of times an object appears in a list.\n",
        "a_list =[1,2,3,4,5,6,7,3,2,33,1,2,3,4]\n",
        "print(a_list.count(22))\n",
        "print(a_list.count(1))"
      ],
      "metadata": {
        "colab": {
          "base_uri": "https://localhost:8080/"
        },
        "id": "5fzJSSQ3MBV2",
        "outputId": "96edcc84-f099-4bd4-c3ba-c376dfe4bcd8"
      },
      "execution_count": null,
      "outputs": [
        {
          "output_type": "stream",
          "name": "stdout",
          "text": [
            "0\n",
            "2\n"
          ]
        }
      ]
    },
    {
      "cell_type": "code",
      "source": [
        "#EXTEND FUNCTION:\n",
        "#dds the specified list elements (or any iterable) to the end of the current list.\n",
        "a_list =[1,2,3,4,5,6,7,3,2,33,1,2,3,4]\n",
        "a_list.append([8,9,10])\n",
        "print('Append function',a_list)\n",
        "print(\"Append function len\",len(a_list))"
      ],
      "metadata": {
        "colab": {
          "base_uri": "https://localhost:8080/"
        },
        "id": "nzbQvXDtN83l",
        "outputId": "ff1a50d6-bf73-46ce-dbf2-d147076f8813"
      },
      "execution_count": null,
      "outputs": [
        {
          "output_type": "stream",
          "name": "stdout",
          "text": [
            "Append function [1, 2, 3, 4, 5, 6, 7, 3, 2, 33, 1, 2, 3, 4, [8, 9, 10]]\n",
            "Append function len 15\n"
          ]
        }
      ]
    },
    {
      "cell_type": "code",
      "source": [
        "a_list = [1,2,3,4,5,6]\n",
        "a_list.extend([8,9,10])\n",
        "print('Extend function',a_list)\n",
        "print(\"Extend function len\",len(a_list))\n"
      ],
      "metadata": {
        "colab": {
          "base_uri": "https://localhost:8080/"
        },
        "id": "6sicqAamPArp",
        "outputId": "d6397fe0-8f86-4e71-9561-e84e59cdb21f"
      },
      "execution_count": null,
      "outputs": [
        {
          "output_type": "stream",
          "name": "stdout",
          "text": [
            "Extend function [1, 2, 3, 4, 5, 6, 8, 9, 10]\n",
            "Extend function len 9\n"
          ]
        }
      ]
    },
    {
      "cell_type": "code",
      "source": [
        "a_list = [1,2,3,4,5,6]\n",
        "a_list.extend([8,9,10])\n",
        "print(\"The number\",a_list[7:8])"
      ],
      "metadata": {
        "colab": {
          "base_uri": "https://localhost:8080/"
        },
        "id": "CxrbUx1YPS2w",
        "outputId": "55008750-728d-4059-9b13-2495d4c2faec"
      },
      "execution_count": null,
      "outputs": [
        {
          "output_type": "stream",
          "name": "stdout",
          "text": [
            "The number [9]\n"
          ]
        }
      ]
    },
    {
      "cell_type": "code",
      "source": [
        "a_list = [1,2,3,4,5,6]\n",
        "a_list.extend([8,9,10])\n",
        "print(a_list)\n",
        "print(a_list[6])\n",
        "print(a_list[6:11])"
      ],
      "metadata": {
        "colab": {
          "base_uri": "https://localhost:8080/"
        },
        "id": "QkrdpA8nRUk1",
        "outputId": "7f31787a-bbb1-44d8-8cdd-eef4bf86dd37"
      },
      "execution_count": null,
      "outputs": [
        {
          "output_type": "stream",
          "name": "stdout",
          "text": [
            "[1, 2, 3, 4, 5, 6, 8, 9, 10]\n",
            "8\n",
            "[8, 9, 10]\n"
          ]
        }
      ]
    },
    {
      "cell_type": "code",
      "source": [
        "f = ['apple', 'banana', 'cherry','watermelon']\n",
        "\n",
        "c = ['Mercedes', 'BMW', 'Tesla']\n",
        "\n",
        "f.extend(c)\n",
        "print('All the strings',f)"
      ],
      "metadata": {
        "colab": {
          "base_uri": "https://localhost:8080/"
        },
        "id": "4fpMNJZcQE8Y",
        "outputId": "ceb280f3-0dd8-4b4a-fd3a-b3292b94d425"
      },
      "execution_count": null,
      "outputs": [
        {
          "output_type": "stream",
          "name": "stdout",
          "text": [
            "All the strings ['apple', 'banana', 'cherry', 'watermelon', 'Mercedes', 'BMW', 'Tesla']\n"
          ]
        }
      ]
    },
    {
      "cell_type": "code",
      "source": [
        "a_list = [1,2,3,4,5,6]\n",
        "a_list.append([8,9,10])\n",
        "print(a_list)\n",
        "print(a_list[6][2::-1])\n"
      ],
      "metadata": {
        "colab": {
          "base_uri": "https://localhost:8080/"
        },
        "id": "WZ67pOVhRBQX",
        "outputId": "ce9e1e9e-0389-442a-9ddc-0ce138a375ee"
      },
      "execution_count": null,
      "outputs": [
        {
          "output_type": "stream",
          "name": "stdout",
          "text": [
            "[1, 2, 3, 4, 5, 6, [8, 9, 10]]\n",
            "[10, 9, 8]\n"
          ]
        }
      ]
    },
    {
      "cell_type": "code",
      "source": [
        "#INDEX FUNCTION:\n",
        "#finds the index of a specific element in a sequence.\n",
        "a_list = [1,2,3,4,5,6,22,33,44,55,33,44,33] #it doesn't care about repition it takes the first number and try indexing\n",
        "a_list.index(33)"
      ],
      "metadata": {
        "colab": {
          "base_uri": "https://localhost:8080/"
        },
        "id": "uzy3rz34SfyG",
        "outputId": "820058d0-d78b-438e-ba4e-09984027b76e"
      },
      "execution_count": null,
      "outputs": [
        {
          "output_type": "execute_result",
          "data": {
            "text/plain": [
              "7"
            ]
          },
          "metadata": {},
          "execution_count": 38
        }
      ]
    },
    {
      "cell_type": "code",
      "source": [
        "#INSERT FUNCTION:\n",
        "#Insert a given element at a given index in a list.\n",
        "\n",
        "a_list = [1,2,3,4,5,6,22,33,44,55,33,44,33]\n",
        "a_list.insert(5,111)\n",
        "a_list\n"
      ],
      "metadata": {
        "colab": {
          "base_uri": "https://localhost:8080/"
        },
        "id": "UnWaLn9bUll6",
        "outputId": "8255af9c-0a9d-4f54-8f65-4e99cf994c32"
      },
      "execution_count": null,
      "outputs": [
        {
          "output_type": "execute_result",
          "data": {
            "text/plain": [
              "[1, 2, 3, 4, 5, 111, 6, 22, 33, 44, 55, 33, 44, 33]"
            ]
          },
          "metadata": {},
          "execution_count": 42
        }
      ]
    },
    {
      "cell_type": "code",
      "source": [
        "#POP FUNCTION:\n",
        "# a pre-defined, in-built function that removes an item at the specified index from the list.\n",
        "a_list = [1,2,3,4,5,6,22,33,44,55,33,44,33]\n",
        "print(a_list.pop(0))\n",
        "print(a_list)\n"
      ],
      "metadata": {
        "colab": {
          "base_uri": "https://localhost:8080/"
        },
        "id": "AmtrJIcRVTwD",
        "outputId": "db523b98-6ace-42e2-977d-368be08997eb"
      },
      "execution_count": null,
      "outputs": [
        {
          "output_type": "stream",
          "name": "stdout",
          "text": [
            "1\n",
            "[2, 3, 4, 5, 6, 22, 33, 44, 55, 33, 44, 33]\n"
          ]
        }
      ]
    },
    {
      "cell_type": "code",
      "source": [
        "a_list = [1,2,3,4,5,6,22,33,44,55,33,44,33]\n",
        "print(a_list.pop(5))\n",
        "print(a_list)"
      ],
      "metadata": {
        "colab": {
          "base_uri": "https://localhost:8080/"
        },
        "id": "XWvjwsGzWPdP",
        "outputId": "49082e11-f445-4054-cea1-e9dc84f0150d"
      },
      "execution_count": null,
      "outputs": [
        {
          "output_type": "stream",
          "name": "stdout",
          "text": [
            "6\n",
            "[1, 2, 3, 4, 5, 22, 33, 44, 55, 33, 44, 33]\n"
          ]
        }
      ]
    },
    {
      "cell_type": "code",
      "source": [
        "#REMOVE FUNCTION:\n",
        "#one of the ways you can remove elements from a list in Python.\n",
        "\n",
        "a_list = [1,2,3,4,5,6,22,33,44,55,33,44,33]\n",
        "a_list.remove(22)\n",
        "print(a_list)\n"
      ],
      "metadata": {
        "colab": {
          "base_uri": "https://localhost:8080/"
        },
        "id": "biu-Y2URWUTQ",
        "outputId": "a956f580-169f-4e64-e93d-fc69fdeb8ccd"
      },
      "execution_count": null,
      "outputs": [
        {
          "output_type": "stream",
          "name": "stdout",
          "text": [
            "[1, 2, 3, 4, 5, 6, 33, 44, 55, 33, 44, 33]\n"
          ]
        }
      ]
    },
    {
      "cell_type": "code",
      "source": [
        "#REVERSE FUNCTION:\n",
        "# reverses the sorting order of the elements.\n",
        "\n",
        "a_list = [1,2,3,4,5,6,22,33,44,55,33,44,33]\n",
        "a_list.reverse()\n",
        "print(a_list)\n"
      ],
      "metadata": {
        "colab": {
          "base_uri": "https://localhost:8080/"
        },
        "id": "EKww0LplWtVY",
        "outputId": "fdcae94f-a9dc-44d1-dfa2-0763777b4b6e"
      },
      "execution_count": null,
      "outputs": [
        {
          "output_type": "stream",
          "name": "stdout",
          "text": [
            "[33, 44, 33, 55, 44, 33, 22, 6, 5, 4, 3, 2, 1]\n"
          ]
        }
      ]
    },
    {
      "cell_type": "code",
      "source": [
        "#SORT FUNCTION:\n",
        "#sorts the list in ascending order.\n",
        "a_list = [1,2,3,4,5,6,22,33,44,55,33,44,33]\n",
        "a_list.sort()\n",
        "print(a_list)"
      ],
      "metadata": {
        "colab": {
          "base_uri": "https://localhost:8080/"
        },
        "id": "nOZXAN2xXPHm",
        "outputId": "e99c03d3-1c14-47b9-af50-f02df82fd45b"
      },
      "execution_count": null,
      "outputs": [
        {
          "output_type": "stream",
          "name": "stdout",
          "text": [
            "[1, 2, 3, 4, 5, 6, 22, 33, 33, 33, 44, 44, 55]\n"
          ]
        }
      ]
    },
    {
      "cell_type": "code",
      "source": [
        "#Descending order\n",
        "a_list = [1,2,3,4,5,6,22,33,44,55,33,44,33]\n",
        "a_list.sort(reverse=True)\n",
        "print(a_list)"
      ],
      "metadata": {
        "colab": {
          "base_uri": "https://localhost:8080/"
        },
        "id": "VHaEPJP6YrR9",
        "outputId": "75c7f03a-ec4c-4a7c-ef4f-b9f417562d12"
      },
      "execution_count": null,
      "outputs": [
        {
          "output_type": "stream",
          "name": "stdout",
          "text": [
            "[55, 44, 44, 33, 33, 33, 22, 6, 5, 4, 3, 2, 1]\n"
          ]
        }
      ]
    },
    {
      "cell_type": "code",
      "source": [
        "b_tup= (1,2,3,4,5,6)\n",
        "dir(b_tup)"
      ],
      "metadata": {
        "colab": {
          "base_uri": "https://localhost:8080/"
        },
        "id": "vcaTbW2GZYfD",
        "outputId": "411e8016-3ba2-4c82-c1b5-2b319ec667bd"
      },
      "execution_count": null,
      "outputs": [
        {
          "output_type": "execute_result",
          "data": {
            "text/plain": [
              "['__add__',\n",
              " '__class__',\n",
              " '__class_getitem__',\n",
              " '__contains__',\n",
              " '__delattr__',\n",
              " '__dir__',\n",
              " '__doc__',\n",
              " '__eq__',\n",
              " '__format__',\n",
              " '__ge__',\n",
              " '__getattribute__',\n",
              " '__getitem__',\n",
              " '__getnewargs__',\n",
              " '__gt__',\n",
              " '__hash__',\n",
              " '__init__',\n",
              " '__init_subclass__',\n",
              " '__iter__',\n",
              " '__le__',\n",
              " '__len__',\n",
              " '__lt__',\n",
              " '__mul__',\n",
              " '__ne__',\n",
              " '__new__',\n",
              " '__reduce__',\n",
              " '__reduce_ex__',\n",
              " '__repr__',\n",
              " '__rmul__',\n",
              " '__setattr__',\n",
              " '__sizeof__',\n",
              " '__str__',\n",
              " '__subclasshook__',\n",
              " 'count',\n",
              " 'index']"
            ]
          },
          "metadata": {},
          "execution_count": 60
        }
      ]
    },
    {
      "cell_type": "code",
      "source": [
        "#COUNT FUNCTION:\n",
        "\n",
        "b_tup= (1,2,3,4,5)\n",
        "b_tup.count(1)"
      ],
      "metadata": {
        "colab": {
          "base_uri": "https://localhost:8080/"
        },
        "id": "e-95iEOpalJJ",
        "outputId": "5131b390-7333-4518-b85f-e0360a937fdd"
      },
      "execution_count": null,
      "outputs": [
        {
          "output_type": "execute_result",
          "data": {
            "text/plain": [
              "1"
            ]
          },
          "metadata": {},
          "execution_count": 40
        }
      ]
    },
    {
      "cell_type": "code",
      "source": [
        "#INDEX FUNCTION:\n",
        "\n",
        "b_tup = (1,2,3,4,5,6,7)\n",
        "b_tup.index(4)"
      ],
      "metadata": {
        "colab": {
          "base_uri": "https://localhost:8080/"
        },
        "id": "yDN5Xx_mazrL",
        "outputId": "8733546b-c734-4cd9-f4a6-f5a5fa3c25c6"
      },
      "execution_count": null,
      "outputs": [
        {
          "output_type": "execute_result",
          "data": {
            "text/plain": [
              "3"
            ]
          },
          "metadata": {},
          "execution_count": 62
        }
      ]
    },
    {
      "cell_type": "code",
      "source": [
        "Question 1) Remove all repeated elements from the list Given below using for loop.\n",
        "\n",
        "\n",
        "\n",
        "a=[1,2,3,4,5,11,1,2,6,1,8]"
      ],
      "metadata": {
        "id": "UdNaeZbTa6i1"
      },
      "execution_count": null,
      "outputs": []
    },
    {
      "cell_type": "code",
      "source": [
        "\n",
        "# initializing list\n",
        "a = [1, 5, 3, 6, 3, 5, 6, 1]\n",
        "print (\"The original list is : \", (a))\n",
        "\n",
        "# using set() to remove duplicated from list\n",
        "\n",
        "a = list(set(a))\n",
        "\n",
        "print (\"After list : \", a)"
      ],
      "metadata": {
        "colab": {
          "base_uri": "https://localhost:8080/"
        },
        "id": "akxmwc7db5mo",
        "outputId": "3883fb5f-efab-4916-b81e-29704f985221"
      },
      "execution_count": null,
      "outputs": [
        {
          "output_type": "stream",
          "name": "stdout",
          "text": [
            "The original list is :  [1, 5, 3, 6, 3, 5, 6, 1]\n",
            "After list :  [1, 3, 5, 6]\n"
          ]
        }
      ]
    },
    {
      "cell_type": "code",
      "source": [
        "a_list = [1, 5, 3, 6, 3, 5, 6, 1]\n",
        "\n",
        "#1st way with values\n",
        "for k in a_list:\n",
        "  print(k)\n",
        "\n"
      ],
      "metadata": {
        "colab": {
          "base_uri": "https://localhost:8080/"
        },
        "id": "E02vEzoRUu8k",
        "outputId": "c16ff581-7c31-4565-89c5-512276b8c1b8"
      },
      "execution_count": null,
      "outputs": [
        {
          "output_type": "stream",
          "name": "stdout",
          "text": [
            "1\n",
            "5\n",
            "3\n",
            "6\n",
            "3\n",
            "5\n",
            "6\n",
            "1\n"
          ]
        }
      ]
    },
    {
      "cell_type": "code",
      "source": [
        "#2nd way with index\n",
        "a = [1, 5, 3, 6, 3, 5, 6, 1]\n",
        "for ind in range(len(a)):\n",
        "  print(a[ind])"
      ],
      "metadata": {
        "colab": {
          "base_uri": "https://localhost:8080/"
        },
        "id": "NrwOFFfOVjUc",
        "outputId": "65a133af-c5a6-4a53-de17-599dbea7010e"
      },
      "execution_count": null,
      "outputs": [
        {
          "output_type": "stream",
          "name": "stdout",
          "text": [
            "1\n",
            "5\n",
            "3\n",
            "6\n",
            "3\n",
            "5\n",
            "6\n",
            "1\n"
          ]
        }
      ]
    },
    {
      "cell_type": "code",
      "source": [
        "a = [1, 5, 3, 6, 3, 5, 6, 1]\n",
        "for ind in range(len(a)):\n",
        "  print([ind])"
      ],
      "metadata": {
        "colab": {
          "base_uri": "https://localhost:8080/"
        },
        "id": "rBq89Hs8V9x9",
        "outputId": "976dd712-4113-4966-fb23-1129a0351909"
      },
      "execution_count": null,
      "outputs": [
        {
          "output_type": "stream",
          "name": "stdout",
          "text": [
            "[0]\n",
            "[1]\n",
            "[2]\n",
            "[3]\n",
            "[4]\n",
            "[5]\n",
            "[6]\n",
            "[7]\n"
          ]
        }
      ]
    },
    {
      "cell_type": "code",
      "source": [
        "\n",
        "a=[1,2,3,4,5,11,1,2,6,1,8]\n",
        "unique_value =[]\n",
        "for k in a:\n",
        "  if k in unique_value:\n",
        "    print('Repeated value:-', k)\n",
        "  else:\n",
        "    unique_value.append(k)\n",
        "print(unique_value)"
      ],
      "metadata": {
        "colab": {
          "base_uri": "https://localhost:8080/"
        },
        "id": "pOJyWL1WWF_9",
        "outputId": "af67d8f9-89d3-44e5-9ea0-9a31d08aa1f7"
      },
      "execution_count": null,
      "outputs": [
        {
          "output_type": "stream",
          "name": "stdout",
          "text": [
            "Repeated value:- 1\n",
            "Repeated value:- 2\n",
            "Repeated value:- 1\n",
            "[1, 2, 3, 4, 5, 11, 6, 8]\n"
          ]
        }
      ]
    },
    {
      "cell_type": "code",
      "source": [
        "a=[1,2,3,4,5,11,1,2,6,1,8]\n",
        "print(set(a))"
      ],
      "metadata": {
        "colab": {
          "base_uri": "https://localhost:8080/"
        },
        "id": "deggu4gwXXUq",
        "outputId": "cc007ca1-7ef2-4420-b93f-a264103903f2"
      },
      "execution_count": null,
      "outputs": [
        {
          "output_type": "stream",
          "name": "stdout",
          "text": [
            "{1, 2, 3, 4, 5, 6, 8, 11}\n"
          ]
        }
      ]
    },
    {
      "cell_type": "code",
      "source": [
        "Question 2) Print all prime numbers below 100"
      ],
      "metadata": {
        "id": "mVyybSwSdWUy"
      },
      "execution_count": null,
      "outputs": []
    },
    {
      "cell_type": "code",
      "source": [
        "for num in range (1, 101):\n",
        "    count = 0\n",
        "    for i in range(2, (num//2 + 1)):\n",
        "        if(num % i == 0):\n",
        "          count = count + 1\n",
        "\n",
        "    if (count == 0 and num != 1):\n",
        "        print((num), end =' ')\n",
        "\n",
        "\n",
        "\n"
      ],
      "metadata": {
        "colab": {
          "base_uri": "https://localhost:8080/"
        },
        "id": "KdQS8N8jetHP",
        "outputId": "36e1f717-d4ae-4789-ef30-f5191b2c798e"
      },
      "execution_count": null,
      "outputs": [
        {
          "output_type": "stream",
          "name": "stdout",
          "text": [
            "2 3 5 7 11 13 17 19 23 29 31 37 41 43 47 53 59 61 67 71 73 79 83 89 97 "
          ]
        }
      ]
    },
    {
      "cell_type": "code",
      "source": [
        "list_of_prime_numbers =[]\n",
        "for k in range(2,100):\n",
        "  flag = True #flag is variable\n",
        "  for s in range(2,k): #if this condition gets true flag gets false and loop will stop\n",
        "    if k%s ==0:\n",
        "      flag = False\n",
        "      break\n",
        "  if flag:\n",
        "      list_of_prime_numbers.append(k)\n",
        "\n",
        "for primes in list_of_prime_numbers:\n",
        "  print(primes, 'is a prime number')"
      ],
      "metadata": {
        "colab": {
          "base_uri": "https://localhost:8080/"
        },
        "id": "0UHX8hcpYsCs",
        "outputId": "a6ff9d0e-7eb1-48ff-bb30-43da414302e4"
      },
      "execution_count": null,
      "outputs": [
        {
          "output_type": "stream",
          "name": "stdout",
          "text": [
            "2 is a prime number\n",
            "3 is a prime number\n",
            "5 is a prime number\n",
            "7 is a prime number\n",
            "11 is a prime number\n",
            "13 is a prime number\n",
            "17 is a prime number\n",
            "19 is a prime number\n",
            "23 is a prime number\n",
            "29 is a prime number\n",
            "31 is a prime number\n",
            "37 is a prime number\n",
            "41 is a prime number\n",
            "43 is a prime number\n",
            "47 is a prime number\n",
            "53 is a prime number\n",
            "59 is a prime number\n",
            "61 is a prime number\n",
            "67 is a prime number\n",
            "71 is a prime number\n",
            "73 is a prime number\n",
            "79 is a prime number\n",
            "83 is a prime number\n",
            "89 is a prime number\n",
            "97 is a prime number\n"
          ]
        }
      ]
    },
    {
      "cell_type": "markdown",
      "source": [
        "* print list in reverse order using for loop"
      ],
      "metadata": {
        "id": "vvUaiHjnYY0E"
      }
    },
    {
      "cell_type": "code",
      "source": [
        "list1 = [1, 2, 3, 4, 5]\n",
        "print(\"Num before reverse : \",list1)\n",
        "reversed_list = []\n",
        "for i in list1:\n",
        "  reversed_list = [i] + reversed_list\n",
        "print(\"Num after reverse : \", reversed_list)\n"
      ],
      "metadata": {
        "colab": {
          "base_uri": "https://localhost:8080/"
        },
        "id": "ukkuoDSK5vuC",
        "outputId": "db19970d-f8a6-4265-9598-3b83b994dad0"
      },
      "execution_count": null,
      "outputs": [
        {
          "output_type": "stream",
          "name": "stdout",
          "text": [
            "List before reverse :  [1, 2, 3, 4, 5]\n",
            "List after reverse :  [5, 4, 3, 2, 1]\n"
          ]
        }
      ]
    },
    {
      "cell_type": "code",
      "source": [
        "list1 = [1, 2, 3, 4, 5]\n",
        "reverse_list = []\n",
        "\n",
        "for k in range(1,len(list1)+1):\n",
        "\n",
        "  print(list1[-k])"
      ],
      "metadata": {
        "colab": {
          "base_uri": "https://localhost:8080/"
        },
        "id": "ReLuWdG6bJbJ",
        "outputId": "a839c918-3217-4da0-a40b-06f9d004a10c"
      },
      "execution_count": null,
      "outputs": [
        {
          "output_type": "stream",
          "name": "stdout",
          "text": [
            "5\n",
            "4\n",
            "3\n",
            "2\n",
            "1\n"
          ]
        }
      ]
    },
    {
      "cell_type": "code",
      "source": [
        "list1 = [1,2,3,4,5,6,7,8]\n",
        "\n",
        "for i in list1[::-1]:\n",
        "\n",
        "  print(i)"
      ],
      "metadata": {
        "colab": {
          "base_uri": "https://localhost:8080/"
        },
        "id": "GzjtyymNdw88",
        "outputId": "fd412615-ef14-452a-867c-7ce8e1be7de7"
      },
      "execution_count": null,
      "outputs": [
        {
          "output_type": "stream",
          "name": "stdout",
          "text": [
            "8\n",
            "7\n",
            "6\n",
            "5\n",
            "4\n",
            "3\n",
            "2\n",
            "1\n"
          ]
        }
      ]
    },
    {
      "cell_type": "code",
      "source": [
        "a = [1,2,3,4,5,6,7]\n",
        "reverse_list=[]\n",
        "for k in range(len(a)-1,-1,-1): #7,-1,-1\n",
        "  reverse_list.append(a[k])\n",
        "\n",
        "print(reverse_list)"
      ],
      "metadata": {
        "colab": {
          "base_uri": "https://localhost:8080/"
        },
        "id": "dEMNxV__cHea",
        "outputId": "018905ec-a70e-4428-a5e3-2e236ac46e9f"
      },
      "execution_count": null,
      "outputs": [
        {
          "output_type": "stream",
          "name": "stdout",
          "text": [
            "[7, 6, 5, 4, 3, 2, 1]\n"
          ]
        }
      ]
    },
    {
      "cell_type": "markdown",
      "source": [
        "* print multiplication table of 13 using for loop"
      ],
      "metadata": {
        "id": "ArGPQdINYTvO"
      }
    },
    {
      "cell_type": "code",
      "source": [
        "num = 13\n",
        "print(\"Multiplication Table of:-\", num)\n",
        "for i in range(1, 11):\n",
        "   print(num,\"X\",i,\"=\",num * i)"
      ],
      "metadata": {
        "colab": {
          "base_uri": "https://localhost:8080/"
        },
        "id": "AN-Z-A8RYRi9",
        "outputId": "65e0b8fd-6c8c-4607-c44d-bf5b9d52c31c"
      },
      "execution_count": null,
      "outputs": [
        {
          "output_type": "stream",
          "name": "stdout",
          "text": [
            "Multiplication Table of:- 13\n",
            "13 X 1 = 13\n",
            "13 X 2 = 26\n",
            "13 X 3 = 39\n",
            "13 X 4 = 52\n",
            "13 X 5 = 65\n",
            "13 X 6 = 78\n",
            "13 X 7 = 91\n",
            "13 X 8 = 104\n",
            "13 X 9 = 117\n",
            "13 X 10 = 130\n"
          ]
        }
      ]
    },
    {
      "cell_type": "code",
      "source": [
        "#Python program to count the total number of digits in a number.\n",
        "\n",
        "num = 454556567\n",
        "print(len(str(num)))"
      ],
      "metadata": {
        "colab": {
          "base_uri": "https://localhost:8080/"
        },
        "id": "l6lJNDzofg-2",
        "outputId": "604a2ad9-a674-406c-c086-af97a7fe193d"
      },
      "execution_count": null,
      "outputs": [
        {
          "output_type": "stream",
          "name": "stdout",
          "text": [
            "9\n"
          ]
        }
      ]
    },
    {
      "cell_type": "code",
      "source": [
        "count = 0\n",
        "a = input('Enter any numbe')\n",
        "\n",
        "for i in str(a):\n",
        "  count += 1\n",
        "  print(count)\n"
      ],
      "metadata": {
        "colab": {
          "base_uri": "https://localhost:8080/"
        },
        "id": "jyPbkJBFlCU1",
        "outputId": "d776f092-f029-4a95-d6df-9f22959dd761"
      },
      "execution_count": null,
      "outputs": [
        {
          "output_type": "stream",
          "name": "stdout",
          "text": [
            "Enter any numbe1234\n",
            "1\n",
            "2\n",
            "3\n",
            "4\n"
          ]
        }
      ]
    },
    {
      "cell_type": "code",
      "source": [
        "#Write a program to find greatest common divisor (GCD) or highest common factor (HCF) of given two numbers.\n",
        "a = int(input('First Number'))\n",
        "\n",
        "b =int(input('Second Number'))\n",
        "\n",
        "smallest_number = min(a,b)\n",
        "\n",
        "for k in (smallest_number, -1,-1): #start,stop and step\n",
        "  if a%k == 0 and b%k == 0:\n",
        "    print(\"The GCD is\", k)\n",
        "    break\n",
        "\n",
        "\n",
        "\n"
      ],
      "metadata": {
        "colab": {
          "base_uri": "https://localhost:8080/"
        },
        "id": "svBumt6WhpTC",
        "outputId": "288c66c5-6953-4178-8bcc-01fbad0aac5c"
      },
      "execution_count": null,
      "outputs": [
        {
          "output_type": "stream",
          "name": "stdout",
          "text": [
            "First Number8\n",
            "Second Number16\n",
            "The GCD is 8\n"
          ]
        }
      ]
    },
    {
      "cell_type": "code",
      "source": [
        "a = 14\n",
        "\n",
        "print(a/2)\n",
        "print(a//2)"
      ],
      "metadata": {
        "colab": {
          "base_uri": "https://localhost:8080/"
        },
        "id": "DLqj4yypmmac",
        "outputId": "f939cfaa-87d3-4039-b449-32cd256c96f0"
      },
      "execution_count": null,
      "outputs": [
        {
          "output_type": "stream",
          "name": "stdout",
          "text": [
            "7.0\n",
            "7\n"
          ]
        }
      ]
    },
    {
      "cell_type": "markdown",
      "source": [
        "Question 1 ) Write a program in Python to display the Factorial of a number."
      ],
      "metadata": {
        "id": "nCfAm0jGnJ8T"
      }
    },
    {
      "cell_type": "code",
      "source": [
        "a = int(input('The number:-'))\n",
        "factorial = 1\n",
        "for i in range(1,a+1):\n",
        "  factorial = factorial * i\n",
        "print('Factorial of number:-', factorial)\n",
        "\n"
      ],
      "metadata": {
        "colab": {
          "base_uri": "https://localhost:8080/"
        },
        "id": "Co9KWpgjnKj7",
        "outputId": "53b9afb4-ba23-49f8-c678-4b42d0c14abd"
      },
      "execution_count": null,
      "outputs": [
        {
          "output_type": "stream",
          "name": "stdout",
          "text": [
            "The number:-6\n",
            "Factorial of number:- 720\n"
          ]
        }
      ]
    },
    {
      "cell_type": "markdown",
      "source": [
        "WAP to separate positive and negative number from a list."
      ],
      "metadata": {
        "id": "IoZRKaJEqEob"
      }
    },
    {
      "cell_type": "code",
      "source": [
        "list1= [-9,-2,3,4,5,7,-5,6,-7,0]\n",
        "list2 = []\n",
        "list3 = []\n",
        "for i in list1:\n",
        "    if (i >= 0):\n",
        "        list2.append(i)\n",
        "    else:\n",
        "        list3.append(i)\n",
        "print('Positive List',list2)\n",
        "print('Negative List',list3)"
      ],
      "metadata": {
        "colab": {
          "base_uri": "https://localhost:8080/"
        },
        "id": "h9DdOXH2r4T-",
        "outputId": "79159613-c653-466c-f95d-856694efaefc"
      },
      "execution_count": null,
      "outputs": [
        {
          "output_type": "stream",
          "name": "stdout",
          "text": [
            "Positive List [3, 4, 5, 7, 6, 0]\n",
            "Negative List [-9, -2, -5, -7]\n"
          ]
        }
      ]
    },
    {
      "cell_type": "markdown",
      "source": [
        "*display fibonnaci series upto 10 terms"
      ],
      "metadata": {
        "id": "XfnMWs_xu4x7"
      }
    },
    {
      "cell_type": "code",
      "source": [
        "a = 0\n",
        "b = 1\n",
        "print( a, b, end=' ')\n",
        "for i in range(10):\n",
        "  c = a + b\n",
        "  print(c, end=' ')\n",
        "  a = b\n",
        "  b = c"
      ],
      "metadata": {
        "colab": {
          "base_uri": "https://localhost:8080/"
        },
        "id": "VlGLCAaSu60T",
        "outputId": "31735576-3c7f-4736-fc0a-c709e7dec7f8"
      },
      "execution_count": null,
      "outputs": [
        {
          "output_type": "stream",
          "name": "stdout",
          "text": [
            "0 1 1 2 3 5 8 13 21 34 55 89 "
          ]
        }
      ]
    },
    {
      "cell_type": "code",
      "source": [
        "fibonacci_list = [0,1]\n",
        "number_of_terms = int(input('Enter the number:-'))\n",
        "while len(fibonacci_list) < number_of_terms:\n",
        "  next_term = fibonacci_list[-1]+fibonacci_list[-2]\n",
        "  fibonacci_list"
      ],
      "metadata": {
        "id": "4ovHqR09vDe9",
        "colab": {
          "base_uri": "https://localhost:8080/",
          "height": 259
        },
        "outputId": "adc5f599-ef13-4339-b688-5abfc2440b11"
      },
      "execution_count": null,
      "outputs": [
        {
          "name": "stdout",
          "output_type": "stream",
          "text": [
            "Enter the number:-7\n"
          ]
        },
        {
          "output_type": "error",
          "ename": "KeyboardInterrupt",
          "evalue": "ignored",
          "traceback": [
            "\u001b[0;31m---------------------------------------------------------------------------\u001b[0m",
            "\u001b[0;31mKeyboardInterrupt\u001b[0m                         Traceback (most recent call last)",
            "\u001b[0;32m<ipython-input-8-b80405796e17>\u001b[0m in \u001b[0;36m<cell line: 3>\u001b[0;34m()\u001b[0m\n\u001b[1;32m      1\u001b[0m \u001b[0mfibonacci_list\u001b[0m \u001b[0;34m=\u001b[0m \u001b[0;34m[\u001b[0m\u001b[0;36m0\u001b[0m\u001b[0;34m,\u001b[0m\u001b[0;36m1\u001b[0m\u001b[0;34m]\u001b[0m\u001b[0;34m\u001b[0m\u001b[0;34m\u001b[0m\u001b[0m\n\u001b[1;32m      2\u001b[0m \u001b[0mnumber_of_terms\u001b[0m \u001b[0;34m=\u001b[0m \u001b[0mint\u001b[0m\u001b[0;34m(\u001b[0m\u001b[0minput\u001b[0m\u001b[0;34m(\u001b[0m\u001b[0;34m'Enter the number:-'\u001b[0m\u001b[0;34m)\u001b[0m\u001b[0;34m)\u001b[0m\u001b[0;34m\u001b[0m\u001b[0;34m\u001b[0m\u001b[0m\n\u001b[0;32m----> 3\u001b[0;31m \u001b[0;32mwhile\u001b[0m \u001b[0mlen\u001b[0m\u001b[0;34m(\u001b[0m\u001b[0mfibonacci_list\u001b[0m\u001b[0;34m)\u001b[0m \u001b[0;34m<\u001b[0m \u001b[0mnumber_of_terms\u001b[0m\u001b[0;34m:\u001b[0m\u001b[0;34m\u001b[0m\u001b[0;34m\u001b[0m\u001b[0m\n\u001b[0m\u001b[1;32m      4\u001b[0m   \u001b[0mnext_term\u001b[0m \u001b[0;34m=\u001b[0m \u001b[0mfibonacci_list\u001b[0m\u001b[0;34m[\u001b[0m\u001b[0;34m-\u001b[0m\u001b[0;36m1\u001b[0m\u001b[0;34m]\u001b[0m\u001b[0;34m+\u001b[0m\u001b[0mfibonacci_list\u001b[0m\u001b[0;34m[\u001b[0m\u001b[0;34m-\u001b[0m\u001b[0;36m2\u001b[0m\u001b[0;34m]\u001b[0m\u001b[0;34m\u001b[0m\u001b[0;34m\u001b[0m\u001b[0m\n\u001b[1;32m      5\u001b[0m   \u001b[0mfibonacci_list\u001b[0m\u001b[0;34m\u001b[0m\u001b[0;34m\u001b[0m\u001b[0m\n",
            "\u001b[0;31mKeyboardInterrupt\u001b[0m: "
          ]
        }
      ]
    },
    {
      "cell_type": "markdown",
      "source": [
        "\n",
        "\n",
        "1. Write a Python program to find those numbers which are divisible by 7 and multiples of 5, between 1500 and 2700 (both included).\n",
        "\n",
        "\n",
        "\n",
        "\n",
        "\n",
        "2. Write a Python program to count the number of even and odd numbers in a series of numbers\n",
        "Sample numbers : numbers = (1, 2, 3, 4, 5, 6, 7, 8, 9)\n",
        "\n",
        "\n",
        "\n",
        "\n",
        "3. Write a Python program that prints all the numbers from 0 to 6 except 3 and 6.\n",
        "\n",
        "Expected Output : 0 1 2 4 5\n",
        "\n",
        " like 2"
      ],
      "metadata": {
        "id": "jmAY6dj0mgf5"
      }
    },
    {
      "cell_type": "code",
      "source": [
        "#1 Write a Python program to find those numbers which are divisible by 7 and multiples of 5, between 1500 and 2700 (both included).\n",
        "num = 0\n",
        "for num in range(1500,2700):\n",
        "\n",
        "  if num%7 == 0 and num%5 == 0:\n",
        "    print(num,'can be divisible by 7 and is multiple of 5')\n"
      ],
      "metadata": {
        "colab": {
          "base_uri": "https://localhost:8080/"
        },
        "id": "KlGwie_NrW1S",
        "outputId": "3c98bb70-6374-45ad-c7e8-f887afd32d7e"
      },
      "execution_count": null,
      "outputs": [
        {
          "output_type": "stream",
          "name": "stdout",
          "text": [
            "1505 can be divisible by 7 and is multiple of 5\n",
            "1540 can be divisible by 7 and is multiple of 5\n",
            "1575 can be divisible by 7 and is multiple of 5\n",
            "1610 can be divisible by 7 and is multiple of 5\n",
            "1645 can be divisible by 7 and is multiple of 5\n",
            "1680 can be divisible by 7 and is multiple of 5\n",
            "1715 can be divisible by 7 and is multiple of 5\n",
            "1750 can be divisible by 7 and is multiple of 5\n",
            "1785 can be divisible by 7 and is multiple of 5\n",
            "1820 can be divisible by 7 and is multiple of 5\n",
            "1855 can be divisible by 7 and is multiple of 5\n",
            "1890 can be divisible by 7 and is multiple of 5\n",
            "1925 can be divisible by 7 and is multiple of 5\n",
            "1960 can be divisible by 7 and is multiple of 5\n",
            "1995 can be divisible by 7 and is multiple of 5\n",
            "2030 can be divisible by 7 and is multiple of 5\n",
            "2065 can be divisible by 7 and is multiple of 5\n",
            "2100 can be divisible by 7 and is multiple of 5\n",
            "2135 can be divisible by 7 and is multiple of 5\n",
            "2170 can be divisible by 7 and is multiple of 5\n",
            "2205 can be divisible by 7 and is multiple of 5\n",
            "2240 can be divisible by 7 and is multiple of 5\n",
            "2275 can be divisible by 7 and is multiple of 5\n",
            "2310 can be divisible by 7 and is multiple of 5\n",
            "2345 can be divisible by 7 and is multiple of 5\n",
            "2380 can be divisible by 7 and is multiple of 5\n",
            "2415 can be divisible by 7 and is multiple of 5\n",
            "2450 can be divisible by 7 and is multiple of 5\n",
            "2485 can be divisible by 7 and is multiple of 5\n",
            "2520 can be divisible by 7 and is multiple of 5\n",
            "2555 can be divisible by 7 and is multiple of 5\n",
            "2590 can be divisible by 7 and is multiple of 5\n",
            "2625 can be divisible by 7 and is multiple of 5\n",
            "2660 can be divisible by 7 and is multiple of 5\n",
            "2695 can be divisible by 7 and is multiple of 5\n"
          ]
        }
      ]
    },
    {
      "cell_type": "code",
      "source": [
        "#2. Write a Python program to count the number of even and odd numbers in a series of numbers Sample numbers : numbers = (1, 2, 3, 4, 5, 6, 7, 8, 9)\n",
        "\n",
        "numbers = (1, 2, 3, 4, 5, 6, 7, 8, 9)\n",
        "odd_num = 0\n",
        "even_num = 0\n",
        "\n",
        "for numbers in range(1,9+1):\n",
        "\n",
        "  if numbers%2 ==0:\n",
        "    even_num+=1\n",
        "  else:\n",
        "    odd_num+=1\n",
        "\n",
        "print('Even Count',even_num)\n",
        "print('Odd count',odd_num)"
      ],
      "metadata": {
        "colab": {
          "base_uri": "https://localhost:8080/"
        },
        "id": "jxQPMOWmuHmS",
        "outputId": "f4488358-1b28-4180-a94c-3dd0da9667d2"
      },
      "execution_count": null,
      "outputs": [
        {
          "output_type": "stream",
          "name": "stdout",
          "text": [
            "Even Count 4\n",
            "Odd count 5\n"
          ]
        }
      ]
    },
    {
      "cell_type": "code",
      "source": [
        "#Write a Python program that prints all the numbers from 0 to 6 except 3 and 6.\n",
        "\n",
        "#Expected Output : 0 1 2 4 5\n",
        "\n",
        "for num in range(7):\n",
        "  if num!=3 and num!=6:\n",
        "    print(num,end=\" \")\n"
      ],
      "metadata": {
        "colab": {
          "base_uri": "https://localhost:8080/"
        },
        "id": "_9cWqHygxC30",
        "outputId": "56134228-2fd0-451b-e2e5-aca9bebe7e2b"
      },
      "execution_count": 28,
      "outputs": [
        {
          "output_type": "stream",
          "name": "stdout",
          "text": [
            "0 1 2 4 5 "
          ]
        }
      ]
    },
    {
      "cell_type": "code",
      "source": [],
      "metadata": {
        "id": "ma6Dg99vFRip"
      },
      "execution_count": null,
      "outputs": []
    }
  ]
}