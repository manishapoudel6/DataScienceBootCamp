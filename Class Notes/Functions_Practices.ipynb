{
  "nbformat": 4,
  "nbformat_minor": 0,
  "metadata": {
    "colab": {
      "provenance": []
    },
    "kernelspec": {
      "name": "python3",
      "display_name": "Python 3"
    },
    "language_info": {
      "name": "python"
    }
  },
  "cells": [
    {
      "cell_type": "markdown",
      "source": [
        " 1) Write a Python Function that accepts a hyphen-separated sequence of words as input and prints the words in a hyphen-separated sequence after sorting them alphabetically.\n",
        "Sample Items : green-red-yellow-black-white\n",
        "Expected Result : black-green-red-white-yellow"
      ],
      "metadata": {
        "id": "9R4-vHLOEQsI"
      }
    },
    {
      "cell_type": "code",
      "source": [
        "def sort_hyphen_separated_words(sequence):\n",
        "    words = sequence.split('-')\n",
        "    words.sort()\n",
        "    return '-'.join(words)\n",
        "\n",
        "input_sequence = \"One-Two-Three-Four-Five-Six-seven\"\n",
        "sorted_sequence = sort_hyphen_separated_words(input_sequence)\n",
        "print(sorted_sequence)"
      ],
      "metadata": {
        "colab": {
          "base_uri": "https://localhost:8080/"
        },
        "id": "LMph6wO7GiBc",
        "outputId": "2f2470cb-2d9b-4732-b0a1-cf76c10ab4d0"
      },
      "execution_count": null,
      "outputs": [
        {
          "output_type": "stream",
          "name": "stdout",
          "text": [
            "Five-Four-One-Six-Three-Two-seven\n"
          ]
        }
      ]
    },
    {
      "cell_type": "code",
      "source": [
        "def sort_sequence(sequence):\n",
        "    words = sequence.split('-')\n",
        "    words.sort()\n",
        "\n",
        "    sorted_sequence = '-'.join(words)\n",
        "\n",
        "    print(sorted_sequence)\n",
        "\n",
        "input_sequence = \"One-Two-Three-Four-Five-Six-seven\"\n",
        "sort_sequence(input_sequence)\n",
        "\n"
      ],
      "metadata": {
        "colab": {
          "base_uri": "https://localhost:8080/"
        },
        "id": "dVdgSNQ-HM8u",
        "outputId": "eacf89f4-c46a-4845-c21d-66986599b8c3"
      },
      "execution_count": null,
      "outputs": [
        {
          "output_type": "stream",
          "name": "stdout",
          "text": [
            "Five-Four-One-Six-Three-Two-seven\n"
          ]
        }
      ]
    },
    {
      "cell_type": "code",
      "source": [
        "def sort_the_string(words_str):\n",
        "  words_list = words_str.split('-')\n",
        "  print(words_list)\n",
        "  sorted_list=sorted(words_list)\n",
        "  print('-'.join(sorted_list))\n",
        "\n",
        "sort_the_string('green-red-yellow-black-white')"
      ],
      "metadata": {
        "colab": {
          "base_uri": "https://localhost:8080/"
        },
        "id": "75d9wdZlIcPv",
        "outputId": "ed69cf4e-e723-46b6-901d-5001abc195b8"
      },
      "execution_count": null,
      "outputs": [
        {
          "output_type": "stream",
          "name": "stdout",
          "text": [
            "['green', 'red', 'yellow', 'black', 'white']\n",
            "black-green-red-white-yellow\n"
          ]
        }
      ]
    },
    {
      "cell_type": "code",
      "source": [
        "def sort_the_string(words_str):\n",
        "  words_list = words_str.split('-')\n",
        "  sorted_list =sorted(words_list)\n",
        "  print(sorted_list)\n",
        "  str_out =''\n",
        "\n",
        "  print('Sorted list',sorted_list)\n",
        "  for k in sorted_list:\n",
        "    if len(str_out)==0:\n",
        "      str_out=k\n",
        "    else:\n",
        "\n",
        "      str_out= str_out+'-'+k\n",
        "    print(k)\n",
        "    print(str_out)\n",
        "\n",
        "  #sorted_list=sorted(words_list)\n",
        "  #print('-'.join(sorted_list))\n",
        "sort_the_string('green-red-yellow-black-white')"
      ],
      "metadata": {
        "colab": {
          "base_uri": "https://localhost:8080/"
        },
        "id": "LVYM6c2gJzrD",
        "outputId": "bdc5c7dd-1f55-4f93-e75f-ed651d6c6a2d"
      },
      "execution_count": null,
      "outputs": [
        {
          "output_type": "stream",
          "name": "stdout",
          "text": [
            "['black', 'green', 'red', 'white', 'yellow']\n",
            "Sorted list ['black', 'green', 'red', 'white', 'yellow']\n",
            "black\n",
            "black\n",
            "green\n",
            "black-green\n",
            "red\n",
            "black-green-red\n",
            "white\n",
            "black-green-red-white\n",
            "yellow\n",
            "black-green-red-white-yellow\n"
          ]
        }
      ]
    },
    {
      "cell_type": "code",
      "source": [],
      "metadata": {
        "id": "VlV_MCRfLOFG"
      },
      "execution_count": null,
      "outputs": []
    },
    {
      "cell_type": "markdown",
      "source": [
        " Write a function that accepts a string and count consonant and vowels in that string"
      ],
      "metadata": {
        "id": "qzlcdVW-NJJd"
      }
    },
    {
      "cell_type": "code",
      "source": [
        "def count_consonants_and_vowels(input_string):\n",
        "    vowels = \"aeiouAEIOU\"\n",
        "    consonants = \"bcdfghjklmnpqrstvwxyzBCDFGHJKLMNPQRSTVWXYZ\"\n",
        "\n",
        "    vowel_count = 0\n",
        "    consonant_count = 0\n",
        "\n",
        "    for char in input_string:\n",
        "        if char in vowels:\n",
        "            vowel_count += 1\n",
        "        elif char in consonants:\n",
        "            consonant_count += 1\n",
        "\n",
        "    return vowel_count, consonant_count\n",
        "\n",
        "# Example usage\n",
        "input_str = \"Hello, World!\"\n",
        "vowels, consonants = count_consonants_and_vowels(input_str)\n",
        "print(\"Vowels:\", vowels)\n",
        "print(\"Consonants:\", consonants)\n"
      ],
      "metadata": {
        "id": "H6dmSSFPNJ8f"
      },
      "execution_count": null,
      "outputs": []
    },
    {
      "cell_type": "code",
      "source": [
        "def c_v(string):\n",
        "  v = 'aeiou'\n",
        "  consonants_count = 0\n",
        "  vowel_count = 0\n",
        "\n",
        "  for v in vowels:\n",
        "    if\n",
        "      vowel_count += 1\n",
        "    else:\n",
        "      consonant_count += 1\n",
        "  print(vowel_count, consonants_count)\n",
        "  input_str = input(\"Enter a sentence: \")\n",
        "\n",
        "vowels, consonants = count_consonants_and_vowels(input_str)\n",
        "print(\"Number of vowels:\", vowels)\n",
        "print(\"Number of consonants:\", consonants)\n"
      ],
      "metadata": {
        "colab": {
          "base_uri": "https://localhost:8080/",
          "height": 159
        },
        "id": "A-BsKMcwOXaF",
        "outputId": "eefe12d1-5f25-4e13-e587-31d23bdb2e25"
      },
      "execution_count": null,
      "outputs": [
        {
          "output_type": "error",
          "ename": "SyntaxError",
          "evalue": "ignored",
          "traceback": [
            "\u001b[0;36m  File \u001b[0;32m\"<ipython-input-1-ff6a36b89a3c>\"\u001b[0;36m, line \u001b[0;32m7\u001b[0m\n\u001b[0;31m    if\u001b[0m\n\u001b[0m      ^\u001b[0m\n\u001b[0;31mSyntaxError\u001b[0m\u001b[0;31m:\u001b[0m invalid syntax\n"
          ]
        }
      ]
    },
    {
      "cell_type": "code",
      "source": [
        "def count_const_vowels(words):\n",
        "  vowel_list = ['a','e','i','o','u']\n",
        "  count_vowels = 0\n",
        "  count_const = 0\n",
        "  for k in words:\n",
        "    if k in vowel_list:\n",
        "      count_vowels = count_vowels+1\n",
        "\n",
        "    else:\n",
        "      count_const = count_const+1\n",
        "\n",
        "  print('count of consonants',count_const)\n",
        "  print('Count of vowels',count_vowels)\n",
        "\n",
        "count_const_vowels('blackgreenredwhiteyellow')"
      ],
      "metadata": {
        "colab": {
          "base_uri": "https://localhost:8080/"
        },
        "id": "W4aqAGc1PT2G",
        "outputId": "0b278351-cd3f-4bcc-e944-46c9722b9afc"
      },
      "execution_count": null,
      "outputs": [
        {
          "output_type": "stream",
          "name": "stdout",
          "text": [
            "count of consonants 16\n",
            "Count of vowels 8\n"
          ]
        }
      ]
    },
    {
      "cell_type": "markdown",
      "source": [
        "Write a Python function to check whether a number is \"Perfect\" or not.\n",
        "According to Wikipedia : In number theory, a perfect number is a positive integer that is equal to the sum of its proper positive divisors, that is, the sum of its positive divisors excluding the number itself (also known as its aliquot sum). Equivalently, a perfect number is a number that is half the sum of all of its positive divisors (including itself).\n",
        "Example : The first perfect number is 6, because 1, 2, and 3 are its proper positive divisors, and 1 + 2 + 3 = 6. Equivalently, the number 6 is equal to half the sum of all its positive divisors: ( 1 + 2 + 3 + 6 ) / 2 = 6. The next perfect number is 28 = 1 + 2 + 4 + 7 + 14. This is followed by the perfect numbers 496 and 8128."
      ],
      "metadata": {
        "id": "2ScxSF22SWlu"
      }
    },
    {
      "cell_type": "code",
      "source": [
        "\n",
        "n = int(input('Enter any number:'))\n",
        "sum1 = 0\n",
        "\n",
        "for i in range(1,n):\n",
        "  if(n%i == 0):\n",
        "\n",
        "    sum1 = sum1 + i\n",
        "\n",
        "if sum1 == n:\n",
        "\n",
        "  print('The number is a Perfect number')\n",
        "\n",
        "else:\n",
        "  print('The number is not a Perfect number')\n",
        "\n",
        "\n"
      ],
      "metadata": {
        "colab": {
          "base_uri": "https://localhost:8080/"
        },
        "id": "QgBWHputUquS",
        "outputId": "b8f11d23-8a6c-4ff5-f308-4e8d9243549b"
      },
      "execution_count": null,
      "outputs": [
        {
          "output_type": "stream",
          "name": "stdout",
          "text": [
            "Enter any number:28\n",
            "The number is a Perfect number\n"
          ]
        }
      ]
    },
    {
      "cell_type": "markdown",
      "source": [
        "4) Write a program to print twin primes less than 1000. If two consecutive odd numbers are both prime then they are known as twin primes"
      ],
      "metadata": {
        "id": "Vjf0x1lgUnpz"
      }
    },
    {
      "cell_type": "code",
      "source": [
        "#Logical Breaking\n",
        "# First part is we have to iterate till 1000\n",
        "# 2nd part only check for odd numbers\n",
        "# 3rd both the numbers should be prime"
      ],
      "metadata": {
        "id": "t-p8bkp_L3qr"
      },
      "execution_count": null,
      "outputs": []
    },
    {
      "cell_type": "code",
      "source": [
        "num=int(input(\"Enter the Max Range :- \"))\n",
        "\n",
        "def check_prime_number(num):\n",
        "  for i in range(2,num):\n",
        "    if num%i==0:\n",
        "      return False\n",
        "  return True\n",
        "\n",
        "\n",
        "def print_prime_pairs(num):\n",
        "  # We start from 3 which is first odd prime number and jump 2 places each for next odd number\n",
        "  for k in range(3,num,2):\n",
        "    if check_prime_number(k) and check_prime_number(k+2):\n",
        "      print(\"Pair Prime Numbers\",k,k+2)\n",
        "\n",
        "print_prime_pairs(num)"
      ],
      "metadata": {
        "colab": {
          "base_uri": "https://localhost:8080/"
        },
        "id": "wPaVwEmudfMm",
        "outputId": "572dd3c5-ef0b-47f4-a32c-bd7f16132b71"
      },
      "execution_count": null,
      "outputs": [
        {
          "output_type": "stream",
          "name": "stdout",
          "text": [
            "Enter the Max Range :- 1000\n",
            "Pair Prime Numbers 3 5\n",
            "Pair Prime Numbers 5 7\n",
            "Pair Prime Numbers 11 13\n",
            "Pair Prime Numbers 17 19\n",
            "Pair Prime Numbers 29 31\n",
            "Pair Prime Numbers 41 43\n",
            "Pair Prime Numbers 59 61\n",
            "Pair Prime Numbers 71 73\n",
            "Pair Prime Numbers 101 103\n",
            "Pair Prime Numbers 107 109\n",
            "Pair Prime Numbers 137 139\n",
            "Pair Prime Numbers 149 151\n",
            "Pair Prime Numbers 179 181\n",
            "Pair Prime Numbers 191 193\n",
            "Pair Prime Numbers 197 199\n",
            "Pair Prime Numbers 227 229\n",
            "Pair Prime Numbers 239 241\n",
            "Pair Prime Numbers 269 271\n",
            "Pair Prime Numbers 281 283\n",
            "Pair Prime Numbers 311 313\n",
            "Pair Prime Numbers 347 349\n",
            "Pair Prime Numbers 419 421\n",
            "Pair Prime Numbers 431 433\n",
            "Pair Prime Numbers 461 463\n",
            "Pair Prime Numbers 521 523\n",
            "Pair Prime Numbers 569 571\n",
            "Pair Prime Numbers 599 601\n",
            "Pair Prime Numbers 617 619\n",
            "Pair Prime Numbers 641 643\n",
            "Pair Prime Numbers 659 661\n",
            "Pair Prime Numbers 809 811\n",
            "Pair Prime Numbers 821 823\n",
            "Pair Prime Numbers 827 829\n",
            "Pair Prime Numbers 857 859\n",
            "Pair Prime Numbers 881 883\n"
          ]
        }
      ]
    },
    {
      "cell_type": "markdown",
      "source": [
        "2) Write a program to find out the prime factorization of a number. Example: prime factorization  of 56 2 × 2 × 2 × 7\n",
        "\n",
        "\n"
      ],
      "metadata": {
        "id": "vHoHP002W9wt"
      }
    },
    {
      "cell_type": "code",
      "source": [
        "number = int(input(\"Enter a number: \"))\n",
        "def prime_factorization(n):\n",
        "    factors = []\n",
        "\n",
        "    while n % 2 == 0:\n",
        "        factors.append(2)\n",
        "        n //= 2\n",
        "\n",
        "    for i in range(3, int(n**0.5) + 1, 2):\n",
        "        while n % i == 0:\n",
        "            factors.append(i)\n",
        "            n //= i\n",
        "\n",
        "    if n > 2:\n",
        "        factors.append(n)\n",
        "\n",
        "    return factors\n",
        "\n",
        "\n",
        "\n",
        "prime_factors = prime_factorization(number)\n",
        "print(\"Prime factorization:\", \" × \".join(map(str, prime_factors)))\n"
      ],
      "metadata": {
        "colab": {
          "base_uri": "https://localhost:8080/"
        },
        "id": "YmgY-4FYhQLY",
        "outputId": "48427d77-0dcf-4d56-84a3-6e2ae625bff5"
      },
      "execution_count": null,
      "outputs": [
        {
          "output_type": "stream",
          "name": "stdout",
          "text": [
            "Enter a number: 4\n",
            "Prime factorization: 2 × 2\n"
          ]
        }
      ]
    },
    {
      "cell_type": "code",
      "source": [
        "# We will divide the number until it becomes 1.\n",
        "#If we dont know the iteration we should go with while loop.\n",
        "n=int(input(\"Enter the Number for prime factorization\"))\n",
        "\n",
        "def prime_factors(num):\n",
        "  factors=[]\n",
        "  divisor=2\n",
        "  while num>1:\n",
        "    while num%divisor==0:\n",
        "      num=num/divisor\n",
        "      factors.append(str(divisor))\n",
        "    divisor=divisor+1\n",
        "  return factors\n",
        "\n",
        "def show_prime_factorization(n):\n",
        "  factors=prime_factors(n)\n",
        "  return \"x\".join(factors)\n",
        "\n",
        "show_prime_factorization(n)"
      ],
      "metadata": {
        "colab": {
          "base_uri": "https://localhost:8080/",
          "height": 74
        },
        "id": "cYai5VhtSg_v",
        "outputId": "e37e7bf7-5746-4561-81ac-393acc418e74"
      },
      "execution_count": null,
      "outputs": [
        {
          "name": "stdout",
          "output_type": "stream",
          "text": [
            "Enter the Number for prime factorization84\n"
          ]
        },
        {
          "output_type": "execute_result",
          "data": {
            "text/plain": [
              "'2x2x3x7'"
            ],
            "application/vnd.google.colaboratory.intrinsic+json": {
              "type": "string"
            }
          },
          "metadata": {},
          "execution_count": 3
        }
      ]
    },
    {
      "cell_type": "markdown",
      "source": [
        "6. ) Two different numbers are called amicable numbers if the sum of the proper divisors of each is equal to the other number. For example 220 and 284 are amicable numbers."
      ],
      "metadata": {
        "id": "U2KteLPqimmz"
      }
    },
    {
      "cell_type": "code",
      "source": [
        "def sum_of_divisors(n):\n",
        "    div_sum = 0\n",
        "    for i in range(1, n):\n",
        "        if n % i == 0:\n",
        "            div_sum += i\n",
        "    return div_sum\n",
        "\n",
        "def find_amicable_numbers(limit):\n",
        "    amicable_pairs = []\n",
        "    for num in range(2, limit):\n",
        "        sum_divisors_num = sum_of_divisors(num)\n",
        "        if sum_divisors_num != num and sum_of_divisors(sum_divisors_num) == num and sum_divisors_num < limit:\n",
        "            amicable_pairs.append((num, sum_divisors_num))\n",
        "    return amicable_pairs\n",
        "\n",
        "limit = 10000\n",
        "amicable_pairs = find_amicable_numbers(limit)\n",
        "\n",
        "for pair in amicable_pairs:\n",
        "    print(f\"{pair[0]} and {pair[1]} are amicable numbers.\")"
      ],
      "metadata": {
        "colab": {
          "base_uri": "https://localhost:8080/"
        },
        "id": "PcTrsx6Viqh3",
        "outputId": "4267d92a-f3ca-47a1-94de-447484d70d0c"
      },
      "execution_count": null,
      "outputs": [
        {
          "output_type": "stream",
          "name": "stdout",
          "text": [
            "220 and 284 are amicable numbers.\n",
            "284 and 220 are amicable numbers.\n",
            "1184 and 1210 are amicable numbers.\n",
            "1210 and 1184 are amicable numbers.\n",
            "2620 and 2924 are amicable numbers.\n",
            "2924 and 2620 are amicable numbers.\n",
            "5020 and 5564 are amicable numbers.\n",
            "5564 and 5020 are amicable numbers.\n",
            "6232 and 6368 are amicable numbers.\n",
            "6368 and 6232 are amicable numbers.\n"
          ]
        }
      ]
    },
    {
      "cell_type": "code",
      "source": [
        "x=int(input(\"Enter first number \"))\n",
        "y=int(input(\"Enter second number \"))\n",
        "\n",
        "def get_proper_divisors_sum(num):\n",
        "  sum=0\n",
        "  for k in range(1,num):\n",
        "    if num%k==0:\n",
        "      sum=sum+k\n",
        "  return sum\n",
        "\n",
        "\n",
        "def check_ambicale_numbers(x,y):\n",
        "  if get_proper_divisors_sum(x)==y and get_proper_divisors_sum(y)==x:\n",
        "    print(\"These are ambicable numbers\",x,y)\n",
        "  else:\n",
        "    print(\"Not ambicable number\")\n",
        "\n",
        "check_ambicale_numbers(x,y)"
      ],
      "metadata": {
        "colab": {
          "base_uri": "https://localhost:8080/"
        },
        "id": "gSsgxrZ_ZbcN",
        "outputId": "e04443b9-d0c7-428a-a350-cfa1f212bb70"
      },
      "execution_count": null,
      "outputs": [
        {
          "output_type": "stream",
          "name": "stdout",
          "text": [
            "Enter first number 220\n",
            "Enter second number 284\n",
            "These are ambicable numbers 220 284\n"
          ]
        }
      ]
    },
    {
      "cell_type": "markdown",
      "source": [
        "Swap first and last element of the list\n",
        "\n",
        "\n",
        "\n",
        "a=[1,2,5,10,'1']\n",
        "\n",
        "has context menu"
      ],
      "metadata": {
        "id": "0AiIKr9pc8iY"
      }
    },
    {
      "cell_type": "code",
      "source": [
        "a = [1,2,5,10,'1']\n",
        "\n",
        "a[0], a[-1] = a[-1], a[0]\n",
        "print(a)"
      ],
      "metadata": {
        "id": "37ITTB28Dexl",
        "colab": {
          "base_uri": "https://localhost:8080/"
        },
        "outputId": "3fee7d29-cb18-41cc-f475-375dffc6f158"
      },
      "execution_count": null,
      "outputs": [
        {
          "output_type": "stream",
          "name": "stdout",
          "text": [
            "['1', 2, 5, 10, 1]\n"
          ]
        }
      ]
    },
    {
      "cell_type": "code",
      "source": [
        "a = [1,2,5,10,'1']\n",
        "\n",
        "def swap_1st_and_last(a):\n",
        "  if len(a) >= 2:\n",
        "    a[0], a[-1] = a[-1], a[0]\n",
        "  return a\n",
        "\n",
        "a = [1, 2, 5, 10, '1']\n",
        "result = swap_1st_and_last(a)\n",
        "print(result)\n"
      ],
      "metadata": {
        "colab": {
          "base_uri": "https://localhost:8080/"
        },
        "id": "thLrdEJ_eSyR",
        "outputId": "d454cd92-1aae-488d-c1f6-250f8e2325e1"
      },
      "execution_count": null,
      "outputs": [
        {
          "output_type": "stream",
          "name": "stdout",
          "text": [
            "['1', 2, 5, 10, 1]\n"
          ]
        }
      ]
    },
    {
      "cell_type": "code",
      "source": [
        "# swap 1st and last element of list\n",
        "a=[1,2,5,10,'1']\n",
        "# remove functions work on values which we might not know\n",
        "# pop works at indexs more suitable\n",
        "# clear removes everything from list which is not suggested\n",
        "def swap_elements(list_temp):\n",
        "  first=list_temp.pop(0)\n",
        "  last=list_temp.pop(-1)\n",
        "  list_temp.insert(0,last)\n",
        "  list_temp.append(first)\n",
        "  return list_temp\n",
        "\n",
        "swap_elements(a)\n"
      ],
      "metadata": {
        "colab": {
          "base_uri": "https://localhost:8080/"
        },
        "id": "hUFF4_krfglL",
        "outputId": "d2c6cbdc-a1d4-4592-c97d-60976e461692"
      },
      "execution_count": null,
      "outputs": [
        {
          "output_type": "execute_result",
          "data": {
            "text/plain": [
              "['1', 2, 5, 10, 1]"
            ]
          },
          "metadata": {},
          "execution_count": 11
        }
      ]
    },
    {
      "cell_type": "code",
      "source": [
        "# swap 1st and last element of list\n",
        "a=[1,2,5,10,'1']\n",
        "\n",
        "def swap_elements(list_temp):\n",
        "  list_temp[0],list_temp[-1]=list_temp[-1],list_temp[0]\n",
        "  return list_temp\n",
        "\n",
        "swap_elements(a)"
      ],
      "metadata": {
        "colab": {
          "base_uri": "https://localhost:8080/"
        },
        "id": "7fC1Ft5ZhvMX",
        "outputId": "49cacd65-8d20-413d-83ae-e762ae7d587a"
      },
      "execution_count": null,
      "outputs": [
        {
          "output_type": "execute_result",
          "data": {
            "text/plain": [
              "['1', 2, 5, 10, 1]"
            ]
          },
          "metadata": {},
          "execution_count": 12
        }
      ]
    },
    {
      "cell_type": "code",
      "source": [
        "import random\n",
        "possible_actions = ['rock','paper','paper']\n",
        "computer_action = random.choice(possible_actions)\n",
        "computer_action"
      ],
      "metadata": {
        "colab": {
          "base_uri": "https://localhost:8080/",
          "height": 58
        },
        "id": "qMe68Cj0jEgt",
        "outputId": "d00562de-b3a4-4814-938d-3b0b51b0ed19"
      },
      "execution_count": null,
      "outputs": [
        {
          "output_type": "execute_result",
          "data": {
            "text/plain": [
              "'paper'"
            ],
            "application/vnd.google.colaboratory.intrinsic+json": {
              "type": "string"
            }
          },
          "metadata": {},
          "execution_count": 4
        }
      ]
    },
    {
      "cell_type": "code",
      "source": [
        "import random\n",
        "\n",
        "def possible_actions():\n",
        "  possible_actions = ('rock','paper','scissors')\n",
        "  computer_action = random.choice(possible_actions)\n",
        "  return computer_action\n",
        "\n",
        "def winner_of_them(user_input,computer_action):\n",
        "    while user_input == computer_action:\n",
        "     return \" It's a Tie!\"\n",
        "    if user_input == 'paper' and computer_action == 'rock':\n",
        "     return \" You win!\"\n",
        "    elif user_input == 'scissors' and computer_action == 'paper':\n",
        "     return \" You win!\"\n",
        "    elif user_input == 'rock' and computer_action == 'scissors':\n",
        "     return \" You win!\"\n",
        "    else:\n",
        "     return \" Computer wins!\"\n",
        "\n",
        "\n",
        "user_input = input('Choose rock, paper, or scissors: ').lower()\n",
        "computer_action = possible_actions()\n",
        "print('Computer Choice:', computer_action)\n",
        "result = winner_of_them(user_input, computer_action)\n",
        "print(result)\n",
        "\n",
        "if result == \"You win!\":\n",
        "    print(\"Congratulations, you won!\")\n",
        "else:\n",
        "    print(\"Sorry, you didn't win this time.\")"
      ],
      "metadata": {
        "id": "sx0EK5LcYtDQ",
        "colab": {
          "base_uri": "https://localhost:8080/"
        },
        "outputId": "4f8fd8de-95d8-468c-afae-768a5bb46e37"
      },
      "execution_count": 1,
      "outputs": [
        {
          "output_type": "stream",
          "name": "stdout",
          "text": [
            "Choose rock, paper, or scissors: rock\n",
            "Computer Choice: paper\n",
            " Computer wins!\n",
            "Sorry, you didn't win this time.\n"
          ]
        }
      ]
    },
    {
      "cell_type": "code",
      "source": [
        "#enumerate returns index and Value\n",
        "my_list = [11,22,33,44,55]\n",
        "for i, v in enumerate(my_list):\n",
        "  print(i,v)"
      ],
      "metadata": {
        "colab": {
          "base_uri": "https://localhost:8080/"
        },
        "id": "jr2n39mGgd6b",
        "outputId": "0015a9f4-d56b-496c-cb3c-15cae7a1e102"
      },
      "execution_count": 6,
      "outputs": [
        {
          "output_type": "stream",
          "name": "stdout",
          "text": [
            "0 11\n",
            "1 22\n",
            "2 33\n",
            "3 44\n",
            "4 55\n"
          ]
        }
      ]
    },
    {
      "cell_type": "code",
      "source": [
        "#continue\n",
        "\n",
        "i = 0\n",
        "for k in range(10):\n",
        "  i = i +1\n",
        "  if i% 3== 0:\n",
        "    continue\n",
        "\n",
        "  print(i)\n"
      ],
      "metadata": {
        "colab": {
          "base_uri": "https://localhost:8080/"
        },
        "id": "PnrgCW4jlSNZ",
        "outputId": "a46814d9-0456-4f83-fd57-9bc422311c21"
      },
      "execution_count": 8,
      "outputs": [
        {
          "output_type": "stream",
          "name": "stdout",
          "text": [
            "1\n",
            "2\n",
            "4\n",
            "5\n",
            "7\n",
            "8\n",
            "10\n"
          ]
        }
      ]
    },
    {
      "cell_type": "code",
      "source": [
        "for i in range(3):\n",
        "  for j in range(2):\n",
        "    print(i,j)"
      ],
      "metadata": {
        "colab": {
          "base_uri": "https://localhost:8080/"
        },
        "id": "Mzn9ia6-mRU1",
        "outputId": "c3c20c73-1d2a-4968-b4a2-c27ada434627"
      },
      "execution_count": 9,
      "outputs": [
        {
          "output_type": "stream",
          "name": "stdout",
          "text": [
            "0 0\n",
            "0 1\n",
            "1 0\n",
            "1 1\n",
            "2 0\n",
            "2 1\n"
          ]
        }
      ]
    },
    {
      "cell_type": "code",
      "source": [],
      "metadata": {
        "id": "JjPmCEt2m2GF"
      },
      "execution_count": null,
      "outputs": []
    },
    {
      "cell_type": "markdown",
      "source": [
        "[10:57 PM] Rohit Sharma\n",
        "\n",
        "Create this Matrix and User should be able to replace any number with X\n"
      ],
      "metadata": {
        "id": "_2DxlUZ2osO4"
      }
    },
    {
      "cell_type": "code",
      "source": [
        "def display_board(board_list):\n",
        "    print(\" {} | {} | {} \".format(board_list[0],board_list[1],board_list[2]))\n",
        "    print(\"-----------\")\n",
        "    print(\" {} | {} | {} \".format(board_list[3],board_list[4],board_list[5]))\n",
        "    print(\"-----------\")\n",
        "    print(\" {} | {} | {} \".format(board_list[6],board_list[7],board_list[8]))\n",
        "\n",
        "available = [num for num in range(1,10)]\n",
        "display_board(available)\n",
        "\n",
        "position_to_replace=int(input(\"Please choose between 1 and 9 :- \"))\n",
        "position_to_replace=available.index(position_to_replace)\n",
        "while True:\n",
        "  if position_to_replace<0 or position_to_replace>8:\n",
        "    print(\"Invalid Input\")\n",
        "    position_to_replace=int(input(\"Please choose between 1 and 9 :- \"))\n",
        "  else:\n",
        "    available[position_to_replace]=\"X\"\n",
        "    print(available)\n",
        "    break\n",
        "\n",
        "display_board(available)\n"
      ],
      "metadata": {
        "colab": {
          "base_uri": "https://localhost:8080/"
        },
        "id": "Kmxlca68rBbP",
        "outputId": "1e2c9f2d-0076-4ce3-d4cd-a52302656176"
      },
      "execution_count": 4,
      "outputs": [
        {
          "output_type": "stream",
          "name": "stdout",
          "text": [
            " 1 | 2 | 3 \n",
            "-----------\n",
            " 4 | 5 | 6 \n",
            "-----------\n",
            " 7 | 8 | 9 \n",
            "Please choose between 1 and 9 :- 1\n",
            "['X', 2, 3, 4, 5, 6, 7, 8, 9]\n",
            " X | 2 | 3 \n",
            "-----------\n",
            " 4 | 5 | 6 \n",
            "-----------\n",
            " 7 | 8 | 9 \n"
          ]
        }
      ]
    },
    {
      "cell_type": "code",
      "source": [
        "# Define the function to check if a player has won\n",
        "def check_winner(board, player):\n",
        "    win_conditions = [\n",
        "        [0, 1, 2], [3, 4, 5], [6, 7, 8],  # Rows\n",
        "        [0, 3, 6], [1, 4, 7], [2, 5, 8],  # Columns\n",
        "        [0, 4, 8], [2, 4, 6]             # Diagonals\n",
        "    ]\n",
        "\n",
        "    # Iterate through each winning condition\n",
        "    for index in win_conditions:\n",
        "        if board[index[0]] == board[index[1]] == board[index[2]] == player:\n",
        "            return True\n",
        "    return False\n",
        "\n",
        "# Define the function to check if the game is a draw\n",
        "def check_draw(board):\n",
        "    for element in board:\n",
        "        if element != \"X\" and element != \"O\":\n",
        "            return False\n",
        "    return True\n",
        "\n",
        "# Define the function to display the Tic Tac Toe board\n",
        "def display_board(board_list):\n",
        "    print(\" {} | {} | {} \".format(board_list[0], board_list[1], board_list[2]))\n",
        "    print(\"-----------\")\n",
        "    print(\" {} | {} | {} \".format(board_list[3], board_list[4], board_list[5]))\n",
        "    print(\"-----------\")\n",
        "    print(\" {} | {} | {} \".format(board_list[6], board_list[7], board_list[8]))\n",
        "\n",
        "# Define the function to get valid input from the user\n",
        "def get_valid_input(available):\n",
        "    while True:\n",
        "        position_to_replace = int(input(\"Please choose a position between 1 and 9: \")) - 1\n",
        "        if position_to_replace >= 0 and position_to_replace < 9 and available[position_to_replace] in range(1, 10):\n",
        "            return position_to_replace\n",
        "        print(\"Invalid Input\")\n",
        "\n",
        "#Available positions\n",
        "available = [num for num in range(1, 10)]\n",
        "\n",
        "#Initial empty board\n",
        "display_board(available)\n",
        "\n",
        "# Set the starting player to \"X\"\n",
        "current_player = \"X\"\n",
        "while True:\n",
        "\n",
        "    position_to_replace = get_valid_input(available)\n",
        "    available[position_to_replace] = current_player\n",
        "    display_board(available)\n",
        "\n",
        "    # Check if the current player has won\n",
        "    if check_winner(available, current_player):\n",
        "        print(\"Player\", current_player, \"wins!\")\n",
        "        break\n",
        "\n",
        "    # Check if the game is a draw\n",
        "    if check_draw(available):\n",
        "        print(\"It's a draw!\")\n",
        "        break\n",
        "\n",
        "    # Switch to the other player for the next turn\n",
        "    if current_player == \"X\":\n",
        "        current_player = \"O\"\n",
        "    else:\n",
        "        current_player = \"X\""
      ],
      "metadata": {
        "colab": {
          "base_uri": "https://localhost:8080/"
        },
        "id": "tnbDA4Gb3c40",
        "outputId": "b5c40116-b601-44e6-a97d-0a24d1e260bf"
      },
      "execution_count": 6,
      "outputs": [
        {
          "output_type": "stream",
          "name": "stdout",
          "text": [
            " 1 | 2 | 3 \n",
            "-----------\n",
            " 4 | 5 | 6 \n",
            "-----------\n",
            " 7 | 8 | 9 \n",
            "Please choose a position between 1 and 9: 1\n",
            " X | 2 | 3 \n",
            "-----------\n",
            " 4 | 5 | 6 \n",
            "-----------\n",
            " 7 | 8 | 9 \n",
            "Please choose a position between 1 and 9: 2\n",
            " X | O | 3 \n",
            "-----------\n",
            " 4 | 5 | 6 \n",
            "-----------\n",
            " 7 | 8 | 9 \n",
            "Please choose a position between 1 and 9: 3\n",
            " X | O | X \n",
            "-----------\n",
            " 4 | 5 | 6 \n",
            "-----------\n",
            " 7 | 8 | 9 \n",
            "Please choose a position between 1 and 9: 4\n",
            " X | O | X \n",
            "-----------\n",
            " O | 5 | 6 \n",
            "-----------\n",
            " 7 | 8 | 9 \n",
            "Please choose a position between 1 and 9: 5\n",
            " X | O | X \n",
            "-----------\n",
            " O | X | 6 \n",
            "-----------\n",
            " 7 | 8 | 9 \n",
            "Please choose a position between 1 and 9: 6\n",
            " X | O | X \n",
            "-----------\n",
            " O | X | O \n",
            "-----------\n",
            " 7 | 8 | 9 \n",
            "Please choose a position between 1 and 9: 7\n",
            " X | O | X \n",
            "-----------\n",
            " O | X | O \n",
            "-----------\n",
            " X | 8 | 9 \n",
            "Player X wins!\n"
          ]
        }
      ]
    }
  ]
}