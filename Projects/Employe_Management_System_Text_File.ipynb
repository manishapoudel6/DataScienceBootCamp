{
  "nbformat": 4,
  "nbformat_minor": 0,
  "metadata": {
    "colab": {
      "provenance": []
    },
    "kernelspec": {
      "name": "python3",
      "display_name": "Python 3"
    },
    "language_info": {
      "name": "python"
    }
  },
  "cells": [
    {
      "cell_type": "code",
      "source": [
        "# This is a case study for managing employees\n",
        "# Name, Salary, id, age, job position"
      ],
      "metadata": {
        "id": "PfIwuoBxL2o2"
      },
      "execution_count": null,
      "outputs": []
    },
    {
      "cell_type": "code",
      "source": [
        "#Add Employee\n",
        "#Delete by id\n",
        "#Update name\n",
        "#Update salary\n",
        "#Update job position\n",
        "#Update age by id\n",
        "#delete by name\n",
        "#get_details by id\n",
        "#get_details by name"
      ],
      "metadata": {
        "id": "oTQ4aIIDL2FC"
      },
      "execution_count": null,
      "outputs": []
    },
    {
      "cell_type": "code",
      "source": [
        "class Employee:\n",
        "  def __init__(self, emp_id, name, position, salary, age):\n",
        "    self.emp_id = emp_id\n",
        "    self.name = name\n",
        "    self.position = position\n",
        "    self.salary = salary\n",
        "    self.age = age\n",
        "\n",
        "  def display_info(self):\n",
        "    print(\"Employee ID:\", self.emp_id)\n",
        "    print(\"Name:\", self.name)\n",
        "    print(\"Position:\", self.position)\n",
        "    print(\"Salary:\", self.salary)\n",
        "    print(\"Age:\", self.age)\n",
        "\n",
        "class EmployeeManagementSystem:\n",
        "  def __init__(self):\n",
        "    self.employees = []\n",
        "\n",
        "  def add_employee(self, emp):\n",
        "    self.employees.append(emp)\n",
        "\n",
        "  def remove_employee(self, emp_id):\n",
        "    for emp in self.employees:\n",
        "      if int(emp.emp_id == emp_id):\n",
        "        self.employees.remove(emp)\n",
        "        return True\n",
        "    return False\n",
        "\n",
        "  def update_name(self, emp_id, name):\n",
        "    for emp in self.employees:\n",
        "      if emp.emp_id == emp_id:\n",
        "        emp.name = name\n",
        "        return True\n",
        "    return False\n",
        "\n",
        "  def update_salary(self, emp_id, salary):\n",
        "    for employee in self.employees:\n",
        "      if employee.emp_id == emp_id:\n",
        "        employee.salary = salary\n",
        "        return True\n",
        "    return False\n",
        "\n",
        "  def update_position(self, emp_id, position):\n",
        "    for employee in self.employees:\n",
        "      if employee.emp_id == emp_id:\n",
        "        employee.position = position\n",
        "        return True\n",
        "    return False\n",
        "\n",
        "  def update_age(self, emp_id, age):\n",
        "    for employee in self.employees:\n",
        "      if employee.emp_id == emp_id:\n",
        "        employee.age = age\n",
        "        return True\n",
        "    return False\n",
        "\n",
        "  def delete_by_name(self, name):\n",
        "    all_matching_names = []\n",
        "    for employee in self.employees:\n",
        "      if employee.name == name:\n",
        "        all_matching_names.append(employee)\n",
        "    if len(all_matching_names) == 0:\n",
        "      return False\n",
        "    elif len(all_matching_names) == 1:\n",
        "      self.employees.remove(all_matching_names[0])\n",
        "      return True\n",
        "    elif len(all_matching_names) > 1:\n",
        "      print(\"Duplicate names found. Please select the ID you want to remove:\")\n",
        "      all_ids = []\n",
        "      for emps in all_matching_names:\n",
        "        print(\"ID:\", emps.emp_id)\n",
        "        all_ids.append(emps.emp_id)\n",
        "        id_to_remove = int(input(\"Please choose the ID you want to remove: \"))\n",
        "        if id_to_remove in all_ids:\n",
        "          self.employees.remove(all_matching_names[all_ids.index(id_to_remove)])\n",
        "          return True\n",
        "        else:\n",
        "          return False\n",
        "\n",
        "  def details_by_id(self, emp_id):\n",
        "    for employee in self.employees:\n",
        "      if employee.emp_id == emp_id:\n",
        "        employee.display_info()\n",
        "\n",
        "  def details_by_name(self, name):\n",
        "    for employee in self.employees:\n",
        "      if employee.name == name:\n",
        "        employee.display_info()\n",
        "\n",
        "  def details_all_employees(self):\n",
        "    print(\"Number of employees:\", len(self.employees))\n",
        "    for employee in self.employees:\n",
        "      employee.display_info()\n",
        "      print(\"====================\")\n",
        "\n",
        "  def write_data(self):\n",
        "    with open(\"employe_data.txt\",'a') as f:\n",
        "      for employee in self.employees:\n",
        "        f.write(str(employee.emp_id)+\",\"+str(employee.name)+\",\"+str(employee.position)+\",\"+str(employee.salary)+\",\"+str(employee.age)+\"\\n\")\n",
        "\n",
        "\n",
        "\n",
        "emp_managed_system = EmployeeManagementSystem()\n",
        "with open(\"employe_data.txt\",'a+') as f:\n",
        "  data=f.read()\n",
        "  all_objects=data.split(\"\\n\")\n",
        "  for employee in all_objects:\n",
        "    employee=employee.split(\",\")\n",
        "    if len(employee)>1:\n",
        "      id=int(employee[0])\n",
        "      name=employee[1]\n",
        "      position=employee[2]\n",
        "      salary=employee[3]\n",
        "      age=employee[4]\n",
        "      emp_temp=Employee(id,name,position,salary,age)\n",
        "      emp_managed_system.add_employee(emp_temp)\n",
        "\n",
        "\n",
        "\n",
        "while True:\n",
        "    print(\"Please choose the option\")\n",
        "    print(\"1) Add Employee\")\n",
        "    print(\"2) Delete Employee by ID\")\n",
        "    print(\"3) Delete Employee by Name\")\n",
        "    print(\"4) Update Name by ID\")\n",
        "    print(\"5) Update Salary by ID\")\n",
        "    print(\"6) Update Job Position by ID\")\n",
        "    print(\"7) Update Age by ID\")\n",
        "    print(\"8) Get Details by ID\")\n",
        "    print(\"9) Get Details by Name\")\n",
        "    print(\"10) Print All Employees\")\n",
        "    print(\"11) Quit\")\n",
        "\n",
        "    choice = input(\"Please choose an option: \")\n",
        "\n",
        "    if choice == '1':\n",
        "\n",
        "      emp_id = len(emp_managed_system.employees)\n",
        "      emp_id = int(input('Please Enter your ID:'))\n",
        "      name = input(\"Please enter Employee name: \")\n",
        "      salary = input(\"Please enter Employee salary: \")\n",
        "      age = input(\"Please enter Employee age: \")\n",
        "      position = input(\"Please enter Employee position: \")\n",
        "      emp_temp = Employee(emp_id, name, position, salary, age)\n",
        "      emp_managed_system.add_employee(emp_temp)\n",
        "      print(\"Employee added successfully.\")\n",
        "\n",
        "\n",
        "\n",
        "\n",
        "    elif choice == '2':\n",
        "      emp_id = int(input(\"Please enter Employee ID you want to remove: \"))\n",
        "      if emp_managed_system.remove_employee(emp_id):\n",
        "        print(\"Employee removed successfully.\")\n",
        "      else:\n",
        "        print(\"ID not found. Could not remove the employee.\")\n",
        "\n",
        "    elif choice == '3':\n",
        "      name = input(\"Please enter the name of the employee(s) you want to remove: \")\n",
        "      if emp_managed_system.delete_by_name(name):\n",
        "        print(f\"Employee(s) with the name '{name}' removed successfully.\")\n",
        "      else:\n",
        "        print(f\"No employee(s) found with the name '{name}'.\")\n",
        "\n",
        "    elif choice == '4':\n",
        "      emp_id = int(input(\"Please enter Employee ID for name update: \"))\n",
        "      new_name = input(\"Please enter the new name: \")\n",
        "      if emp_managed_system.update_name(emp_id, new_name):\n",
        "        print(\"Name updated successfully.\")\n",
        "      else:\n",
        "        print(\"Employee ID not found. Could not update the name.\")\n",
        "\n",
        "    elif choice == '5':\n",
        "      emp_id = int(input(\"Please enter Employee ID for salary update: \"))\n",
        "      new_salary = input(\"Please enter the new salary: \")\n",
        "      if emp_managed_system.update_salary(emp_id, new_salary):\n",
        "        print(\"Salary updated successfully.\")\n",
        "      else:\n",
        "        print(\"Employee ID not found. Could not update the salary.\")\n",
        "\n",
        "    elif choice == '6':\n",
        "      emp_id = int(input(\"Please enter Employee ID for job position update: \"))\n",
        "      new_position = input(\"Please enter the new job position: \")\n",
        "      if emp_managed_system.update_position(emp_id, new_position):\n",
        "        print(\"Job position updated successfully.\")\n",
        "      else:\n",
        "        print(\"Employee ID not found. Could not update the job position.\")\n",
        "\n",
        "    elif choice == '7':\n",
        "      emp_id = int(input(\"Please enter Employee ID for age update: \"))\n",
        "      new_age = input(\"Please enter the new age: \")\n",
        "      if emp_managed_system.update_age(emp_id, new_age):\n",
        "        print(\"Age updated successfully.\")\n",
        "      else:\n",
        "        print(\"Employee ID not found. Could not update the age.\")\n",
        "\n",
        "    elif choice == '8':\n",
        "      emp_id = int(input(\"Please enter Employee ID for details: \"))\n",
        "      emp_managed_system.details_by_id(emp_id)\n",
        "\n",
        "    elif choice == '9':\n",
        "      name = input(\"Please enter the name of the employee(s) you want to view: \")\n",
        "      emp_managed_system.details_by_name(name)\n",
        "\n",
        "    elif choice == '10':\n",
        "      emp_managed_system.details_all_employees()\n",
        "      emp_managed_system.write_data()\n",
        "\n",
        "    elif choice == '11':\n",
        "      print(\"Exiting the application.\")\n",
        "      break\n",
        "    else:\n",
        "      print(\"Invalid choice. Please choose a valid option.\")"
      ],
      "metadata": {
        "colab": {
          "base_uri": "https://localhost:8080/"
        },
        "id": "4NXvxcA16qMA",
        "outputId": "d2a82aa0-0a54-404d-cefd-0612ea6d4954"
      },
      "execution_count": 1,
      "outputs": [
        {
          "output_type": "stream",
          "name": "stdout",
          "text": [
            "Please choose the option\n",
            "1) Add Employee\n",
            "2) Delete Employee by ID\n",
            "3) Delete Employee by Name\n",
            "4) Update Name by ID\n",
            "5) Update Salary by ID\n",
            "6) Update Job Position by ID\n",
            "7) Update Age by ID\n",
            "8) Get Details by ID\n",
            "9) Get Details by Name\n",
            "10) Print All Employees\n",
            "11) Quit\n",
            "Please choose an option: 1\n",
            "Please Enter your ID:2\n",
            "Please enter Employee name: mani\n",
            "Please enter Employee salary: 20000\n",
            "Please enter Employee age: 19\n",
            "Please enter Employee position: manager\n",
            "Employee added successfully.\n",
            "Please choose the option\n",
            "1) Add Employee\n",
            "2) Delete Employee by ID\n",
            "3) Delete Employee by Name\n",
            "4) Update Name by ID\n",
            "5) Update Salary by ID\n",
            "6) Update Job Position by ID\n",
            "7) Update Age by ID\n",
            "8) Get Details by ID\n",
            "9) Get Details by Name\n",
            "10) Print All Employees\n",
            "11) Quit\n",
            "Please choose an option: 10\n",
            "Number of employees: 1\n",
            "Employee ID: 2\n",
            "Name: mani\n",
            "Position: manager\n",
            "Salary: 20000\n",
            "Age: 19\n",
            "====================\n",
            "Please choose the option\n",
            "1) Add Employee\n",
            "2) Delete Employee by ID\n",
            "3) Delete Employee by Name\n",
            "4) Update Name by ID\n",
            "5) Update Salary by ID\n",
            "6) Update Job Position by ID\n",
            "7) Update Age by ID\n",
            "8) Get Details by ID\n",
            "9) Get Details by Name\n",
            "10) Print All Employees\n",
            "11) Quit\n",
            "Please choose an option: 11\n",
            "Exiting the application.\n"
          ]
        }
      ]
    },
    {
      "cell_type": "code",
      "source": [
        "1"
      ],
      "metadata": {
        "id": "Tu5iBcnVL9KJ"
      },
      "execution_count": null,
      "outputs": []
    },
    {
      "cell_type": "code",
      "source": [
        "with open(\"demo.txt\",\"a\") as f: #writing of the text file\n",
        "  f.write(\"1\"+\"\\n\"+\"2\"+'\\n')\n",
        "  f.write(\"3\"+\"\\n\"+\"4\")\n",
        "\n",
        "\n",
        "#\"w\" :- this will always create a new file while writing\n",
        "#\"a\" :- this will attach things in same file if exsists if not create a new file\n",
        "#\"r\" :- reads the data from text file\n",
        "#\"wb\" :- writes data in non human readble form\n",
        "#\"rb\" :- reads data from non human readble form"
      ],
      "metadata": {
        "id": "BVp1rQyDL_3Z"
      },
      "execution_count": null,
      "outputs": []
    },
    {
      "cell_type": "code",
      "source": [
        "#Readinf of the text file\n",
        "\n",
        "with open('demo.txt','r') as f:\n",
        "  data = f.read()\n",
        "print(data.split('\\n')) #split function makes string comes in list."
      ],
      "metadata": {
        "colab": {
          "base_uri": "https://localhost:8080/"
        },
        "id": "yjfldcSgMEu_",
        "outputId": "bc7f876a-be50-4a21-aad0-69112b11e6d0"
      },
      "execution_count": null,
      "outputs": [
        {
          "output_type": "stream",
          "name": "stdout",
          "text": [
            "['1', '2', '3', '4']\n"
          ]
        }
      ]
    },
    {
      "cell_type": "code",
      "source": [
        "with open(\"demo.txt\",\"a\") as f:\n",
        "  #f.write(\"1\"+\"\\n\"+\"2\"+\"\\n\")\n",
        "  f.write(\"3\"+\"\\n\"+\"4\")"
      ],
      "metadata": {
        "id": "DkB8mh1YMH3-"
      },
      "execution_count": null,
      "outputs": []
    },
    {
      "cell_type": "code",
      "source": [
        "with open ('demo.txt','w') as f:\n",
        "  f.write('1'+'\\n'+'2'+'\\n')"
      ],
      "metadata": {
        "id": "1tbeZgJSMMAl"
      },
      "execution_count": null,
      "outputs": []
    },
    {
      "cell_type": "code",
      "source": [
        "with open ('demo.txt','a') as f:\n",
        "  f.write('3'+'\\n'+'4'+'\\n'+'5')"
      ],
      "metadata": {
        "id": "Ggm6lEYMMOdQ"
      },
      "execution_count": null,
      "outputs": []
    },
    {
      "cell_type": "code",
      "source": [
        "with open('demo.txt','r') as f:\n",
        "  data = f.read()\n",
        "print(data.split('\\n'))"
      ],
      "metadata": {
        "colab": {
          "base_uri": "https://localhost:8080/"
        },
        "id": "eIu1ckwiMRIl",
        "outputId": "29ce0e37-270a-4bfe-d11f-351ce58a89b4"
      },
      "execution_count": null,
      "outputs": [
        {
          "output_type": "stream",
          "name": "stdout",
          "text": [
            "['1', '2', '3', '4', '5']\n"
          ]
        }
      ]
    },
    {
      "cell_type": "code",
      "source": [
        "with open('demo.txt','w') as f:\n",
        "  f.write('hello world')"
      ],
      "metadata": {
        "id": "8lX-68K4MUrk"
      },
      "execution_count": null,
      "outputs": []
    },
    {
      "cell_type": "code",
      "source": [
        "with open('demo.txt','a') as f:\n",
        "  f.write('\\n'+\"What's up?\")"
      ],
      "metadata": {
        "id": "GFN63XVtMXLF"
      },
      "execution_count": null,
      "outputs": []
    },
    {
      "cell_type": "code",
      "source": [
        "with open ('demo.txt','a') as f:\n",
        "  f.write('\\n'+\"Let's do something\")"
      ],
      "metadata": {
        "id": "VdOYXZsAMZfM"
      },
      "execution_count": null,
      "outputs": []
    },
    {
      "cell_type": "code",
      "source": [
        "import pandas as pd\n"
      ],
      "metadata": {
        "id": "bDLJ7SR_JyVj"
      },
      "execution_count": null,
      "outputs": []
    },
    {
      "cell_type": "code",
      "source": [],
      "metadata": {
        "id": "Wbp1tji_33sL"
      },
      "execution_count": null,
      "outputs": []
    },
    {
      "cell_type": "code",
      "source": [
        "\n",
        "path ='/content/employe_data.txt'\n",
        "df = pd.read_csv(path)\n",
        "df"
      ],
      "metadata": {
        "colab": {
          "base_uri": "https://localhost:8080/",
          "height": 278
        },
        "id": "cvLwnvDodaaB",
        "outputId": "f3e1a4d6-ef35-476e-c619-2c55b1805219"
      },
      "execution_count": null,
      "outputs": [
        {
          "output_type": "error",
          "ename": "EmptyDataError",
          "evalue": "ignored",
          "traceback": [
            "\u001b[0;31m---------------------------------------------------------------------------\u001b[0m",
            "\u001b[0;31mEmptyDataError\u001b[0m                            Traceback (most recent call last)",
            "\u001b[0;32m<ipython-input-32-10ed06c95244>\u001b[0m in \u001b[0;36m<cell line: 2>\u001b[0;34m()\u001b[0m\n\u001b[1;32m      1\u001b[0m \u001b[0mpath\u001b[0m \u001b[0;34m=\u001b[0m\u001b[0;34m'/content/employe_data.txt'\u001b[0m\u001b[0;34m\u001b[0m\u001b[0;34m\u001b[0m\u001b[0m\n\u001b[0;32m----> 2\u001b[0;31m \u001b[0mdf\u001b[0m \u001b[0;34m=\u001b[0m \u001b[0mpd\u001b[0m\u001b[0;34m.\u001b[0m\u001b[0mread_csv\u001b[0m\u001b[0;34m(\u001b[0m\u001b[0mpath\u001b[0m\u001b[0;34m)\u001b[0m\u001b[0;34m\u001b[0m\u001b[0;34m\u001b[0m\u001b[0m\n\u001b[0m\u001b[1;32m      3\u001b[0m \u001b[0mdf\u001b[0m\u001b[0;34m\u001b[0m\u001b[0;34m\u001b[0m\u001b[0m\n",
            "\u001b[0;32m/usr/local/lib/python3.10/dist-packages/pandas/util/_decorators.py\u001b[0m in \u001b[0;36mwrapper\u001b[0;34m(*args, **kwargs)\u001b[0m\n\u001b[1;32m    209\u001b[0m                 \u001b[0;32melse\u001b[0m\u001b[0;34m:\u001b[0m\u001b[0;34m\u001b[0m\u001b[0;34m\u001b[0m\u001b[0m\n\u001b[1;32m    210\u001b[0m                     \u001b[0mkwargs\u001b[0m\u001b[0;34m[\u001b[0m\u001b[0mnew_arg_name\u001b[0m\u001b[0;34m]\u001b[0m \u001b[0;34m=\u001b[0m \u001b[0mnew_arg_value\u001b[0m\u001b[0;34m\u001b[0m\u001b[0;34m\u001b[0m\u001b[0m\n\u001b[0;32m--> 211\u001b[0;31m             \u001b[0;32mreturn\u001b[0m \u001b[0mfunc\u001b[0m\u001b[0;34m(\u001b[0m\u001b[0;34m*\u001b[0m\u001b[0margs\u001b[0m\u001b[0;34m,\u001b[0m \u001b[0;34m**\u001b[0m\u001b[0mkwargs\u001b[0m\u001b[0;34m)\u001b[0m\u001b[0;34m\u001b[0m\u001b[0;34m\u001b[0m\u001b[0m\n\u001b[0m\u001b[1;32m    212\u001b[0m \u001b[0;34m\u001b[0m\u001b[0m\n\u001b[1;32m    213\u001b[0m         \u001b[0;32mreturn\u001b[0m \u001b[0mcast\u001b[0m\u001b[0;34m(\u001b[0m\u001b[0mF\u001b[0m\u001b[0;34m,\u001b[0m \u001b[0mwrapper\u001b[0m\u001b[0;34m)\u001b[0m\u001b[0;34m\u001b[0m\u001b[0;34m\u001b[0m\u001b[0m\n",
            "\u001b[0;32m/usr/local/lib/python3.10/dist-packages/pandas/util/_decorators.py\u001b[0m in \u001b[0;36mwrapper\u001b[0;34m(*args, **kwargs)\u001b[0m\n\u001b[1;32m    329\u001b[0m                     \u001b[0mstacklevel\u001b[0m\u001b[0;34m=\u001b[0m\u001b[0mfind_stack_level\u001b[0m\u001b[0;34m(\u001b[0m\u001b[0;34m)\u001b[0m\u001b[0;34m,\u001b[0m\u001b[0;34m\u001b[0m\u001b[0;34m\u001b[0m\u001b[0m\n\u001b[1;32m    330\u001b[0m                 )\n\u001b[0;32m--> 331\u001b[0;31m             \u001b[0;32mreturn\u001b[0m \u001b[0mfunc\u001b[0m\u001b[0;34m(\u001b[0m\u001b[0;34m*\u001b[0m\u001b[0margs\u001b[0m\u001b[0;34m,\u001b[0m \u001b[0;34m**\u001b[0m\u001b[0mkwargs\u001b[0m\u001b[0;34m)\u001b[0m\u001b[0;34m\u001b[0m\u001b[0;34m\u001b[0m\u001b[0m\n\u001b[0m\u001b[1;32m    332\u001b[0m \u001b[0;34m\u001b[0m\u001b[0m\n\u001b[1;32m    333\u001b[0m         \u001b[0;31m# error: \"Callable[[VarArg(Any), KwArg(Any)], Any]\" has no\u001b[0m\u001b[0;34m\u001b[0m\u001b[0;34m\u001b[0m\u001b[0m\n",
            "\u001b[0;32m/usr/local/lib/python3.10/dist-packages/pandas/io/parsers/readers.py\u001b[0m in \u001b[0;36mread_csv\u001b[0;34m(filepath_or_buffer, sep, delimiter, header, names, index_col, usecols, squeeze, prefix, mangle_dupe_cols, dtype, engine, converters, true_values, false_values, skipinitialspace, skiprows, skipfooter, nrows, na_values, keep_default_na, na_filter, verbose, skip_blank_lines, parse_dates, infer_datetime_format, keep_date_col, date_parser, dayfirst, cache_dates, iterator, chunksize, compression, thousands, decimal, lineterminator, quotechar, quoting, doublequote, escapechar, comment, encoding, encoding_errors, dialect, error_bad_lines, warn_bad_lines, on_bad_lines, delim_whitespace, low_memory, memory_map, float_precision, storage_options)\u001b[0m\n\u001b[1;32m    948\u001b[0m     \u001b[0mkwds\u001b[0m\u001b[0;34m.\u001b[0m\u001b[0mupdate\u001b[0m\u001b[0;34m(\u001b[0m\u001b[0mkwds_defaults\u001b[0m\u001b[0;34m)\u001b[0m\u001b[0;34m\u001b[0m\u001b[0;34m\u001b[0m\u001b[0m\n\u001b[1;32m    949\u001b[0m \u001b[0;34m\u001b[0m\u001b[0m\n\u001b[0;32m--> 950\u001b[0;31m     \u001b[0;32mreturn\u001b[0m \u001b[0m_read\u001b[0m\u001b[0;34m(\u001b[0m\u001b[0mfilepath_or_buffer\u001b[0m\u001b[0;34m,\u001b[0m \u001b[0mkwds\u001b[0m\u001b[0;34m)\u001b[0m\u001b[0;34m\u001b[0m\u001b[0;34m\u001b[0m\u001b[0m\n\u001b[0m\u001b[1;32m    951\u001b[0m \u001b[0;34m\u001b[0m\u001b[0m\n\u001b[1;32m    952\u001b[0m \u001b[0;34m\u001b[0m\u001b[0m\n",
            "\u001b[0;32m/usr/local/lib/python3.10/dist-packages/pandas/io/parsers/readers.py\u001b[0m in \u001b[0;36m_read\u001b[0;34m(filepath_or_buffer, kwds)\u001b[0m\n\u001b[1;32m    603\u001b[0m \u001b[0;34m\u001b[0m\u001b[0m\n\u001b[1;32m    604\u001b[0m     \u001b[0;31m# Create the parser.\u001b[0m\u001b[0;34m\u001b[0m\u001b[0;34m\u001b[0m\u001b[0m\n\u001b[0;32m--> 605\u001b[0;31m     \u001b[0mparser\u001b[0m \u001b[0;34m=\u001b[0m \u001b[0mTextFileReader\u001b[0m\u001b[0;34m(\u001b[0m\u001b[0mfilepath_or_buffer\u001b[0m\u001b[0;34m,\u001b[0m \u001b[0;34m**\u001b[0m\u001b[0mkwds\u001b[0m\u001b[0;34m)\u001b[0m\u001b[0;34m\u001b[0m\u001b[0;34m\u001b[0m\u001b[0m\n\u001b[0m\u001b[1;32m    606\u001b[0m \u001b[0;34m\u001b[0m\u001b[0m\n\u001b[1;32m    607\u001b[0m     \u001b[0;32mif\u001b[0m \u001b[0mchunksize\u001b[0m \u001b[0;32mor\u001b[0m \u001b[0miterator\u001b[0m\u001b[0;34m:\u001b[0m\u001b[0;34m\u001b[0m\u001b[0;34m\u001b[0m\u001b[0m\n",
            "\u001b[0;32m/usr/local/lib/python3.10/dist-packages/pandas/io/parsers/readers.py\u001b[0m in \u001b[0;36m__init__\u001b[0;34m(self, f, engine, **kwds)\u001b[0m\n\u001b[1;32m   1440\u001b[0m \u001b[0;34m\u001b[0m\u001b[0m\n\u001b[1;32m   1441\u001b[0m         \u001b[0mself\u001b[0m\u001b[0;34m.\u001b[0m\u001b[0mhandles\u001b[0m\u001b[0;34m:\u001b[0m \u001b[0mIOHandles\u001b[0m \u001b[0;34m|\u001b[0m \u001b[0;32mNone\u001b[0m \u001b[0;34m=\u001b[0m \u001b[0;32mNone\u001b[0m\u001b[0;34m\u001b[0m\u001b[0;34m\u001b[0m\u001b[0m\n\u001b[0;32m-> 1442\u001b[0;31m         \u001b[0mself\u001b[0m\u001b[0;34m.\u001b[0m\u001b[0m_engine\u001b[0m \u001b[0;34m=\u001b[0m \u001b[0mself\u001b[0m\u001b[0;34m.\u001b[0m\u001b[0m_make_engine\u001b[0m\u001b[0;34m(\u001b[0m\u001b[0mf\u001b[0m\u001b[0;34m,\u001b[0m \u001b[0mself\u001b[0m\u001b[0;34m.\u001b[0m\u001b[0mengine\u001b[0m\u001b[0;34m)\u001b[0m\u001b[0;34m\u001b[0m\u001b[0;34m\u001b[0m\u001b[0m\n\u001b[0m\u001b[1;32m   1443\u001b[0m \u001b[0;34m\u001b[0m\u001b[0m\n\u001b[1;32m   1444\u001b[0m     \u001b[0;32mdef\u001b[0m \u001b[0mclose\u001b[0m\u001b[0;34m(\u001b[0m\u001b[0mself\u001b[0m\u001b[0;34m)\u001b[0m \u001b[0;34m->\u001b[0m \u001b[0;32mNone\u001b[0m\u001b[0;34m:\u001b[0m\u001b[0;34m\u001b[0m\u001b[0;34m\u001b[0m\u001b[0m\n",
            "\u001b[0;32m/usr/local/lib/python3.10/dist-packages/pandas/io/parsers/readers.py\u001b[0m in \u001b[0;36m_make_engine\u001b[0;34m(self, f, engine)\u001b[0m\n\u001b[1;32m   1751\u001b[0m \u001b[0;34m\u001b[0m\u001b[0m\n\u001b[1;32m   1752\u001b[0m         \u001b[0;32mtry\u001b[0m\u001b[0;34m:\u001b[0m\u001b[0;34m\u001b[0m\u001b[0;34m\u001b[0m\u001b[0m\n\u001b[0;32m-> 1753\u001b[0;31m             \u001b[0;32mreturn\u001b[0m \u001b[0mmapping\u001b[0m\u001b[0;34m[\u001b[0m\u001b[0mengine\u001b[0m\u001b[0;34m]\u001b[0m\u001b[0;34m(\u001b[0m\u001b[0mf\u001b[0m\u001b[0;34m,\u001b[0m \u001b[0;34m**\u001b[0m\u001b[0mself\u001b[0m\u001b[0;34m.\u001b[0m\u001b[0moptions\u001b[0m\u001b[0;34m)\u001b[0m\u001b[0;34m\u001b[0m\u001b[0;34m\u001b[0m\u001b[0m\n\u001b[0m\u001b[1;32m   1754\u001b[0m         \u001b[0;32mexcept\u001b[0m \u001b[0mException\u001b[0m\u001b[0;34m:\u001b[0m\u001b[0;34m\u001b[0m\u001b[0;34m\u001b[0m\u001b[0m\n\u001b[1;32m   1755\u001b[0m             \u001b[0;32mif\u001b[0m \u001b[0mself\u001b[0m\u001b[0;34m.\u001b[0m\u001b[0mhandles\u001b[0m \u001b[0;32mis\u001b[0m \u001b[0;32mnot\u001b[0m \u001b[0;32mNone\u001b[0m\u001b[0;34m:\u001b[0m\u001b[0;34m\u001b[0m\u001b[0;34m\u001b[0m\u001b[0m\n",
            "\u001b[0;32m/usr/local/lib/python3.10/dist-packages/pandas/io/parsers/c_parser_wrapper.py\u001b[0m in \u001b[0;36m__init__\u001b[0;34m(self, src, **kwds)\u001b[0m\n\u001b[1;32m     77\u001b[0m \u001b[0;34m\u001b[0m\u001b[0m\n\u001b[1;32m     78\u001b[0m         \u001b[0mkwds\u001b[0m\u001b[0;34m[\u001b[0m\u001b[0;34m\"dtype\"\u001b[0m\u001b[0;34m]\u001b[0m \u001b[0;34m=\u001b[0m \u001b[0mensure_dtype_objs\u001b[0m\u001b[0;34m(\u001b[0m\u001b[0mkwds\u001b[0m\u001b[0;34m.\u001b[0m\u001b[0mget\u001b[0m\u001b[0;34m(\u001b[0m\u001b[0;34m\"dtype\"\u001b[0m\u001b[0;34m,\u001b[0m \u001b[0;32mNone\u001b[0m\u001b[0;34m)\u001b[0m\u001b[0;34m)\u001b[0m\u001b[0;34m\u001b[0m\u001b[0;34m\u001b[0m\u001b[0m\n\u001b[0;32m---> 79\u001b[0;31m         \u001b[0mself\u001b[0m\u001b[0;34m.\u001b[0m\u001b[0m_reader\u001b[0m \u001b[0;34m=\u001b[0m \u001b[0mparsers\u001b[0m\u001b[0;34m.\u001b[0m\u001b[0mTextReader\u001b[0m\u001b[0;34m(\u001b[0m\u001b[0msrc\u001b[0m\u001b[0;34m,\u001b[0m \u001b[0;34m**\u001b[0m\u001b[0mkwds\u001b[0m\u001b[0;34m)\u001b[0m\u001b[0;34m\u001b[0m\u001b[0;34m\u001b[0m\u001b[0m\n\u001b[0m\u001b[1;32m     80\u001b[0m \u001b[0;34m\u001b[0m\u001b[0m\n\u001b[1;32m     81\u001b[0m         \u001b[0mself\u001b[0m\u001b[0;34m.\u001b[0m\u001b[0munnamed_cols\u001b[0m \u001b[0;34m=\u001b[0m \u001b[0mself\u001b[0m\u001b[0;34m.\u001b[0m\u001b[0m_reader\u001b[0m\u001b[0;34m.\u001b[0m\u001b[0munnamed_cols\u001b[0m\u001b[0;34m\u001b[0m\u001b[0;34m\u001b[0m\u001b[0m\n",
            "\u001b[0;32m/usr/local/lib/python3.10/dist-packages/pandas/_libs/parsers.pyx\u001b[0m in \u001b[0;36mpandas._libs.parsers.TextReader.__cinit__\u001b[0;34m()\u001b[0m\n",
            "\u001b[0;31mEmptyDataError\u001b[0m: No columns to parse from file"
          ]
        }
      ]
    },
    {
      "cell_type": "code",
      "source": [
        "#len() shows the row in pandas file rreading\n",
        "#one column of dataframe is series"
      ],
      "metadata": {
        "id": "s4yfg4urJuCh"
      },
      "execution_count": null,
      "outputs": []
    }
  ]
}