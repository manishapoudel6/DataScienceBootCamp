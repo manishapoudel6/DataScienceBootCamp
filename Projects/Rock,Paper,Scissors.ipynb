{
  "nbformat": 4,
  "nbformat_minor": 0,
  "metadata": {
    "colab": {
      "provenance": []
    },
    "kernelspec": {
      "name": "python3",
      "display_name": "Python 3"
    },
    "language_info": {
      "name": "python"
    }
  },
  "cells": [
    {
      "cell_type": "code",
      "source": [
        "import random\n",
        "\n",
        "def possible_actions():\n",
        "  possible_actions = ('rock','paper','scissors')\n",
        "  computer_action = random.choice(possible_actions)\n",
        "  return computer_action\n",
        "\n",
        "def winner_of_them(user_input,computer_action):\n",
        "    while user_input == computer_action:\n",
        "     return \" It's a Tie!\"\n",
        "    if user_input == 'paper' and computer_action == 'rock':\n",
        "     return \" You win!\"\n",
        "    elif user_input == 'scissors' and computer_action == 'paper':\n",
        "     return \" You win!\"\n",
        "    elif user_input == 'rock' and computer_action == 'scissors':\n",
        "     return \" You win!\"\n",
        "    else:\n",
        "     return \" Computer wins!\"\n",
        "\n",
        "\n",
        "user_input = input('Choose rock, paper, or scissors: ').lower()\n",
        "computer_action = possible_actions()\n",
        "print('Computer Choice:', computer_action)\n",
        "result = winner_of_them(user_input, computer_action)\n",
        "print(result)\n",
        "\n",
        "if result == \"You win!\":\n",
        "    print(\"Congratulations, you won!\")\n",
        "else:\n",
        "    print(\"Sorry, you didn't win this time.\")"
      ],
      "metadata": {
        "colab": {
          "base_uri": "https://localhost:8080/"
        },
        "id": "zBBr_A1etfm5",
        "outputId": "26745f7d-5a2e-4d3a-f8a2-60e70a3c9330"
      },
      "execution_count": null,
      "outputs": [
        {
          "output_type": "stream",
          "name": "stdout",
          "text": [
            "Choose rock, paper, or scissors: paper\n",
            "Computer Choice: scissors\n",
            " Computer wins!\n",
            "Sorry, you didn't win this time.\n"
          ]
        }
      ]
    },
    {
      "cell_type": "code",
      "source": [],
      "metadata": {
        "id": "VpjeA69UMD_M"
      },
      "execution_count": null,
      "outputs": []
    }
  ]
}