{
  "nbformat": 4,
  "nbformat_minor": 0,
  "metadata": {
    "colab": {
      "provenance": []
    },
    "kernelspec": {
      "name": "python3",
      "display_name": "Python 3"
    },
    "language_info": {
      "name": "python"
    }
  },
  "cells": [
    {
      "cell_type": "code",
      "execution_count": null,
      "metadata": {
        "id": "-NkHhpH_99Y1",
        "colab": {
          "base_uri": "https://localhost:8080/",
          "height": 35
        },
        "outputId": "7d9631ca-57bb-4df5-bb51-3cb980a01fc9"
      },
      "outputs": [
        {
          "output_type": "execute_result",
          "data": {
            "text/plain": [
              "'\\nfrom google.colab import drive\\ndrive.mount(\"/content/Google_Drive\", force_remount=True)\\n'"
            ],
            "application/vnd.google.colaboratory.intrinsic+json": {
              "type": "string"
            }
          },
          "metadata": {},
          "execution_count": 249
        }
      ],
      "source": [
        "# if importing from colab:\n",
        "# change the reading of data as well\n",
        "\"\"\"\n",
        "from google.colab import drive\n",
        "drive.mount(\"/content/Google_Drive\", force_remount=True)\n",
        "\"\"\""
      ]
    },
    {
      "cell_type": "code",
      "source": [
        "import pandas as pd\n",
        "import numpy as np\n",
        "from sklearn.preprocessing import LabelEncoder"
      ],
      "metadata": {
        "id": "ruOqAE1tgQeN"
      },
      "execution_count": null,
      "outputs": []
    },
    {
      "cell_type": "code",
      "source": [
        "import warnings\n",
        "warnings.filterwarnings('ignore')"
      ],
      "metadata": {
        "id": "JmgDc2F2YWsk"
      },
      "execution_count": null,
      "outputs": []
    },
    {
      "cell_type": "code",
      "source": [
        "df_error = pd.read_csv(\"/content/PdM_errors.csv\")\n",
        "df_fail = pd.read_csv(\"/content/PdM_failures.csv\")\n",
        "df_mach = pd.read_csv(\"/content/PdM_machines.csv\")\n",
        "df_maint = pd.read_csv(\"/content/PdM_maint.csv\")\n",
        "df_telem = pd.read_csv(\"/content/PdM_telemetry.csv\")"
      ],
      "metadata": {
        "id": "qJZA-JDG-cBb"
      },
      "execution_count": null,
      "outputs": []
    },
    {
      "cell_type": "code",
      "source": [
        "print(\"Errors :\\n\", df_error, \"\\n\\n***********\\n\")\n",
        "print(\"Failures :\\n\", df_fail, \"\\n\\n***********\\n\")\n",
        "print(\"Machine detail :\\n\", df_mach, \"\\n\\n***********\\n\")\n",
        "print(\"Maintenance :\\n\", df_maint, \"\\n\\n***********\\n\")\n",
        "print(\"Telemetry :\\n\", df_telem)"
      ],
      "metadata": {
        "colab": {
          "base_uri": "https://localhost:8080/"
        },
        "id": "0hSeCTSfknsz",
        "outputId": "5c288762-daa4-41fb-e685-3404b8c6053d"
      },
      "execution_count": null,
      "outputs": [
        {
          "output_type": "stream",
          "name": "stdout",
          "text": [
            "Errors :\n",
            "                  datetime  machineID errorID\n",
            "0     2015-01-03 07:00:00          1  error1\n",
            "1     2015-01-03 20:00:00          1  error3\n",
            "2     2015-01-04 06:00:00          1  error5\n",
            "3     2015-01-10 15:00:00          1  error4\n",
            "4     2015-01-22 10:00:00          1  error4\n",
            "...                   ...        ...     ...\n",
            "3914  2015-11-21 08:00:00        100  error2\n",
            "3915  2015-12-04 02:00:00        100  error1\n",
            "3916  2015-12-08 06:00:00        100  error2\n",
            "3917  2015-12-08 06:00:00        100  error3\n",
            "3918  2015-12-22 03:00:00        100  error3\n",
            "\n",
            "[3919 rows x 3 columns] \n",
            "\n",
            "***********\n",
            "\n",
            "Failures :\n",
            "                 datetime  machineID failure\n",
            "0    2015-01-05 06:00:00          1   comp4\n",
            "1    2015-03-06 06:00:00          1   comp1\n",
            "2    2015-04-20 06:00:00          1   comp2\n",
            "3    2015-06-19 06:00:00          1   comp4\n",
            "4    2015-09-02 06:00:00          1   comp4\n",
            "..                   ...        ...     ...\n",
            "756  2015-11-29 06:00:00         99   comp3\n",
            "757  2015-12-14 06:00:00         99   comp4\n",
            "758  2015-02-12 06:00:00        100   comp1\n",
            "759  2015-09-10 06:00:00        100   comp1\n",
            "760  2015-12-09 06:00:00        100   comp2\n",
            "\n",
            "[761 rows x 3 columns] \n",
            "\n",
            "***********\n",
            "\n",
            "Machine detail :\n",
            "     machineID   model  age\n",
            "0           1  model3   18\n",
            "1           2  model4    7\n",
            "2           3  model3    8\n",
            "3           4  model3    7\n",
            "4           5  model3    2\n",
            "..        ...     ...  ...\n",
            "95         96  model2   10\n",
            "96         97  model2   14\n",
            "97         98  model2   20\n",
            "98         99  model1   14\n",
            "99        100  model4    5\n",
            "\n",
            "[100 rows x 3 columns] \n",
            "\n",
            "***********\n",
            "\n",
            "Maintenance :\n",
            "                  datetime  machineID   comp\n",
            "0     2014-06-01 06:00:00          1  comp2\n",
            "1     2014-07-16 06:00:00          1  comp4\n",
            "2     2014-07-31 06:00:00          1  comp3\n",
            "3     2014-12-13 06:00:00          1  comp1\n",
            "4     2015-01-05 06:00:00          1  comp4\n",
            "...                   ...        ...    ...\n",
            "3281  2015-10-10 06:00:00        100  comp3\n",
            "3282  2015-10-25 06:00:00        100  comp4\n",
            "3283  2015-11-09 06:00:00        100  comp4\n",
            "3284  2015-12-09 06:00:00        100  comp2\n",
            "3285  2015-12-24 06:00:00        100  comp2\n",
            "\n",
            "[3286 rows x 3 columns] \n",
            "\n",
            "***********\n",
            "\n",
            "Telemetry :\n",
            "                    datetime  machineID        volt      rotate    pressure  \\\n",
            "0       2015-01-01 06:00:00          1  176.217853  418.504078  113.077935   \n",
            "1       2015-01-01 07:00:00          1  162.879223  402.747490   95.460525   \n",
            "2       2015-01-01 08:00:00          1  170.989902  527.349825   75.237905   \n",
            "3       2015-01-01 09:00:00          1  162.462833  346.149335  109.248561   \n",
            "4       2015-01-01 10:00:00          1  157.610021  435.376873  111.886648   \n",
            "...                     ...        ...         ...         ...         ...   \n",
            "876095  2016-01-01 02:00:00        100  179.438162  395.222827  102.290715   \n",
            "876096  2016-01-01 03:00:00        100  189.617555  446.207972   98.180607   \n",
            "876097  2016-01-01 04:00:00        100  192.483414  447.816524   94.132837   \n",
            "876098  2016-01-01 05:00:00        100  165.475310  413.771670  104.081073   \n",
            "876099  2016-01-01 06:00:00        100  171.336037  496.096870   79.095538   \n",
            "\n",
            "        vibration  \n",
            "0       45.087686  \n",
            "1       43.413973  \n",
            "2       34.178847  \n",
            "3       41.122144  \n",
            "4       25.990511  \n",
            "...           ...  \n",
            "876095  50.771941  \n",
            "876096  35.123072  \n",
            "876097  48.314561  \n",
            "876098  44.835259  \n",
            "876099  37.845245  \n",
            "\n",
            "[876100 rows x 6 columns]\n"
          ]
        }
      ]
    },
    {
      "cell_type": "code",
      "source": [
        "df_error.isnull().sum()"
      ],
      "metadata": {
        "colab": {
          "base_uri": "https://localhost:8080/"
        },
        "id": "3umt4HndgXDd",
        "outputId": "e010ed53-703e-4d09-ca27-ff615a99d309"
      },
      "execution_count": null,
      "outputs": [
        {
          "output_type": "execute_result",
          "data": {
            "text/plain": [
              "datetime     0\n",
              "machineID    0\n",
              "errorID      0\n",
              "dtype: int64"
            ]
          },
          "metadata": {},
          "execution_count": 254
        }
      ]
    },
    {
      "cell_type": "code",
      "source": [
        "df_fail.isnull().sum()"
      ],
      "metadata": {
        "colab": {
          "base_uri": "https://localhost:8080/"
        },
        "id": "QB5JH705hOeV",
        "outputId": "955f5596-d3c7-418b-adba-877d38ed36a0"
      },
      "execution_count": null,
      "outputs": [
        {
          "output_type": "execute_result",
          "data": {
            "text/plain": [
              "datetime     0\n",
              "machineID    0\n",
              "failure      0\n",
              "dtype: int64"
            ]
          },
          "metadata": {},
          "execution_count": 255
        }
      ]
    },
    {
      "cell_type": "code",
      "source": [
        "df_mach.isnull().sum()"
      ],
      "metadata": {
        "colab": {
          "base_uri": "https://localhost:8080/"
        },
        "id": "yiLo8tOFhQm2",
        "outputId": "712a81c9-dd01-4893-fdb1-4ca813efd604"
      },
      "execution_count": null,
      "outputs": [
        {
          "output_type": "execute_result",
          "data": {
            "text/plain": [
              "machineID    0\n",
              "model        0\n",
              "age          0\n",
              "dtype: int64"
            ]
          },
          "metadata": {},
          "execution_count": 256
        }
      ]
    },
    {
      "cell_type": "code",
      "source": [
        "df_maint.isnull().sum()"
      ],
      "metadata": {
        "colab": {
          "base_uri": "https://localhost:8080/"
        },
        "id": "oUbdE-BlhTAN",
        "outputId": "3d63394d-2746-4cae-b07d-06636bcd762e"
      },
      "execution_count": null,
      "outputs": [
        {
          "output_type": "execute_result",
          "data": {
            "text/plain": [
              "datetime     0\n",
              "machineID    0\n",
              "comp         0\n",
              "dtype: int64"
            ]
          },
          "metadata": {},
          "execution_count": 257
        }
      ]
    },
    {
      "cell_type": "code",
      "source": [
        "df_telem.isnull().sum()"
      ],
      "metadata": {
        "colab": {
          "base_uri": "https://localhost:8080/"
        },
        "id": "7KNQgzvXhWzc",
        "outputId": "729f9243-87df-498c-92c9-859e86d63fcd"
      },
      "execution_count": null,
      "outputs": [
        {
          "output_type": "execute_result",
          "data": {
            "text/plain": [
              "datetime     0\n",
              "machineID    0\n",
              "volt         0\n",
              "rotate       0\n",
              "pressure     0\n",
              "vibration    0\n",
              "dtype: int64"
            ]
          },
          "metadata": {},
          "execution_count": 258
        }
      ]
    },
    {
      "cell_type": "code",
      "source": [
        "# convert all datetime\n",
        "\n",
        "df_error['datetime'] = pd.to_datetime(df_error['datetime'])\n",
        "df_fail['datetime'] = pd.to_datetime(df_fail['datetime'])\n",
        "df_maint['datetime'] = pd.to_datetime(df_maint['datetime'])\n",
        "df_telem['datetime'] = pd.to_datetime(df_telem['datetime'])"
      ],
      "metadata": {
        "id": "pNyGY3Cy0gzG"
      },
      "execution_count": null,
      "outputs": []
    },
    {
      "cell_type": "code",
      "source": [
        "# label encode all machineID and errorID\n",
        "\n",
        "from sklearn.preprocessing import LabelEncoder\n",
        "\n",
        "le = LabelEncoder()\n",
        "df_error['errorID'] = le.fit_transform(df_error['errorID'])\n",
        "df_error['machineID'] = le.fit_transform(df_error['machineID'])\n",
        "df_mach[\"machineID\"] = le.fit_transform(df_mach[\"machineID\"])\n",
        "df_telem[\"machineID\"] = le.fit_transform(df_telem[\"machineID\"])"
      ],
      "metadata": {
        "id": "46GXX_BDyTvA"
      },
      "execution_count": null,
      "outputs": []
    },
    {
      "cell_type": "code",
      "source": [
        "# seperate component failures into individual columns\n",
        "df_fail[\"no_fail\"] = df_fail['failure'].isnull()\n",
        "\n",
        "for i in [\"comp1\", \"comp2\", \"comp3\", \"comp4\"]:\n",
        "  df_fail[f\"fail_{i}\"] = (df_fail['failure'] == i)"
      ],
      "metadata": {
        "id": "z04eWF8S11k_"
      },
      "execution_count": null,
      "outputs": []
    },
    {
      "cell_type": "code",
      "source": [
        "df_fail"
      ],
      "metadata": {
        "colab": {
          "base_uri": "https://localhost:8080/",
          "height": 424
        },
        "id": "2jRopfRoAEN4",
        "outputId": "603cf6f8-5d6f-4a81-ab17-875be710c089"
      },
      "execution_count": null,
      "outputs": [
        {
          "output_type": "execute_result",
          "data": {
            "text/plain": [
              "               datetime  machineID failure  no_fail  fail_comp1  fail_comp2  \\\n",
              "0   2015-01-05 06:00:00          1   comp4    False       False       False   \n",
              "1   2015-03-06 06:00:00          1   comp1    False        True       False   \n",
              "2   2015-04-20 06:00:00          1   comp2    False       False        True   \n",
              "3   2015-06-19 06:00:00          1   comp4    False       False       False   \n",
              "4   2015-09-02 06:00:00          1   comp4    False       False       False   \n",
              "..                  ...        ...     ...      ...         ...         ...   \n",
              "756 2015-11-29 06:00:00         99   comp3    False       False       False   \n",
              "757 2015-12-14 06:00:00         99   comp4    False       False       False   \n",
              "758 2015-02-12 06:00:00        100   comp1    False        True       False   \n",
              "759 2015-09-10 06:00:00        100   comp1    False        True       False   \n",
              "760 2015-12-09 06:00:00        100   comp2    False       False        True   \n",
              "\n",
              "     fail_comp3  fail_comp4  \n",
              "0         False        True  \n",
              "1         False       False  \n",
              "2         False       False  \n",
              "3         False        True  \n",
              "4         False        True  \n",
              "..          ...         ...  \n",
              "756        True       False  \n",
              "757       False        True  \n",
              "758       False       False  \n",
              "759       False       False  \n",
              "760       False       False  \n",
              "\n",
              "[761 rows x 8 columns]"
            ],
            "text/html": [
              "\n",
              "  <div id=\"df-a2755528-ccc2-4286-a717-640fa4a95acb\" class=\"colab-df-container\">\n",
              "    <div>\n",
              "<style scoped>\n",
              "    .dataframe tbody tr th:only-of-type {\n",
              "        vertical-align: middle;\n",
              "    }\n",
              "\n",
              "    .dataframe tbody tr th {\n",
              "        vertical-align: top;\n",
              "    }\n",
              "\n",
              "    .dataframe thead th {\n",
              "        text-align: right;\n",
              "    }\n",
              "</style>\n",
              "<table border=\"1\" class=\"dataframe\">\n",
              "  <thead>\n",
              "    <tr style=\"text-align: right;\">\n",
              "      <th></th>\n",
              "      <th>datetime</th>\n",
              "      <th>machineID</th>\n",
              "      <th>failure</th>\n",
              "      <th>no_fail</th>\n",
              "      <th>fail_comp1</th>\n",
              "      <th>fail_comp2</th>\n",
              "      <th>fail_comp3</th>\n",
              "      <th>fail_comp4</th>\n",
              "    </tr>\n",
              "  </thead>\n",
              "  <tbody>\n",
              "    <tr>\n",
              "      <th>0</th>\n",
              "      <td>2015-01-05 06:00:00</td>\n",
              "      <td>1</td>\n",
              "      <td>comp4</td>\n",
              "      <td>False</td>\n",
              "      <td>False</td>\n",
              "      <td>False</td>\n",
              "      <td>False</td>\n",
              "      <td>True</td>\n",
              "    </tr>\n",
              "    <tr>\n",
              "      <th>1</th>\n",
              "      <td>2015-03-06 06:00:00</td>\n",
              "      <td>1</td>\n",
              "      <td>comp1</td>\n",
              "      <td>False</td>\n",
              "      <td>True</td>\n",
              "      <td>False</td>\n",
              "      <td>False</td>\n",
              "      <td>False</td>\n",
              "    </tr>\n",
              "    <tr>\n",
              "      <th>2</th>\n",
              "      <td>2015-04-20 06:00:00</td>\n",
              "      <td>1</td>\n",
              "      <td>comp2</td>\n",
              "      <td>False</td>\n",
              "      <td>False</td>\n",
              "      <td>True</td>\n",
              "      <td>False</td>\n",
              "      <td>False</td>\n",
              "    </tr>\n",
              "    <tr>\n",
              "      <th>3</th>\n",
              "      <td>2015-06-19 06:00:00</td>\n",
              "      <td>1</td>\n",
              "      <td>comp4</td>\n",
              "      <td>False</td>\n",
              "      <td>False</td>\n",
              "      <td>False</td>\n",
              "      <td>False</td>\n",
              "      <td>True</td>\n",
              "    </tr>\n",
              "    <tr>\n",
              "      <th>4</th>\n",
              "      <td>2015-09-02 06:00:00</td>\n",
              "      <td>1</td>\n",
              "      <td>comp4</td>\n",
              "      <td>False</td>\n",
              "      <td>False</td>\n",
              "      <td>False</td>\n",
              "      <td>False</td>\n",
              "      <td>True</td>\n",
              "    </tr>\n",
              "    <tr>\n",
              "      <th>...</th>\n",
              "      <td>...</td>\n",
              "      <td>...</td>\n",
              "      <td>...</td>\n",
              "      <td>...</td>\n",
              "      <td>...</td>\n",
              "      <td>...</td>\n",
              "      <td>...</td>\n",
              "      <td>...</td>\n",
              "    </tr>\n",
              "    <tr>\n",
              "      <th>756</th>\n",
              "      <td>2015-11-29 06:00:00</td>\n",
              "      <td>99</td>\n",
              "      <td>comp3</td>\n",
              "      <td>False</td>\n",
              "      <td>False</td>\n",
              "      <td>False</td>\n",
              "      <td>True</td>\n",
              "      <td>False</td>\n",
              "    </tr>\n",
              "    <tr>\n",
              "      <th>757</th>\n",
              "      <td>2015-12-14 06:00:00</td>\n",
              "      <td>99</td>\n",
              "      <td>comp4</td>\n",
              "      <td>False</td>\n",
              "      <td>False</td>\n",
              "      <td>False</td>\n",
              "      <td>False</td>\n",
              "      <td>True</td>\n",
              "    </tr>\n",
              "    <tr>\n",
              "      <th>758</th>\n",
              "      <td>2015-02-12 06:00:00</td>\n",
              "      <td>100</td>\n",
              "      <td>comp1</td>\n",
              "      <td>False</td>\n",
              "      <td>True</td>\n",
              "      <td>False</td>\n",
              "      <td>False</td>\n",
              "      <td>False</td>\n",
              "    </tr>\n",
              "    <tr>\n",
              "      <th>759</th>\n",
              "      <td>2015-09-10 06:00:00</td>\n",
              "      <td>100</td>\n",
              "      <td>comp1</td>\n",
              "      <td>False</td>\n",
              "      <td>True</td>\n",
              "      <td>False</td>\n",
              "      <td>False</td>\n",
              "      <td>False</td>\n",
              "    </tr>\n",
              "    <tr>\n",
              "      <th>760</th>\n",
              "      <td>2015-12-09 06:00:00</td>\n",
              "      <td>100</td>\n",
              "      <td>comp2</td>\n",
              "      <td>False</td>\n",
              "      <td>False</td>\n",
              "      <td>True</td>\n",
              "      <td>False</td>\n",
              "      <td>False</td>\n",
              "    </tr>\n",
              "  </tbody>\n",
              "</table>\n",
              "<p>761 rows × 8 columns</p>\n",
              "</div>\n",
              "    <div class=\"colab-df-buttons\">\n",
              "\n",
              "  <div class=\"colab-df-container\">\n",
              "    <button class=\"colab-df-convert\" onclick=\"convertToInteractive('df-a2755528-ccc2-4286-a717-640fa4a95acb')\"\n",
              "            title=\"Convert this dataframe to an interactive table.\"\n",
              "            style=\"display:none;\">\n",
              "\n",
              "  <svg xmlns=\"http://www.w3.org/2000/svg\" height=\"24px\" viewBox=\"0 -960 960 960\">\n",
              "    <path d=\"M120-120v-720h720v720H120Zm60-500h600v-160H180v160Zm220 220h160v-160H400v160Zm0 220h160v-160H400v160ZM180-400h160v-160H180v160Zm440 0h160v-160H620v160ZM180-180h160v-160H180v160Zm440 0h160v-160H620v160Z\"/>\n",
              "  </svg>\n",
              "    </button>\n",
              "\n",
              "  <style>\n",
              "    .colab-df-container {\n",
              "      display:flex;\n",
              "      gap: 12px;\n",
              "    }\n",
              "\n",
              "    .colab-df-convert {\n",
              "      background-color: #E8F0FE;\n",
              "      border: none;\n",
              "      border-radius: 50%;\n",
              "      cursor: pointer;\n",
              "      display: none;\n",
              "      fill: #1967D2;\n",
              "      height: 32px;\n",
              "      padding: 0 0 0 0;\n",
              "      width: 32px;\n",
              "    }\n",
              "\n",
              "    .colab-df-convert:hover {\n",
              "      background-color: #E2EBFA;\n",
              "      box-shadow: 0px 1px 2px rgba(60, 64, 67, 0.3), 0px 1px 3px 1px rgba(60, 64, 67, 0.15);\n",
              "      fill: #174EA6;\n",
              "    }\n",
              "\n",
              "    .colab-df-buttons div {\n",
              "      margin-bottom: 4px;\n",
              "    }\n",
              "\n",
              "    [theme=dark] .colab-df-convert {\n",
              "      background-color: #3B4455;\n",
              "      fill: #D2E3FC;\n",
              "    }\n",
              "\n",
              "    [theme=dark] .colab-df-convert:hover {\n",
              "      background-color: #434B5C;\n",
              "      box-shadow: 0px 1px 3px 1px rgba(0, 0, 0, 0.15);\n",
              "      filter: drop-shadow(0px 1px 2px rgba(0, 0, 0, 0.3));\n",
              "      fill: #FFFFFF;\n",
              "    }\n",
              "  </style>\n",
              "\n",
              "    <script>\n",
              "      const buttonEl =\n",
              "        document.querySelector('#df-a2755528-ccc2-4286-a717-640fa4a95acb button.colab-df-convert');\n",
              "      buttonEl.style.display =\n",
              "        google.colab.kernel.accessAllowed ? 'block' : 'none';\n",
              "\n",
              "      async function convertToInteractive(key) {\n",
              "        const element = document.querySelector('#df-a2755528-ccc2-4286-a717-640fa4a95acb');\n",
              "        const dataTable =\n",
              "          await google.colab.kernel.invokeFunction('convertToInteractive',\n",
              "                                                    [key], {});\n",
              "        if (!dataTable) return;\n",
              "\n",
              "        const docLinkHtml = 'Like what you see? Visit the ' +\n",
              "          '<a target=\"_blank\" href=https://colab.research.google.com/notebooks/data_table.ipynb>data table notebook</a>'\n",
              "          + ' to learn more about interactive tables.';\n",
              "        element.innerHTML = '';\n",
              "        dataTable['output_type'] = 'display_data';\n",
              "        await google.colab.output.renderOutput(dataTable, element);\n",
              "        const docLink = document.createElement('div');\n",
              "        docLink.innerHTML = docLinkHtml;\n",
              "        element.appendChild(docLink);\n",
              "      }\n",
              "    </script>\n",
              "  </div>\n",
              "\n",
              "\n",
              "<div id=\"df-93195be4-fbb3-4e42-9fdf-0a0cb462eaed\">\n",
              "  <button class=\"colab-df-quickchart\" onclick=\"quickchart('df-93195be4-fbb3-4e42-9fdf-0a0cb462eaed')\"\n",
              "            title=\"Suggest charts\"\n",
              "            style=\"display:none;\">\n",
              "\n",
              "<svg xmlns=\"http://www.w3.org/2000/svg\" height=\"24px\"viewBox=\"0 0 24 24\"\n",
              "     width=\"24px\">\n",
              "    <g>\n",
              "        <path d=\"M19 3H5c-1.1 0-2 .9-2 2v14c0 1.1.9 2 2 2h14c1.1 0 2-.9 2-2V5c0-1.1-.9-2-2-2zM9 17H7v-7h2v7zm4 0h-2V7h2v10zm4 0h-2v-4h2v4z\"/>\n",
              "    </g>\n",
              "</svg>\n",
              "  </button>\n",
              "\n",
              "<style>\n",
              "  .colab-df-quickchart {\n",
              "      --bg-color: #E8F0FE;\n",
              "      --fill-color: #1967D2;\n",
              "      --hover-bg-color: #E2EBFA;\n",
              "      --hover-fill-color: #174EA6;\n",
              "      --disabled-fill-color: #AAA;\n",
              "      --disabled-bg-color: #DDD;\n",
              "  }\n",
              "\n",
              "  [theme=dark] .colab-df-quickchart {\n",
              "      --bg-color: #3B4455;\n",
              "      --fill-color: #D2E3FC;\n",
              "      --hover-bg-color: #434B5C;\n",
              "      --hover-fill-color: #FFFFFF;\n",
              "      --disabled-bg-color: #3B4455;\n",
              "      --disabled-fill-color: #666;\n",
              "  }\n",
              "\n",
              "  .colab-df-quickchart {\n",
              "    background-color: var(--bg-color);\n",
              "    border: none;\n",
              "    border-radius: 50%;\n",
              "    cursor: pointer;\n",
              "    display: none;\n",
              "    fill: var(--fill-color);\n",
              "    height: 32px;\n",
              "    padding: 0;\n",
              "    width: 32px;\n",
              "  }\n",
              "\n",
              "  .colab-df-quickchart:hover {\n",
              "    background-color: var(--hover-bg-color);\n",
              "    box-shadow: 0 1px 2px rgba(60, 64, 67, 0.3), 0 1px 3px 1px rgba(60, 64, 67, 0.15);\n",
              "    fill: var(--button-hover-fill-color);\n",
              "  }\n",
              "\n",
              "  .colab-df-quickchart-complete:disabled,\n",
              "  .colab-df-quickchart-complete:disabled:hover {\n",
              "    background-color: var(--disabled-bg-color);\n",
              "    fill: var(--disabled-fill-color);\n",
              "    box-shadow: none;\n",
              "  }\n",
              "\n",
              "  .colab-df-spinner {\n",
              "    border: 2px solid var(--fill-color);\n",
              "    border-color: transparent;\n",
              "    border-bottom-color: var(--fill-color);\n",
              "    animation:\n",
              "      spin 1s steps(1) infinite;\n",
              "  }\n",
              "\n",
              "  @keyframes spin {\n",
              "    0% {\n",
              "      border-color: transparent;\n",
              "      border-bottom-color: var(--fill-color);\n",
              "      border-left-color: var(--fill-color);\n",
              "    }\n",
              "    20% {\n",
              "      border-color: transparent;\n",
              "      border-left-color: var(--fill-color);\n",
              "      border-top-color: var(--fill-color);\n",
              "    }\n",
              "    30% {\n",
              "      border-color: transparent;\n",
              "      border-left-color: var(--fill-color);\n",
              "      border-top-color: var(--fill-color);\n",
              "      border-right-color: var(--fill-color);\n",
              "    }\n",
              "    40% {\n",
              "      border-color: transparent;\n",
              "      border-right-color: var(--fill-color);\n",
              "      border-top-color: var(--fill-color);\n",
              "    }\n",
              "    60% {\n",
              "      border-color: transparent;\n",
              "      border-right-color: var(--fill-color);\n",
              "    }\n",
              "    80% {\n",
              "      border-color: transparent;\n",
              "      border-right-color: var(--fill-color);\n",
              "      border-bottom-color: var(--fill-color);\n",
              "    }\n",
              "    90% {\n",
              "      border-color: transparent;\n",
              "      border-bottom-color: var(--fill-color);\n",
              "    }\n",
              "  }\n",
              "</style>\n",
              "\n",
              "  <script>\n",
              "    async function quickchart(key) {\n",
              "      const quickchartButtonEl =\n",
              "        document.querySelector('#' + key + ' button');\n",
              "      quickchartButtonEl.disabled = true;  // To prevent multiple clicks.\n",
              "      quickchartButtonEl.classList.add('colab-df-spinner');\n",
              "      try {\n",
              "        const charts = await google.colab.kernel.invokeFunction(\n",
              "            'suggestCharts', [key], {});\n",
              "      } catch (error) {\n",
              "        console.error('Error during call to suggestCharts:', error);\n",
              "      }\n",
              "      quickchartButtonEl.classList.remove('colab-df-spinner');\n",
              "      quickchartButtonEl.classList.add('colab-df-quickchart-complete');\n",
              "    }\n",
              "    (() => {\n",
              "      let quickchartButtonEl =\n",
              "        document.querySelector('#df-93195be4-fbb3-4e42-9fdf-0a0cb462eaed button');\n",
              "      quickchartButtonEl.style.display =\n",
              "        google.colab.kernel.accessAllowed ? 'block' : 'none';\n",
              "    })();\n",
              "  </script>\n",
              "</div>\n",
              "    </div>\n",
              "  </div>\n"
            ]
          },
          "metadata": {},
          "execution_count": 262
        }
      ]
    },
    {
      "cell_type": "code",
      "source": [
        "# calculate hours since last maintainance (hslm)\n",
        "mt_dif = pd.get_dummies(df_maint.set_index('datetime')).reset_index()\n",
        "mt_dif.columns = ['datetime', 'machineID', 'hslm_comp1', 'hslm_comp2', 'hslm_comp3', 'hslm_comp4']\n",
        "\n",
        "mt_dif = df_telem[['datetime', 'machineID']].merge(mt_dif, on=['datetime', 'machineID'], how='outer').fillna(0).sort_values(by=['machineID', 'datetime'])\n",
        "\n",
        "for i in ['hslm_comp1', 'hslm_comp2', 'hslm_comp3', 'hslm_comp4']:\n",
        "  mt_dif.loc[mt_dif[i] < 1, i] = None\n",
        "  mt_dif.loc[-mt_dif[i].isnull(),i] = mt_dif.loc[-mt_dif[i].isnull(), 'datetime']\n",
        "  mt_dif[i] = mt_dif[i].fillna(method='ffill')\n",
        "\n",
        "mt_dif = mt_dif.loc[mt_dif['datetime'] > pd.to_datetime('2015-01-01')]\n",
        "\n",
        "for i in ['hslm_comp1', 'hslm_comp2', 'hslm_comp3', 'hslm_comp4']:\n",
        "    mt_dif[i] = (mt_dif[\"datetime\"] - pd.to_datetime(mt_dif[i])) / np.timedelta64(1, \"D\")\n",
        "\n",
        "mt_dif.iloc[:,2:] *= 24\n",
        "mt_dif.fillna(12000, inplace= True)\n",
        "df_maint = mt_dif"
      ],
      "metadata": {
        "id": "Mv-Of1C1N5wI"
      },
      "execution_count": null,
      "outputs": []
    },
    {
      "cell_type": "code",
      "source": [
        "df_maint.describe()"
      ],
      "metadata": {
        "colab": {
          "base_uri": "https://localhost:8080/",
          "height": 300
        },
        "id": "BUT5TIL0TxqU",
        "outputId": "bdd33f23-1167-4860-8d34-b89e747192dd"
      },
      "execution_count": null,
      "outputs": [
        {
          "output_type": "execute_result",
          "data": {
            "text/plain": [
              "           machineID     hslm_comp1     hslm_comp2     hslm_comp3  \\\n",
              "count  876843.000000  876843.000000  876843.000000  876843.000000   \n",
              "mean       49.501083    1394.469144    1334.079615    1372.371588   \n",
              "std        28.866708    1836.949639    1771.718495    1767.697363   \n",
              "min         0.000000       0.000000       0.000000       0.000000   \n",
              "25%        25.000000     323.000000     292.000000     318.000000   \n",
              "50%        49.000000     801.000000     715.000000     785.000000   \n",
              "75%        75.000000    1691.000000    1618.000000    1652.000000   \n",
              "max       100.000000   12000.000000   12000.000000   12000.000000   \n",
              "\n",
              "          hslm_comp4  \n",
              "count  876843.000000  \n",
              "mean     1401.498188  \n",
              "std      1782.910597  \n",
              "min         0.000000  \n",
              "25%       315.000000  \n",
              "50%       793.000000  \n",
              "75%      1737.000000  \n",
              "max     12000.000000  "
            ],
            "text/html": [
              "\n",
              "  <div id=\"df-0f08a9e6-7b96-4492-b30f-9c4db71a0495\" class=\"colab-df-container\">\n",
              "    <div>\n",
              "<style scoped>\n",
              "    .dataframe tbody tr th:only-of-type {\n",
              "        vertical-align: middle;\n",
              "    }\n",
              "\n",
              "    .dataframe tbody tr th {\n",
              "        vertical-align: top;\n",
              "    }\n",
              "\n",
              "    .dataframe thead th {\n",
              "        text-align: right;\n",
              "    }\n",
              "</style>\n",
              "<table border=\"1\" class=\"dataframe\">\n",
              "  <thead>\n",
              "    <tr style=\"text-align: right;\">\n",
              "      <th></th>\n",
              "      <th>machineID</th>\n",
              "      <th>hslm_comp1</th>\n",
              "      <th>hslm_comp2</th>\n",
              "      <th>hslm_comp3</th>\n",
              "      <th>hslm_comp4</th>\n",
              "    </tr>\n",
              "  </thead>\n",
              "  <tbody>\n",
              "    <tr>\n",
              "      <th>count</th>\n",
              "      <td>876843.000000</td>\n",
              "      <td>876843.000000</td>\n",
              "      <td>876843.000000</td>\n",
              "      <td>876843.000000</td>\n",
              "      <td>876843.000000</td>\n",
              "    </tr>\n",
              "    <tr>\n",
              "      <th>mean</th>\n",
              "      <td>49.501083</td>\n",
              "      <td>1394.469144</td>\n",
              "      <td>1334.079615</td>\n",
              "      <td>1372.371588</td>\n",
              "      <td>1401.498188</td>\n",
              "    </tr>\n",
              "    <tr>\n",
              "      <th>std</th>\n",
              "      <td>28.866708</td>\n",
              "      <td>1836.949639</td>\n",
              "      <td>1771.718495</td>\n",
              "      <td>1767.697363</td>\n",
              "      <td>1782.910597</td>\n",
              "    </tr>\n",
              "    <tr>\n",
              "      <th>min</th>\n",
              "      <td>0.000000</td>\n",
              "      <td>0.000000</td>\n",
              "      <td>0.000000</td>\n",
              "      <td>0.000000</td>\n",
              "      <td>0.000000</td>\n",
              "    </tr>\n",
              "    <tr>\n",
              "      <th>25%</th>\n",
              "      <td>25.000000</td>\n",
              "      <td>323.000000</td>\n",
              "      <td>292.000000</td>\n",
              "      <td>318.000000</td>\n",
              "      <td>315.000000</td>\n",
              "    </tr>\n",
              "    <tr>\n",
              "      <th>50%</th>\n",
              "      <td>49.000000</td>\n",
              "      <td>801.000000</td>\n",
              "      <td>715.000000</td>\n",
              "      <td>785.000000</td>\n",
              "      <td>793.000000</td>\n",
              "    </tr>\n",
              "    <tr>\n",
              "      <th>75%</th>\n",
              "      <td>75.000000</td>\n",
              "      <td>1691.000000</td>\n",
              "      <td>1618.000000</td>\n",
              "      <td>1652.000000</td>\n",
              "      <td>1737.000000</td>\n",
              "    </tr>\n",
              "    <tr>\n",
              "      <th>max</th>\n",
              "      <td>100.000000</td>\n",
              "      <td>12000.000000</td>\n",
              "      <td>12000.000000</td>\n",
              "      <td>12000.000000</td>\n",
              "      <td>12000.000000</td>\n",
              "    </tr>\n",
              "  </tbody>\n",
              "</table>\n",
              "</div>\n",
              "    <div class=\"colab-df-buttons\">\n",
              "\n",
              "  <div class=\"colab-df-container\">\n",
              "    <button class=\"colab-df-convert\" onclick=\"convertToInteractive('df-0f08a9e6-7b96-4492-b30f-9c4db71a0495')\"\n",
              "            title=\"Convert this dataframe to an interactive table.\"\n",
              "            style=\"display:none;\">\n",
              "\n",
              "  <svg xmlns=\"http://www.w3.org/2000/svg\" height=\"24px\" viewBox=\"0 -960 960 960\">\n",
              "    <path d=\"M120-120v-720h720v720H120Zm60-500h600v-160H180v160Zm220 220h160v-160H400v160Zm0 220h160v-160H400v160ZM180-400h160v-160H180v160Zm440 0h160v-160H620v160ZM180-180h160v-160H180v160Zm440 0h160v-160H620v160Z\"/>\n",
              "  </svg>\n",
              "    </button>\n",
              "\n",
              "  <style>\n",
              "    .colab-df-container {\n",
              "      display:flex;\n",
              "      gap: 12px;\n",
              "    }\n",
              "\n",
              "    .colab-df-convert {\n",
              "      background-color: #E8F0FE;\n",
              "      border: none;\n",
              "      border-radius: 50%;\n",
              "      cursor: pointer;\n",
              "      display: none;\n",
              "      fill: #1967D2;\n",
              "      height: 32px;\n",
              "      padding: 0 0 0 0;\n",
              "      width: 32px;\n",
              "    }\n",
              "\n",
              "    .colab-df-convert:hover {\n",
              "      background-color: #E2EBFA;\n",
              "      box-shadow: 0px 1px 2px rgba(60, 64, 67, 0.3), 0px 1px 3px 1px rgba(60, 64, 67, 0.15);\n",
              "      fill: #174EA6;\n",
              "    }\n",
              "\n",
              "    .colab-df-buttons div {\n",
              "      margin-bottom: 4px;\n",
              "    }\n",
              "\n",
              "    [theme=dark] .colab-df-convert {\n",
              "      background-color: #3B4455;\n",
              "      fill: #D2E3FC;\n",
              "    }\n",
              "\n",
              "    [theme=dark] .colab-df-convert:hover {\n",
              "      background-color: #434B5C;\n",
              "      box-shadow: 0px 1px 3px 1px rgba(0, 0, 0, 0.15);\n",
              "      filter: drop-shadow(0px 1px 2px rgba(0, 0, 0, 0.3));\n",
              "      fill: #FFFFFF;\n",
              "    }\n",
              "  </style>\n",
              "\n",
              "    <script>\n",
              "      const buttonEl =\n",
              "        document.querySelector('#df-0f08a9e6-7b96-4492-b30f-9c4db71a0495 button.colab-df-convert');\n",
              "      buttonEl.style.display =\n",
              "        google.colab.kernel.accessAllowed ? 'block' : 'none';\n",
              "\n",
              "      async function convertToInteractive(key) {\n",
              "        const element = document.querySelector('#df-0f08a9e6-7b96-4492-b30f-9c4db71a0495');\n",
              "        const dataTable =\n",
              "          await google.colab.kernel.invokeFunction('convertToInteractive',\n",
              "                                                    [key], {});\n",
              "        if (!dataTable) return;\n",
              "\n",
              "        const docLinkHtml = 'Like what you see? Visit the ' +\n",
              "          '<a target=\"_blank\" href=https://colab.research.google.com/notebooks/data_table.ipynb>data table notebook</a>'\n",
              "          + ' to learn more about interactive tables.';\n",
              "        element.innerHTML = '';\n",
              "        dataTable['output_type'] = 'display_data';\n",
              "        await google.colab.output.renderOutput(dataTable, element);\n",
              "        const docLink = document.createElement('div');\n",
              "        docLink.innerHTML = docLinkHtml;\n",
              "        element.appendChild(docLink);\n",
              "      }\n",
              "    </script>\n",
              "  </div>\n",
              "\n",
              "\n",
              "<div id=\"df-70bd7fea-a8cc-49dd-849e-b568bb6c5918\">\n",
              "  <button class=\"colab-df-quickchart\" onclick=\"quickchart('df-70bd7fea-a8cc-49dd-849e-b568bb6c5918')\"\n",
              "            title=\"Suggest charts\"\n",
              "            style=\"display:none;\">\n",
              "\n",
              "<svg xmlns=\"http://www.w3.org/2000/svg\" height=\"24px\"viewBox=\"0 0 24 24\"\n",
              "     width=\"24px\">\n",
              "    <g>\n",
              "        <path d=\"M19 3H5c-1.1 0-2 .9-2 2v14c0 1.1.9 2 2 2h14c1.1 0 2-.9 2-2V5c0-1.1-.9-2-2-2zM9 17H7v-7h2v7zm4 0h-2V7h2v10zm4 0h-2v-4h2v4z\"/>\n",
              "    </g>\n",
              "</svg>\n",
              "  </button>\n",
              "\n",
              "<style>\n",
              "  .colab-df-quickchart {\n",
              "      --bg-color: #E8F0FE;\n",
              "      --fill-color: #1967D2;\n",
              "      --hover-bg-color: #E2EBFA;\n",
              "      --hover-fill-color: #174EA6;\n",
              "      --disabled-fill-color: #AAA;\n",
              "      --disabled-bg-color: #DDD;\n",
              "  }\n",
              "\n",
              "  [theme=dark] .colab-df-quickchart {\n",
              "      --bg-color: #3B4455;\n",
              "      --fill-color: #D2E3FC;\n",
              "      --hover-bg-color: #434B5C;\n",
              "      --hover-fill-color: #FFFFFF;\n",
              "      --disabled-bg-color: #3B4455;\n",
              "      --disabled-fill-color: #666;\n",
              "  }\n",
              "\n",
              "  .colab-df-quickchart {\n",
              "    background-color: var(--bg-color);\n",
              "    border: none;\n",
              "    border-radius: 50%;\n",
              "    cursor: pointer;\n",
              "    display: none;\n",
              "    fill: var(--fill-color);\n",
              "    height: 32px;\n",
              "    padding: 0;\n",
              "    width: 32px;\n",
              "  }\n",
              "\n",
              "  .colab-df-quickchart:hover {\n",
              "    background-color: var(--hover-bg-color);\n",
              "    box-shadow: 0 1px 2px rgba(60, 64, 67, 0.3), 0 1px 3px 1px rgba(60, 64, 67, 0.15);\n",
              "    fill: var(--button-hover-fill-color);\n",
              "  }\n",
              "\n",
              "  .colab-df-quickchart-complete:disabled,\n",
              "  .colab-df-quickchart-complete:disabled:hover {\n",
              "    background-color: var(--disabled-bg-color);\n",
              "    fill: var(--disabled-fill-color);\n",
              "    box-shadow: none;\n",
              "  }\n",
              "\n",
              "  .colab-df-spinner {\n",
              "    border: 2px solid var(--fill-color);\n",
              "    border-color: transparent;\n",
              "    border-bottom-color: var(--fill-color);\n",
              "    animation:\n",
              "      spin 1s steps(1) infinite;\n",
              "  }\n",
              "\n",
              "  @keyframes spin {\n",
              "    0% {\n",
              "      border-color: transparent;\n",
              "      border-bottom-color: var(--fill-color);\n",
              "      border-left-color: var(--fill-color);\n",
              "    }\n",
              "    20% {\n",
              "      border-color: transparent;\n",
              "      border-left-color: var(--fill-color);\n",
              "      border-top-color: var(--fill-color);\n",
              "    }\n",
              "    30% {\n",
              "      border-color: transparent;\n",
              "      border-left-color: var(--fill-color);\n",
              "      border-top-color: var(--fill-color);\n",
              "      border-right-color: var(--fill-color);\n",
              "    }\n",
              "    40% {\n",
              "      border-color: transparent;\n",
              "      border-right-color: var(--fill-color);\n",
              "      border-top-color: var(--fill-color);\n",
              "    }\n",
              "    60% {\n",
              "      border-color: transparent;\n",
              "      border-right-color: var(--fill-color);\n",
              "    }\n",
              "    80% {\n",
              "      border-color: transparent;\n",
              "      border-right-color: var(--fill-color);\n",
              "      border-bottom-color: var(--fill-color);\n",
              "    }\n",
              "    90% {\n",
              "      border-color: transparent;\n",
              "      border-bottom-color: var(--fill-color);\n",
              "    }\n",
              "  }\n",
              "</style>\n",
              "\n",
              "  <script>\n",
              "    async function quickchart(key) {\n",
              "      const quickchartButtonEl =\n",
              "        document.querySelector('#' + key + ' button');\n",
              "      quickchartButtonEl.disabled = true;  // To prevent multiple clicks.\n",
              "      quickchartButtonEl.classList.add('colab-df-spinner');\n",
              "      try {\n",
              "        const charts = await google.colab.kernel.invokeFunction(\n",
              "            'suggestCharts', [key], {});\n",
              "      } catch (error) {\n",
              "        console.error('Error during call to suggestCharts:', error);\n",
              "      }\n",
              "      quickchartButtonEl.classList.remove('colab-df-spinner');\n",
              "      quickchartButtonEl.classList.add('colab-df-quickchart-complete');\n",
              "    }\n",
              "    (() => {\n",
              "      let quickchartButtonEl =\n",
              "        document.querySelector('#df-70bd7fea-a8cc-49dd-849e-b568bb6c5918 button');\n",
              "      quickchartButtonEl.style.display =\n",
              "        google.colab.kernel.accessAllowed ? 'block' : 'none';\n",
              "    })();\n",
              "  </script>\n",
              "</div>\n",
              "    </div>\n",
              "  </div>\n"
            ]
          },
          "metadata": {},
          "execution_count": 264
        }
      ]
    },
    {
      "cell_type": "code",
      "source": [
        "df_maint.isna().sum()"
      ],
      "metadata": {
        "colab": {
          "base_uri": "https://localhost:8080/"
        },
        "id": "m7kZLBU8_4Zx",
        "outputId": "e3e34bd9-d820-4f6d-91ed-7ca6cf32f1c7"
      },
      "execution_count": null,
      "outputs": [
        {
          "output_type": "execute_result",
          "data": {
            "text/plain": [
              "datetime      0\n",
              "machineID     0\n",
              "hslm_comp1    0\n",
              "hslm_comp2    0\n",
              "hslm_comp3    0\n",
              "hslm_comp4    0\n",
              "dtype: int64"
            ]
          },
          "metadata": {},
          "execution_count": 265
        }
      ]
    },
    {
      "cell_type": "code",
      "source": [
        "df_telem.set_index([\"datetime\",\"machineID\"], inplace= True)\n",
        "\n",
        "# 3 hour rolling Mean, Min, and Max:\n",
        "# Mean:\n",
        "df_telem[\"Volt_mean_3\"] = df_telem['volt'].groupby(\"machineID\").rolling(window=3).mean().reset_index(level= 0, drop= True)\n",
        "df_telem[\"Rota_mean_3\"] = df_telem['rotate'].groupby(\"machineID\").rolling(window=3).mean().reset_index(level= 0, drop= True)\n",
        "df_telem[\"Pres_mean_3\"] = df_telem['pressure'].groupby(\"machineID\").rolling(window=3).mean().reset_index(level= 0, drop= True)\n",
        "df_telem[\"Vibr_mean_3\"] = df_telem['vibration'].groupby(\"machineID\").rolling(window=3).mean().reset_index(level= 0, drop= True)\n",
        "\n",
        "# Min:\n",
        "df_telem[\"Volt_min_3\"] = df_telem['volt'].groupby(\"machineID\").rolling(window=3).min().reset_index(level= 0, drop= True)\n",
        "df_telem[\"Rota_min_3\"] = df_telem['rotate'].groupby(\"machineID\").rolling(window=3).min().reset_index(level= 0, drop= True)\n",
        "df_telem[\"Pres_min_3\"] = df_telem['pressure'].groupby(\"machineID\").rolling(window=3).min().reset_index(level= 0, drop= True)\n",
        "df_telem[\"Vibr_min_3\"] = df_telem['vibration'].groupby(\"machineID\").rolling(window=3).min().reset_index(level= 0, drop= True)\n",
        "\n",
        "# Max:\n",
        "df_telem[\"Volt_max_3\"] = df_telem['volt'].groupby(\"machineID\").rolling(window=3).max().reset_index(level= 0, drop= True)\n",
        "df_telem[\"Rota_max_3\"] = df_telem['rotate'].groupby(\"machineID\").rolling(window=3).max().reset_index(level= 0, drop= True)\n",
        "df_telem[\"Pres_max_3\"] = df_telem['pressure'].groupby(\"machineID\").rolling(window=3).max().reset_index(level= 0, drop= True)\n",
        "df_telem[\"Vibr_max_3\"] = df_telem['vibration'].groupby(\"machineID\").rolling(window=3).max().reset_index(level= 0, drop= True)\n",
        "\n",
        "# 24 hour rolling Mean, Min, and Max:\n",
        "#Mean:\n",
        "df_telem[\"Volt_mean_24\"] = df_telem['volt'].groupby(\"machineID\").rolling(window=24).mean().reset_index(level= 0, drop= True)\n",
        "df_telem[\"Rota_mean_24\"] = df_telem['rotate'].groupby(\"machineID\").rolling(window=24).mean().reset_index(level= 0, drop= True)\n",
        "df_telem[\"Pres_mean_24\"] = df_telem['pressure'].groupby(\"machineID\").rolling(window=24).mean().reset_index(level= 0, drop= True)\n",
        "df_telem[\"Vibr_mean_24\"] = df_telem['vibration'].groupby(\"machineID\").rolling(window=24).mean().reset_index(level= 0, drop= True)\n",
        "\n",
        "# Min:\n",
        "df_telem[\"Volt_min_24\"] = df_telem['volt'].groupby(\"machineID\").rolling(window=24).min().reset_index(level= 0, drop= True)\n",
        "df_telem[\"Rota_min_24\"] = df_telem['rotate'].groupby(\"machineID\").rolling(window=24).min().reset_index(level= 0, drop= True)\n",
        "df_telem[\"Pres_min_24\"] = df_telem['pressure'].groupby(\"machineID\").rolling(window=24).min().reset_index(level= 0, drop= True)\n",
        "df_telem[\"Vibr_min_24\"] = df_telem['vibration'].groupby(\"machineID\").rolling(window=24).min().reset_index(level= 0, drop= True)\n",
        "\n",
        "# Max:\n",
        "df_telem[\"Volt_max_24\"] = df_telem['volt'].groupby(\"machineID\").rolling(window=24).max().reset_index(level= 0, drop= True)\n",
        "df_telem[\"Rota_max_24\"] = df_telem['rotate'].groupby(\"machineID\").rolling(window=24).max().reset_index(level= 0, drop= True)\n",
        "df_telem[\"Pres_max_24\"] = df_telem['pressure'].groupby(\"machineID\").rolling(window=24).max().reset_index(level= 0, drop= True)\n",
        "df_telem[\"Vibr_max_24\"] = df_telem['vibration'].groupby(\"machineID\").rolling(window=24).max().reset_index(level= 0, drop= True)\n",
        "\n",
        "df_telem.reset_index(inplace= True)"
      ],
      "metadata": {
        "id": "__5kJ_Cyyxs_"
      },
      "execution_count": null,
      "outputs": []
    },
    {
      "cell_type": "code",
      "source": [
        "# fill all rotating mean nan's wth mean value\n",
        "df_telem.fillna(df_telem.mean(), inplace= True)"
      ],
      "metadata": {
        "id": "WFrqkW2w46KY"
      },
      "execution_count": null,
      "outputs": []
    },
    {
      "cell_type": "code",
      "source": [
        "# drop un-necessary columns\n",
        "df_telem.drop(columns=[\"volt\",\"rotate\",\"pressure\",\"vibration\"], inplace= True)"
      ],
      "metadata": {
        "id": "h0SLDScay3Ln"
      },
      "execution_count": null,
      "outputs": []
    },
    {
      "cell_type": "code",
      "source": [
        "# merge all five dataframes\n",
        "df = df_telem.merge(df_mach, on= 'machineID', how= 'left')\n",
        "df = df.merge(df_error, on=['machineID', 'datetime'], how= 'left')\n",
        "df = df.merge(df_maint, on=['machineID', 'datetime'], how= 'left')\n",
        "df = df.merge(df_fail, on=['machineID', 'datetime'], how= 'left')"
      ],
      "metadata": {
        "id": "BtsPXf5EDuWz"
      },
      "execution_count": null,
      "outputs": []
    },
    {
      "cell_type": "code",
      "source": [
        "print(df)"
      ],
      "metadata": {
        "colab": {
          "base_uri": "https://localhost:8080/"
        },
        "id": "0ADyqZlyKmjr",
        "outputId": "52c35b99-c76d-482a-bf5e-5df212de84ab"
      },
      "execution_count": null,
      "outputs": [
        {
          "output_type": "stream",
          "name": "stdout",
          "text": [
            "                  datetime  machineID  Volt_mean_3  Rota_mean_3  Pres_mean_3  \\\n",
            "0      2015-01-01 06:00:00          0   170.777166   446.606056   100.858217   \n",
            "1      2015-01-01 07:00:00          0   170.777166   446.606056   100.858217   \n",
            "2      2015-01-01 08:00:00          0   170.028993   449.533798    94.592122   \n",
            "3      2015-01-01 09:00:00          0   165.443986   425.415550    93.315664   \n",
            "4      2015-01-01 10:00:00          0   163.687586   436.292011    98.791038   \n",
            "...                    ...        ...          ...          ...          ...   \n",
            "877209 2016-01-01 02:00:00         99   170.306956   438.653616   102.346227   \n",
            "877210 2016-01-01 03:00:00         99   177.266129   440.894903   100.687019   \n",
            "877211 2016-01-01 04:00:00         99   187.179710   429.749108    98.201386   \n",
            "877212 2016-01-01 05:00:00         99   182.525427   435.932056    98.798172   \n",
            "877213 2016-01-01 06:00:00         99   176.431587   452.561688    92.436483   \n",
            "\n",
            "        Vibr_mean_3  Volt_min_3  Rota_min_3  Pres_min_3  Vibr_min_3  ...  \\\n",
            "0         40.384960  158.071353  404.123338   92.374672   36.145947  ...   \n",
            "1         40.384960  158.071353  404.123338   92.374672   36.145947  ...   \n",
            "2         40.893502  162.879223  402.747490   75.237905   34.178847  ...   \n",
            "3         39.571655  162.462833  346.149335   75.237905   34.178847  ...   \n",
            "4         33.763834  157.610021  346.149335   75.237905   25.990511  ...   \n",
            "...             ...         ...         ...         ...         ...  ...   \n",
            "877209    47.481232  162.742669  395.222827  101.589735   44.382754  ...   \n",
            "877210    43.425922  162.742669  395.222827   98.180607   35.123072  ...   \n",
            "877211    44.736524  179.438162  395.222827   94.132837   35.123072  ...   \n",
            "877212    42.757630  165.475310  413.771670   94.132837   35.123072  ...   \n",
            "877213    43.665022  165.475310  413.771670   79.095538   37.845245  ...   \n",
            "\n",
            "        hslm_comp1  hslm_comp2  hslm_comp3  hslm_comp4  failure  no_fail  \\\n",
            "0          12000.0     12000.0     12000.0     12000.0      NaN      NaN   \n",
            "1          12000.0     12000.0     12000.0     12000.0      NaN      NaN   \n",
            "2          12000.0     12000.0     12000.0     12000.0      NaN      NaN   \n",
            "3          12000.0     12000.0     12000.0     12000.0      NaN      NaN   \n",
            "4          12000.0     12000.0     12000.0     12000.0      NaN      NaN   \n",
            "...            ...         ...         ...         ...      ...      ...   \n",
            "877209      2588.0        68.0       788.0       428.0      NaN      NaN   \n",
            "877210      2589.0        69.0       789.0       429.0      NaN      NaN   \n",
            "877211      2590.0        70.0       790.0       430.0      NaN      NaN   \n",
            "877212      2591.0        71.0       791.0       431.0      NaN      NaN   \n",
            "877213      2592.0        72.0       792.0       432.0      NaN      NaN   \n",
            "\n",
            "        fail_comp1  fail_comp2  fail_comp3  fail_comp4  \n",
            "0              NaN         NaN         NaN         NaN  \n",
            "1              NaN         NaN         NaN         NaN  \n",
            "2              NaN         NaN         NaN         NaN  \n",
            "3              NaN         NaN         NaN         NaN  \n",
            "4              NaN         NaN         NaN         NaN  \n",
            "...            ...         ...         ...         ...  \n",
            "877209         NaN         NaN         NaN         NaN  \n",
            "877210         NaN         NaN         NaN         NaN  \n",
            "877211         NaN         NaN         NaN         NaN  \n",
            "877212         NaN         NaN         NaN         NaN  \n",
            "877213         NaN         NaN         NaN         NaN  \n",
            "\n",
            "[877214 rows x 39 columns]\n"
          ]
        }
      ]
    },
    {
      "cell_type": "code",
      "source": [
        "# drop un-necessary columns\n",
        "df.drop(columns=[\"datetime\",\"machineID\",\"failure\",\"errorID\"], inplace= True)"
      ],
      "metadata": {
        "id": "tzBfvtqdiwHl"
      },
      "execution_count": null,
      "outputs": []
    },
    {
      "cell_type": "code",
      "source": [
        "# map True and False instead of using encoding, also fill nan's with false value\n",
        "#df.dropna(subset= [\"no_fail\",\"fail_comp1\",\"fail_comp2\",\"fail_comp3\",\"fail_comp4\"],axis= 0, how= \"all\", inplace= True)\n",
        "df.fillna(0, inplace= True)\n",
        "df[\"no_fail\"] = df[\"no_fail\"].map({True:1, False:0})\n",
        "df[\"fail_comp1\"] = df[\"fail_comp1\"].map({True:1, False:0})\n",
        "df[\"fail_comp2\"] = df[\"fail_comp2\"].map({True:1, False:0})\n",
        "df[\"fail_comp3\"] = df[\"fail_comp3\"].map({True:1, False:0})\n",
        "df[\"fail_comp4\"] = df[\"fail_comp4\"].map({True:1, False:0})"
      ],
      "metadata": {
        "id": "geWtAfFMjWt_"
      },
      "execution_count": null,
      "outputs": []
    },
    {
      "cell_type": "code",
      "source": [
        "# label encode model column\n",
        "le = LabelEncoder()\n",
        "df[\"model\"] = le.fit_transform(df[\"model\"])\n",
        "\n",
        "# convert all columns to float\n",
        "df = df.astype(float)"
      ],
      "metadata": {
        "id": "TS_yqgFDmoya"
      },
      "execution_count": null,
      "outputs": []
    },
    {
      "cell_type": "code",
      "source": [
        "print(df)"
      ],
      "metadata": {
        "colab": {
          "base_uri": "https://localhost:8080/"
        },
        "id": "86ApZf6jy1q3",
        "outputId": "361ea64c-c324-4769-8052-3618b32512a6"
      },
      "execution_count": null,
      "outputs": [
        {
          "output_type": "stream",
          "name": "stdout",
          "text": [
            "        Volt_mean_3  Rota_mean_3  Pres_mean_3  Vibr_mean_3  Volt_min_3  \\\n",
            "0        170.777166   446.606056   100.858217    40.384960  158.071353   \n",
            "1        170.777166   446.606056   100.858217    40.384960  158.071353   \n",
            "2        170.028993   449.533798    94.592122    40.893502  162.879223   \n",
            "3        165.443986   425.415550    93.315664    39.571655  162.462833   \n",
            "4        163.687586   436.292011    98.791038    33.763834  157.610021   \n",
            "...             ...          ...          ...          ...         ...   \n",
            "877209   170.306956   438.653616   102.346227    47.481232  162.742669   \n",
            "877210   177.266129   440.894903   100.687019    43.425922  162.742669   \n",
            "877211   187.179710   429.749108    98.201386    44.736524  179.438162   \n",
            "877212   182.525427   435.932056    98.798172    42.757630  165.475310   \n",
            "877213   176.431587   452.561688    92.436483    43.665022  165.475310   \n",
            "\n",
            "        Rota_min_3  Pres_min_3  Vibr_min_3  Volt_max_3  Rota_max_3  ...   age  \\\n",
            "0       404.123338   92.374672   36.145947  183.476799  489.058278  ...  18.0   \n",
            "1       404.123338   92.374672   36.145947  183.476799  489.058278  ...  18.0   \n",
            "2       402.747490   75.237905   34.178847  176.217853  527.349825  ...  18.0   \n",
            "3       346.149335   75.237905   34.178847  170.989902  527.349825  ...  18.0   \n",
            "4       346.149335   75.237905   25.990511  170.989902  527.349825  ...  18.0   \n",
            "...            ...         ...         ...         ...         ...  ...   ...   \n",
            "877209  395.222827  101.589735   44.382754  179.438162  481.253908  ...   5.0   \n",
            "877210  395.222827   98.180607   35.123072  189.617555  481.253908  ...   5.0   \n",
            "877211  395.222827   94.132837   35.123072  192.483414  447.816524  ...   5.0   \n",
            "877212  413.771670   94.132837   35.123072  192.483414  447.816524  ...   5.0   \n",
            "877213  413.771670   79.095538   37.845245  192.483414  496.096870  ...   5.0   \n",
            "\n",
            "        hslm_comp1  hslm_comp2  hslm_comp3  hslm_comp4  no_fail  fail_comp1  \\\n",
            "0          12000.0     12000.0     12000.0     12000.0      0.0         0.0   \n",
            "1          12000.0     12000.0     12000.0     12000.0      0.0         0.0   \n",
            "2          12000.0     12000.0     12000.0     12000.0      0.0         0.0   \n",
            "3          12000.0     12000.0     12000.0     12000.0      0.0         0.0   \n",
            "4          12000.0     12000.0     12000.0     12000.0      0.0         0.0   \n",
            "...            ...         ...         ...         ...      ...         ...   \n",
            "877209      2588.0        68.0       788.0       428.0      0.0         0.0   \n",
            "877210      2589.0        69.0       789.0       429.0      0.0         0.0   \n",
            "877211      2590.0        70.0       790.0       430.0      0.0         0.0   \n",
            "877212      2591.0        71.0       791.0       431.0      0.0         0.0   \n",
            "877213      2592.0        72.0       792.0       432.0      0.0         0.0   \n",
            "\n",
            "        fail_comp2  fail_comp3  fail_comp4  \n",
            "0              0.0         0.0         0.0  \n",
            "1              0.0         0.0         0.0  \n",
            "2              0.0         0.0         0.0  \n",
            "3              0.0         0.0         0.0  \n",
            "4              0.0         0.0         0.0  \n",
            "...            ...         ...         ...  \n",
            "877209         0.0         0.0         0.0  \n",
            "877210         0.0         0.0         0.0  \n",
            "877211         0.0         0.0         0.0  \n",
            "877212         0.0         0.0         0.0  \n",
            "877213         0.0         0.0         0.0  \n",
            "\n",
            "[877214 rows x 35 columns]\n"
          ]
        }
      ]
    },
    {
      "cell_type": "code",
      "source": [
        "df.isna().sum()"
      ],
      "metadata": {
        "colab": {
          "base_uri": "https://localhost:8080/"
        },
        "id": "Ax4RaWIA0g_n",
        "outputId": "422118c7-d2e7-4c8d-b088-a544e479ff14"
      },
      "execution_count": null,
      "outputs": [
        {
          "output_type": "execute_result",
          "data": {
            "text/plain": [
              "Volt_mean_3     0\n",
              "Rota_mean_3     0\n",
              "Pres_mean_3     0\n",
              "Vibr_mean_3     0\n",
              "Volt_min_3      0\n",
              "Rota_min_3      0\n",
              "Pres_min_3      0\n",
              "Vibr_min_3      0\n",
              "Volt_max_3      0\n",
              "Rota_max_3      0\n",
              "Pres_max_3      0\n",
              "Vibr_max_3      0\n",
              "Volt_mean_24    0\n",
              "Rota_mean_24    0\n",
              "Pres_mean_24    0\n",
              "Vibr_mean_24    0\n",
              "Volt_min_24     0\n",
              "Rota_min_24     0\n",
              "Pres_min_24     0\n",
              "Vibr_min_24     0\n",
              "Volt_max_24     0\n",
              "Rota_max_24     0\n",
              "Pres_max_24     0\n",
              "Vibr_max_24     0\n",
              "model           0\n",
              "age             0\n",
              "hslm_comp1      0\n",
              "hslm_comp2      0\n",
              "hslm_comp3      0\n",
              "hslm_comp4      0\n",
              "no_fail         0\n",
              "fail_comp1      0\n",
              "fail_comp2      0\n",
              "fail_comp3      0\n",
              "fail_comp4      0\n",
              "dtype: int64"
            ]
          },
          "metadata": {},
          "execution_count": 275
        }
      ]
    },
    {
      "cell_type": "code",
      "source": [
        "df.dtypes"
      ],
      "metadata": {
        "colab": {
          "base_uri": "https://localhost:8080/"
        },
        "id": "cbIEoz-ml-F_",
        "outputId": "b5ce8396-e393-44d7-975f-7f27f54922c2"
      },
      "execution_count": null,
      "outputs": [
        {
          "output_type": "execute_result",
          "data": {
            "text/plain": [
              "Volt_mean_3     float64\n",
              "Rota_mean_3     float64\n",
              "Pres_mean_3     float64\n",
              "Vibr_mean_3     float64\n",
              "Volt_min_3      float64\n",
              "Rota_min_3      float64\n",
              "Pres_min_3      float64\n",
              "Vibr_min_3      float64\n",
              "Volt_max_3      float64\n",
              "Rota_max_3      float64\n",
              "Pres_max_3      float64\n",
              "Vibr_max_3      float64\n",
              "Volt_mean_24    float64\n",
              "Rota_mean_24    float64\n",
              "Pres_mean_24    float64\n",
              "Vibr_mean_24    float64\n",
              "Volt_min_24     float64\n",
              "Rota_min_24     float64\n",
              "Pres_min_24     float64\n",
              "Vibr_min_24     float64\n",
              "Volt_max_24     float64\n",
              "Rota_max_24     float64\n",
              "Pres_max_24     float64\n",
              "Vibr_max_24     float64\n",
              "model           float64\n",
              "age             float64\n",
              "hslm_comp1      float64\n",
              "hslm_comp2      float64\n",
              "hslm_comp3      float64\n",
              "hslm_comp4      float64\n",
              "no_fail         float64\n",
              "fail_comp1      float64\n",
              "fail_comp2      float64\n",
              "fail_comp3      float64\n",
              "fail_comp4      float64\n",
              "dtype: object"
            ]
          },
          "metadata": {},
          "execution_count": 276
        }
      ]
    },
    {
      "cell_type": "markdown",
      "source": [
        "---"
      ],
      "metadata": {
        "id": "vh5wQdJ1lFOU"
      }
    },
    {
      "cell_type": "markdown",
      "source": [
        "#*Training and Prediction*#"
      ],
      "metadata": {
        "id": "basuW0GplFNc"
      }
    },
    {
      "cell_type": "markdown",
      "source": [
        "---"
      ],
      "metadata": {
        "id": "jDJVMsLTlN9d"
      }
    },
    {
      "cell_type": "code",
      "source": [
        "X = df.iloc[:, :-5].values\n",
        "y = df.iloc[:, -5:].values\n",
        "\n",
        "print(X,\"\\n\\n***********************\\n\")\n",
        "print(y)"
      ],
      "metadata": {
        "colab": {
          "base_uri": "https://localhost:8080/"
        },
        "id": "l2ZmjNYTlESS",
        "outputId": "87fc0440-324c-42cb-ac2c-65e6bcea0e78"
      },
      "execution_count": null,
      "outputs": [
        {
          "output_type": "stream",
          "name": "stdout",
          "text": [
            "[[  170.77716593   446.60605562   100.85821677 ... 12000.\n",
            "  12000.         12000.        ]\n",
            " [  170.77716593   446.60605562   100.85821677 ... 12000.\n",
            "  12000.         12000.        ]\n",
            " [  170.02899277   449.53379775    94.5921219  ... 12000.\n",
            "  12000.         12000.        ]\n",
            " ...\n",
            " [  187.17971049   429.74910794    98.20138608 ...    70.\n",
            "    790.           430.        ]\n",
            " [  182.52542656   435.9320555     98.79817213 ...    71.\n",
            "    791.           431.        ]\n",
            " [  176.43158698   452.56168793    92.43648257 ...    72.\n",
            "    792.           432.        ]] \n",
            "\n",
            "***********************\n",
            "\n",
            "[[0. 0. 0. 0. 0.]\n",
            " [0. 0. 0. 0. 0.]\n",
            " [0. 0. 0. 0. 0.]\n",
            " ...\n",
            " [0. 0. 0. 0. 0.]\n",
            " [0. 0. 0. 0. 0.]\n",
            " [0. 0. 0. 0. 0.]]\n"
          ]
        }
      ]
    },
    {
      "cell_type": "code",
      "source": [
        "# oversample the dataset\n",
        "from imblearn.over_sampling import SMOTE\n",
        "\n",
        "sm = SMOTE(random_state=0)\n",
        "X, y = sm.fit_resample(X, y)\n",
        "print(X,\"\\n\\n***********************\\n\")\n",
        "print(y)"
      ],
      "metadata": {
        "colab": {
          "base_uri": "https://localhost:8080/"
        },
        "id": "aLRWbqPiRfL_",
        "outputId": "36cae012-ad92-459f-83da-c23274f2a342"
      },
      "execution_count": null,
      "outputs": [
        {
          "output_type": "stream",
          "name": "stdout",
          "text": [
            "[[  170.77716593   446.60605562   100.85821677 ... 12000.\n",
            "  12000.         12000.        ]\n",
            " [  170.77716593   446.60605562   100.85821677 ... 12000.\n",
            "  12000.         12000.        ]\n",
            " [  170.02899277   449.53379775    94.5921219  ... 12000.\n",
            "  12000.         12000.        ]\n",
            " ...\n",
            " [  177.27902367   456.43681057   100.05706942 ...  1440.\n",
            "   1440.             0.        ]\n",
            " [  165.83527737   433.12630353   101.89480477 ...   114.01121093\n",
            "    245.98878907  1571.97757813]\n",
            " [  170.56293022   445.9284128    105.74833616 ...  1080.\n",
            "    720.             0.        ]] \n",
            "\n",
            "***********************\n",
            "\n",
            "[[1 0 0 0 0]\n",
            " [1 0 0 0 0]\n",
            " [1 0 0 0 0]\n",
            " ...\n",
            " [0 0 0 0 1]\n",
            " [0 0 0 0 1]\n",
            " [0 0 0 0 1]]\n"
          ]
        }
      ]
    },
    {
      "cell_type": "code",
      "source": [
        "# balance the unbalanced dataset\n",
        "from imblearn.under_sampling import RandomUnderSampler\n",
        "rus = RandomUnderSampler(random_state=0, sampling_strategy= {0:397552, 1:397552, 2:397552, 3:397552, 4:397552})\n",
        "X, y = rus.fit_resample(X, y)\n",
        "print(X,\"\\n\\n***********************\\n\")\n",
        "print(y)"
      ],
      "metadata": {
        "colab": {
          "base_uri": "https://localhost:8080/"
        },
        "id": "Zm_onv1IqCPD",
        "outputId": "c0f6af50-fff1-4a54-e4d5-9f5f760d2ccb"
      },
      "execution_count": null,
      "outputs": [
        {
          "output_type": "stream",
          "name": "stdout",
          "text": [
            "[[ 180.84690554  458.7566175   100.51734249 ...   19.\n",
            "  6043.          379.        ]\n",
            " [ 164.8526395   443.51095751   98.90495969 ...  942.\n",
            "   222.         2382.        ]\n",
            " [ 173.32088869  432.21621502   85.12610419 ...  244.\n",
            "   244.         1324.        ]\n",
            " ...\n",
            " [ 191.14108586  440.93555638   97.51097836 ... 1800.\n",
            "   646.31368998    0.        ]\n",
            " [ 179.78221238  436.33532028  102.4307906  ... 2695.92576319\n",
            "  5297.57030527    0.        ]\n",
            " [ 175.14562918  468.39010313  103.94134836 ...   28.97865178\n",
            "  1440.            0.        ]] \n",
            "\n",
            "***********************\n",
            "\n",
            "[[1 0 0 0 0]\n",
            " [1 0 0 0 0]\n",
            " [1 0 0 0 0]\n",
            " ...\n",
            " [0 0 0 0 1]\n",
            " [0 0 0 0 1]\n",
            " [0 0 0 0 1]]\n"
          ]
        }
      ]
    },
    {
      "cell_type": "code",
      "source": [
        "# split the data .8\n",
        "from sklearn.model_selection import train_test_split\n",
        "X_train, X_test, y_train, y_test = train_test_split(X, y, test_size=0.2, random_state=42)"
      ],
      "metadata": {
        "id": "ky2pwcsBx0Xl"
      },
      "execution_count": null,
      "outputs": []
    },
    {
      "cell_type": "code",
      "source": [
        "# scale the data using standard scaler\n",
        "from sklearn.preprocessing import StandardScaler\n",
        "sc = StandardScaler()\n",
        "X_train = sc.fit_transform(X_train)\n",
        "X_test = sc.transform(X_test)"
      ],
      "metadata": {
        "id": "QxZWaESzwbxz"
      },
      "execution_count": null,
      "outputs": []
    },
    {
      "cell_type": "code",
      "source": [
        "X_train.shape"
      ],
      "metadata": {
        "colab": {
          "base_uri": "https://localhost:8080/"
        },
        "id": "XU_3R0_aYAx7",
        "outputId": "7c2a372e-7ed1-4f43-9493-23e11c3876a2"
      },
      "execution_count": null,
      "outputs": [
        {
          "output_type": "execute_result",
          "data": {
            "text/plain": [
              "(1590208, 30)"
            ]
          },
          "metadata": {},
          "execution_count": 285
        }
      ]
    },
    {
      "cell_type": "code",
      "source": [
        "y_train.shape"
      ],
      "metadata": {
        "colab": {
          "base_uri": "https://localhost:8080/"
        },
        "id": "m_symdPAYC_x",
        "outputId": "3e4d5af6-9122-49ca-d424-1949b6e0adcb"
      },
      "execution_count": null,
      "outputs": [
        {
          "output_type": "execute_result",
          "data": {
            "text/plain": [
              "(1590208, 5)"
            ]
          },
          "metadata": {},
          "execution_count": 286
        }
      ]
    },
    {
      "cell_type": "code",
      "source": [
        "from xgboost import XGBClassifier\n",
        "from sklearn.multioutput import MultiOutputClassifier\n",
        "from sklearn.metrics import accuracy_score, classification_report\n",
        "import seaborn as sns\n",
        "import matplotlib.pyplot as plt\n",
        "from sklearn.metrics import confusion_matrix"
      ],
      "metadata": {
        "id": "ycnMbDbMXzsO"
      },
      "execution_count": null,
      "outputs": []
    },
    {
      "cell_type": "code",
      "source": [
        "# Create and predict using XGBoost using multi output classifier\n",
        "xgb_classifier = MultiOutputClassifier(XGBClassifier(objective=\"multi:softmax\", num_class=5, random_state=42))\n",
        "xgb_classifier.fit(X_train, y_train)\n",
        "y_pred = xgb_classifier.predict(X_test)\n",
        "accuracy = accuracy_score(y_test, y_pred)\n",
        "print(f\"Accuracy: {accuracy}\")"
      ],
      "metadata": {
        "colab": {
          "base_uri": "https://localhost:8080/"
        },
        "id": "7Pri6_o4ae4P",
        "outputId": "78858b87-35f5-404d-d205-e98c55e63565"
      },
      "execution_count": null,
      "outputs": [
        {
          "output_type": "stream",
          "name": "stdout",
          "text": [
            "Accuracy: 0.9913696824566346\n"
          ]
        }
      ]
    },
    {
      "cell_type": "code",
      "source": [
        "# Display confusion matrix heatmap using seaborn\n",
        "conf_matrix = confusion_matrix(y_test.argmax(axis=1), y_pred.argmax(axis=1))\n",
        "plt.figure(figsize=(8, 6))\n",
        "sns.heatmap(conf_matrix, annot=True, cmap='viridis', fmt='d',\n",
        "            xticklabels=[\"no_fail\",\"comp_1\",\"comp_2\",\"comp_3\",\"comp_4\"],\n",
        "            yticklabels=[\"no_fail\",\"comp_1\",\"comp_2\",\"comp_3\",\"comp_4\"])\n",
        "plt.xlabel('Predicted')\n",
        "plt.ylabel('Actual')\n",
        "plt.title('Confusion Matrix Heatmap')\n",
        "plt.show()"
      ],
      "metadata": {
        "colab": {
          "base_uri": "https://localhost:8080/",
          "height": 564
        },
        "id": "VYrLJgi1fSo3",
        "outputId": "0fdc86a5-f85a-458d-a610-f5079adce9a7"
      },
      "execution_count": null,
      "outputs": [
        {
          "output_type": "display_data",
          "data": {
            "text/plain": [
              "<Figure size 800x600 with 2 Axes>"
            ],
            "image/png": "[encoded data removed]"
          },
          "metadata": {}
        }
      ]
    },
    {
      "cell_type": "code",
      "source": [
        "from sklearn.ensemble import RandomForestClassifier\n",
        "from sklearn.impute import SimpleImputer"
      ],
      "metadata": {
        "id": "rGtGO8WvncKG"
      },
      "execution_count": null,
      "outputs": []
    },
    {
      "cell_type": "code",
      "source": [
        "# random forrest train, test\n",
        "rf = RandomForestClassifier(random_state=42)\n",
        "rf.fit(X_train, y_train)\n",
        "y_pred = rf.predict(X_test)\n",
        "accuracy = accuracy_score(y_test, y_pred)\n",
        "print(\"Accuracy =\", accuracy)"
      ],
      "metadata": {
        "colab": {
          "base_uri": "https://localhost:8080/"
        },
        "id": "JJvkOJKmnevn",
        "outputId": "fb628bbb-0854-4e53-bf07-6cffec1b3175"
      },
      "execution_count": null,
      "outputs": [
        {
          "output_type": "stream",
          "name": "stdout",
          "text": [
            "Accuracy = 0.9941995009457882\n"
          ]
        }
      ]
    },
    {
      "cell_type": "code",
      "source": [
        "# Display confusion matrix heatmap using seaborn\n",
        "conf_matrix = confusion_matrix(y_test.argmax(axis=1), y_pred.argmax(axis=1))\n",
        "plt.figure(figsize=(8, 6))\n",
        "sns.heatmap(conf_matrix, annot=True, cmap='viridis', fmt='d',\n",
        "            xticklabels=[\"no_fail\",\"comp_1\",\"comp_2\",\"comp_3\",\"comp_4\"],\n",
        "            yticklabels=[\"no_fail\",\"comp_1\",\"comp_2\",\"comp_3\",\"comp_4\"])\n",
        "plt.xlabel('Predicted')\n",
        "plt.ylabel('Actual')\n",
        "plt.title('Confusion Matrix Heatmap')\n",
        "plt.show()"
      ],
      "metadata": {
        "colab": {
          "base_uri": "https://localhost:8080/",
          "height": 564
        },
        "id": "vTTGMXjvoOrS",
        "outputId": "3b1def76-a2fb-41aa-91c7-8341d3067c41"
      },
      "execution_count": null,
      "outputs": [
        {
          "output_type": "display_data",
          "data": {
            "text/plain": [
              "<Figure size 800x600 with 2 Axes>"
            ],
            "image/png": "[encoded data removed]"
          },
          "metadata": {}
        }
      ]
    },
    {
      "cell_type": "code",
      "source": [
        "import tensorflow as tf"
      ],
      "metadata": {
        "id": "HTfmHkPjw6sa"
      },
      "execution_count": null,
      "outputs": []
    },
    {
      "cell_type": "code",
      "source": [
        "tf.__version__"
      ],
      "metadata": {
        "colab": {
          "base_uri": "https://localhost:8080/",
          "height": 35
        },
        "id": "UunMAU79yPsV",
        "outputId": "2d8fd78a-8cb8-4f2e-e764-4b08a19570c9"
      },
      "execution_count": null,
      "outputs": [
        {
          "output_type": "execute_result",
          "data": {
            "text/plain": [
              "'2.14.0'"
            ],
            "application/vnd.google.colaboratory.intrinsic+json": {
              "type": "string"
            }
          },
          "metadata": {},
          "execution_count": 294
        }
      ]
    },
    {
      "cell_type": "code",
      "source": [
        "# initialize NN\n",
        "ann = tf.keras.models.Sequential()"
      ],
      "metadata": {
        "id": "cYROSOlQyQGu"
      },
      "execution_count": null,
      "outputs": []
    },
    {
      "cell_type": "code",
      "source": [
        "# 3 hidden layers, 1 final result layer\n",
        "ann.add(tf.keras.layers.Dense(units=30, activation= \"relu\"))\n",
        "ann.add(tf.keras.layers.Dense(units=800, activation= \"relu\"))\n",
        "ann.add(tf.keras.layers.Dense(units=800, activation= \"relu\"))\n",
        "ann.add(tf.keras.layers.Dense(units=5, activation= \"sigmoid\"))\n",
        "ann.compile(optimizer= \"adam\", loss= \"binary_crossentropy\", metrics= [\"accuracy\"])"
      ],
      "metadata": {
        "id": "RUOMG9NXyqeS"
      },
      "execution_count": null,
      "outputs": []
    },
    {
      "cell_type": "code",
      "source": [
        "ann.fit(X_train, y_train, batch_size= 32, epochs= 5)"
      ],
      "metadata": {
        "colab": {
          "base_uri": "https://localhost:8080/"
        },
        "id": "N1_D5iSxzQFv",
        "outputId": "93e0c5a8-7e24-4fd5-f66c-eebe696a5e25"
      },
      "execution_count": null,
      "outputs": [
        {
          "output_type": "stream",
          "name": "stdout",
          "text": [
            "Epoch 1/5\n",
            "49694/49694 [==============================] - 702s 14ms/step - loss: 0.0393 - accuracy: 0.9620\n",
            "Epoch 2/5\n",
            "49694/49694 [==============================] - 704s 14ms/step - loss: 0.0177 - accuracy: 0.9827\n",
            "Epoch 3/5\n",
            "49694/49694 [==============================] - 741s 15ms/step - loss: 0.0162 - accuracy: 0.9847\n",
            "Epoch 4/5\n",
            "49694/49694 [==============================] - 722s 15ms/step - loss: 0.0158 - accuracy: 0.9855\n",
            "Epoch 5/5\n",
            "49694/49694 [==============================] - 714s 14ms/step - loss: 0.0156 - accuracy: 0.9858\n"
          ]
        },
        {
          "output_type": "execute_result",
          "data": {
            "text/plain": [
              "<keras.src.callbacks.History at 0x7e489bad8df0>"
            ]
          },
          "metadata": {},
          "execution_count": 297
        }
      ]
    },
    {
      "cell_type": "code",
      "source": [
        "accur = ann.evaluate(X_test, y_test)\n",
        "print(\"Accuracy :\", accur)"
      ],
      "metadata": {
        "colab": {
          "base_uri": "https://localhost:8080/"
        },
        "id": "JzVUY7sWOxn0",
        "outputId": "91cefee1-92a0-4fda-b11b-64c9a0561979"
      },
      "execution_count": null,
      "outputs": [
        {
          "output_type": "stream",
          "name": "stdout",
          "text": [
            "12424/12424 [==============================] - 48s 4ms/step - loss: 0.0234 - accuracy: 0.9850\n",
            "Accuracy : [0.023433538153767586, 0.9850358963012695]\n"
          ]
        }
      ]
    }
  ]
}