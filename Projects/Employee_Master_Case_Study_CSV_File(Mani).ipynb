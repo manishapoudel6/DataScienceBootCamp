{
  "nbformat": 4,
  "nbformat_minor": 0,
  "metadata": {
    "colab": {
      "provenance": [],
      "history_visible": true
    },
    "kernelspec": {
      "name": "python3",
      "display_name": "Python 3"
    },
    "language_info": {
      "name": "python"
    }
  },
  "cells": [
    {
      "cell_type": "code",
      "execution_count": 1,
      "metadata": {
        "id": "EenJzT_clt9E"
      },
      "outputs": [],
      "source": [
        "# This is a case study for managing employees\n",
        "# Name, Salary, id, age, job position"
      ]
    },
    {
      "cell_type": "code",
      "source": [
        "#Add Employee\n",
        "#Delete by id\n",
        "#Update name\n",
        "#Update salary\n",
        "#Update job position\n",
        "#Update age by id\n",
        "#delete by name\n",
        "#get_details by id\n",
        "#get_details by name"
      ],
      "metadata": {
        "id": "4HrmD_bymNMC"
      },
      "execution_count": 2,
      "outputs": []
    },
    {
      "cell_type": "code",
      "source": [
        "import pandas as pd\n",
        "import os\n",
        "\n",
        "class Employee:\n",
        "  def __init__(self, emp_id, name, position, salary, age):\n",
        "    self.emp_id = emp_id\n",
        "    self.name = name\n",
        "    self.position = position\n",
        "    self.salary = salary\n",
        "    self.age = age\n",
        "\n",
        "  def display_info(self):\n",
        "    print(\"Employee ID:\", self.emp_id)\n",
        "    print(\"Name:\", self.name)\n",
        "    print(\"Position:\", self.position)\n",
        "    print(\"Salary:\", self.salary)\n",
        "    print(\"Age:\", self.age)\n",
        "\n",
        "class EmployeeManagementSystem:\n",
        "  def __init__(self):\n",
        "    self.employees = []\n",
        "\n",
        "  def add_employee(self, emp):\n",
        "    self.employees.append(emp)\n",
        "\n",
        "  def remove_employee(self, emp_id):\n",
        "    for emp in self.employees:\n",
        "      if int(emp.emp_id == emp_id):\n",
        "          self.employees.remove(emp)\n",
        "          return True\n",
        "      return False\n",
        "\n",
        "  def update_name(self, emp_id, name):\n",
        "    for emp in self.employees:\n",
        "      if emp.emp_id == emp_id:\n",
        "        emp.name = name\n",
        "        return True\n",
        "    return False\n",
        "\n",
        "  def update_salary(self, emp_id, salary):\n",
        "    for employee in self.employees:\n",
        "      if employee.emp_id == emp_id:\n",
        "        employee.salary = salary\n",
        "        return True\n",
        "      return False\n",
        "\n",
        "  def update_position(self, emp_id, position):\n",
        "    for employee in self.employees:\n",
        "      if employee.emp_id == emp_id:\n",
        "        employee.position = position\n",
        "        return True\n",
        "    return False\n",
        "\n",
        "  def update_age(self, emp_id, age):\n",
        "    for employee in self.employees:\n",
        "      if employee.emp_id == emp_id:\n",
        "        employee.age = age\n",
        "        return True\n",
        "      return False\n",
        "\n",
        "  def delete_by_name(self, name):\n",
        "    all_matching_names = []\n",
        "    for employee in self.employees:\n",
        "      if employee.name == name:\n",
        "        all_matching_names.append(employee)\n",
        "    if len(all_matching_names) == 0:\n",
        "      return False\n",
        "    elif len(all_matching_names) == 1:\n",
        "      self.employees.remove(all_matching_names[0])\n",
        "      return True\n",
        "    elif len(all_matching_names) > 1:\n",
        "      print(\"Duplicate names found. Please select the ID you want to remove:\")\n",
        "      all_ids = []\n",
        "      for emps in all_matching_names:\n",
        "        print(\"ID:\", emps.emp_id)\n",
        "        all_ids.append(emps.emp_id)\n",
        "        id_to_remove = int(input(\"Please choose the ID you want to remove: \"))\n",
        "        if id_to_remove in all_ids:\n",
        "          self.employees.remove(all_matching_names[all_ids.index(id_to_remove)])\n",
        "          return True\n",
        "        else:\n",
        "          return False\n",
        "\n",
        "  def details_by_id(self, emp_id):\n",
        "    for employee in self.employees:\n",
        "      if employee.emp_id == emp_id:\n",
        "        employee.display_info()\n",
        "\n",
        "  def details_by_name(self, name):\n",
        "    for employee in self.employees:\n",
        "      if employee.name == name:\n",
        "        employee.display_info()\n",
        "\n",
        "  def details_all_employees(self):\n",
        "    print(\"Number of employees:\", len(self.employees))\n",
        "    for employee in self.employees:\n",
        "      employee.display_info()\n",
        "      print(\"====================\")\n",
        "\n",
        "\n",
        "  def write_data_to_csv(self):\n",
        "    data = []\n",
        "    for employee in self.employees:\n",
        "      data.append({\n",
        "        'Employee ID': employee.emp_id,\n",
        "        'Name': employee.name,\n",
        "        'Salary': employee.salary,\n",
        "        'Age': employee.age,\n",
        "        'Position': employee.position\n",
        "      })\n",
        "    df = pd.DataFrame(data)\n",
        "    csv_file = \"employee_data.csv\"\n",
        "\n",
        "\n",
        "    if os.path.exists(csv_file):\n",
        "      df.to_csv(csv_file, index=False)\n",
        "\n",
        "\n",
        "emp_managed_system = EmployeeManagementSystem()\n",
        "\n",
        "\n",
        "while True:\n",
        "    print(\"Please choose the option\")\n",
        "    print(\"1) Add Employee\")\n",
        "    print(\"2) Delete Employee by ID\")\n",
        "    print(\"3) Delete Employee by Name\")\n",
        "    print(\"4) Update Name by ID\")\n",
        "    print(\"5) Update Salary by ID\")\n",
        "    print(\"6) Update Job Position by ID\")\n",
        "    print(\"7) Update Age by ID\")\n",
        "    print(\"8) Get Details by ID\")\n",
        "    print(\"9) Get Details by Name\")\n",
        "    print(\"10) Print All Employees\")\n",
        "    print(\"11) Quit\")\n",
        "\n",
        "    choice = input(\"Please choose an option: \")\n",
        "\n",
        "    if choice == '1':\n",
        "      emp_id = len(emp_managed_system.employees)\n",
        "      emp_id = int(input('Please enter Employee ID:'))\n",
        "      name = input(\"Please enter Employee name: \")\n",
        "      salary = input(\"Please enter Employee salary: \")\n",
        "      age = input(\"Please enter Employee age: \")\n",
        "      position = input(\"Please enter Employee position: \")\n",
        "      emp_temp = Employee(emp_id, name, position, salary, age)\n",
        "      emp_managed_system.add_employee(emp_temp)\n",
        "      print(\"Employee added successfully.\")\n",
        "\n",
        "    elif choice == '2':\n",
        "      emp_id = int(input(\"Please enter Employee ID you want to remove: \"))\n",
        "      if emp_managed_system.remove_employee(emp_id):\n",
        "        print(\"Employee removed successfully.\")\n",
        "      else:\n",
        "        print(\"ID not found. Could not remove the employee.\")\n",
        "\n",
        "    elif choice == '3':\n",
        "      name = input(\"Please enter the name of the employee(s) you want to remove: \")\n",
        "      if emp_managed_system.delete_by_name(name):\n",
        "        print(f\"Employee(s) with the name '{name}' removed successfully.\")\n",
        "      else:\n",
        "        print(f\"No employee(s) found with the name '{name}'.\")\n",
        "\n",
        "    elif choice == '4':\n",
        "      emp_id = int(input(\"Please enter Employee ID for name update: \"))\n",
        "      new_name = input(\"Please enter the new name: \")\n",
        "      if emp_managed_system.update_name(emp_id, new_name):\n",
        "        print(\"Name updated successfully.\")\n",
        "      else:\n",
        "        print(\"Employee ID not found. Could not update the name.\")\n",
        "\n",
        "    elif choice == '5':\n",
        "      emp_id = int(input(\"Please enter Employee ID for salary update: \"))\n",
        "      new_salary = input(\"Please enter the new salary: \")\n",
        "      if emp_managed_system.update_salary(emp_id, new_salary):\n",
        "        print(\"Salary updated successfully.\")\n",
        "      else:\n",
        "        print(\"Employee ID not found. Could not update the salary.\")\n",
        "\n",
        "    elif choice == '6':\n",
        "      emp_id = int(input(\"Please enter Employee ID for job position update: \"))\n",
        "      new_position = input(\"Please enter the new job position: \")\n",
        "      if emp_managed_system.update_position(emp_id, new_position):\n",
        "        print(\"Job position updated successfully.\")\n",
        "      else:\n",
        "        print(\"Employee ID not found. Could not update the job position.\")\n",
        "\n",
        "    elif choice == '7':\n",
        "      emp_id = int(input(\"Please enter Employee ID for age update: \"))\n",
        "      new_age = input(\"Please enter the new age: \")\n",
        "      if emp_managed_system.update_age(emp_id, new_age):\n",
        "        print(\"Age updated successfully.\")\n",
        "      else:\n",
        "        print(\"Employee ID not found. Could not update the age.\")\n",
        "\n",
        "    elif choice == '8':\n",
        "      emp_id = int(input(\"Please enter Employee ID for details: \"))\n",
        "      emp_managed_system.details_by_id(emp_id)\n",
        "\n",
        "    elif choice == '9':\n",
        "      name = input(\"Please enter the name of the employee(s) you want to view: \")\n",
        "      emp_managed_system.details_by_name(name)\n",
        "\n",
        "    elif choice == '10':\n",
        "      emp_managed_system.details_all_employees()\n",
        "\n",
        "    elif choice == '11':\n",
        "      print(\"Exiting the application.\")\n",
        "      emp_managed_system.write_data_to_csv()\n",
        "      break\n",
        "\n",
        "    else:\n",
        "      print(\"Invalid choice. Please choose a valid option.\")\n"
      ],
      "metadata": {
        "colab": {
          "base_uri": "https://localhost:8080/"
        },
        "id": "dKowdpxWYRCd",
        "outputId": "fa87d512-e282-4387-d59a-81e228b0248b"
      },
      "execution_count": 38,
      "outputs": [
        {
          "output_type": "stream",
          "name": "stdout",
          "text": [
            "Please choose the option\n",
            "1) Add Employee\n",
            "2) Delete Employee by ID\n",
            "3) Delete Employee by Name\n",
            "4) Update Name by ID\n",
            "5) Update Salary by ID\n",
            "6) Update Job Position by ID\n",
            "7) Update Age by ID\n",
            "8) Get Details by ID\n",
            "9) Get Details by Name\n",
            "10) Print All Employees\n",
            "11) Quit\n",
            "Please choose an option: 1\n",
            "Please enter Employee ID:111\n",
            "Please enter Employee name: dfd\n",
            "Please enter Employee salary: 12345\n",
            "Please enter Employee age: 23\n",
            "Please enter Employee position: sdfdf\n",
            "Employee added successfully.\n",
            "Please choose the option\n",
            "1) Add Employee\n",
            "2) Delete Employee by ID\n",
            "3) Delete Employee by Name\n",
            "4) Update Name by ID\n",
            "5) Update Salary by ID\n",
            "6) Update Job Position by ID\n",
            "7) Update Age by ID\n",
            "8) Get Details by ID\n",
            "9) Get Details by Name\n",
            "10) Print All Employees\n",
            "11) Quit\n",
            "Please choose an option: 11\n",
            "Exiting the application.\n"
          ]
        }
      ]
    },
    {
      "cell_type": "code",
      "source": [
        "11\n",
        "# what needs to be done is  when user exists save data in text file,\n",
        "#and before use makes 1st choice all data should be back in list\n",
        "#1,2,3,4,5 \\n ,\n",
        "#6,7,8,9,10\n",
        "#\n",
        "#\n",
        "#"
      ],
      "metadata": {
        "id": "bFENzW2TYmoz"
      },
      "execution_count": 1,
      "outputs": []
    },
    {
      "cell_type": "code",
      "source": [
        "with open(\"demo.txt\",\"a\") as f: #writing of the text file\n",
        "  f.write(\"1\"+\"\\n\"+\"2\"+'\\n')\n",
        "  f.write(\"3\"+\"\\n\"+\"4\")\n",
        "\n",
        "\n",
        "#\"w\" :- this will always create a new file while writing\n",
        "#\"a\" :- this will attach things in same file if exsists if not create a new file\n",
        "#\"r\" :- reads the data from text file\n",
        "#\"wb\" :- writes data in non human readble form\n",
        "#\"rb\" :- reads data from non human readble form"
      ],
      "metadata": {
        "id": "X5vt4vTlYqE_"
      },
      "execution_count": 13,
      "outputs": []
    },
    {
      "cell_type": "code",
      "source": [
        "#Readinf of the text file\n",
        "\n",
        "with open('demo.txt','r') as f:\n",
        "  data = f.read()\n",
        "print(data.split('\\n')) #split function makes string comes in list."
      ],
      "metadata": {
        "colab": {
          "base_uri": "https://localhost:8080/"
        },
        "id": "HagApMLWYs_5",
        "outputId": "7917cda5-3d47-4cec-ddd2-5f5b8d6f0332"
      },
      "execution_count": 11,
      "outputs": [
        {
          "output_type": "stream",
          "name": "stdout",
          "text": [
            "['1', '23', '4']\n"
          ]
        }
      ]
    },
    {
      "cell_type": "code",
      "source": [
        "with open(\"demo.txt\",\"a\") as f:\n",
        "  #f.write(\"1\"+\"\\n\"+\"2\"+\"\\n\")\n",
        "  f.write(\"3\"+\"\\n\"+\"4\")"
      ],
      "metadata": {
        "id": "AoBvRp61aYHi"
      },
      "execution_count": 18,
      "outputs": []
    },
    {
      "cell_type": "code",
      "source": [
        "with open ('demo.txt','w') as f:\n",
        "  f.write('1'+'\\n'+'2'+'\\n')"
      ],
      "metadata": {
        "id": "9AqQ2OkRa0dq"
      },
      "execution_count": 19,
      "outputs": []
    },
    {
      "cell_type": "code",
      "source": [
        "with open ('demo.txt','a') as f:\n",
        "  f.write('3'+'\\n'+'4'+'\\n'+'5')"
      ],
      "metadata": {
        "id": "VYEN5VUDbWn7"
      },
      "execution_count": 20,
      "outputs": []
    },
    {
      "cell_type": "code",
      "source": [
        "with open('demo.txt','r') as f:\n",
        "  data = f.read()\n",
        "print(data.split('\\n'))"
      ],
      "metadata": {
        "colab": {
          "base_uri": "https://localhost:8080/"
        },
        "id": "_zkiQN0kbwoB",
        "outputId": "87962a04-e3a1-402a-843e-2f6002b693aa"
      },
      "execution_count": 21,
      "outputs": [
        {
          "output_type": "stream",
          "name": "stdout",
          "text": [
            "['1', '2', '3', '4', '5']\n"
          ]
        }
      ]
    },
    {
      "cell_type": "code",
      "source": [
        "with open('demo.txt','w') as f:\n",
        "  f.write('hello world')"
      ],
      "metadata": {
        "id": "QBzk8jSIcZLn"
      },
      "execution_count": 26,
      "outputs": []
    },
    {
      "cell_type": "code",
      "source": [
        "with open('demo.txt','a') as f:\n",
        "  f.write('\\n'+\"What's up?\")"
      ],
      "metadata": {
        "id": "SGpTpRm5dc2a"
      },
      "execution_count": 27,
      "outputs": []
    },
    {
      "cell_type": "code",
      "source": [
        "with open ('demo.txt','a') as f:\n",
        "  f.write('\\n'+\"Let's do something\")"
      ],
      "metadata": {
        "id": "-wyhwFLkdz6H"
      },
      "execution_count": 28,
      "outputs": []
    },
    {
      "cell_type": "code",
      "source": [
        "with open('demo.txt','r') as f:\n",
        "  data = f.read()\n",
        "print(data.split('\\n'))"
      ],
      "metadata": {
        "id": "xbTarMbFeMpq"
      },
      "execution_count": null,
      "outputs": []
    },
    {
      "cell_type": "code",
      "source": [],
      "metadata": {
        "id": "ZGcG0wIxCol0"
      },
      "execution_count": null,
      "outputs": []
    }
  ]
}