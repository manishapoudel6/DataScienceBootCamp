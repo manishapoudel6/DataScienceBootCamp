{
  "nbformat": 4,
  "nbformat_minor": 0,
  "metadata": {
    "colab": {
      "provenance": []
    },
    "kernelspec": {
      "name": "python3",
      "display_name": "Python 3"
    },
    "language_info": {
      "name": "python"
    }
  },
  "cells": [
    {
      "cell_type": "code",
      "source": [
        "import pandas as pd\n",
        "import os"
      ],
      "metadata": {
        "id": "cOVdSp2KrSQ2"
      },
      "execution_count": null,
      "outputs": []
    },
    {
      "cell_type": "code",
      "execution_count": null,
      "metadata": {
        "id": "46jsU14srHQd"
      },
      "outputs": [],
      "source": [
        "class Employee:\n",
        "  def __init__(self, emp_id, name, position, salary,age):\n",
        "    self.emp_id = emp_id\n",
        "    self.name = name\n",
        "    self.position = position\n",
        "    self.salary = salary\n",
        "    self.age = age\n",
        "\n",
        "  def display_info(self):\n",
        "    print(\"Employee ID\", self.emp_id)\n",
        "    print(\"Name\", self.name)\n",
        "    print(\"Position\", self.position)\n",
        "    print(\"Salary\", self.salary)\n",
        "    print(\"Age\", self.age)\n",
        "\n",
        "class EmployeeManagementSystem:\n",
        "  def __init__(self):\n",
        "    self.employees = []\n",
        "\n",
        "  def add_employee(self, emp):\n",
        "    self.employees.append(emp)\n",
        "\n",
        "  def remove_employee(self, emp_id):\n",
        "    for emp in self.employees:\n",
        "      if emp.emp_id == emp_id:\n",
        "        self.employees.remove(emp)\n",
        "        return True\n",
        "    return False\n",
        "\n",
        "  def update_name(self,emp_id,name):\n",
        "    for emp in self.employees:\n",
        "      if emp.emp_id == emp_id:\n",
        "        emp.name= name\n",
        "        return True\n",
        "    return False\n",
        "\n",
        "  def update_salary(self,emp_id,salary):\n",
        "    for employee in self.employees:\n",
        "      if employee.emp_id == emp_id:\n",
        "        employee.salary= salary\n",
        "        return True\n",
        "    return False\n",
        "\n",
        "  def update_position(self,emp_id,position):\n",
        "    for employee in self.employees:\n",
        "      if employee.emp_id == emp_id:\n",
        "        employee.position= position\n",
        "        return True\n",
        "    return False\n",
        "\n",
        "  def update_age(self,emp_id,age):\n",
        "    for employee in self.employees:\n",
        "      if employee.emp_id == emp_id:\n",
        "        employee.age= age\n",
        "        return True\n",
        "    return False\n",
        "\n",
        "  def delete_by_name(self,name):\n",
        "    all_matching_names=[]\n",
        "    for employee in self.employees:\n",
        "      if employee.name == name:\n",
        "        all_matching_names.append(employee)\n",
        "    if len(all_matching_names)==0:\n",
        "      return False\n",
        "    elif len(all_matching_names)==1:\n",
        "      self.employees.remove(all_matching_names[0])\n",
        "      return True\n",
        "    elif len(all_matching_names)>1:\n",
        "      print(\"Duplicate names found please select the id you want to remove\")\n",
        "      all_ids=[]\n",
        "      for emps in all_matching_names:\n",
        "        print(\"ID :- \",emps.emp_id)\n",
        "        all_ids.append(emps.emp_id)\n",
        "      id_to_remove=int(input(\"Please choose the id you want to remove :- \"))\n",
        "      if id_to_remove in all_ids:\n",
        "        self.employees.remove(all_matching_names[all_ids.index(id_to_remove)])\n",
        "        return True\n",
        "      else:\n",
        "        return False\n",
        "\n",
        "  def details_by_id(self,emp_id):\n",
        "    for employee in self.employees:\n",
        "      if employee.emp_id == emp_id:\n",
        "        employee.display_info()\n",
        "\n",
        "  def details_by_name(self,name):\n",
        "    for employee in self.employees:\n",
        "      if employee.name == name:\n",
        "        employee.display_info()\n",
        "\n",
        "  def details_all_employees(self):\n",
        "    print(\"Check length\",len(self.employees))\n",
        "    for employee in self.employees:\n",
        "        employee.display_info()\n",
        "        print(\"====================\")\n",
        "# 2d list\n",
        "# [[],[],[],[]]\n",
        "  def write_data(self):\n",
        "    all_data=[]\n",
        "    for employee in self.employees:\n",
        "      all_data.append([employee.emp_id,employee.name,employee.position,employee.salary,employee.age])\n",
        "    df=pd.DataFrame(all_data,columns=['id','name','position','salary','age'])\n",
        "    df.to_csv(\"employee_data.csv\",index=False)"
      ]
    },
    {
      "cell_type": "code",
      "source": [
        "emp_managed_system=EmployeeManagementSystem()\n",
        "if os.path.exists(\"employee_data.csv\"):\n",
        "  df=pd.read_csv(\"employee_data.csv\")\n",
        "  for k in range(df.shape[0]): #range(len(df))\n",
        "    id=df['id'].iloc[k]\n",
        "    name=df['name'].iloc[k]\n",
        "    position=df['position'].iloc[k]\n",
        "    salary=df['salary'].iloc[k]\n",
        "    age=df['age'].iloc[k]\n",
        "    emp_temp=Employee(id,name,position,salary,age)\n",
        "    emp_managed_system.add_employee(emp_temp)\n",
        "\n",
        "while True:\n",
        "  print(\"Please choose the option\")\n",
        "  print(\"1) Add Employee\")\n",
        "  print(\"2) Delete Employee by ID\")\n",
        "  print(\"3) Delete Employee by Name\")\n",
        "  print(\"4) All details\")\n",
        "  print(\"5) exit\")\n",
        "  choice=input(\"Please choose an option \")\n",
        "  if choice=='1':\n",
        "    name=choice=input(\"Please enter Employee name \")\n",
        "    salary=choice=input(\"Please enter Employee salary \")\n",
        "    age=choice=input(\"Please enter Employee age \")\n",
        "    position=choice=input(\"Please enter Employee position \")\n",
        "    id=len(emp_managed_system.employees)\n",
        "    emp_temp=Employee(id,name,position,salary,age)\n",
        "    emp_managed_system.add_employee(emp_temp)\n",
        "  if choice=='2':\n",
        "    id=int(input(\"Please enter Employee id you want to remove \"))\n",
        "    if emp_managed_system.remove_employee(id):\n",
        "      print(\"Employee Removed Successfully\")\n",
        "    else:\n",
        "      print(\"Id not found could not remove the employee\")\n",
        "\n",
        "  elif choice=='4':\n",
        "    emp_managed_system.details_all_employees()\n",
        "\n",
        "  elif choice=='5':\n",
        "    print(\"Bye!\")\n",
        "    emp_managed_system.write_data()\n",
        "    break"
      ],
      "metadata": {
        "colab": {
          "base_uri": "https://localhost:8080/"
        },
        "id": "5FnogqlKrPt4",
        "outputId": "10bde24a-b1d7-4a60-8ccc-3d82ebf14511"
      },
      "execution_count": null,
      "outputs": [
        {
          "output_type": "stream",
          "name": "stdout",
          "text": [
            "Please choose the option\n",
            "1) Add Employee\n",
            "2) Delete Employee by ID\n",
            "3) Delete Employee by Name\n",
            "4) All details\n",
            "5) exit\n",
            "Please choose an option 1\n",
            "Please enter Employee name gggg\n",
            "Please enter Employee salary 70000\n",
            "Please enter Employee age 65\n",
            "Please enter Employee position software engineer\n",
            "Please choose the option\n",
            "1) Add Employee\n",
            "2) Delete Employee by ID\n",
            "3) Delete Employee by Name\n",
            "4) All details\n",
            "5) exit\n",
            "Please choose an option 5\n",
            "Bye!\n"
          ]
        }
      ]
    },
    {
      "cell_type": "code",
      "source": [
        "df=pd.read_csv(\"employee_data.csv\")\n",
        "for k in range(df.shape[0]): #range(len(df))\n",
        "  print(df.iloc[k,2])\n",
        "  print(df['position'].iloc[k])\n",
        "  print(\"==========================\")"
      ],
      "metadata": {
        "colab": {
          "base_uri": "https://localhost:8080/"
        },
        "id": "j5rbPh-cuWvx",
        "outputId": "ed97f6e2-1fe6-4970-aa47-fa376d7758b2"
      },
      "execution_count": null,
      "outputs": [
        {
          "output_type": "stream",
          "name": "stdout",
          "text": [
            "data science\n",
            "data science\n",
            "==========================\n",
            "data engineer\n",
            "data engineer\n",
            "==========================\n"
          ]
        }
      ]
    },
    {
      "cell_type": "code",
      "source": [
        "a=[[1,2,3,4,5],[6,7,8,9,10]]\n",
        "for k in range(len(a)):\n",
        "  print(a[k][1])\n",
        "  print(\"=============\")"
      ],
      "metadata": {
        "colab": {
          "base_uri": "https://localhost:8080/"
        },
        "id": "bRvwA-JWwgd7",
        "outputId": "48330f03-25f7-49c0-ebc0-73c528b29201"
      },
      "execution_count": null,
      "outputs": [
        {
          "output_type": "stream",
          "name": "stdout",
          "text": [
            "2\n",
            "=============\n",
            "7\n",
            "=============\n"
          ]
        }
      ]
    }
  ]
}