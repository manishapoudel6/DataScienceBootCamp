{
  "nbformat": 4,
  "nbformat_minor": 0,
  "metadata": {
    "colab": {
      "provenance": []
    },
    "kernelspec": {
      "name": "python3",
      "display_name": "Python 3"
    },
    "language_info": {
      "name": "python"
    }
  },
  "cells": [
    {
      "cell_type": "markdown",
      "source": [
        "1) Swap two numbers using 3rd variable"
      ],
      "metadata": {
        "id": "V8TDYRPi_ann"
      }
    },
    {
      "cell_type": "code",
      "source": [
        "#We swap two numbers by storing the value of one number in a thirdmvariable,\n",
        "# Assign the value of the second number to the first number,\n",
        "# and then assigning the value stored in the third variable to the second number.\n",
        "\n",
        "num1 = int(input('Enter the first number num1:-'))\n",
        "num2 = int(input('Enter the second number num2:-'))\n",
        "\n",
        "print('Original value of num1:-', num1 ,'and num2:-',num2)\n",
        "\n",
        "third_var = 0\n",
        "\n",
        "if num1 != num2:\n",
        "  third_var = num1\n",
        "  num1 = num2\n",
        "  num2 = third_var\n",
        "\n",
        "print('Swapped numbers of num1:-',num1, 'and num2:-', num2)\n",
        "\n"
      ],
      "metadata": {
        "colab": {
          "base_uri": "https://localhost:8080/"
        },
        "id": "Y7Lrnsyr_gxx",
        "outputId": "d1f8812d-b2f9-4ec1-fb27-20e6ed8eb32b"
      },
      "execution_count": 1,
      "outputs": [
        {
          "output_type": "stream",
          "name": "stdout",
          "text": [
            "Enter the first number num1:-6\n",
            "Enter the second number num2:-2\n",
            "Original value of num1:- 6 and num2:- 2\n",
            "Swapped numbers of num1:- 2 and num2:- 6\n"
          ]
        }
      ]
    },
    {
      "cell_type": "markdown",
      "source": [
        "2) Swap two numbers without using 3rd variable.\n"
      ],
      "metadata": {
        "id": "fxZubDMSEiGs"
      }
    },
    {
      "cell_type": "code",
      "source": [
        "#add both numbers and store the result in the first one.\n",
        "#Next subtract the second variable from the first one and save the result for the second one.\n",
        "\n",
        "num1 = int(input('Enter the first number num1:-'))\n",
        "num2 = int(input('Enter the second number num2:-'))\n",
        "\n",
        "print('Original value of num1:-', num1 ,'and num2:-',num2)\n",
        "\n",
        "if num1 != num2:\n",
        "  num1 = num1 + num2\n",
        "  num2 = num1 - num2\n",
        "  num1 = num1 - num2\n",
        "\n",
        "\n",
        "  print('Swapped numbers of num1:-',num1, 'and num2:-', num2)\n"
      ],
      "metadata": {
        "colab": {
          "base_uri": "https://localhost:8080/"
        },
        "id": "2-EWJl4LEaDX",
        "outputId": "538bc155-800b-44e6-ab29-b2f383fd8027"
      },
      "execution_count": 2,
      "outputs": [
        {
          "output_type": "stream",
          "name": "stdout",
          "text": [
            "Enter the first number num1:-6\n",
            "Enter the second number num2:-7\n",
            "Original value of num1:- 6 and num2:- 7\n",
            "Swapped numbers of num1:- 7 and num2:- 6\n"
          ]
        }
      ]
    },
    {
      "cell_type": "markdown",
      "source": [
        "3) Remove duplicate elements from a list without converting to tuple"
      ],
      "metadata": {
        "id": "1SlwA7KmHz4m"
      }
    },
    {
      "cell_type": "code",
      "source": [
        "# using set() to remove duplicated from list\n",
        "lst1 = [1,1,2,3,4,5,5,6,7,8,11,56,33,11,5,7,33]\n",
        "print('Original list before removing:-', lst1)\n",
        "\n",
        "lst1 = list(set(lst1))\n",
        "\n",
        "print('After removing duplicate elements from the list', lst1)\n",
        "\n"
      ],
      "metadata": {
        "colab": {
          "base_uri": "https://localhost:8080/"
        },
        "id": "Ku3uNFx8Dsh0",
        "outputId": "feac7dd0-d4dc-4988-8e6c-186c0d342b74"
      },
      "execution_count": 3,
      "outputs": [
        {
          "output_type": "stream",
          "name": "stdout",
          "text": [
            "Original list before removing:- [1, 1, 2, 3, 4, 5, 5, 6, 7, 8, 11, 56, 33, 11, 5, 7, 33]\n",
            "After removing duplicate elements from the list [1, 2, 3, 4, 5, 6, 7, 8, 33, 11, 56]\n"
          ]
        }
      ]
    },
    {
      "cell_type": "markdown",
      "source": [
        "4) Write a program to find greatest common divisor (GCD) or highest common factor (HCF) of given two numbers"
      ],
      "metadata": {
        "id": "P67-bRxVKk1_"
      }
    },
    {
      "cell_type": "code",
      "source": [
        "\n",
        "num1 = int(input('Enter first number:-'))\n",
        "num2 = int(input('Enter Second number:-'))\n",
        "\n",
        "def greatest_common_divisor(num1, num2):\n",
        "  for i in range(1, min(num1,num2)+1):\n",
        "    if num1 % i == 0 and num2 % i == 0:\n",
        "      common_divisor = i\n",
        "  return common_divisor\n",
        "\n",
        "result = greatest_common_divisor(num1, num2)\n",
        "print('The greatest common divisor of', num1,'and', num2, 'is:-', result)\n",
        "\n",
        "\n"
      ],
      "metadata": {
        "colab": {
          "base_uri": "https://localhost:8080/"
        },
        "id": "am-nCEAFKhSd",
        "outputId": "1a271c60-d69c-4221-f7dd-ac08d45e9557"
      },
      "execution_count": 4,
      "outputs": [
        {
          "output_type": "stream",
          "name": "stdout",
          "text": [
            "Enter first number:-24\n",
            "Enter Second number:-32\n",
            "The greatest common divisor of 24 and 32 is:- 8\n"
          ]
        }
      ]
    },
    {
      "cell_type": "markdown",
      "source": [
        "5) Write a loop to print following series:-\n",
        "10, 20, 30,  …………………, 300"
      ],
      "metadata": {
        "id": "H1GW8auPs52S"
      }
    },
    {
      "cell_type": "code",
      "source": [
        "n = 10\n",
        "k = 0\n",
        "series = []\n",
        "\n",
        "def print_series (k):\n",
        "  for i in range(1,31):\n",
        "    k = n * i\n",
        "    series.append(k)\n",
        "  return series\n",
        "\n",
        "def show_series(k):\n",
        "  series = print_series(k)\n",
        "  return ','.join(map(str, series))\n",
        "\n",
        "result = show_series(k)\n",
        "print(result)\n",
        "\n"
      ],
      "metadata": {
        "colab": {
          "base_uri": "https://localhost:8080/"
        },
        "id": "daJQkM5jsmI2",
        "outputId": "378c901a-cc8f-49a6-8f44-79e394b310bf"
      },
      "execution_count": 5,
      "outputs": [
        {
          "output_type": "stream",
          "name": "stdout",
          "text": [
            "10,20,30,40,50,60,70,80,90,100,110,120,130,140,150,160,170,180,190,200,210,220,230,240,250,260,270,280,290,300\n"
          ]
        }
      ]
    },
    {
      "cell_type": "code",
      "source": [
        "nums = [10, 20, 30, 300]\n",
        "\n",
        "for i in range(len(nums)):\n",
        "  num = nums[i]\n",
        "  separator = \", \"\n",
        "  if num == 10:\n",
        "    print(num,  end=separator)\n",
        "  elif num == 20:\n",
        "    print(num, end = separator)\n",
        "  elif num == 30:\n",
        "    print(num , end = separator)\n",
        "  else:\n",
        "    print('............,', num)\n",
        "\n"
      ],
      "metadata": {
        "colab": {
          "base_uri": "https://localhost:8080/"
        },
        "id": "uTAdzkWV18oL",
        "outputId": "71ebd1f3-01b5-439a-9cc0-bfe09c077591"
      },
      "execution_count": 6,
      "outputs": [
        {
          "output_type": "stream",
          "name": "stdout",
          "text": [
            "10, 20, 30, ............, 300\n"
          ]
        }
      ]
    },
    {
      "cell_type": "markdown",
      "source": [
        "6) Write a loop to print following series\n",
        "105,98,91,………………………,7\n"
      ],
      "metadata": {
        "id": "1CrfyR1a4MTU"
      }
    },
    {
      "cell_type": "code",
      "source": [
        "n = 7\n",
        "series = []\n",
        "\n",
        "\n",
        "def print_series (k):\n",
        "  for i in range(15,0,-1):\n",
        "    k = n * i\n",
        "    series.append(k)\n",
        "    k += 1\n",
        "  return series\n",
        "\n",
        "def show_series(k):\n",
        "  series = print_series(k)\n",
        "  return ','.join(map(str, series))\n",
        "\n",
        "k = 1\n",
        "\n",
        "\n",
        "answer = show_series(k)\n",
        "print(answer)\n"
      ],
      "metadata": {
        "colab": {
          "base_uri": "https://localhost:8080/"
        },
        "id": "AN_s-xsq2woJ",
        "outputId": "da72c5e5-ba1e-45d2-d4d3-743f5e4c41f5"
      },
      "execution_count": 7,
      "outputs": [
        {
          "output_type": "stream",
          "name": "stdout",
          "text": [
            "105,98,91,84,77,70,63,56,49,42,35,28,21,14,7\n"
          ]
        }
      ]
    },
    {
      "cell_type": "code",
      "source": [
        "n = 105\n",
        "\n",
        "while n > 7:\n",
        "    print(n, end=\", \")\n",
        "    n -= 7\n",
        "\n",
        "print(\"7\")\n"
      ],
      "metadata": {
        "colab": {
          "base_uri": "https://localhost:8080/"
        },
        "id": "teO7MHB_dTl3",
        "outputId": "00f6cbc1-95e9-49ab-cdc0-54501b18b1b1"
      },
      "execution_count": 3,
      "outputs": [
        {
          "output_type": "stream",
          "name": "stdout",
          "text": [
            "105, 98, 91, 84, 77, 70, 63, 56, 49, 42, 35, 28, 21, 14, 7\n"
          ]
        }
      ]
    },
    {
      "cell_type": "markdown",
      "source": [
        "7) Write a program to print number names of digits in a number like\n",
        "\n",
        "SAMPLE INPUT 231 \t\tSAMPLE OUTPUT TWO THREE ONE"
      ],
      "metadata": {
        "id": "0Dunx8eKZluZ"
      }
    },
    {
      "cell_type": "code",
      "source": [
        "name_for_digit ={'0':'Zero',\n",
        "                 '1':'One',\n",
        "                 '2': 'TWO',\n",
        "                 '3': 'THREE',\n",
        "                 '4': 'FOUR',\n",
        "                 '5': 'FIVE',\n",
        "                 '6': 'SIX',\n",
        "                 '7': 'SEVEN',\n",
        "                 '8': 'EIGHT',\n",
        "                 '9': 'NINE'\n",
        "}\n",
        "num = input('Enter a number:-')\n",
        "\n",
        "result =''\n",
        "for digit in num:\n",
        "  result += name_for_digit[digit] + ''\n",
        "\n",
        "print('Number in words:', result.strip())"
      ],
      "metadata": {
        "colab": {
          "base_uri": "https://localhost:8080/"
        },
        "id": "QF4xcGDDZWtm",
        "outputId": "3aafbb02-823a-4404-d31a-8668fbcaa8ae"
      },
      "execution_count": 4,
      "outputs": [
        {
          "output_type": "stream",
          "name": "stdout",
          "text": [
            "Enter a number:-6\n",
            "Number in words: SIX\n"
          ]
        }
      ]
    },
    {
      "cell_type": "markdown",
      "source": [
        "8. Write a program to print Fibonacci series till n terms take n =50"
      ],
      "metadata": {
        "id": "sJfw-yVnxew3"
      }
    },
    {
      "cell_type": "code",
      "source": [
        "n = 50\n",
        "\n",
        "a = 0\n",
        "b = 1\n",
        "print(a, b, end=' ')\n",
        "for i in range(n):\n",
        "  c = a + b\n",
        "  print(c, end=' ')\n",
        "  a = b\n",
        "  b = c"
      ],
      "metadata": {
        "colab": {
          "base_uri": "https://localhost:8080/"
        },
        "id": "BxrCJRwGdJTY",
        "outputId": "9678b9a7-b096-47ba-f31a-2e04f0920065"
      },
      "execution_count": 3,
      "outputs": [
        {
          "output_type": "stream",
          "name": "stdout",
          "text": [
            "0 1 1 2 3 5 8 13 21 34 55 89 144 233 377 610 987 1597 2584 4181 6765 10946 17711 28657 46368 75025 121393 196418 317811 514229 832040 1346269 2178309 3524578 5702887 9227465 14930352 24157817 39088169 63245986 102334155 165580141 267914296 433494437 701408733 1134903170 1836311903 2971215073 4807526976 7778742049 12586269025 20365011074 "
          ]
        }
      ]
    },
    {
      "cell_type": "markdown",
      "source": [
        "9. Write a program to print factorial of a number"
      ],
      "metadata": {
        "id": "vbOQ8LeORQwU"
      }
    },
    {
      "cell_type": "code",
      "source": [
        "n=int(input(\"Enter the Number for factorial\"))\n",
        "def factorial(num):\n",
        "  factorial = 1\n",
        "  while num > 1:\n",
        "    factorial *= num\n",
        "    num -= 1\n",
        "  return factorial\n",
        "\n",
        "facts = factorial(n)\n",
        "print(f\"The factorial of {n} is: {facts}\")"
      ],
      "metadata": {
        "colab": {
          "base_uri": "https://localhost:8080/"
        },
        "id": "jmdocA1UyuQ4",
        "outputId": "f2830452-8a60-4c90-f286-57d4b454bb52"
      },
      "execution_count": 18,
      "outputs": [
        {
          "output_type": "stream",
          "name": "stdout",
          "text": [
            "Enter the Number for factorial6\n",
            "The factorial of 6 is: 720\n"
          ]
        }
      ]
    },
    {
      "cell_type": "markdown",
      "source": [
        "10. Write a program to check if a number is Armstrong or not"
      ],
      "metadata": {
        "id": "cxKKc_zyzv1N"
      }
    },
    {
      "cell_type": "code",
      "source": [
        "def armstrong_number(number):\n",
        "  num_str = str(number) #Converting the number to astring to count its digits.\n",
        "  num_digits = len(num_str) #Calculate the number of digits\n",
        "  sum_of_digits = 0 #Initializing a variable to store the sum of digits.\n",
        "\n",
        "  for digit_str in num_str: #Iterating through each digit in the number\n",
        "    digit = int(digit_str)\n",
        "    sum_of_digits += digit ** num_digits\n",
        "\n",
        "  if sum_of_digits == number: #Check if the sum of digits is equal to the original number\n",
        "    return True\n",
        "  else:\n",
        "    return False\n",
        "\n",
        "num = int(input('Enter a number:-'))\n",
        "\n",
        "if armstrong_number(num): #Check if it is an Armstrong number.\n",
        "  print(num, 'is an Armstrong number.')\n",
        "else:\n",
        "  print(num, 'is not an Armstrong number.')\n",
        "\n"
      ],
      "metadata": {
        "colab": {
          "base_uri": "https://localhost:8080/"
        },
        "id": "1rl41NsPdyUE",
        "outputId": "09af6c9f-09c0-4937-9242-1bb27c0e49a6"
      },
      "execution_count": 23,
      "outputs": [
        {
          "output_type": "stream",
          "name": "stdout",
          "text": [
            "Enter a number:-123\n",
            "123 is not an Armstrong number.\n"
          ]
        }
      ]
    },
    {
      "cell_type": "markdown",
      "source": [
        "11.  Write a program to convert binary to decimal"
      ],
      "metadata": {
        "id": "XSkCtbz33z0M"
      }
    },
    {
      "cell_type": "code",
      "source": [
        "binary_strng = input('Enter a binary number:-')\n",
        "decimal_num = 0\n",
        "pos = len(binary_strng)-1\n",
        "\n",
        "for digit in binary_strng:\n",
        "  if digit == '1':\n",
        "    decimal_num += 2 ** pos\n",
        "  pos -= 1\n",
        "\n",
        "print('Decimal number of', binary_strng, 'is',decimal_num,'.')"
      ],
      "metadata": {
        "colab": {
          "base_uri": "https://localhost:8080/"
        },
        "id": "czpi4FEfjuyE",
        "outputId": "ead528b5-ad5b-4d65-f9d3-a577efdfad77"
      },
      "execution_count": 44,
      "outputs": [
        {
          "output_type": "stream",
          "name": "stdout",
          "text": [
            "Enter a binary number:-10110101010\n",
            "Decimal number of 10110101010 is 1450 .\n"
          ]
        }
      ]
    },
    {
      "cell_type": "markdown",
      "source": [
        "12. Write a program to convert decimal to binary"
      ],
      "metadata": {
        "id": "OLv_hEg1t-6D"
      }
    },
    {
      "cell_type": "code",
      "source": [
        "decimal_strng= int(input('Enter a decimal number:-'))\n",
        "binary_num = []\n",
        "\n",
        "if decimal_strng == 0:\n",
        "  binary_num.append(0)\n",
        "else:\n",
        "  while decimal_strng > 0:\n",
        "    reminder = decimal_strng % 2\n",
        "    binary_num.append(reminder)\n",
        "    decimal_strng = decimal_strng//2\n",
        "\n",
        "binary_num.reverse()\n",
        "binary_num = ''.join(map(str, binary_num))\n",
        "print('The binary digits is:-',binary_num)\n"
      ],
      "metadata": {
        "colab": {
          "base_uri": "https://localhost:8080/"
        },
        "id": "biqITQKFuNf0",
        "outputId": "b60a5ca9-15c9-4831-f833-17610ed6d97b"
      },
      "execution_count": 61,
      "outputs": [
        {
          "output_type": "stream",
          "name": "stdout",
          "text": [
            "Enter a decimal number:-56\n",
            "The binary digits is:- 111000\n"
          ]
        }
      ]
    },
    {
      "cell_type": "markdown",
      "source": [
        "13. Write a program to check if number is palindrome on not (Without converting to string)"
      ],
      "metadata": {
        "id": "bq4VAp2jlNWt"
      }
    },
    {
      "cell_type": "code",
      "source": [
        "def if_palindrome(num):\n",
        "  org_num = num\n",
        "  rev_num = 0 #Initalizing a variable to store the reversed number\n",
        "\n",
        "  while num > 0:\n",
        "    digit = num % 10 # Get the last digit of the number\n",
        "    rev_num = rev_num * 10 + digit\n",
        "    num = num // 10 #Removing the last digit from the number\n",
        "\n",
        "  if org_num == rev_num:\n",
        "    return True\n",
        "  else:\n",
        "    return False\n",
        "\n",
        "num = int(input('Enter a number:-'))\n",
        "\n",
        "if if_palindrome(num):\n",
        "  print(num, 'is a palindrome.')\n",
        "else:\n",
        "  print(num, 'is not a palindrome.')\n",
        "\n"
      ],
      "metadata": {
        "colab": {
          "base_uri": "https://localhost:8080/"
        },
        "id": "RC5xiawvil8n",
        "outputId": "bc3fb8af-ac20-43e3-d233-4a9cdc5918e8"
      },
      "execution_count": 49,
      "outputs": [
        {
          "output_type": "stream",
          "name": "stdout",
          "text": [
            "Enter a number:-121\n",
            "121 is a palindrome.\n"
          ]
        }
      ]
    },
    {
      "cell_type": "markdown",
      "source": [
        "14. Write a program to print all numbers which are divisible by 13 but not by 3 between 100 and 500"
      ],
      "metadata": {
        "id": "Ae0gSsYOoL0E"
      }
    },
    {
      "cell_type": "code",
      "source": [
        "number =[]\n",
        "for i in range(100,501):\n",
        "  if i % 13 == 0 and i % 3 != 0:\n",
        "    number.append(i)\n",
        "\n",
        "for num in number:\n",
        "  print(num)\n",
        "\n",
        "\n"
      ],
      "metadata": {
        "colab": {
          "base_uri": "https://localhost:8080/"
        },
        "id": "QcnIxgH7mX6Z",
        "outputId": "661e6f5f-4bb6-4e7a-b0ce-038888af4608"
      },
      "execution_count": 59,
      "outputs": [
        {
          "output_type": "stream",
          "name": "stdout",
          "text": [
            "104\n",
            "130\n",
            "143\n",
            "169\n",
            "182\n",
            "208\n",
            "221\n",
            "247\n",
            "260\n",
            "286\n",
            "299\n",
            "325\n",
            "338\n",
            "364\n",
            "377\n",
            "403\n",
            "416\n",
            "442\n",
            "455\n",
            "481\n",
            "494\n"
          ]
        }
      ]
    },
    {
      "cell_type": "markdown",
      "source": [
        "15. Write a Python program to convert temperatures to and from Celsius and Fahrenheit."
      ],
      "metadata": {
        "id": "CsQtYRsctdvw"
      }
    },
    {
      "cell_type": "code",
      "source": [
        "def C_to_F(celsius):\n",
        "  fahrenheit = (celsius * 9/5) + 32\n",
        "  return fahrenheit\n",
        "\n",
        "def F_to_C(fahrenheit):\n",
        "  celsius =  (fahrenheit - 32) * 5/9\n",
        "  return celsius\n",
        "\n",
        "while True:\n",
        "  print('1. Convert Celsius to Fahrenheit')\n",
        "  print('2. Convert Fahrenheit to Celsius')\n",
        "  print('3. Quit')\n",
        "\n",
        "  choice = int(input('Enter your choice (1/2/3):'))\n",
        "\n",
        "  if choice == 1:\n",
        "    celsius = float(input('Enter temperature in Celsius:-'))\n",
        "    fahrenheit = C_to_F(celsius)\n",
        "    print(celsius,'°C is equal to',fahrenheit,'°F.')\n",
        "\n",
        "  elif choice == 2:\n",
        "    fahrenheit = float(input('Enter tempreture in Fahrenheit:-'))\n",
        "    celsius = F_to_C(fahrenheit)\n",
        "    print(fahrenheit,'°F is equal to', celsius,'°C.')\n",
        "\n",
        "  elif choice == 3:\n",
        "    print('Quit! GoodBye!')\n",
        "    break\n",
        "  else:\n",
        "    print('Invalid choice!')\n",
        "\n",
        "\n"
      ],
      "metadata": {
        "colab": {
          "base_uri": "https://localhost:8080/"
        },
        "id": "BuV8eUF0rsbd",
        "outputId": "c289c9c9-7a82-4d0c-f0f0-1663a5b894e6"
      },
      "execution_count": 63,
      "outputs": [
        {
          "output_type": "stream",
          "name": "stdout",
          "text": [
            "1. Convert Celsius to Fahrenheit\n",
            "2. Convert Fahrenheit to Celsius\n",
            "3. Quit\n",
            "Enter your choice (1/2/3):2\n",
            "Enter tempreture in Fahrenheit:-159\n",
            "159.0 °F is equal to 70.55555555555556 °C.\n",
            "1. Convert Celsius to Fahrenheit\n",
            "2. Convert Fahrenheit to Celsius\n",
            "3. Quit\n",
            "Enter your choice (1/2/3):3\n",
            "Quit! GoodBye!\n"
          ]
        }
      ]
    },
    {
      "cell_type": "markdown",
      "source": [
        "16. Write a Python program that takes two digits m (row) and n (column) as input and generates a two-dimensional array. The element value in the i-th row and j-th column of the array should be i*j. else it will be 0"
      ],
      "metadata": {
        "id": "8PQlFiYe1Ni1"
      }
    },
    {
      "cell_type": "code",
      "source": [
        "import numpy as np\n",
        "\n",
        "def generate_array(m, n):\n",
        "  result = np.zeros((m, n), dtype=int)\n",
        "  for i in range(m):\n",
        "    for j in range(n):\n",
        "      result[i][j] = i * j\n",
        "\n",
        "  return result\n",
        "\n",
        "m = int(input(\"Enter the number of rows (m): \"))\n",
        "n = int(input(\"Enter the number of columns (n): \"))\n",
        "\n",
        "result_array = generate_array(m, n)\n",
        "print(result_array)\n"
      ],
      "metadata": {
        "colab": {
          "base_uri": "https://localhost:8080/"
        },
        "id": "LX2dQLLTM_Id",
        "outputId": "780c7a83-da8f-471c-a4e9-0ad6748c086c"
      },
      "execution_count": 6,
      "outputs": [
        {
          "output_type": "stream",
          "name": "stdout",
          "text": [
            "Enter the number of rows (m): 6\n",
            "Enter the number of columns (n): 6\n",
            "[[ 0  0  0  0  0  0]\n",
            " [ 0  1  2  3  4  5]\n",
            " [ 0  2  4  6  8 10]\n",
            " [ 0  3  6  9 12 15]\n",
            " [ 0  4  8 12 16 20]\n",
            " [ 0  5 10 15 20 25]]\n"
          ]
        }
      ]
    },
    {
      "cell_type": "markdown",
      "source": [
        "17. Write a Python program that accepts a string and calculates the number of digits and letters.\n",
        "Sample Data: Python 3.2\n",
        "Expected Output:\n",
        "Letters 6\n",
        "Digits 2\n"
      ],
      "metadata": {
        "id": "uS37cxr1eYVL"
      }
    },
    {
      "cell_type": "code",
      "source": [
        "string = input('Enter a string:-')\n",
        "letter_count = 0\n",
        "digit_count = 0\n",
        "\n",
        "for letters in string:\n",
        "  if 'a' <= letters <= 'z' or 'A' <= letters <= 'Z': #checking if the character is in betn a-z or A-Z.\n",
        "    letter_count += 1\n",
        "  elif '0' <= letters <= '9': #checking if num is in betn 0-9.\n",
        "    digit_count += 1\n",
        "\n",
        "print('Letters count is', letter_count)\n",
        "print('Digits count is', digit_count)\n"
      ],
      "metadata": {
        "colab": {
          "base_uri": "https://localhost:8080/"
        },
        "id": "mDB0y5ySdUjV",
        "outputId": "264c86ff-8ce7-481e-bf6e-c4f7d26ac569"
      },
      "execution_count": 5,
      "outputs": [
        {
          "output_type": "stream",
          "name": "stdout",
          "text": [
            "Enter a string:-2ne1\n",
            "Letters count is 2\n",
            "Digits count is 2\n"
          ]
        }
      ]
    },
    {
      "cell_type": "markdown",
      "source": [
        "18. Print all possible combination for a string or a word\n",
        "Sample input “ABC”\n",
        "Sample output\n",
        "BAC\n",
        "CAB\n",
        "CBA\n",
        "ACB\n",
        "BCA\n"
      ],
      "metadata": {
        "id": "Zk2JfWN9zWEe"
      }
    },
    {
      "cell_type": "code",
      "source": [
        "def for_combinations(string, current_combination = ' '):\n",
        "  if len(string) == 0:\n",
        "    print(current_combination)\n",
        "  else:\n",
        "    for i in range(len(string)):\n",
        "      remaining = string[:i] + string[i+1:]\n",
        "      for_combinations(remaining, current_combination + string[i])\n",
        "\n",
        "string = input('Enter a string:')\n",
        "for_combinations(string)"
      ],
      "metadata": {
        "colab": {
          "base_uri": "https://localhost:8080/"
        },
        "id": "l8ugR8jNzbCh",
        "outputId": "0e77bb78-5e89-45d7-8dfa-b89a9a39d311"
      },
      "execution_count": 7,
      "outputs": [
        {
          "output_type": "stream",
          "name": "stdout",
          "text": [
            "Enter a string:cr7\n",
            " cr7\n",
            " c7r\n",
            " rc7\n",
            " r7c\n",
            " 7cr\n",
            " 7rc\n"
          ]
        }
      ]
    },
    {
      "cell_type": "markdown",
      "source": [
        "\n",
        "19.  Write a Python program to check if a triangle is equilateral, isosceles or scalene. Take 3 inputs for each side\n",
        "\n",
        "Note :\n",
        "An equilateral triangle is a triangle in which all three sides are equal.\n",
        "A scalene triangle is a triangle that has three unequal sides.\n",
        "An isosceles triangle is a triangle with (at least) two equal sides.\n"
      ],
      "metadata": {
        "id": "abqofvDne2VJ"
      }
    },
    {
      "cell_type": "code",
      "source": [
        "side1 = float(input('Enter a length of the side1:-'))\n",
        "side2 = float(input('Enter a length of the side2:-'))\n",
        "side3 = float(input('Enter a length of the side3:-'))\n",
        "\n",
        "if side1 + side2 > side3 and side2 + side3 > side1 and side1 + side3 > side2:\n",
        "  if side1 == side2 == side3:\n",
        "    print('The triangle is Equilateral triangle')\n",
        "  elif side1 == side2 or side2 == side3 or side1 == side3:\n",
        "    print('The triangle is isosceles traingle')\n",
        "  else:\n",
        "    print('The traingle is scalene')\n",
        "else:\n",
        "  print('This doesnot form a valid traingle')\n",
        "\n",
        "\n"
      ],
      "metadata": {
        "colab": {
          "base_uri": "https://localhost:8080/"
        },
        "id": "MsdPShcpEsve",
        "outputId": "f3fa9576-9bd3-4689-f04b-5a4282796fdc"
      },
      "execution_count": 8,
      "outputs": [
        {
          "output_type": "stream",
          "name": "stdout",
          "text": [
            "Enter a length of the side1:-1\n",
            "Enter a length of the side2:-2\n",
            "Enter a length of the side3:-3\n",
            "This doesnot form a valid traingle\n"
          ]
        }
      ]
    },
    {
      "cell_type": "markdown",
      "source": [
        "20. Write a Python program to get the next day of a given date.\n",
        "Expected Output:\n",
        "Input a year: 2016                                                      \n",
        "Input a month [1-12]: 08                                                \n",
        "Input a day [1-31]: 23                                                  \n",
        "The next date is [yyyy-mm-dd] 2016-8-24  \n"
      ],
      "metadata": {
        "id": "mh12_6v53uH-"
      }
    },
    {
      "cell_type": "code",
      "source": [
        "year = int(input('Enter a year:-'))\n",
        "month = int(input('Enter a month[1-12]:-'))\n",
        "day = int(input('Enter a day[1-31]:-'))\n",
        "\n",
        "if 1 <= month <= 12 and 1 <= day <= 31:\n",
        "  if month in {1, 3, 5, 7, 8, 10, 12}:\n",
        "    max_day = 31\n",
        "\n",
        "  elif month in {4,6,9,11}:\n",
        "    max_day = 30\n",
        "\n",
        "  else:\n",
        "    if (year % 4 == 0 and year % 100 != 0) or (year % 400 == 0):\n",
        "      max_day = 29\n",
        "    else:\n",
        "      max_day = 28\n",
        "\n",
        "  if 1 <= day <= max_day:\n",
        "    if day < max_day:\n",
        "      day += 1\n",
        "    else:\n",
        "      day = 1\n",
        "      if month < 12:\n",
        "        month += 1\n",
        "      else:\n",
        "        month = 1\n",
        "        year += 1\n",
        "    print('The next date is [yyyy-mm-dd] {}-{}-{}'.format(year, month,day))\n",
        "  else:\n",
        "    print('Invalid day for the selected month.')\n",
        "else:\n",
        "  print('Invalid input. Please enter a valid month and day.')\n",
        "\n",
        "\n",
        "\n"
      ],
      "metadata": {
        "colab": {
          "base_uri": "https://localhost:8080/"
        },
        "id": "J41la5vEm3EN",
        "outputId": "e4da8833-7b87-4100-8b94-465080cf87cb"
      },
      "execution_count": 2,
      "outputs": [
        {
          "output_type": "stream",
          "name": "stdout",
          "text": [
            "Enter a year:-2000\n",
            "Enter a month[1-12]:-4\n",
            "Enter a day[1-31]:-23\n",
            "The next date is [yyyy-mm-dd] 2000-4-24\n"
          ]
        }
      ]
    },
    {
      "cell_type": "code",
      "source": [],
      "metadata": {
        "id": "h0c9Vi_vT7vh"
      },
      "execution_count": null,
      "outputs": []
    }
  ]
}