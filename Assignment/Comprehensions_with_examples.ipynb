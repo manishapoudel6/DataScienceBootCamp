{
  "nbformat": 4,
  "nbformat_minor": 0,
  "metadata": {
    "colab": {
      "provenance": []
    },
    "kernelspec": {
      "name": "python3",
      "display_name": "Python 3"
    },
    "language_info": {
      "name": "python"
    }
  },
  "cells": [
    {
      "cell_type": "markdown",
      "source": [
        "#**List Comprehension**"
      ],
      "metadata": {
        "id": "387RZjua6vUM"
      }
    },
    {
      "cell_type": "code",
      "source": [
        "# Example 1\n",
        "# This code iterates over a list and take the elements that are greater than 5.\n",
        "\n",
        "a = [4,6,7,3,2]\n",
        "b = [x for x in a if x > 5]\n",
        "print(b)"
      ],
      "metadata": {
        "colab": {
          "base_uri": "https://localhost:8080/"
        },
        "id": "AH2C89BI66Cx",
        "outputId": "63cc0ca4-aa96-4491-e689-dfcddccdc336"
      },
      "execution_count": null,
      "outputs": [
        {
          "output_type": "stream",
          "name": "stdout",
          "text": [
            "[6, 7]\n"
          ]
        }
      ]
    },
    {
      "cell_type": "code",
      "source": [
        "# Example 2\n",
        "\n",
        "string = [letter for letter in \"Python\"]\n",
        "print(string)"
      ],
      "metadata": {
        "colab": {
          "base_uri": "https://localhost:8080/"
        },
        "id": "npsijxDi6_au",
        "outputId": "65048691-2945-48ca-9099-1d0dff90efde"
      },
      "execution_count": null,
      "outputs": [
        {
          "output_type": "stream",
          "name": "stdout",
          "text": [
            "['P', 'y', 't', 'h', 'o', 'n']\n"
          ]
        }
      ]
    },
    {
      "cell_type": "code",
      "source": [
        "#Example 3\n",
        "# If we want each letter in uppercase\n",
        "\n",
        "string = [letter.upper() for letter in \"Python\"]\n",
        "print(string)"
      ],
      "metadata": {
        "colab": {
          "base_uri": "https://localhost:8080/"
        },
        "id": "5p67lXY69es3",
        "outputId": "12c7c7c3-7cb5-4324-d30f-8db1af89e405"
      },
      "execution_count": null,
      "outputs": [
        {
          "output_type": "stream",
          "name": "stdout",
          "text": [
            "['P', 'Y', 'T', 'H', 'O', 'N']\n"
          ]
        }
      ]
    },
    {
      "cell_type": "markdown",
      "source": [
        "#**Set Comprehension**"
      ],
      "metadata": {
        "id": "-Ch9UJZjCj58"
      }
    },
    {
      "cell_type": "code",
      "source": [
        "# Example 1\n",
        "\n",
        "strng_value = {'Python', 'Pandas', 'Numpy', 'Pandas'}\n",
        "lowercase_items = {item.lower() for item in strng_value}\n",
        "\n",
        "print(lowercase_items)"
      ],
      "metadata": {
        "colab": {
          "base_uri": "https://localhost:8080/"
        },
        "id": "jMOmasQ8BCyo",
        "outputId": "40074dd2-8363-4f83-9f85-01c249a220de"
      },
      "execution_count": null,
      "outputs": [
        {
          "output_type": "stream",
          "name": "stdout",
          "text": [
            "{'pandas', 'numpy', 'python'}\n"
          ]
        }
      ]
    },
    {
      "cell_type": "code",
      "source": [
        "# Example 2\n",
        "# Python program to create a set containing square of all numbers from 1 to 6.\n",
        "\n",
        "squares = {x**2 for x in range(1, 7)}\n",
        "print(squares)"
      ],
      "metadata": {
        "colab": {
          "base_uri": "https://localhost:8080/"
        },
        "id": "YhG5tEJxDfmI",
        "outputId": "ce985611-bc2a-42c3-f9de-35312cc242fe"
      },
      "execution_count": null,
      "outputs": [
        {
          "output_type": "stream",
          "name": "stdout",
          "text": [
            "{1, 4, 36, 9, 16, 25}\n"
          ]
        }
      ]
    },
    {
      "cell_type": "code",
      "source": [
        "#Example 3\n",
        "# Python program that contains the unique characters from the string.\n",
        "\n",
        "word = \"Programming\"\n",
        "my_set = {c for c in word}\n",
        "print(my_set)"
      ],
      "metadata": {
        "colab": {
          "base_uri": "https://localhost:8080/"
        },
        "id": "oCD2Ha4LH9_Z",
        "outputId": "6c490946-56d9-4f83-df83-a9e15980bf92"
      },
      "execution_count": null,
      "outputs": [
        {
          "output_type": "stream",
          "name": "stdout",
          "text": [
            "{'i', 'm', 'r', 'g', 'a', 'n', 'P', 'o'}\n"
          ]
        }
      ]
    },
    {
      "cell_type": "markdown",
      "source": [
        "#**Dictionary Comprehension**"
      ],
      "metadata": {
        "id": "cc4cL16XETIw"
      }
    },
    {
      "cell_type": "code",
      "source": [
        "# Example 1\n",
        "# creating a dictionary from two items, one representing the keys and the other representing the values\n",
        "\n",
        "keys = ['a', 'b', 'c', 'd', 'e']\n",
        "values = [1, 2, 3, 4, 5]\n",
        "my_dict = {k: v for k, v in zip(keys, values)}\n",
        "print(my_dict)"
      ],
      "metadata": {
        "colab": {
          "base_uri": "https://localhost:8080/"
        },
        "id": "1i1MTmGsKY6W",
        "outputId": "df44c380-e20c-4cd6-cb5d-f737dd36e6a1"
      },
      "execution_count": null,
      "outputs": [
        {
          "output_type": "stream",
          "name": "stdout",
          "text": [
            "{'a': 1, 'b': 2, 'c': 3, 'd': 4, 'e': 5}\n"
          ]
        }
      ]
    },
    {
      "cell_type": "code",
      "source": [
        "# Example 2\n",
        "# Python program to create a dictionary from a list of tuples.\n",
        "\n",
        "people = [(\"Sophie\", 25), (\"Mandy\", 30), (\"Gigi\", 22)]\n",
        "people_dict = {name: age for name, age in people}\n",
        "print(people_dict)"
      ],
      "metadata": {
        "colab": {
          "base_uri": "https://localhost:8080/"
        },
        "id": "FyDUd2m5FDB3",
        "outputId": "db96e36d-980d-409b-994b-541fad12c453"
      },
      "execution_count": null,
      "outputs": [
        {
          "output_type": "stream",
          "name": "stdout",
          "text": [
            "{'Sophie': 25, 'Mandy': 30, 'Gigi': 22}\n"
          ]
        }
      ]
    },
    {
      "cell_type": "code",
      "source": [
        "# Example 3\n",
        "# Python program to count the occurrences of each character in the string.\n",
        "\n",
        "word = \"hello\"\n",
        "count_letter = {letter: word.count(letter) for letter in word}\n",
        "print(count_letter)"
      ],
      "metadata": {
        "colab": {
          "base_uri": "https://localhost:8080/"
        },
        "id": "6QcA5uLxHlk1",
        "outputId": "610505ae-d254-451a-8ce0-6838e9cb2533"
      },
      "execution_count": null,
      "outputs": [
        {
          "output_type": "stream",
          "name": "stdout",
          "text": [
            "{'h': 1, 'e': 1, 'l': 2, 'o': 1}\n"
          ]
        }
      ]
    },
    {
      "cell_type": "markdown",
      "source": [
        "#**Generator Comprehension**"
      ],
      "metadata": {
        "id": "ZDBIfYAtL2qn"
      }
    },
    {
      "cell_type": "code",
      "source": [
        "# Example 1\n",
        "# Generator comprehension to generate even numbers from a list\n",
        "\n",
        "num = [1, 2, 3, 4, 5, 6, 7, 8, 9, 10]\n",
        "even_num = (x for x in num if x % 2 == 0)\n",
        "\n",
        "for even_number in even_num:\n",
        "  print(even_number)"
      ],
      "metadata": {
        "colab": {
          "base_uri": "https://localhost:8080/"
        },
        "id": "pu3ifFkfJi0i",
        "outputId": "0a77bb72-3659-4b84-980b-93a2eabe72a0"
      },
      "execution_count": null,
      "outputs": [
        {
          "output_type": "stream",
          "name": "stdout",
          "text": [
            "2\n",
            "4\n",
            "6\n",
            "8\n",
            "10\n"
          ]
        }
      ]
    },
    {
      "cell_type": "code",
      "source": [
        "# Example 2\n",
        "# Python Program to generate multiples of 3 from 0 to 30 using generator comprehension\n",
        "\n",
        "multiples_of_3 = (x for x in range(31) if x % 3 == 0)\n",
        "\n",
        "for multiple in multiples_of_3:\n",
        "    print(multiple)"
      ],
      "metadata": {
        "colab": {
          "base_uri": "https://localhost:8080/"
        },
        "id": "eOfIym9ANTRe",
        "outputId": "81923265-2c75-4dfc-c9d4-d7e614b5967b"
      },
      "execution_count": null,
      "outputs": [
        {
          "output_type": "stream",
          "name": "stdout",
          "text": [
            "0\n",
            "3\n",
            "6\n",
            "9\n",
            "12\n",
            "15\n",
            "18\n",
            "21\n",
            "24\n",
            "27\n",
            "30\n"
          ]
        }
      ]
    },
    {
      "cell_type": "code",
      "source": [],
      "metadata": {
        "id": "b3hbIHNbQaSD"
      },
      "execution_count": null,
      "outputs": []
    }
  ]
}