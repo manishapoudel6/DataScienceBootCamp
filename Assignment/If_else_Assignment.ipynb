{
  "nbformat": 4,
  "nbformat_minor": 0,
  "metadata": {
    "colab": {
      "provenance": []
    },
    "kernelspec": {
      "name": "python3",
      "display_name": "Python 3"
    },
    "language_info": {
      "name": "python"
    }
  },
  "cells": [
    {
      "cell_type": "markdown",
      "source": [
        "1.A company decided to give bonus of 5% to employee if his/her year of service is more than 5 years. Ask user for their salary and year of service and print the net bonus amount."
      ],
      "metadata": {
        "id": "6TPY0L6kYvRY"
      }
    },
    {
      "cell_type": "code",
      "source": [
        "salary = float(input(\"What's your Salary:-\"))\n",
        "year_of_service = float(input(\"What's your year of service?:-\"))\n",
        "\n",
        "if year_of_service >= 5:\n",
        "  net_bonus = 0.05 * salary\n",
        "  print('Your Bonus is:-',net_bonus)\n",
        "\n",
        "else:\n",
        "  print('You are not qualified for Bonus')"
      ],
      "metadata": {
        "colab": {
          "base_uri": "https://localhost:8080/"
        },
        "id": "VfSBSayIYv2Q",
        "outputId": "96722823-7307-4294-96ae-bc609ae576a7"
      },
      "execution_count": 1,
      "outputs": [
        {
          "output_type": "stream",
          "name": "stdout",
          "text": [
            "What's your Salary:-12000\n",
            "What's your year of service?:-5.5\n",
            "Your Bonus is:- 600.0\n"
          ]
        }
      ]
    },
    {
      "cell_type": "markdown",
      "source": [
        "2.Take values of length and breadth of a rectangle from user and check if it is square or not."
      ],
      "metadata": {
        "id": "JDyfpG3cZDEh"
      }
    },
    {
      "cell_type": "code",
      "source": [
        "length = float(input(\"What's the length:-\"))\n",
        "breadth = float(input(\"What's the breadth:-\"))\n",
        "\n",
        "if length == breadth:\n",
        "  print('Its Square')\n",
        "else:\n",
        "  print('Its not a Square')"
      ],
      "metadata": {
        "colab": {
          "base_uri": "https://localhost:8080/"
        },
        "id": "RsrBXqobZDkC",
        "outputId": "831590ed-bfe0-44c0-d3be-d28cda1cef5a"
      },
      "execution_count": 2,
      "outputs": [
        {
          "output_type": "stream",
          "name": "stdout",
          "text": [
            "What's the length:-34\n",
            "What's the breadth:-34\n",
            "Its Square\n"
          ]
        }
      ]
    },
    {
      "cell_type": "markdown",
      "source": [
        "3.Take two int values from user and print greatest among them."
      ],
      "metadata": {
        "id": "wo6BkLKyZMoD"
      }
    },
    {
      "cell_type": "code",
      "source": [
        "num1 = float(input(\"What's your first number:-\"))\n",
        "num2 = float(input(\"What's your second number:-\"))\n",
        "\n",
        "if num1> num2:\n",
        "  print('Num1 is the greatest number')\n",
        "elif num2 > num1:\n",
        "  print(\"Num2 is the greatest number\")\n",
        "else:\n",
        "  print('Both are equal')\n"
      ],
      "metadata": {
        "colab": {
          "base_uri": "https://localhost:8080/"
        },
        "id": "B-s4_u0_ZNL2",
        "outputId": "d0a1b5ba-c449-45c1-eb27-c5de444e4dba"
      },
      "execution_count": 4,
      "outputs": [
        {
          "output_type": "stream",
          "name": "stdout",
          "text": [
            "What's your first number:-45\n",
            "What's your second number:-34.5\n",
            "Num1 is the greatest number\n"
          ]
        }
      ]
    },
    {
      "cell_type": "markdown",
      "source": [
        "4. A shop will give discount of 10% if the cost of purchased quantity is more than 1000. Ask user for quantity Suppose, one unit will cost 100. Judge and print total cost for user."
      ],
      "metadata": {
        "id": "IOeGUV5gZdx7"
      }
    },
    {
      "cell_type": "code",
      "source": [
        "cost_per_unit = 100\n",
        "\n",
        "number_of_quantity = int(input(\"What's the number of item:-\"))\n",
        "\n",
        "total_cost = cost_per_unit * number_of_quantity\n",
        "\n",
        "if total_cost > 1000:\n",
        "  discount = 0.10 * total_cost\n",
        "  discounted_amount = total_cost-discount\n",
        "\n",
        "  print('Your total cost is:-', discounted_amount)\n",
        "\n",
        "else:\n",
        "  print('Your total cost is:-', total_cost)"
      ],
      "metadata": {
        "colab": {
          "base_uri": "https://localhost:8080/"
        },
        "id": "QxPwgPStZgJ9",
        "outputId": "e668f67f-ae4e-4c9a-e5e7-0b3f13de2dd9"
      },
      "execution_count": 5,
      "outputs": [
        {
          "output_type": "stream",
          "name": "stdout",
          "text": [
            "What's the number of item:-11\n",
            "Your total cost is:- 990.0\n"
          ]
        }
      ]
    },
    {
      "cell_type": "markdown",
      "source": [
        "5. A school has following rules for grading system: a. Below 25 - F b. 25 to 45 - E c. 45 to 50 - D d. 50 to 60 - C e. 60 to 80 - B f. Above 80 - A Ask user to enter marks and print the corresponding grade."
      ],
      "metadata": {
        "id": "cLX36KcoZwZl"
      }
    },
    {
      "cell_type": "code",
      "source": [
        "marks = float(input('Enter your marks:-'))\n",
        "\n",
        "if marks < 25:\n",
        "  your_grade ='F'\n",
        "elif marks >= 25 and marks <45: # if there is a case like a to b (a is inclusive and b is exclusive)\n",
        "  your_grade ='E'\n",
        "elif marks >= 45 and marks < 50:\n",
        "  your_grade ='D'\n",
        "elif marks >= 50 and marks < 60:\n",
        "  your_grade ='C'\n",
        "elif marks >= 60 and marks < 80:\n",
        "  your_grade ='B'\n",
        "else:\n",
        "  your_grade ='A'\n",
        "\n",
        "print('Your grade is:-',your_grade)"
      ],
      "metadata": {
        "colab": {
          "base_uri": "https://localhost:8080/"
        },
        "id": "bcKDeUvkZxw2",
        "outputId": "ba837094-1def-43b4-8a29-060dfde1430c"
      },
      "execution_count": 6,
      "outputs": [
        {
          "output_type": "stream",
          "name": "stdout",
          "text": [
            "Enter your marks:-45\n",
            "Your grade is:- D\n"
          ]
        }
      ]
    },
    {
      "cell_type": "markdown",
      "source": [
        "6.Take input of age of 3 people by user and determine oldest and youngest among them."
      ],
      "metadata": {
        "id": "IuYFp22AaKvz"
      }
    },
    {
      "cell_type": "code",
      "source": [
        "person1 = int(input(\"Person1's age:-\"))\n",
        "person2 = int(input(\"Person2's age:-\"))\n",
        "person3 = int(input(\"Person3's age:-\"))\n",
        "\n",
        "oldest = int(max(person1,person2,person3))\n",
        "youngest = int(min(person1,person2,person3))\n",
        "\n",
        "print(\"The oldest one is:-\", oldest)\n",
        "print(\"The youngest one is:-\", youngest)"
      ],
      "metadata": {
        "colab": {
          "base_uri": "https://localhost:8080/"
        },
        "id": "er6u4WGKaLZY",
        "outputId": "2d7fe5e3-9419-431f-a7e0-1bb27fe9eac6"
      },
      "execution_count": 7,
      "outputs": [
        {
          "output_type": "stream",
          "name": "stdout",
          "text": [
            "Person1's age:-67\n",
            "Person2's age:-34\n",
            "Person3's age:-34\n",
            "The oldest one is:- 67\n",
            "The youngest one is:- 34\n"
          ]
        }
      ]
    },
    {
      "cell_type": "code",
      "source": [
        "first = int(input(\"Enter first age\"))\n",
        "second = int(input(\"Enter second age\"))\n",
        "third = int(input(\"third age\"))\n",
        "# 54 54 26\n",
        "if first >= second and first >= third:\n",
        "  if second>third:\n",
        "    print(\"The youngest is \",third)\n",
        "  elif first==second==third:\n",
        "    print (\"All are equal\")\n",
        "  else:\n",
        "    print(\"The youngest is \",second)\n",
        "  print (\"Oldest is\",first)\n",
        "elif second >= first and second >= third:\n",
        "  if first>third:\n",
        "    print(\"The youngest is \",third)\n",
        "  elif first==second==third:\n",
        "    print (\"All are equal\")\n",
        "  else:\n",
        "    print(\"The youngest is \",first)\n",
        "  print (\"Oldest is\",second)\n",
        "elif third >= first and third >= second:\n",
        "  if first>second:\n",
        "    print(\"The youngest is \",second)\n",
        "  elif first==second==third:\n",
        "    print (\"All are equal\")\n",
        "  else:\n",
        "    print(\"The youngest is \",first)\n",
        "  print (\"Oldest is\",third)"
      ],
      "metadata": {
        "colab": {
          "base_uri": "https://localhost:8080/"
        },
        "id": "fd2MrkfpaPIX",
        "outputId": "00294951-d943-448d-d08b-8cc725d10ab0"
      },
      "execution_count": 9,
      "outputs": [
        {
          "output_type": "stream",
          "name": "stdout",
          "text": [
            "Enter first age34\n",
            "Enter second age23\n",
            "third age12\n",
            "The youngest is  12\n",
            "Oldest is 34\n"
          ]
        }
      ]
    },
    {
      "cell_type": "code",
      "source": [
        "# Taking input for ages of three people\n",
        "age1 = int(input(\"Enter age of person 1: \"))\n",
        "age2 = int(input(\"Enter age of person 2: \"))\n",
        "age3 = int(input(\"Enter age of person 3: \"))\n",
        "\n",
        "# Comparing ages to find oldest and youngest\n",
        "if age1 >= age2 and age1 >= age3:\n",
        "    oldest = age1\n",
        "    if age2 <= age3:\n",
        "        youngest = age2\n",
        "    else:\n",
        "        youngest = age3\n",
        "elif age2 >= age1 and age2 >= age3:\n",
        "    oldest = age2\n",
        "    if age1 <= age3:\n",
        "        youngest = age1\n",
        "    else:\n",
        "        youngest = age3\n",
        "else:\n",
        "    oldest = age3\n",
        "    if age1 <= age2:\n",
        "        youngest = age1\n",
        "    else:\n",
        "        youngest = age2\n",
        "\n",
        "# Displaying the result\n",
        "print(\"Oldest person is:\", oldest, \"years old\")\n",
        "print(\"Youngest person is:\", youngest, \"years old\")\n"
      ],
      "metadata": {
        "colab": {
          "base_uri": "https://localhost:8080/"
        },
        "id": "wn-pmr16boyN",
        "outputId": "c9a5fbd6-d5ce-4a85-f87a-d68eb55c3ba7"
      },
      "execution_count": 10,
      "outputs": [
        {
          "output_type": "stream",
          "name": "stdout",
          "text": [
            "Enter age of person 1: 23\n",
            "Enter age of person 2: 12\n",
            "Enter age of person 3: 45\n",
            "Oldest person is: 45 years old\n",
            "Youngest person is: 12 years old\n"
          ]
        }
      ]
    },
    {
      "cell_type": "markdown",
      "source": [
        "7..Write a program to print absolute vlaue of a number entered by user. E.g.- INPUT: 1 OUTPUT: 1 INPUT: -1 OUTPUT: 1"
      ],
      "metadata": {
        "id": "lgknY7gqcfFa"
      }
    },
    {
      "cell_type": "code",
      "source": [
        "number = float(input(\"Enter a number\"))\n",
        "if number<0:\n",
        "  print(number*-1)\n",
        "else:\n",
        "  print(number)"
      ],
      "metadata": {
        "colab": {
          "base_uri": "https://localhost:8080/"
        },
        "id": "B78CIXz_cgKq",
        "outputId": "01e11062-a446-45d7-923c-74c000f9efcd"
      },
      "execution_count": 11,
      "outputs": [
        {
          "output_type": "stream",
          "name": "stdout",
          "text": [
            "Enter a number-9\n",
            "9.0\n"
          ]
        }
      ]
    },
    {
      "cell_type": "code",
      "source": [
        "num = float(input('Enter the number:-'))\n",
        "\n",
        "absolute_value = abs(num)\n",
        "\n",
        "print(\"The absolute value of\", num ,'is', absolute_value)"
      ],
      "metadata": {
        "colab": {
          "base_uri": "https://localhost:8080/"
        },
        "id": "HsNm0qjJcmbc",
        "outputId": "8af268bb-65c8-46af-f4f9-5e4bae81741b"
      },
      "execution_count": 12,
      "outputs": [
        {
          "output_type": "stream",
          "name": "stdout",
          "text": [
            "Enter the number:--7\n",
            "The absolute value of -7.0 is 7.0\n"
          ]
        }
      ]
    },
    {
      "cell_type": "markdown",
      "source": [
        "8. A student will not be allowed to sit in exam if his/her attendence is less than 75%. Take following input from user Number of classes held Number of classes attended. And print percentage of class attended Is student is allowed to sit in exam or not."
      ],
      "metadata": {
        "id": "FRAcU_CTc06u"
      }
    },
    {
      "cell_type": "code",
      "source": [
        "number_of_held_class = int(input(\"What's the number of held class?\"))\n",
        "number_of_attended_class = int(input(\"what's the number of attended class?\"))\n",
        "\n",
        "\n",
        "percentage_of_class_attended = number_of_attended_class/number_of_held_class * 100\n",
        "print(\"Percentage of attended class is:-\", round(percentage_of_class_attended,2))\n",
        "\n",
        "if percentage_of_class_attended >= 75:\n",
        "  print(\"'You are allowed to sit in exam!'\")\n",
        "else:\n",
        "  print(\"'You are not allowed to sit in exam!'\")"
      ],
      "metadata": {
        "colab": {
          "base_uri": "https://localhost:8080/"
        },
        "id": "Y3L9j1gmc1fZ",
        "outputId": "8fca7792-a8b9-4faf-d569-495f44682095"
      },
      "execution_count": 13,
      "outputs": [
        {
          "output_type": "stream",
          "name": "stdout",
          "text": [
            "What's the number of held class?45\n",
            "what's the number of attended class?34\n",
            "Percentage of attended class is:- 75.56\n",
            "'You are allowed to sit in exam!'\n"
          ]
        }
      ]
    },
    {
      "cell_type": "markdown",
      "source": [
        "9. Modify the above question to allow student to sit if he/she has medical cause. Ask user if he/she has medical cause or not ( 'Y' or 'N' ) and print accordingly."
      ],
      "metadata": {
        "id": "O8IY9O5xdGJV"
      }
    },
    {
      "cell_type": "code",
      "source": [
        "number_of_held_class = int(input(\"What's the number of held class?\"))\n",
        "number_of_attended_class = int(input(\"what's the number of attended class?\"))\n",
        "\n",
        "\n",
        "percentage_of_class_attended = number_of_attended_class/number_of_held_class * 100\n",
        "print(\"Percentage of attended class is:-\", percentage_of_class_attended)\n",
        "\n",
        "if percentage_of_class_attended >= 75:\n",
        "  print(\"'You are allowed to sit in exam!'\")\n",
        "else:\n",
        "  medical_cause = input(\"Do you have any medical cause for not attending classes?(Y/N)\").lower()\n",
        "  if medical_cause == 'yes':\n",
        "    print(\"'You are allowed to sit in exam!'\")\n",
        "  else:\n",
        "    print(\"'You are not allowed to sit in exam!'\")"
      ],
      "metadata": {
        "colab": {
          "base_uri": "https://localhost:8080/"
        },
        "id": "LcGq9vzvdHLm",
        "outputId": "e83331a7-a0ff-42b6-c970-a575a662c9fc"
      },
      "execution_count": 16,
      "outputs": [
        {
          "output_type": "stream",
          "name": "stdout",
          "text": [
            "What's the number of held class?45\n",
            "what's the number of attended class?32\n",
            "Percentage of attended class is:- 71.11111111111111\n",
            "Do you have any medical cause for not attending classes?(Y/N)yes\n",
            "'You are allowed to sit in exam!'\n"
          ]
        }
      ]
    },
    {
      "cell_type": "code",
      "source": [],
      "metadata": {
        "id": "1TMwIy-UdV7V"
      },
      "execution_count": null,
      "outputs": []
    }
  ]
}